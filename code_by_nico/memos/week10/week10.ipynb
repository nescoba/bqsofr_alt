{
 "cells": [
  {
   "attachments": {},
   "cell_type": "markdown",
   "metadata": {},
   "source": [
    "# Week 10: March 13 to March 17\n",
    "**Nicolas Escobar**\n",
    "\n",
    "## Bayesian SEM\n",
    "\n",
    "### Fixing BRMS issues\n",
    "\n",
    "As we mentioned in last week's memo, we have implemented a simulation of a model that includes measurement error and latent variables. Here's a diagram of the model:"
   ]
  },
  {
   "attachments": {},
   "cell_type": "markdown",
   "metadata": {},
   "source": [
    "![thing](model.png)"
   ]
  },
  {
   "attachments": {},
   "cell_type": "markdown",
   "metadata": {},
   "source": [
    "Our hope is to implement non-parametric dependencies between some of the variables, but for now everything is linear. Last week, we tried fitting this synthethic data with BRMS, but we were getting a lot of divergences. Here's the basic syntax we're using:"
   ]
  },
  {
   "cell_type": "code",
   "execution_count": null,
   "metadata": {
    "vscode": {
     "languageId": "r"
    }
   },
   "outputs": [],
   "source": [
    "bf2 <- bf(Sm|mi() ~ mi(Xm) + Z1 + Z2)\n",
    "bf3 <- bf(Y1 ~ 0 + mi(Sm))\n",
    "bf4 <- bf(Y2 ~ 0 + mi(Sm))\n",
    "bf5 <- bf(Y3 ~ 0 + mi(Sm))\n",
    "bf8 <- bf(Xm|mi() ~ Z1 + Z2)\n",
    "bf9 <- bf(W1 ~ 0 + mi(Xm))\n",
    "bf10 <- bf(W2 ~ 0 + mi(Xm))\n",
    "bf11 <- bf(W3 ~ 0 + mi(Xm))\n",
    "bf12 <- bf(W4 ~ 0 + mi(Xm))"
   ]
  },
  {
   "attachments": {},
   "cell_type": "markdown",
   "metadata": {},
   "source": [
    "This week, we were able to get rid of those divergences by implementing more informative priors. Here's the full list of priors, in BRMS syntax:"
   ]
  },
  {
   "cell_type": "code",
   "execution_count": null,
   "metadata": {
    "vscode": {
     "languageId": "r"
    }
   },
   "outputs": [],
   "source": [
    "priors <- c(\n",
    "    prior(normal(-1, 1), class = b, coef = Z1, resp = Sm),\n",
    "    prior(normal(3, 1), class = b, coef = Z2, resp = Sm),\n",
    "    prior(normal(2, 1), class = b, coef = miXm, resp = Sm),\n",
    "    prior(normal(1, 1), class = b, coef = miSm, resp = Y1),\n",
    "    prior(normal(1, 1), class = b, coef = miSm, resp = Y2),\n",
    "    prior(normal(1, 1), class = b, coef = miSm, resp = Y3),\n",
    "    prior(normal(-1, 1), class = b, coef = Z1, resp = Xm),\n",
    "    prior(normal(1, 1), class = b, coef = Z2, resp = Xm),\n",
    "    prior(normal(1, 0.0001), class = b, coef = miXm, resp = W1),\n",
    "    prior(normal(1, 0.0001), class = b, coef = miXm, resp = W2),\n",
    "    prior(normal(1, 0.0001), class = b, coef = miXm, resp = W3),\n",
    "    prior(normal(1, 0.0001), class = b, coef = miXm, resp = W4)\n",
    ")"
   ]
  },
  {
   "attachments": {},
   "cell_type": "markdown",
   "metadata": {},
   "source": [
    "Unfortunately, some the estimated values for the parameters do not match the real ones yet. And we can see from the fit diagnostics that the effective sample size for them is too low. So we believe this will be fixed by running the chains for longer periods of time. "
   ]
  },
  {
   "attachments": {},
   "cell_type": "markdown",
   "metadata": {},
   "source": [
    "### Mediation Analysis\n",
    "\n",
    "Once the fit of the model is improved, the next step is to implement mediation analysis. We began taking steps in that direction. \n",
    "\n",
    "First, we tried using the `mediation` function from the `bayestestR` package. Despite trying all sorts of syntax combinations, it did not work. The problem seems to be that this package is unable to handle the latent factors. \n",
    "\n",
    "So, we implemented a small function that takes posterior draws from the model and computes the direct, indirect and total effects, as well as the mediation proportion. "
   ]
  },
  {
   "attachments": {},
   "cell_type": "markdown",
   "metadata": {},
   "source": [
    "## Literature Review\n",
    "\n",
    "We are starting to think about literature on the topic of Bayesian quantile regression on time to event of censored data. \n",
    "\n",
    "The primary reference is [Reich, Smith](https://pubmed.ncbi.nlm.nih.gov/23844559/). However, we're not satisfied with their exposition. \n",
    "\n",
    "We also went through [Zhang, Huang](https://pubmed.ncbi.nlm.nih.gov/31140028/). Unfortunately, although they do consider censored data, the quantile regression is not done on the time to event variable. \n",
    "\n",
    "We found three more references that we will look at. "
   ]
  }
 ],
 "metadata": {
  "kernelspec": {
   "display_name": "R",
   "language": "R",
   "name": "ir"
  },
  "language_info": {
   "name": "R"
  },
  "orig_nbformat": 4
 },
 "nbformat": 4,
 "nbformat_minor": 2
}
