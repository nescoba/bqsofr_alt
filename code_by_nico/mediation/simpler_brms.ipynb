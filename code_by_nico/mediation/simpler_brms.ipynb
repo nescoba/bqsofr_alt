{
 "cells": [
  {
   "cell_type": "code",
   "execution_count": 1,
   "metadata": {
    "vscode": {
     "languageId": "r"
    }
   },
   "outputs": [
    {
     "name": "stderr",
     "output_type": "stream",
     "text": [
      "Loading required package: Rcpp\n",
      "\n",
      "Loading 'brms' package (version 2.18.0). Useful instructions\n",
      "can be found by typing help('brms'). A more detailed introduction\n",
      "to the package is available through vignette('brms_overview').\n",
      "\n",
      "\n",
      "Attaching package: ‘brms’\n",
      "\n",
      "\n",
      "The following object is masked from ‘package:stats’:\n",
      "\n",
      "    ar\n",
      "\n",
      "\n",
      "── \u001b[1mAttaching packages\u001b[22m ─────────────────────────────────────── tidyverse 1.3.2 ──\n",
      "\u001b[32m✔\u001b[39m \u001b[34mggplot2\u001b[39m 3.4.0      \u001b[32m✔\u001b[39m \u001b[34mpurrr  \u001b[39m 1.0.1 \n",
      "\u001b[32m✔\u001b[39m \u001b[34mtibble \u001b[39m 3.1.8      \u001b[32m✔\u001b[39m \u001b[34mdplyr  \u001b[39m 1.0.10\n",
      "\u001b[32m✔\u001b[39m \u001b[34mtidyr  \u001b[39m 1.3.0      \u001b[32m✔\u001b[39m \u001b[34mstringr\u001b[39m 1.5.0 \n",
      "\u001b[32m✔\u001b[39m \u001b[34mreadr  \u001b[39m 2.1.3      \u001b[32m✔\u001b[39m \u001b[34mforcats\u001b[39m 0.5.2 \n",
      "── \u001b[1mConflicts\u001b[22m ────────────────────────────────────────── tidyverse_conflicts() ──\n",
      "\u001b[31m✖\u001b[39m \u001b[34mdplyr\u001b[39m::\u001b[32mfilter()\u001b[39m masks \u001b[34mstats\u001b[39m::filter()\n",
      "\u001b[31m✖\u001b[39m \u001b[34mdplyr\u001b[39m::\u001b[32mlag()\u001b[39m    masks \u001b[34mstats\u001b[39m::lag()\n"
     ]
    }
   ],
   "source": [
    "library(brms)\n",
    "library(tidyverse)\n",
    "library(ggpubr)\n"
   ]
  },
  {
   "cell_type": "code",
   "execution_count": 3,
   "metadata": {
    "vscode": {
     "languageId": "r"
    }
   },
   "outputs": [],
   "source": [
    "N <- 100\n",
    "M <- 2\n",
    "K <- 4\n",
    "J <- 3\n",
    "\n",
    "mu <- 0\n",
    "al <- matrix(c(-1, 1), ncol = 1)\n",
    "Z <- matrix(rnorm(M*N, sd = .5), ncol = N)\n",
    "ep_x <- matrix(rnorm(N, sd = 0.1), ncol = N)\n",
    "X <- t(al) %*% Z + ep_x\n",
    "\n",
    "U <- matrix(rnorm(K*N, sd = .2), ncol = N)\n",
    "W <- sweep(U, 2, X, \"+\")\n",
    "\n",
    "h_1 <- function(x) x\n",
    "h_2 <- function(x) -x\n",
    "f <- function(x) 3*x\n",
    "eta <- rnorm(N)\n",
    "S <- f(X) + h_1(Z[1, ]) + h_2(Z[2, ]) + eta\n",
    "S <- matrix(S, ncol = N)\n",
    "\n",
    "beta0 <- matrix(rep(0, J*N), ncol = N)\n",
    "beta1 <- matrix(rep(2, J), ncol = 1)\n",
    "ep_y <- matrix(rnorm(J * N, sd = 0.1), ncol = N)\n",
    "Y <- beta0 + beta1 %*% S + ep_y"
   ]
  },
  {
   "attachments": {},
   "cell_type": "markdown",
   "metadata": {},
   "source": [
    "## brms"
   ]
  },
  {
   "attachments": {},
   "cell_type": "markdown",
   "metadata": {},
   "source": [
    "### Similar model, but we know X"
   ]
  },
  {
   "cell_type": "code",
   "execution_count": 4,
   "metadata": {
    "vscode": {
     "languageId": "r"
    }
   },
   "outputs": [],
   "source": [
    "data <- as.data.frame(t(rbind(Z,X,W,Y)))\n",
    "names(data) <- c(\"Z1\", \"Z2\", \"X\",\"W1\", \"W2\", \"W3\", \"W4\", \"Y1\", \"Y2\", \"Y3\")"
   ]
  },
  {
   "cell_type": "code",
   "execution_count": 7,
   "metadata": {
    "vscode": {
     "languageId": "r"
    }
   },
   "outputs": [
    {
     "name": "stderr",
     "output_type": "stream",
     "text": [
      "Compiling Stan program...\n",
      "\n",
      "Start sampling\n",
      "\n",
      "Warning message:\n",
      "“There were 14 divergent transitions after warmup. See\n",
      "https://mc-stan.org/misc/warnings.html#divergent-transitions-after-warmup\n",
      "to find out why this is a problem and how to eliminate them.”\n",
      "Warning message:\n",
      "“There were 23 transitions after warmup that exceeded the maximum treedepth. Increase max_treedepth above 10. See\n",
      "https://mc-stan.org/misc/warnings.html#maximum-treedepth-exceeded”\n",
      "Warning message:\n",
      "“There were 2 chains where the estimated Bayesian Fraction of Missing Information was low. See\n",
      "https://mc-stan.org/misc/warnings.html#bfmi-low”\n",
      "Warning message:\n",
      "“Examine the pairs() plot to diagnose sampling problems\n",
      "”\n",
      "Warning message:\n",
      "“The largest R-hat is 1.91, indicating chains have not mixed.\n",
      "Running the chains for more iterations may help. See\n",
      "https://mc-stan.org/misc/warnings.html#r-hat”\n",
      "Warning message:\n",
      "“Bulk Effective Samples Size (ESS) is too low, indicating posterior means and medians may be unreliable.\n",
      "Running the chains for more iterations may help. See\n",
      "https://mc-stan.org/misc/warnings.html#bulk-ess”\n",
      "Warning message:\n",
      "“Tail Effective Samples Size (ESS) is too low, indicating posterior variances and tail quantiles may be unreliable.\n",
      "Running the chains for more iterations may help. See\n",
      "https://mc-stan.org/misc/warnings.html#tail-ess”\n"
     ]
    }
   ],
   "source": [
    "data$S <- as.numeric(NA)\n",
    "\n",
    "bf1 <- bf(X ~ Z1 + Z2)\n",
    "bf2 <- bf(S|mi() ~ X + Z1 + Z2)\n",
    "bf3 <- bf(Y1 ~ 0 + mi(S))\n",
    "bf4 <- bf(Y2 ~ 0 + mi(S))\n",
    "bf5 <- bf(Y3 ~ 0 + mi(S))\n",
    "\n",
    "model <- brm(bf1 + bf2 + bf3 + bf4 + bf5 +set_rescor(FALSE), \n",
    "data = data, family = gaussian(), \n",
    "iter = 2000, chains = 2, cores = 4, seed = 123)"
   ]
  },
  {
   "cell_type": "code",
   "execution_count": 8,
   "metadata": {
    "vscode": {
     "languageId": "r"
    }
   },
   "outputs": [
    {
     "name": "stderr",
     "output_type": "stream",
     "text": [
      "Warning message:\n",
      "“Parts of the model have not converged (some Rhats are > 1.05). Be careful when analysing the results! We recommend running more iterations and/or setting stronger priors.”\n",
      "Warning message:\n",
      "“There were 14 divergent transitions after warmup. Increasing adapt_delta above 0.8 may help. See http://mc-stan.org/misc/warnings.html#divergent-transitions-after-warmup”\n"
     ]
    },
    {
     "data": {
      "text/html": [
       "<table class=\"dataframe\">\n",
       "<caption>A data.frame: 10 × 7</caption>\n",
       "<thead>\n",
       "\t<tr><th></th><th scope=col>Estimate</th><th scope=col>Est.Error</th><th scope=col>l-95% CI</th><th scope=col>u-95% CI</th><th scope=col>Rhat</th><th scope=col>Bulk_ESS</th><th scope=col>Tail_ESS</th></tr>\n",
       "\t<tr><th></th><th scope=col>&lt;dbl&gt;</th><th scope=col>&lt;dbl&gt;</th><th scope=col>&lt;dbl&gt;</th><th scope=col>&lt;dbl&gt;</th><th scope=col>&lt;dbl&gt;</th><th scope=col>&lt;dbl&gt;</th><th scope=col>&lt;dbl&gt;</th></tr>\n",
       "</thead>\n",
       "<tbody>\n",
       "\t<tr><th scope=row>X_Intercept</th><td>-0.005919928</td><td>0.01082774</td><td>-0.02704398</td><td> 0.01511037</td><td>1.0014065</td><td>2170.488797</td><td>1258.10245</td></tr>\n",
       "\t<tr><th scope=row>S_Intercept</th><td>-0.001750507</td><td>0.12329184</td><td>-0.24305121</td><td> 0.23369073</td><td>1.0008617</td><td>2217.909390</td><td> 966.56719</td></tr>\n",
       "\t<tr><th scope=row>X_Z1</th><td>-1.022456292</td><td>0.02045437</td><td>-1.06338806</td><td>-0.98218949</td><td>1.0009862</td><td>2120.445830</td><td>1462.39569</td></tr>\n",
       "\t<tr><th scope=row>X_Z2</th><td> 0.982570504</td><td>0.01949562</td><td> 0.94438596</td><td> 1.02066131</td><td>0.9995401</td><td>1837.487585</td><td>1509.61059</td></tr>\n",
       "\t<tr><th scope=row>S_X</th><td>-0.138892703</td><td>2.76613407</td><td>-5.28667793</td><td> 4.59801184</td><td>1.8347512</td><td>   2.906989</td><td>  39.68795</td></tr>\n",
       "\t<tr><th scope=row>S_Z1</th><td>-0.060480800</td><td>1.21567477</td><td>-2.76423500</td><td> 2.21445812</td><td>1.0129073</td><td> 629.866644</td><td> 272.07689</td></tr>\n",
       "\t<tr><th scope=row>S_Z2</th><td> 0.078875631</td><td>1.29488183</td><td>-2.29108720</td><td> 2.81491878</td><td>1.1263887</td><td>  11.556047</td><td> 183.95407</td></tr>\n",
       "\t<tr><th scope=row>Y1_miS</th><td> 0.070135721</td><td>2.11539940</td><td>-3.06808403</td><td> 3.32081249</td><td>1.8846987</td><td>   2.857763</td><td>  33.39415</td></tr>\n",
       "\t<tr><th scope=row>Y2_miS</th><td> 0.070094111</td><td>2.11709712</td><td>-3.07304412</td><td> 3.31670768</td><td>1.8846561</td><td>   2.857338</td><td>  32.04492</td></tr>\n",
       "\t<tr><th scope=row>Y3_miS</th><td> 0.070589794</td><td>2.12979118</td><td>-3.09462109</td><td> 3.33567753</td><td>1.8846706</td><td>   2.857737</td><td>  33.24357</td></tr>\n",
       "</tbody>\n",
       "</table>\n"
      ],
      "text/latex": [
       "A data.frame: 10 × 7\n",
       "\\begin{tabular}{r|lllllll}\n",
       "  & Estimate & Est.Error & l-95\\% CI & u-95\\% CI & Rhat & Bulk\\_ESS & Tail\\_ESS\\\\\n",
       "  & <dbl> & <dbl> & <dbl> & <dbl> & <dbl> & <dbl> & <dbl>\\\\\n",
       "\\hline\n",
       "\tX\\_Intercept & -0.005919928 & 0.01082774 & -0.02704398 &  0.01511037 & 1.0014065 & 2170.488797 & 1258.10245\\\\\n",
       "\tS\\_Intercept & -0.001750507 & 0.12329184 & -0.24305121 &  0.23369073 & 1.0008617 & 2217.909390 &  966.56719\\\\\n",
       "\tX\\_Z1 & -1.022456292 & 0.02045437 & -1.06338806 & -0.98218949 & 1.0009862 & 2120.445830 & 1462.39569\\\\\n",
       "\tX\\_Z2 &  0.982570504 & 0.01949562 &  0.94438596 &  1.02066131 & 0.9995401 & 1837.487585 & 1509.61059\\\\\n",
       "\tS\\_X & -0.138892703 & 2.76613407 & -5.28667793 &  4.59801184 & 1.8347512 &    2.906989 &   39.68795\\\\\n",
       "\tS\\_Z1 & -0.060480800 & 1.21567477 & -2.76423500 &  2.21445812 & 1.0129073 &  629.866644 &  272.07689\\\\\n",
       "\tS\\_Z2 &  0.078875631 & 1.29488183 & -2.29108720 &  2.81491878 & 1.1263887 &   11.556047 &  183.95407\\\\\n",
       "\tY1\\_miS &  0.070135721 & 2.11539940 & -3.06808403 &  3.32081249 & 1.8846987 &    2.857763 &   33.39415\\\\\n",
       "\tY2\\_miS &  0.070094111 & 2.11709712 & -3.07304412 &  3.31670768 & 1.8846561 &    2.857338 &   32.04492\\\\\n",
       "\tY3\\_miS &  0.070589794 & 2.12979118 & -3.09462109 &  3.33567753 & 1.8846706 &    2.857737 &   33.24357\\\\\n",
       "\\end{tabular}\n"
      ],
      "text/markdown": [
       "\n",
       "A data.frame: 10 × 7\n",
       "\n",
       "| <!--/--> | Estimate &lt;dbl&gt; | Est.Error &lt;dbl&gt; | l-95% CI &lt;dbl&gt; | u-95% CI &lt;dbl&gt; | Rhat &lt;dbl&gt; | Bulk_ESS &lt;dbl&gt; | Tail_ESS &lt;dbl&gt; |\n",
       "|---|---|---|---|---|---|---|---|\n",
       "| X_Intercept | -0.005919928 | 0.01082774 | -0.02704398 |  0.01511037 | 1.0014065 | 2170.488797 | 1258.10245 |\n",
       "| S_Intercept | -0.001750507 | 0.12329184 | -0.24305121 |  0.23369073 | 1.0008617 | 2217.909390 |  966.56719 |\n",
       "| X_Z1 | -1.022456292 | 0.02045437 | -1.06338806 | -0.98218949 | 1.0009862 | 2120.445830 | 1462.39569 |\n",
       "| X_Z2 |  0.982570504 | 0.01949562 |  0.94438596 |  1.02066131 | 0.9995401 | 1837.487585 | 1509.61059 |\n",
       "| S_X | -0.138892703 | 2.76613407 | -5.28667793 |  4.59801184 | 1.8347512 |    2.906989 |   39.68795 |\n",
       "| S_Z1 | -0.060480800 | 1.21567477 | -2.76423500 |  2.21445812 | 1.0129073 |  629.866644 |  272.07689 |\n",
       "| S_Z2 |  0.078875631 | 1.29488183 | -2.29108720 |  2.81491878 | 1.1263887 |   11.556047 |  183.95407 |\n",
       "| Y1_miS |  0.070135721 | 2.11539940 | -3.06808403 |  3.32081249 | 1.8846987 |    2.857763 |   33.39415 |\n",
       "| Y2_miS |  0.070094111 | 2.11709712 | -3.07304412 |  3.31670768 | 1.8846561 |    2.857338 |   32.04492 |\n",
       "| Y3_miS |  0.070589794 | 2.12979118 | -3.09462109 |  3.33567753 | 1.8846706 |    2.857737 |   33.24357 |\n",
       "\n"
      ],
      "text/plain": [
       "            Estimate     Est.Error  l-95% CI    u-95% CI    Rhat     \n",
       "X_Intercept -0.005919928 0.01082774 -0.02704398  0.01511037 1.0014065\n",
       "S_Intercept -0.001750507 0.12329184 -0.24305121  0.23369073 1.0008617\n",
       "X_Z1        -1.022456292 0.02045437 -1.06338806 -0.98218949 1.0009862\n",
       "X_Z2         0.982570504 0.01949562  0.94438596  1.02066131 0.9995401\n",
       "S_X         -0.138892703 2.76613407 -5.28667793  4.59801184 1.8347512\n",
       "S_Z1        -0.060480800 1.21567477 -2.76423500  2.21445812 1.0129073\n",
       "S_Z2         0.078875631 1.29488183 -2.29108720  2.81491878 1.1263887\n",
       "Y1_miS       0.070135721 2.11539940 -3.06808403  3.32081249 1.8846987\n",
       "Y2_miS       0.070094111 2.11709712 -3.07304412  3.31670768 1.8846561\n",
       "Y3_miS       0.070589794 2.12979118 -3.09462109  3.33567753 1.8846706\n",
       "            Bulk_ESS    Tail_ESS  \n",
       "X_Intercept 2170.488797 1258.10245\n",
       "S_Intercept 2217.909390  966.56719\n",
       "X_Z1        2120.445830 1462.39569\n",
       "X_Z2        1837.487585 1509.61059\n",
       "S_X            2.906989   39.68795\n",
       "S_Z1         629.866644  272.07689\n",
       "S_Z2          11.556047  183.95407\n",
       "Y1_miS         2.857763   33.39415\n",
       "Y2_miS         2.857338   32.04492\n",
       "Y3_miS         2.857737   33.24357"
      ]
     },
     "metadata": {},
     "output_type": "display_data"
    }
   ],
   "source": [
    "summary(model)$fixed"
   ]
  },
  {
   "attachments": {},
   "cell_type": "markdown",
   "metadata": {},
   "source": [
    "### Simpler model"
   ]
  },
  {
   "cell_type": "code",
   "execution_count": 2,
   "metadata": {
    "vscode": {
     "languageId": "r"
    }
   },
   "outputs": [],
   "source": [
    "N <- 100\n",
    "M <- 2\n",
    "K <- 4\n",
    "J <- 3\n",
    "\n",
    "mu <- 0\n",
    "al <- matrix(c(-1, 1), ncol = 1)\n",
    "Z <- matrix(rnorm(M*N, sd = .5), ncol = N)\n",
    "ep_x <- matrix(rnorm(N, sd = 0.1), ncol = N)\n",
    "X <- t(al) %*% Z + ep_x\n",
    "\n",
    "U <- matrix(rnorm(K*N, sd = .2), ncol = N)\n",
    "W <- sweep(U, 2, X, \"+\")\n",
    "\n",
    "h_1 <- function(x) 0\n",
    "h_2 <- function(x) 0\n",
    "f <- function(x) 2*x\n",
    "eta <- rnorm(N)\n",
    "S <- f(X) + h_1(Z[1, ]) + h_2(Z[2, ]) + eta\n",
    "S <- matrix(S, ncol = N)\n",
    "\n",
    "beta0 <- matrix(rep(0, J*N), ncol = N)\n",
    "beta1 <- matrix(rep(2, J), ncol = 1)\n",
    "ep_y <- matrix(rnorm(J * N, sd = 0.1), ncol = N)\n",
    "Y <- beta0 + beta1 %*% S + ep_y"
   ]
  },
  {
   "cell_type": "code",
   "execution_count": 7,
   "metadata": {
    "vscode": {
     "languageId": "r"
    }
   },
   "outputs": [
    {
     "name": "stderr",
     "output_type": "stream",
     "text": [
      "Compiling Stan program...\n",
      "\n",
      "Start sampling\n",
      "\n",
      "Warning message:\n",
      "“There were 173 divergent transitions after warmup. See\n",
      "https://mc-stan.org/misc/warnings.html#divergent-transitions-after-warmup\n",
      "to find out why this is a problem and how to eliminate them.”\n",
      "Warning message:\n",
      "“There were 588 transitions after warmup that exceeded the maximum treedepth. Increase max_treedepth above 10. See\n",
      "https://mc-stan.org/misc/warnings.html#maximum-treedepth-exceeded”\n",
      "Warning message:\n",
      "“There were 2 chains where the estimated Bayesian Fraction of Missing Information was low. See\n",
      "https://mc-stan.org/misc/warnings.html#bfmi-low”\n",
      "Warning message:\n",
      "“Examine the pairs() plot to diagnose sampling problems\n",
      "”\n",
      "Warning message:\n",
      "“The largest R-hat is 2.06, indicating chains have not mixed.\n",
      "Running the chains for more iterations may help. See\n",
      "https://mc-stan.org/misc/warnings.html#r-hat”\n",
      "Warning message:\n",
      "“Bulk Effective Samples Size (ESS) is too low, indicating posterior means and medians may be unreliable.\n",
      "Running the chains for more iterations may help. See\n",
      "https://mc-stan.org/misc/warnings.html#bulk-ess”\n",
      "Warning message:\n",
      "“Tail Effective Samples Size (ESS) is too low, indicating posterior variances and tail quantiles may be unreliable.\n",
      "Running the chains for more iterations may help. See\n",
      "https://mc-stan.org/misc/warnings.html#tail-ess”\n"
     ]
    }
   ],
   "source": [
    "data$S <- as.numeric(NA)\n",
    "\n",
    "bf1 <- bf(X ~ 0 + mi(S))\n",
    "bf2 <- bf(S|mi() ~ 0)\n",
    "bf3 <- bf(Y1 ~ 0 + mi(S)+X)\n",
    "\n",
    "model <- brm(bf1 + bf2 + bf3 + set_rescor(FALSE), \n",
    "data = data, family = gaussian(), \n",
    "iter = 4000, chains = 2, cores = 4, seed = 123)"
   ]
  },
  {
   "cell_type": "code",
   "execution_count": 18,
   "metadata": {
    "vscode": {
     "languageId": "r"
    }
   },
   "outputs": [
    {
     "name": "stderr",
     "output_type": "stream",
     "text": [
      "Warning message:\n",
      "“Parts of the model have not converged (some Rhats are > 1.05). Be careful when analysing the results! We recommend running more iterations and/or setting stronger priors.”\n",
      "Warning message:\n",
      "“There were 13 divergent transitions after warmup. Increasing adapt_delta above 0.8 may help. See http://mc-stan.org/misc/warnings.html#divergent-transitions-after-warmup”\n"
     ]
    },
    {
     "data": {
      "text/html": [
       "<table class=\"dataframe\">\n",
       "<caption>A data.frame: 2 × 7</caption>\n",
       "<thead>\n",
       "\t<tr><th></th><th scope=col>Estimate</th><th scope=col>Est.Error</th><th scope=col>l-95% CI</th><th scope=col>u-95% CI</th><th scope=col>Rhat</th><th scope=col>Bulk_ESS</th><th scope=col>Tail_ESS</th></tr>\n",
       "\t<tr><th></th><th scope=col>&lt;dbl&gt;</th><th scope=col>&lt;dbl&gt;</th><th scope=col>&lt;dbl&gt;</th><th scope=col>&lt;dbl&gt;</th><th scope=col>&lt;dbl&gt;</th><th scope=col>&lt;dbl&gt;</th><th scope=col>&lt;dbl&gt;</th></tr>\n",
       "</thead>\n",
       "<tbody>\n",
       "\t<tr><th scope=row>X_miS</th><td> 8.053318</td><td> 8.704083</td><td>0.2242647</td><td> 25.28698</td><td>1.838904</td><td>2.966027</td><td>12.50381</td></tr>\n",
       "\t<tr><th scope=row>Y1_miS</th><td>37.166414</td><td>40.040645</td><td>1.0447512</td><td>110.62777</td><td>1.828760</td><td>2.959538</td><td>15.07232</td></tr>\n",
       "</tbody>\n",
       "</table>\n"
      ],
      "text/latex": [
       "A data.frame: 2 × 7\n",
       "\\begin{tabular}{r|lllllll}\n",
       "  & Estimate & Est.Error & l-95\\% CI & u-95\\% CI & Rhat & Bulk\\_ESS & Tail\\_ESS\\\\\n",
       "  & <dbl> & <dbl> & <dbl> & <dbl> & <dbl> & <dbl> & <dbl>\\\\\n",
       "\\hline\n",
       "\tX\\_miS &  8.053318 &  8.704083 & 0.2242647 &  25.28698 & 1.838904 & 2.966027 & 12.50381\\\\\n",
       "\tY1\\_miS & 37.166414 & 40.040645 & 1.0447512 & 110.62777 & 1.828760 & 2.959538 & 15.07232\\\\\n",
       "\\end{tabular}\n"
      ],
      "text/markdown": [
       "\n",
       "A data.frame: 2 × 7\n",
       "\n",
       "| <!--/--> | Estimate &lt;dbl&gt; | Est.Error &lt;dbl&gt; | l-95% CI &lt;dbl&gt; | u-95% CI &lt;dbl&gt; | Rhat &lt;dbl&gt; | Bulk_ESS &lt;dbl&gt; | Tail_ESS &lt;dbl&gt; |\n",
       "|---|---|---|---|---|---|---|---|\n",
       "| X_miS |  8.053318 |  8.704083 | 0.2242647 |  25.28698 | 1.838904 | 2.966027 | 12.50381 |\n",
       "| Y1_miS | 37.166414 | 40.040645 | 1.0447512 | 110.62777 | 1.828760 | 2.959538 | 15.07232 |\n",
       "\n"
      ],
      "text/plain": [
       "       Estimate  Est.Error l-95% CI  u-95% CI  Rhat     Bulk_ESS Tail_ESS\n",
       "X_miS   8.053318  8.704083 0.2242647  25.28698 1.838904 2.966027 12.50381\n",
       "Y1_miS 37.166414 40.040645 1.0447512 110.62777 1.828760 2.959538 15.07232"
      ]
     },
     "metadata": {},
     "output_type": "display_data"
    }
   ],
   "source": [
    "summary(model)$fixed"
   ]
  },
  {
   "cell_type": "code",
   "execution_count": 14,
   "metadata": {
    "vscode": {
     "languageId": "r"
    }
   },
   "outputs": [
    {
     "name": "stderr",
     "output_type": "stream",
     "text": [
      "\u001b[1m\u001b[22m`geom_smooth()` using formula = 'y ~ x'\n"
     ]
    },
    {
     "data": {
      "image/png": "[encoded data removed]",
      "text/plain": [
       "plot without title"
      ]
     },
     "metadata": {
      "image/png": {
       "height": 420,
       "width": 420
      }
     },
     "output_type": "display_data"
    }
   ],
   "source": [
    "ggplot(data, aes(x = X, y = Y1)) + geom_point() + geom_smooth(method = \"lm\")"
   ]
  },
  {
   "cell_type": "code",
   "execution_count": 6,
   "metadata": {
    "vscode": {
     "languageId": "r"
    }
   },
   "outputs": [
    {
     "data": {
      "text/html": [
       "<table class=\"dataframe\">\n",
       "<caption>A data.frame: 6 × 11</caption>\n",
       "<thead>\n",
       "\t<tr><th></th><th scope=col>Z1</th><th scope=col>Z2</th><th scope=col>X</th><th scope=col>W1</th><th scope=col>W2</th><th scope=col>W3</th><th scope=col>W4</th><th scope=col>Y1</th><th scope=col>Y2</th><th scope=col>Y3</th><th scope=col>S</th></tr>\n",
       "\t<tr><th></th><th scope=col>&lt;dbl&gt;</th><th scope=col>&lt;dbl&gt;</th><th scope=col>&lt;dbl&gt;</th><th scope=col>&lt;dbl&gt;</th><th scope=col>&lt;dbl&gt;</th><th scope=col>&lt;dbl&gt;</th><th scope=col>&lt;dbl&gt;</th><th scope=col>&lt;dbl&gt;</th><th scope=col>&lt;dbl&gt;</th><th scope=col>&lt;dbl&gt;</th><th scope=col>&lt;dbl&gt;</th></tr>\n",
       "</thead>\n",
       "<tbody>\n",
       "\t<tr><th scope=row>1</th><td>-0.27170609</td><td> 0.71894763</td><td> 0.98143110</td><td> 1.00030098</td><td> 0.77144801</td><td> 1.2386757</td><td> 1.0927794</td><td> 1.9747777</td><td> 1.9017684</td><td> 2.0724796</td><td>NA</td></tr>\n",
       "\t<tr><th scope=row>2</th><td> 0.01679963</td><td>-0.11344792</td><td> 0.02089102</td><td> 0.06510267</td><td>-0.01048308</td><td>-0.1879640</td><td> 0.3158062</td><td>-3.9140555</td><td>-3.7372067</td><td>-4.0432072</td><td>NA</td></tr>\n",
       "\t<tr><th scope=row>3</th><td>-0.05534801</td><td> 0.48256068</td><td> 0.65339731</td><td> 1.03600579</td><td> 0.76622797</td><td> 0.4936952</td><td> 0.7088999</td><td> 5.3465960</td><td> 5.1435283</td><td> 5.2003860</td><td>NA</td></tr>\n",
       "\t<tr><th scope=row>4</th><td>-0.01107550</td><td>-0.77258435</td><td>-0.90910136</td><td>-0.91897396</td><td>-0.89855286</td><td>-0.7525232</td><td>-0.7067591</td><td>-5.3098412</td><td>-5.2066074</td><td>-5.2076106</td><td>NA</td></tr>\n",
       "\t<tr><th scope=row>5</th><td>-0.27895880</td><td> 0.01266895</td><td> 0.31999997</td><td> 0.47764206</td><td> 0.19120549</td><td> 0.5628556</td><td> 0.3980963</td><td>-0.8141446</td><td>-0.6411995</td><td>-0.6839457</td><td>NA</td></tr>\n",
       "\t<tr><th scope=row>6</th><td> 0.19648555</td><td> 1.53590359</td><td> 1.52326754</td><td> 1.49186037</td><td> 1.34454041</td><td> 1.5129694</td><td> 1.2369527</td><td> 8.1288171</td><td> 8.1295000</td><td> 8.2306673</td><td>NA</td></tr>\n",
       "</tbody>\n",
       "</table>\n"
      ],
      "text/latex": [
       "A data.frame: 6 × 11\n",
       "\\begin{tabular}{r|lllllllllll}\n",
       "  & Z1 & Z2 & X & W1 & W2 & W3 & W4 & Y1 & Y2 & Y3 & S\\\\\n",
       "  & <dbl> & <dbl> & <dbl> & <dbl> & <dbl> & <dbl> & <dbl> & <dbl> & <dbl> & <dbl> & <dbl>\\\\\n",
       "\\hline\n",
       "\t1 & -0.27170609 &  0.71894763 &  0.98143110 &  1.00030098 &  0.77144801 &  1.2386757 &  1.0927794 &  1.9747777 &  1.9017684 &  2.0724796 & NA\\\\\n",
       "\t2 &  0.01679963 & -0.11344792 &  0.02089102 &  0.06510267 & -0.01048308 & -0.1879640 &  0.3158062 & -3.9140555 & -3.7372067 & -4.0432072 & NA\\\\\n",
       "\t3 & -0.05534801 &  0.48256068 &  0.65339731 &  1.03600579 &  0.76622797 &  0.4936952 &  0.7088999 &  5.3465960 &  5.1435283 &  5.2003860 & NA\\\\\n",
       "\t4 & -0.01107550 & -0.77258435 & -0.90910136 & -0.91897396 & -0.89855286 & -0.7525232 & -0.7067591 & -5.3098412 & -5.2066074 & -5.2076106 & NA\\\\\n",
       "\t5 & -0.27895880 &  0.01266895 &  0.31999997 &  0.47764206 &  0.19120549 &  0.5628556 &  0.3980963 & -0.8141446 & -0.6411995 & -0.6839457 & NA\\\\\n",
       "\t6 &  0.19648555 &  1.53590359 &  1.52326754 &  1.49186037 &  1.34454041 &  1.5129694 &  1.2369527 &  8.1288171 &  8.1295000 &  8.2306673 & NA\\\\\n",
       "\\end{tabular}\n"
      ],
      "text/markdown": [
       "\n",
       "A data.frame: 6 × 11\n",
       "\n",
       "| <!--/--> | Z1 &lt;dbl&gt; | Z2 &lt;dbl&gt; | X &lt;dbl&gt; | W1 &lt;dbl&gt; | W2 &lt;dbl&gt; | W3 &lt;dbl&gt; | W4 &lt;dbl&gt; | Y1 &lt;dbl&gt; | Y2 &lt;dbl&gt; | Y3 &lt;dbl&gt; | S &lt;dbl&gt; |\n",
       "|---|---|---|---|---|---|---|---|---|---|---|---|\n",
       "| 1 | -0.27170609 |  0.71894763 |  0.98143110 |  1.00030098 |  0.77144801 |  1.2386757 |  1.0927794 |  1.9747777 |  1.9017684 |  2.0724796 | NA |\n",
       "| 2 |  0.01679963 | -0.11344792 |  0.02089102 |  0.06510267 | -0.01048308 | -0.1879640 |  0.3158062 | -3.9140555 | -3.7372067 | -4.0432072 | NA |\n",
       "| 3 | -0.05534801 |  0.48256068 |  0.65339731 |  1.03600579 |  0.76622797 |  0.4936952 |  0.7088999 |  5.3465960 |  5.1435283 |  5.2003860 | NA |\n",
       "| 4 | -0.01107550 | -0.77258435 | -0.90910136 | -0.91897396 | -0.89855286 | -0.7525232 | -0.7067591 | -5.3098412 | -5.2066074 | -5.2076106 | NA |\n",
       "| 5 | -0.27895880 |  0.01266895 |  0.31999997 |  0.47764206 |  0.19120549 |  0.5628556 |  0.3980963 | -0.8141446 | -0.6411995 | -0.6839457 | NA |\n",
       "| 6 |  0.19648555 |  1.53590359 |  1.52326754 |  1.49186037 |  1.34454041 |  1.5129694 |  1.2369527 |  8.1288171 |  8.1295000 |  8.2306673 | NA |\n",
       "\n"
      ],
      "text/plain": [
       "  Z1          Z2          X           W1          W2          W3        \n",
       "1 -0.27170609  0.71894763  0.98143110  1.00030098  0.77144801  1.2386757\n",
       "2  0.01679963 -0.11344792  0.02089102  0.06510267 -0.01048308 -0.1879640\n",
       "3 -0.05534801  0.48256068  0.65339731  1.03600579  0.76622797  0.4936952\n",
       "4 -0.01107550 -0.77258435 -0.90910136 -0.91897396 -0.89855286 -0.7525232\n",
       "5 -0.27895880  0.01266895  0.31999997  0.47764206  0.19120549  0.5628556\n",
       "6  0.19648555  1.53590359  1.52326754  1.49186037  1.34454041  1.5129694\n",
       "  W4         Y1         Y2         Y3         S \n",
       "1  1.0927794  1.9747777  1.9017684  2.0724796 NA\n",
       "2  0.3158062 -3.9140555 -3.7372067 -4.0432072 NA\n",
       "3  0.7088999  5.3465960  5.1435283  5.2003860 NA\n",
       "4 -0.7067591 -5.3098412 -5.2066074 -5.2076106 NA\n",
       "5  0.3980963 -0.8141446 -0.6411995 -0.6839457 NA\n",
       "6  1.2369527  8.1288171  8.1295000  8.2306673 NA"
      ]
     },
     "metadata": {},
     "output_type": "display_data"
    }
   ],
   "source": [
    "head(data)"
   ]
  },
  {
   "cell_type": "code",
   "execution_count": 9,
   "metadata": {
    "vscode": {
     "languageId": "r"
    }
   },
   "outputs": [
    {
     "name": "stdout",
     "output_type": "stream",
     "text": [
      "// generated with brms 2.18.0\n",
      "functions {\n",
      "}\n",
      "data {\n",
      "  int<lower=1> N;  // total number of observations\n",
      "  int<lower=1> N_X;  // number of observations\n",
      "  vector[N_X] Y_X;  // response variable\n",
      "  int<lower=1> Ksp_X;  // number of special effects terms\n",
      "  int<lower=1> N_S;  // number of observations\n",
      "  vector[N_S] Y_S;  // response variable\n",
      "  int<lower=0> Nmi_S;  // number of missings\n",
      "  int<lower=1> Jmi_S[Nmi_S];  // positions of missings\n",
      "  int<lower=1> N_Y1;  // number of observations\n",
      "  vector[N_Y1] Y_Y1;  // response variable\n",
      "  int<lower=1> K_Y1;  // number of population-level effects\n",
      "  matrix[N_Y1, K_Y1] X_Y1;  // population-level design matrix\n",
      "  int<lower=1> Ksp_Y1;  // number of special effects terms\n",
      "  int prior_only;  // should the likelihood be ignored?\n",
      "}\n",
      "transformed data {\n",
      "}\n",
      "parameters {\n",
      "  vector[Ksp_X] bsp_X;  // special effects coefficients\n",
      "  real<lower=0> sigma_X;  // dispersion parameter\n",
      "  vector[Nmi_S] Ymi_S;  // estimated missings\n",
      "  real<lower=0> sigma_S;  // dispersion parameter\n",
      "  vector[K_Y1] b_Y1;  // population-level effects\n",
      "  vector[Ksp_Y1] bsp_Y1;  // special effects coefficients\n",
      "  real<lower=0> sigma_Y1;  // dispersion parameter\n",
      "}\n",
      "transformed parameters {\n",
      "  real lprior = 0;  // prior contributions to the log posterior\n",
      "  lprior += student_t_lpdf(sigma_X | 3, 0, 2.5)\n",
      "    - 1 * student_t_lccdf(0 | 3, 0, 2.5);\n",
      "  lprior += student_t_lpdf(sigma_S | 3, 0, 2.5)\n",
      "    - 1 * student_t_lccdf(0 | 3, 0, 2.5);\n",
      "  lprior += student_t_lpdf(sigma_Y1 | 3, 0, 3.5)\n",
      "    - 1 * student_t_lccdf(0 | 3, 0, 3.5);\n",
      "}\n",
      "model {\n",
      "  // likelihood including constants\n",
      "  if (!prior_only) {\n",
      "    // vector combining observed and missing responses\n",
      "    vector[N_S] Yl_S = Y_S;\n",
      "    // initialize linear predictor term\n",
      "    vector[N_X] mu_X = rep_vector(0.0, N_X);\n",
      "    // initialize linear predictor term\n",
      "    vector[N_S] mu_S = rep_vector(0.0, N_S);\n",
      "    // initialize linear predictor term\n",
      "    vector[N_Y1] mu_Y1 = rep_vector(0.0, N_Y1);\n",
      "    Yl_S[Jmi_S] = Ymi_S;\n",
      "    for (n in 1:N_X) {\n",
      "      // add more terms to the linear predictor\n",
      "      mu_X[n] += (bsp_X[1]) * Yl_S[n];\n",
      "    }\n",
      "    for (n in 1:N_Y1) {\n",
      "      // add more terms to the linear predictor\n",
      "      mu_Y1[n] += (bsp_Y1[1]) * Yl_S[n];\n",
      "    }\n",
      "    target += normal_lpdf(Y_X | mu_X, sigma_X);\n",
      "    target += normal_lpdf(Yl_S | mu_S, sigma_S);\n",
      "    target += normal_id_glm_lpdf(Y_Y1 | X_Y1, mu_Y1, b_Y1, sigma_Y1);\n",
      "  }\n",
      "  // priors including constants\n",
      "  target += lprior;\n",
      "}\n",
      "generated quantities {\n",
      "}\n"
     ]
    }
   ],
   "source": [
    "cat(stancode(model))"
   ]
  }
 ],
 "metadata": {
  "kernelspec": {
   "display_name": "R",
   "language": "R",
   "name": "ir"
  },
  "language_info": {
   "codemirror_mode": "r",
   "file_extension": ".r",
   "mimetype": "text/x-r-source",
   "name": "R",
   "pygments_lexer": "r",
   "version": "4.2.2"
  },
  "orig_nbformat": 4
 },
 "nbformat": 4,
 "nbformat_minor": 2
}
