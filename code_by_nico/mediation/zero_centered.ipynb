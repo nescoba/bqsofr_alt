{
 "cells": [
  {
   "cell_type": "code",
   "execution_count": 3,
   "metadata": {
    "vscode": {
     "languageId": "r"
    }
   },
   "outputs": [
    {
     "name": "stderr",
     "output_type": "stream",
     "text": [
      "Loading required package: Rcpp\n",
      "\n",
      "Loading 'brms' package (version 2.18.0). Useful instructions\n",
      "can be found by typing help('brms'). A more detailed introduction\n",
      "to the package is available through vignette('brms_overview').\n",
      "\n",
      "\n",
      "Attaching package: ‘brms’\n",
      "\n",
      "\n",
      "The following object is masked from ‘package:stats’:\n",
      "\n",
      "    ar\n",
      "\n",
      "\n"
     ]
    }
   ],
   "source": [
    "library(brms)"
   ]
  },
  {
   "cell_type": "code",
   "execution_count": 1,
   "metadata": {
    "vscode": {
     "languageId": "r"
    }
   },
   "outputs": [],
   "source": [
    "N <- 3000\n",
    "M <- 2\n",
    "K <- 4\n",
    "J <- 3\n",
    "\n",
    "mu <- 0\n",
    "al <- matrix(c(-1, 1), ncol = 1)\n",
    "Z <- matrix(rnorm(M*N, sd = .5), ncol = N)\n",
    "ep_x <- matrix(rnorm(N, sd = 0.1), ncol = N)\n",
    "X <- t(al) %*% Z + ep_x\n",
    "\n",
    "U <- matrix(rnorm(K*N, sd = .2), ncol = N)\n",
    "W <- sweep(U, 2, X, \"+\")\n",
    "\n",
    "h_1 <- function(x) -x\n",
    "h_2 <- function(x) 3*x\n",
    "f <- function(x) 2*x\n",
    "eta <- rnorm(N)\n",
    "S <- f(X) + h_1(Z[1, ]) + h_2(Z[2, ]) + eta\n",
    "S <- matrix(S, ncol = N)\n",
    "\n",
    "beta0 <- matrix(rep(0, J*N), ncol = N)\n",
    "beta1 <- matrix(rep(1, J), ncol = 1)\n",
    "ep_y <- matrix(rnorm(J * N, sd = 0.1), ncol = N)\n",
    "Y <- beta0 + beta1 %*% S + ep_y\n",
    "\n",
    "data <- as.data.frame(t(rbind(Z,X,W,Y)))\n",
    "names(data) <- c(\"Z1\", \"Z2\", \"X\",\"W1\", \"W2\", \"W3\", \"W4\", \"Y1\", \"Y2\", \"Y3\")\n",
    "\n",
    "data$Xm <- as.numeric(NA)\n",
    "data$Sm <- as.numeric(NA)"
   ]
  },
  {
   "cell_type": "code",
   "execution_count": 4,
   "metadata": {
    "vscode": {
     "languageId": "r"
    }
   },
   "outputs": [
    {
     "name": "stderr",
     "output_type": "stream",
     "text": [
      "Compiling Stan program...\n",
      "\n",
      "Start sampling\n",
      "\n",
      "Warning message:\n",
      "“The largest R-hat is 3.18, indicating chains have not mixed.\n",
      "Running the chains for more iterations may help. See\n",
      "https://mc-stan.org/misc/warnings.html#r-hat”\n",
      "Warning message:\n",
      "“Bulk Effective Samples Size (ESS) is too low, indicating posterior means and medians may be unreliable.\n",
      "Running the chains for more iterations may help. See\n",
      "https://mc-stan.org/misc/warnings.html#bulk-ess”\n",
      "Warning message:\n",
      "“Tail Effective Samples Size (ESS) is too low, indicating posterior variances and tail quantiles may be unreliable.\n",
      "Running the chains for more iterations may help. See\n",
      "https://mc-stan.org/misc/warnings.html#tail-ess”\n"
     ]
    }
   ],
   "source": [
    "bf2 <- bf(Sm|mi() ~ mi(Xm) + Z1 + Z2)\n",
    "bf3 <- bf(Y1 ~ 0 + mi(Sm))\n",
    "bf4 <- bf(Y2 ~ 0 + mi(Sm))\n",
    "bf5 <- bf(Y3 ~ 0 + mi(Sm))\n",
    "bf8 <- bf(Xm|mi() ~ Z1 + Z2)\n",
    "bf9 <- bf(W1 ~ 0 + mi(Xm))\n",
    "bf10 <- bf(W2 ~ 0 + mi(Xm))\n",
    "bf11 <- bf(W3 ~ 0 + mi(Xm))\n",
    "bf12 <- bf(W4 ~ 0 + mi(Xm))\n",
    "\n",
    "priors <- c(\n",
    "    prior(normal(0, 3), class = b, coef = Z1, resp = Sm),\n",
    "    prior(normal(0, 3), class = b, coef = Z2, resp = Sm),\n",
    "    prior(normal(0, 3), class = b, coef = miXm, resp = Sm),\n",
    "    prior(normal(0, 3), class = b, coef = miSm, resp = Y1),\n",
    "    prior(normal(0, 3), class = b, coef = miSm, resp = Y2),\n",
    "    prior(normal(0, 3), class = b, coef = miSm, resp = Y3),\n",
    "    prior(normal(0, 3), class = b, coef = Z1, resp = Xm),\n",
    "    prior(normal(0, 3), class = b, coef = Z2, resp = Xm),\n",
    "    prior(normal(1, 0.0001), class = b, coef = miXm, resp = W1),\n",
    "    prior(normal(1, 0.0001), class = b, coef = miXm, resp = W2),\n",
    "    prior(normal(1, 0.0001), class = b, coef = miXm, resp = W3),\n",
    "    prior(normal(1, 0.0001), class = b, coef = miXm, resp = W4)\n",
    ")\n",
    "\n",
    "model <- brm(bf2 + bf3 + bf4 + bf5 + bf8 + bf9 + bf10 + bf11 + bf12 +set_rescor(FALSE), \n",
    "data = data, prior = priors, iter = 4000, cores = 4)"
   ]
  },
  {
   "cell_type": "code",
   "execution_count": 6,
   "metadata": {
    "vscode": {
     "languageId": "r"
    }
   },
   "outputs": [
    {
     "name": "stderr",
     "output_type": "stream",
     "text": [
      "Warning message:\n",
      "“Parts of the model have not converged (some Rhats are > 1.05). Be careful when analysing the results! We recommend running more iterations and/or setting stronger priors.”\n"
     ]
    },
    {
     "data": {
      "text/html": [
       "<table class=\"dataframe\">\n",
       "<caption>A data.frame: 14 × 7</caption>\n",
       "<thead>\n",
       "\t<tr><th></th><th scope=col>Estimate</th><th scope=col>Est.Error</th><th scope=col>l-95% CI</th><th scope=col>u-95% CI</th><th scope=col>Rhat</th><th scope=col>Bulk_ESS</th><th scope=col>Tail_ESS</th></tr>\n",
       "\t<tr><th></th><th scope=col>&lt;dbl&gt;</th><th scope=col>&lt;dbl&gt;</th><th scope=col>&lt;dbl&gt;</th><th scope=col>&lt;dbl&gt;</th><th scope=col>&lt;dbl&gt;</th><th scope=col>&lt;dbl&gt;</th><th scope=col>&lt;dbl&gt;</th></tr>\n",
       "</thead>\n",
       "<tbody>\n",
       "\t<tr><th scope=row>Sm_Intercept</th><td> 0.0062694433</td><td>1.367034e-02</td><td>-0.022170066</td><td> 0.030537980</td><td>1.4588423</td><td>   7.680683</td><td>  26.87550</td></tr>\n",
       "\t<tr><th scope=row>Xm_Intercept</th><td>-0.0002899133</td><td>2.598795e-03</td><td>-0.005465323</td><td> 0.004726165</td><td>1.0006594</td><td>7329.468913</td><td>6223.83690</td></tr>\n",
       "\t<tr><th scope=row>Sm_Z1</th><td>-0.3446591235</td><td>5.771716e-01</td><td>-0.994188493</td><td> 0.764501821</td><td>1.9313472</td><td>   5.540075</td><td>  32.43604</td></tr>\n",
       "\t<tr><th scope=row>Sm_Z2</th><td> 0.8582383696</td><td>1.405898e+00</td><td>-1.681069442</td><td> 2.190038150</td><td>2.6169242</td><td>   4.720395</td><td>  25.55811</td></tr>\n",
       "\t<tr><th scope=row>Xm_Z1</th><td>-0.9990295783</td><td>5.015224e-03</td><td>-1.008899095</td><td>-0.989171564</td><td>0.9999371</td><td>7041.819057</td><td>6726.80747</td></tr>\n",
       "\t<tr><th scope=row>Xm_Z2</th><td> 1.0044693519</td><td>5.325954e-03</td><td> 0.993848818</td><td> 1.014776484</td><td>1.0002417</td><td>6404.955716</td><td>7029.98308</td></tr>\n",
       "\t<tr><th scope=row>Sm_miXm</th><td> 0.4383419744</td><td>7.225850e-01</td><td>-0.920518828</td><td> 1.210719961</td><td>2.1185812</td><td>   5.201916</td><td>  30.07152</td></tr>\n",
       "\t<tr><th scope=row>Y1_miSm</th><td> 1.0097146383</td><td>1.867866e+00</td><td>-2.200228758</td><td> 2.626164772</td><td>3.1867333</td><td>   4.478808</td><td>  11.36788</td></tr>\n",
       "\t<tr><th scope=row>Y2_miSm</th><td> 1.0085603955</td><td>1.865734e+00</td><td>-2.198164911</td><td> 2.622532679</td><td>3.1869290</td><td>   4.478487</td><td>  11.08886</td></tr>\n",
       "\t<tr><th scope=row>Y3_miSm</th><td> 1.0085700577</td><td>1.865769e+00</td><td>-2.198180602</td><td> 2.622777964</td><td>3.1872241</td><td>   4.478765</td><td>  11.22892</td></tr>\n",
       "\t<tr><th scope=row>W1_miXm</th><td> 0.9999995165</td><td>1.016784e-04</td><td> 0.999800994</td><td> 1.000196339</td><td>1.0004152</td><td>7937.987413</td><td>4849.13059</td></tr>\n",
       "\t<tr><th scope=row>W2_miXm</th><td> 1.0000002837</td><td>9.947484e-05</td><td> 0.999806152</td><td> 1.000196276</td><td>1.0004845</td><td>7804.465657</td><td>4582.30785</td></tr>\n",
       "\t<tr><th scope=row>W3_miXm</th><td> 0.9999976518</td><td>1.014764e-04</td><td> 0.999801611</td><td> 1.000195686</td><td>1.0012638</td><td>7841.859148</td><td>4949.51082</td></tr>\n",
       "\t<tr><th scope=row>W4_miXm</th><td> 0.9999996027</td><td>9.907210e-05</td><td> 0.999803980</td><td> 1.000194899</td><td>1.0012776</td><td>7718.492331</td><td>4621.56823</td></tr>\n",
       "</tbody>\n",
       "</table>\n"
      ],
      "text/latex": [
       "A data.frame: 14 × 7\n",
       "\\begin{tabular}{r|lllllll}\n",
       "  & Estimate & Est.Error & l-95\\% CI & u-95\\% CI & Rhat & Bulk\\_ESS & Tail\\_ESS\\\\\n",
       "  & <dbl> & <dbl> & <dbl> & <dbl> & <dbl> & <dbl> & <dbl>\\\\\n",
       "\\hline\n",
       "\tSm\\_Intercept &  0.0062694433 & 1.367034e-02 & -0.022170066 &  0.030537980 & 1.4588423 &    7.680683 &   26.87550\\\\\n",
       "\tXm\\_Intercept & -0.0002899133 & 2.598795e-03 & -0.005465323 &  0.004726165 & 1.0006594 & 7329.468913 & 6223.83690\\\\\n",
       "\tSm\\_Z1 & -0.3446591235 & 5.771716e-01 & -0.994188493 &  0.764501821 & 1.9313472 &    5.540075 &   32.43604\\\\\n",
       "\tSm\\_Z2 &  0.8582383696 & 1.405898e+00 & -1.681069442 &  2.190038150 & 2.6169242 &    4.720395 &   25.55811\\\\\n",
       "\tXm\\_Z1 & -0.9990295783 & 5.015224e-03 & -1.008899095 & -0.989171564 & 0.9999371 & 7041.819057 & 6726.80747\\\\\n",
       "\tXm\\_Z2 &  1.0044693519 & 5.325954e-03 &  0.993848818 &  1.014776484 & 1.0002417 & 6404.955716 & 7029.98308\\\\\n",
       "\tSm\\_miXm &  0.4383419744 & 7.225850e-01 & -0.920518828 &  1.210719961 & 2.1185812 &    5.201916 &   30.07152\\\\\n",
       "\tY1\\_miSm &  1.0097146383 & 1.867866e+00 & -2.200228758 &  2.626164772 & 3.1867333 &    4.478808 &   11.36788\\\\\n",
       "\tY2\\_miSm &  1.0085603955 & 1.865734e+00 & -2.198164911 &  2.622532679 & 3.1869290 &    4.478487 &   11.08886\\\\\n",
       "\tY3\\_miSm &  1.0085700577 & 1.865769e+00 & -2.198180602 &  2.622777964 & 3.1872241 &    4.478765 &   11.22892\\\\\n",
       "\tW1\\_miXm &  0.9999995165 & 1.016784e-04 &  0.999800994 &  1.000196339 & 1.0004152 & 7937.987413 & 4849.13059\\\\\n",
       "\tW2\\_miXm &  1.0000002837 & 9.947484e-05 &  0.999806152 &  1.000196276 & 1.0004845 & 7804.465657 & 4582.30785\\\\\n",
       "\tW3\\_miXm &  0.9999976518 & 1.014764e-04 &  0.999801611 &  1.000195686 & 1.0012638 & 7841.859148 & 4949.51082\\\\\n",
       "\tW4\\_miXm &  0.9999996027 & 9.907210e-05 &  0.999803980 &  1.000194899 & 1.0012776 & 7718.492331 & 4621.56823\\\\\n",
       "\\end{tabular}\n"
      ],
      "text/markdown": [
       "\n",
       "A data.frame: 14 × 7\n",
       "\n",
       "| <!--/--> | Estimate &lt;dbl&gt; | Est.Error &lt;dbl&gt; | l-95% CI &lt;dbl&gt; | u-95% CI &lt;dbl&gt; | Rhat &lt;dbl&gt; | Bulk_ESS &lt;dbl&gt; | Tail_ESS &lt;dbl&gt; |\n",
       "|---|---|---|---|---|---|---|---|\n",
       "| Sm_Intercept |  0.0062694433 | 1.367034e-02 | -0.022170066 |  0.030537980 | 1.4588423 |    7.680683 |   26.87550 |\n",
       "| Xm_Intercept | -0.0002899133 | 2.598795e-03 | -0.005465323 |  0.004726165 | 1.0006594 | 7329.468913 | 6223.83690 |\n",
       "| Sm_Z1 | -0.3446591235 | 5.771716e-01 | -0.994188493 |  0.764501821 | 1.9313472 |    5.540075 |   32.43604 |\n",
       "| Sm_Z2 |  0.8582383696 | 1.405898e+00 | -1.681069442 |  2.190038150 | 2.6169242 |    4.720395 |   25.55811 |\n",
       "| Xm_Z1 | -0.9990295783 | 5.015224e-03 | -1.008899095 | -0.989171564 | 0.9999371 | 7041.819057 | 6726.80747 |\n",
       "| Xm_Z2 |  1.0044693519 | 5.325954e-03 |  0.993848818 |  1.014776484 | 1.0002417 | 6404.955716 | 7029.98308 |\n",
       "| Sm_miXm |  0.4383419744 | 7.225850e-01 | -0.920518828 |  1.210719961 | 2.1185812 |    5.201916 |   30.07152 |\n",
       "| Y1_miSm |  1.0097146383 | 1.867866e+00 | -2.200228758 |  2.626164772 | 3.1867333 |    4.478808 |   11.36788 |\n",
       "| Y2_miSm |  1.0085603955 | 1.865734e+00 | -2.198164911 |  2.622532679 | 3.1869290 |    4.478487 |   11.08886 |\n",
       "| Y3_miSm |  1.0085700577 | 1.865769e+00 | -2.198180602 |  2.622777964 | 3.1872241 |    4.478765 |   11.22892 |\n",
       "| W1_miXm |  0.9999995165 | 1.016784e-04 |  0.999800994 |  1.000196339 | 1.0004152 | 7937.987413 | 4849.13059 |\n",
       "| W2_miXm |  1.0000002837 | 9.947484e-05 |  0.999806152 |  1.000196276 | 1.0004845 | 7804.465657 | 4582.30785 |\n",
       "| W3_miXm |  0.9999976518 | 1.014764e-04 |  0.999801611 |  1.000195686 | 1.0012638 | 7841.859148 | 4949.51082 |\n",
       "| W4_miXm |  0.9999996027 | 9.907210e-05 |  0.999803980 |  1.000194899 | 1.0012776 | 7718.492331 | 4621.56823 |\n",
       "\n"
      ],
      "text/plain": [
       "             Estimate      Est.Error    l-95% CI     u-95% CI     Rhat     \n",
       "Sm_Intercept  0.0062694433 1.367034e-02 -0.022170066  0.030537980 1.4588423\n",
       "Xm_Intercept -0.0002899133 2.598795e-03 -0.005465323  0.004726165 1.0006594\n",
       "Sm_Z1        -0.3446591235 5.771716e-01 -0.994188493  0.764501821 1.9313472\n",
       "Sm_Z2         0.8582383696 1.405898e+00 -1.681069442  2.190038150 2.6169242\n",
       "Xm_Z1        -0.9990295783 5.015224e-03 -1.008899095 -0.989171564 0.9999371\n",
       "Xm_Z2         1.0044693519 5.325954e-03  0.993848818  1.014776484 1.0002417\n",
       "Sm_miXm       0.4383419744 7.225850e-01 -0.920518828  1.210719961 2.1185812\n",
       "Y1_miSm       1.0097146383 1.867866e+00 -2.200228758  2.626164772 3.1867333\n",
       "Y2_miSm       1.0085603955 1.865734e+00 -2.198164911  2.622532679 3.1869290\n",
       "Y3_miSm       1.0085700577 1.865769e+00 -2.198180602  2.622777964 3.1872241\n",
       "W1_miXm       0.9999995165 1.016784e-04  0.999800994  1.000196339 1.0004152\n",
       "W2_miXm       1.0000002837 9.947484e-05  0.999806152  1.000196276 1.0004845\n",
       "W3_miXm       0.9999976518 1.014764e-04  0.999801611  1.000195686 1.0012638\n",
       "W4_miXm       0.9999996027 9.907210e-05  0.999803980  1.000194899 1.0012776\n",
       "             Bulk_ESS    Tail_ESS  \n",
       "Sm_Intercept    7.680683   26.87550\n",
       "Xm_Intercept 7329.468913 6223.83690\n",
       "Sm_Z1           5.540075   32.43604\n",
       "Sm_Z2           4.720395   25.55811\n",
       "Xm_Z1        7041.819057 6726.80747\n",
       "Xm_Z2        6404.955716 7029.98308\n",
       "Sm_miXm         5.201916   30.07152\n",
       "Y1_miSm         4.478808   11.36788\n",
       "Y2_miSm         4.478487   11.08886\n",
       "Y3_miSm         4.478765   11.22892\n",
       "W1_miXm      7937.987413 4849.13059\n",
       "W2_miXm      7804.465657 4582.30785\n",
       "W3_miXm      7841.859148 4949.51082\n",
       "W4_miXm      7718.492331 4621.56823"
      ]
     },
     "metadata": {},
     "output_type": "display_data"
    }
   ],
   "source": [
    "summary(model)$fixed"
   ]
  },
  {
   "cell_type": "code",
   "execution_count": 7,
   "metadata": {
    "vscode": {
     "languageId": "r"
    }
   },
   "outputs": [],
   "source": [
    "save(list = ls(), file = \"zero_centered.RData\")"
   ]
  }
 ],
 "metadata": {
  "kernelspec": {
   "display_name": "R",
   "language": "R",
   "name": "ir"
  },
  "language_info": {
   "codemirror_mode": "r",
   "file_extension": ".r",
   "mimetype": "text/x-r-source",
   "name": "R",
   "pygments_lexer": "r",
   "version": "4.2.2"
  },
  "orig_nbformat": 4
 },
 "nbformat": 4,
 "nbformat_minor": 2
}
