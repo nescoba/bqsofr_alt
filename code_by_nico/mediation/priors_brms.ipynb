{
 "cells": [
  {
   "attachments": {},
   "cell_type": "markdown",
   "metadata": {},
   "source": [
    "# Setting more informative priors"
   ]
  },
  {
   "attachments": {},
   "cell_type": "markdown",
   "metadata": {},
   "source": [
    "## Preliminaries"
   ]
  },
  {
   "cell_type": "code",
   "execution_count": 4,
   "metadata": {
    "vscode": {
     "languageId": "r"
    }
   },
   "outputs": [
    {
     "name": "stderr",
     "output_type": "stream",
     "text": [
      "Loading required package: Rcpp\n",
      "\n",
      "Loading 'brms' package (version 2.18.0). Useful instructions\n",
      "can be found by typing help('brms'). A more detailed introduction\n",
      "to the package is available through vignette('brms_overview').\n",
      "\n",
      "\n",
      "Attaching package: ‘brms’\n",
      "\n",
      "\n",
      "The following object is masked from ‘package:stats’:\n",
      "\n",
      "    ar\n",
      "\n",
      "\n"
     ]
    }
   ],
   "source": [
    "library(brms)"
   ]
  },
  {
   "cell_type": "code",
   "execution_count": 9,
   "metadata": {
    "vscode": {
     "languageId": "r"
    }
   },
   "outputs": [],
   "source": [
    "N <- 100\n",
    "M <- 2\n",
    "K <- 4\n",
    "J <- 3\n",
    "\n",
    "mu <- 0\n",
    "al <- matrix(c(-1, 1), ncol = 1)\n",
    "Z <- matrix(rnorm(M*N, sd = .5), ncol = N)\n",
    "ep_x <- matrix(rnorm(N, sd = 0.1), ncol = N)\n",
    "X <- t(al) %*% Z + ep_x\n",
    "\n",
    "U <- matrix(rnorm(K*N, sd = .2), ncol = N)\n",
    "W <- sweep(U, 2, X, \"+\")\n",
    "\n",
    "h_1 <- function(x) 0\n",
    "h_2 <- function(x) 0\n",
    "f <- function(x) 2*x\n",
    "eta <- rnorm(N)\n",
    "S <- f(X) + h_1(Z[1, ]) + h_2(Z[2, ]) + eta\n",
    "S <- matrix(S, ncol = N)\n",
    "\n",
    "beta0 <- matrix(rep(0, J*N), ncol = N)\n",
    "beta1 <- matrix(rep(1, J), ncol = 1)\n",
    "ep_y <- matrix(rnorm(J * N, sd = 0.1), ncol = N)\n",
    "Y <- beta0 + beta1 %*% S + ep_y"
   ]
  },
  {
   "cell_type": "code",
   "execution_count": 10,
   "metadata": {
    "vscode": {
     "languageId": "r"
    }
   },
   "outputs": [],
   "source": [
    "data <- as.data.frame(t(rbind(Z,X,W,Y)))\n",
    "names(data) <- c(\"Z1\", \"Z2\", \"X\",\"W1\", \"W2\", \"W3\", \"W4\", \"Y1\", \"Y2\", \"Y3\")\n",
    "data$S <- as.numeric(NA)\n"
   ]
  },
  {
   "attachments": {},
   "cell_type": "markdown",
   "metadata": {},
   "source": [
    "## Simple Model"
   ]
  },
  {
   "cell_type": "code",
   "execution_count": 11,
   "metadata": {
    "vscode": {
     "languageId": "r"
    }
   },
   "outputs": [
    {
     "name": "stderr",
     "output_type": "stream",
     "text": [
      "Compiling Stan program...\n",
      "\n",
      "Start sampling\n",
      "\n"
     ]
    },
    {
     "name": "stdout",
     "output_type": "stream",
     "text": [
      "\n",
      "SAMPLING FOR MODEL 'anon_model' NOW (CHAIN 1).\n",
      "Chain 1: \n",
      "Chain 1: Gradient evaluation took 5e-05 seconds\n",
      "Chain 1: 1000 transitions using 10 leapfrog steps per transition would take 0.5 seconds.\n",
      "Chain 1: Adjust your expectations accordingly!\n",
      "Chain 1: \n",
      "Chain 1: \n",
      "Chain 1: Iteration:    1 / 2000 [  0%]  (Warmup)\n",
      "Chain 1: Iteration:  200 / 2000 [ 10%]  (Warmup)\n",
      "Chain 1: Iteration:  400 / 2000 [ 20%]  (Warmup)\n",
      "Chain 1: Iteration:  600 / 2000 [ 30%]  (Warmup)\n",
      "Chain 1: Iteration:  800 / 2000 [ 40%]  (Warmup)\n",
      "Chain 1: Iteration: 1000 / 2000 [ 50%]  (Warmup)\n",
      "Chain 1: Iteration: 1001 / 2000 [ 50%]  (Sampling)\n",
      "Chain 1: Iteration: 1200 / 2000 [ 60%]  (Sampling)\n",
      "Chain 1: Iteration: 1400 / 2000 [ 70%]  (Sampling)\n",
      "Chain 1: Iteration: 1600 / 2000 [ 80%]  (Sampling)\n",
      "Chain 1: Iteration: 1800 / 2000 [ 90%]  (Sampling)\n",
      "Chain 1: Iteration: 2000 / 2000 [100%]  (Sampling)\n",
      "Chain 1: \n",
      "Chain 1:  Elapsed Time: 0.42 seconds (Warm-up)\n",
      "Chain 1:                0.251 seconds (Sampling)\n",
      "Chain 1:                0.671 seconds (Total)\n",
      "Chain 1: \n",
      "\n",
      "SAMPLING FOR MODEL 'anon_model' NOW (CHAIN 2).\n",
      "Chain 2: \n",
      "Chain 2: Gradient evaluation took 1.3e-05 seconds\n",
      "Chain 2: 1000 transitions using 10 leapfrog steps per transition would take 0.13 seconds.\n",
      "Chain 2: Adjust your expectations accordingly!\n",
      "Chain 2: \n",
      "Chain 2: \n",
      "Chain 2: Iteration:    1 / 2000 [  0%]  (Warmup)\n",
      "Chain 2: Iteration:  200 / 2000 [ 10%]  (Warmup)\n",
      "Chain 2: Iteration:  400 / 2000 [ 20%]  (Warmup)\n",
      "Chain 2: Iteration:  600 / 2000 [ 30%]  (Warmup)\n",
      "Chain 2: Iteration:  800 / 2000 [ 40%]  (Warmup)\n",
      "Chain 2: Iteration: 1000 / 2000 [ 50%]  (Warmup)\n",
      "Chain 2: Iteration: 1001 / 2000 [ 50%]  (Sampling)\n",
      "Chain 2: Iteration: 1200 / 2000 [ 60%]  (Sampling)\n",
      "Chain 2: Iteration: 1400 / 2000 [ 70%]  (Sampling)\n",
      "Chain 2: Iteration: 1600 / 2000 [ 80%]  (Sampling)\n",
      "Chain 2: Iteration: 1800 / 2000 [ 90%]  (Sampling)\n",
      "Chain 2: Iteration: 2000 / 2000 [100%]  (Sampling)\n",
      "Chain 2: \n",
      "Chain 2:  Elapsed Time: 0.209 seconds (Warm-up)\n",
      "Chain 2:                0.187 seconds (Sampling)\n",
      "Chain 2:                0.396 seconds (Total)\n",
      "Chain 2: \n",
      "\n",
      "SAMPLING FOR MODEL 'anon_model' NOW (CHAIN 3).\n",
      "Chain 3: \n",
      "Chain 3: Gradient evaluation took 1e-05 seconds\n",
      "Chain 3: 1000 transitions using 10 leapfrog steps per transition would take 0.1 seconds.\n",
      "Chain 3: Adjust your expectations accordingly!\n",
      "Chain 3: \n",
      "Chain 3: \n",
      "Chain 3: Iteration:    1 / 2000 [  0%]  (Warmup)\n",
      "Chain 3: Iteration:  200 / 2000 [ 10%]  (Warmup)\n",
      "Chain 3: Iteration:  400 / 2000 [ 20%]  (Warmup)\n",
      "Chain 3: Iteration:  600 / 2000 [ 30%]  (Warmup)\n",
      "Chain 3: Iteration:  800 / 2000 [ 40%]  (Warmup)\n",
      "Chain 3: Iteration: 1000 / 2000 [ 50%]  (Warmup)\n",
      "Chain 3: Iteration: 1001 / 2000 [ 50%]  (Sampling)\n",
      "Chain 3: Iteration: 1200 / 2000 [ 60%]  (Sampling)\n",
      "Chain 3: Iteration: 1400 / 2000 [ 70%]  (Sampling)\n",
      "Chain 3: Iteration: 1600 / 2000 [ 80%]  (Sampling)\n",
      "Chain 3: Iteration: 1800 / 2000 [ 90%]  (Sampling)\n",
      "Chain 3: Iteration: 2000 / 2000 [100%]  (Sampling)\n",
      "Chain 3: \n",
      "Chain 3:  Elapsed Time: 0.762 seconds (Warm-up)\n",
      "Chain 3:                0.409 seconds (Sampling)\n",
      "Chain 3:                1.171 seconds (Total)\n",
      "Chain 3: \n",
      "\n",
      "SAMPLING FOR MODEL 'anon_model' NOW (CHAIN 4).\n",
      "Chain 4: \n",
      "Chain 4: Gradient evaluation took 1e-05 seconds\n",
      "Chain 4: 1000 transitions using 10 leapfrog steps per transition would take 0.1 seconds.\n",
      "Chain 4: Adjust your expectations accordingly!\n",
      "Chain 4: \n",
      "Chain 4: \n",
      "Chain 4: Iteration:    1 / 2000 [  0%]  (Warmup)\n",
      "Chain 4: Iteration:  200 / 2000 [ 10%]  (Warmup)\n",
      "Chain 4: Iteration:  400 / 2000 [ 20%]  (Warmup)\n",
      "Chain 4: Iteration:  600 / 2000 [ 30%]  (Warmup)\n",
      "Chain 4: Iteration:  800 / 2000 [ 40%]  (Warmup)\n",
      "Chain 4: Iteration: 1000 / 2000 [ 50%]  (Warmup)\n",
      "Chain 4: Iteration: 1001 / 2000 [ 50%]  (Sampling)\n",
      "Chain 4: Iteration: 1200 / 2000 [ 60%]  (Sampling)\n",
      "Chain 4: Iteration: 1400 / 2000 [ 70%]  (Sampling)\n",
      "Chain 4: Iteration: 1600 / 2000 [ 80%]  (Sampling)\n",
      "Chain 4: Iteration: 1800 / 2000 [ 90%]  (Sampling)\n",
      "Chain 4: Iteration: 2000 / 2000 [100%]  (Sampling)\n",
      "Chain 4: \n",
      "Chain 4:  Elapsed Time: 0.246 seconds (Warm-up)\n",
      "Chain 4:                0.227 seconds (Sampling)\n",
      "Chain 4:                0.473 seconds (Total)\n",
      "Chain 4: \n"
     ]
    },
    {
     "name": "stderr",
     "output_type": "stream",
     "text": [
      "Warning message:\n",
      "“There were 127 divergent transitions after warmup. See\n",
      "https://mc-stan.org/misc/warnings.html#divergent-transitions-after-warmup\n",
      "to find out why this is a problem and how to eliminate them.”\n",
      "Warning message:\n",
      "“There were 4 chains where the estimated Bayesian Fraction of Missing Information was low. See\n",
      "https://mc-stan.org/misc/warnings.html#bfmi-low”\n",
      "Warning message:\n",
      "“Examine the pairs() plot to diagnose sampling problems\n",
      "”\n",
      "Warning message:\n",
      "“The largest R-hat is 3.01, indicating chains have not mixed.\n",
      "Running the chains for more iterations may help. See\n",
      "https://mc-stan.org/misc/warnings.html#r-hat”\n",
      "Warning message:\n",
      "“Bulk Effective Samples Size (ESS) is too low, indicating posterior means and medians may be unreliable.\n",
      "Running the chains for more iterations may help. See\n",
      "https://mc-stan.org/misc/warnings.html#bulk-ess”\n",
      "Warning message:\n",
      "“Tail Effective Samples Size (ESS) is too low, indicating posterior variances and tail quantiles may be unreliable.\n",
      "Running the chains for more iterations may help. See\n",
      "https://mc-stan.org/misc/warnings.html#tail-ess”\n"
     ]
    }
   ],
   "source": [
    "bform <- bf(X ~ 0 + mi(S)) + bf(S|mi() ~ 0) + bf(Y1 ~ 0 + mi(S)) + set_rescor(FALSE)\n",
    "fit <- brm(bform, data = data)"
   ]
  },
  {
   "cell_type": "code",
   "execution_count": 12,
   "metadata": {
    "vscode": {
     "languageId": "r"
    }
   },
   "outputs": [
    {
     "name": "stderr",
     "output_type": "stream",
     "text": [
      "Warning message:\n",
      "“Parts of the model have not converged (some Rhats are > 1.05). Be careful when analysing the results! We recommend running more iterations and/or setting stronger priors.”\n",
      "Warning message:\n",
      "“There were 127 divergent transitions after warmup. Increasing adapt_delta above 0.8 may help. See http://mc-stan.org/misc/warnings.html#divergent-transitions-after-warmup”\n"
     ]
    },
    {
     "data": {
      "text/plain": [
       " Family: MV(gaussian, gaussian, gaussian) \n",
       "  Links: mu = identity; sigma = identity\n",
       "         mu = identity; sigma = identity\n",
       "         mu = identity; sigma = identity \n",
       "Formula: X ~ 0 + mi(S) \n",
       "         S | mi() ~ 0 \n",
       "         Y1 ~ 0 + mi(S) \n",
       "   Data: data (Number of observations: 100) \n",
       "  Draws: 4 chains, each with iter = 2000; warmup = 1000; thin = 1;\n",
       "         total post-warmup draws = 4000\n",
       "\n",
       "Population-Level Effects: \n",
       "       Estimate Est.Error l-95% CI u-95% CI Rhat Bulk_ESS Tail_ESS\n",
       "X_miS    -16.99     40.56  -131.95    26.49 3.01        5       16\n",
       "Y1_miS   -40.54     95.40  -305.96    58.10 3.01        5       14\n",
       "\n",
       "Family Specific Parameters: \n",
       "         Estimate Est.Error l-95% CI u-95% CI Rhat Bulk_ESS Tail_ESS\n",
       "sigma_X      0.33      0.11     0.08     0.49 1.10       46       43\n",
       "sigma_S      0.14      0.17     0.01     0.61 2.34        5       23\n",
       "sigma_Y1     0.77      0.24     0.28     1.15 1.07       68       92\n",
       "\n",
       "Draws were sampled using sampling(NUTS). For each parameter, Bulk_ESS\n",
       "and Tail_ESS are effective sample size measures, and Rhat is the potential\n",
       "scale reduction factor on split chains (at convergence, Rhat = 1)."
      ]
     },
     "metadata": {},
     "output_type": "display_data"
    }
   ],
   "source": [
    "summary(fit)"
   ]
  },
  {
   "cell_type": "code",
   "execution_count": 13,
   "metadata": {
    "vscode": {
     "languageId": "r"
    }
   },
   "outputs": [
    {
     "data": {
      "text/html": [
       "<table class=\"dataframe\">\n",
       "<caption>A brmsprior: 7 × 10</caption>\n",
       "<thead>\n",
       "\t<tr><th scope=col>prior</th><th scope=col>class</th><th scope=col>coef</th><th scope=col>group</th><th scope=col>resp</th><th scope=col>dpar</th><th scope=col>nlpar</th><th scope=col>lb</th><th scope=col>ub</th><th scope=col>source</th></tr>\n",
       "\t<tr><th scope=col>&lt;chr&gt;</th><th scope=col>&lt;chr&gt;</th><th scope=col>&lt;chr&gt;</th><th scope=col>&lt;chr&gt;</th><th scope=col>&lt;chr&gt;</th><th scope=col>&lt;chr&gt;</th><th scope=col>&lt;chr&gt;</th><th scope=col>&lt;chr&gt;</th><th scope=col>&lt;chr&gt;</th><th scope=col>&lt;chr&gt;</th></tr>\n",
       "</thead>\n",
       "<tbody>\n",
       "\t<tr><td>                    </td><td>b    </td><td>   </td><td></td><td>X </td><td></td><td></td><td> </td><td></td><td>default</td></tr>\n",
       "\t<tr><td>                    </td><td>b    </td><td>miS</td><td></td><td>X </td><td></td><td></td><td> </td><td></td><td>default</td></tr>\n",
       "\t<tr><td>                    </td><td>b    </td><td>   </td><td></td><td>Y1</td><td></td><td></td><td> </td><td></td><td>default</td></tr>\n",
       "\t<tr><td>                    </td><td>b    </td><td>miS</td><td></td><td>Y1</td><td></td><td></td><td> </td><td></td><td>default</td></tr>\n",
       "\t<tr><td>student_t(3, 0, 2.5)</td><td>sigma</td><td>   </td><td></td><td>S </td><td></td><td></td><td>0</td><td></td><td>default</td></tr>\n",
       "\t<tr><td>student_t(3, 0, 2.5)</td><td>sigma</td><td>   </td><td></td><td>X </td><td></td><td></td><td>0</td><td></td><td>default</td></tr>\n",
       "\t<tr><td>student_t(3, 0, 2.5)</td><td>sigma</td><td>   </td><td></td><td>Y1</td><td></td><td></td><td>0</td><td></td><td>default</td></tr>\n",
       "</tbody>\n",
       "</table>\n"
      ],
      "text/latex": [
       "A brmsprior: 7 × 10\n",
       "\\begin{tabular}{llllllllll}\n",
       " prior & class & coef & group & resp & dpar & nlpar & lb & ub & source\\\\\n",
       " <chr> & <chr> & <chr> & <chr> & <chr> & <chr> & <chr> & <chr> & <chr> & <chr>\\\\\n",
       "\\hline\n",
       "\t                      & b     &     &  & X  &  &  &   &  & default\\\\\n",
       "\t                      & b     & miS &  & X  &  &  &   &  & default\\\\\n",
       "\t                      & b     &     &  & Y1 &  &  &   &  & default\\\\\n",
       "\t                      & b     & miS &  & Y1 &  &  &   &  & default\\\\\n",
       "\t student\\_t(3, 0, 2.5) & sigma &     &  & S  &  &  & 0 &  & default\\\\\n",
       "\t student\\_t(3, 0, 2.5) & sigma &     &  & X  &  &  & 0 &  & default\\\\\n",
       "\t student\\_t(3, 0, 2.5) & sigma &     &  & Y1 &  &  & 0 &  & default\\\\\n",
       "\\end{tabular}\n"
      ],
      "text/markdown": [
       "\n",
       "A brmsprior: 7 × 10\n",
       "\n",
       "| prior &lt;chr&gt; | class &lt;chr&gt; | coef &lt;chr&gt; | group &lt;chr&gt; | resp &lt;chr&gt; | dpar &lt;chr&gt; | nlpar &lt;chr&gt; | lb &lt;chr&gt; | ub &lt;chr&gt; | source &lt;chr&gt; |\n",
       "|---|---|---|---|---|---|---|---|---|---|\n",
       "| <!----> | b     | <!----> | <!----> | X  | <!----> | <!----> | <!----> | <!----> | default |\n",
       "| <!----> | b     | miS | <!----> | X  | <!----> | <!----> | <!----> | <!----> | default |\n",
       "| <!----> | b     | <!----> | <!----> | Y1 | <!----> | <!----> | <!----> | <!----> | default |\n",
       "| <!----> | b     | miS | <!----> | Y1 | <!----> | <!----> | <!----> | <!----> | default |\n",
       "| student_t(3, 0, 2.5) | sigma | <!----> | <!----> | S  | <!----> | <!----> | 0 | <!----> | default |\n",
       "| student_t(3, 0, 2.5) | sigma | <!----> | <!----> | X  | <!----> | <!----> | 0 | <!----> | default |\n",
       "| student_t(3, 0, 2.5) | sigma | <!----> | <!----> | Y1 | <!----> | <!----> | 0 | <!----> | default |\n",
       "\n"
      ],
      "text/plain": [
       "  prior                class coef group resp dpar nlpar lb ub source \n",
       "1                      b                X                     default\n",
       "2                      b     miS        X                     default\n",
       "3                      b                Y1                    default\n",
       "4                      b     miS        Y1                    default\n",
       "5 student_t(3, 0, 2.5) sigma            S               0     default\n",
       "6 student_t(3, 0, 2.5) sigma            X               0     default\n",
       "7 student_t(3, 0, 2.5) sigma            Y1              0     default"
      ]
     },
     "metadata": {},
     "output_type": "display_data"
    }
   ],
   "source": [
    "prior_summary(fit)"
   ]
  },
  {
   "cell_type": "code",
   "execution_count": 15,
   "metadata": {
    "vscode": {
     "languageId": "r"
    }
   },
   "outputs": [
    {
     "name": "stderr",
     "output_type": "stream",
     "text": [
      "Compiling Stan program...\n",
      "\n",
      "Start sampling\n",
      "\n"
     ]
    },
    {
     "name": "stdout",
     "output_type": "stream",
     "text": [
      "\n",
      "SAMPLING FOR MODEL 'anon_model' NOW (CHAIN 1).\n",
      "Chain 1: \n",
      "Chain 1: Gradient evaluation took 5.7e-05 seconds\n",
      "Chain 1: 1000 transitions using 10 leapfrog steps per transition would take 0.57 seconds.\n",
      "Chain 1: Adjust your expectations accordingly!\n",
      "Chain 1: \n",
      "Chain 1: \n",
      "Chain 1: Iteration:    1 / 2000 [  0%]  (Warmup)\n",
      "Chain 1: Iteration:  200 / 2000 [ 10%]  (Warmup)\n",
      "Chain 1: Iteration:  400 / 2000 [ 20%]  (Warmup)\n",
      "Chain 1: Iteration:  600 / 2000 [ 30%]  (Warmup)\n",
      "Chain 1: Iteration:  800 / 2000 [ 40%]  (Warmup)\n",
      "Chain 1: Iteration: 1000 / 2000 [ 50%]  (Warmup)\n",
      "Chain 1: Iteration: 1001 / 2000 [ 50%]  (Sampling)\n",
      "Chain 1: Iteration: 1200 / 2000 [ 60%]  (Sampling)\n",
      "Chain 1: Iteration: 1400 / 2000 [ 70%]  (Sampling)\n",
      "Chain 1: Iteration: 1600 / 2000 [ 80%]  (Sampling)\n",
      "Chain 1: Iteration: 1800 / 2000 [ 90%]  (Sampling)\n",
      "Chain 1: Iteration: 2000 / 2000 [100%]  (Sampling)\n",
      "Chain 1: \n",
      "Chain 1:  Elapsed Time: 0.467 seconds (Warm-up)\n",
      "Chain 1:                0.827 seconds (Sampling)\n",
      "Chain 1:                1.294 seconds (Total)\n",
      "Chain 1: \n",
      "\n",
      "SAMPLING FOR MODEL 'anon_model' NOW (CHAIN 2).\n",
      "Chain 2: \n",
      "Chain 2: Gradient evaluation took 1.2e-05 seconds\n",
      "Chain 2: 1000 transitions using 10 leapfrog steps per transition would take 0.12 seconds.\n",
      "Chain 2: Adjust your expectations accordingly!\n",
      "Chain 2: \n",
      "Chain 2: \n",
      "Chain 2: Iteration:    1 / 2000 [  0%]  (Warmup)\n",
      "Chain 2: Iteration:  200 / 2000 [ 10%]  (Warmup)\n",
      "Chain 2: Iteration:  400 / 2000 [ 20%]  (Warmup)\n",
      "Chain 2: Iteration:  600 / 2000 [ 30%]  (Warmup)\n",
      "Chain 2: Iteration:  800 / 2000 [ 40%]  (Warmup)\n",
      "Chain 2: Iteration: 1000 / 2000 [ 50%]  (Warmup)\n",
      "Chain 2: Iteration: 1001 / 2000 [ 50%]  (Sampling)\n",
      "Chain 2: Iteration: 1200 / 2000 [ 60%]  (Sampling)\n",
      "Chain 2: Iteration: 1400 / 2000 [ 70%]  (Sampling)\n",
      "Chain 2: Iteration: 1600 / 2000 [ 80%]  (Sampling)\n",
      "Chain 2: Iteration: 1800 / 2000 [ 90%]  (Sampling)\n",
      "Chain 2: Iteration: 2000 / 2000 [100%]  (Sampling)\n",
      "Chain 2: \n",
      "Chain 2:  Elapsed Time: 0.447 seconds (Warm-up)\n",
      "Chain 2:                0.319 seconds (Sampling)\n",
      "Chain 2:                0.766 seconds (Total)\n",
      "Chain 2: \n",
      "\n",
      "SAMPLING FOR MODEL 'anon_model' NOW (CHAIN 3).\n",
      "Chain 3: \n",
      "Chain 3: Gradient evaluation took 1.2e-05 seconds\n",
      "Chain 3: 1000 transitions using 10 leapfrog steps per transition would take 0.12 seconds.\n",
      "Chain 3: Adjust your expectations accordingly!\n",
      "Chain 3: \n",
      "Chain 3: \n",
      "Chain 3: Iteration:    1 / 2000 [  0%]  (Warmup)\n",
      "Chain 3: Iteration:  200 / 2000 [ 10%]  (Warmup)\n",
      "Chain 3: Iteration:  400 / 2000 [ 20%]  (Warmup)\n",
      "Chain 3: Iteration:  600 / 2000 [ 30%]  (Warmup)\n",
      "Chain 3: Iteration:  800 / 2000 [ 40%]  (Warmup)\n",
      "Chain 3: Iteration: 1000 / 2000 [ 50%]  (Warmup)\n",
      "Chain 3: Iteration: 1001 / 2000 [ 50%]  (Sampling)\n",
      "Chain 3: Iteration: 1200 / 2000 [ 60%]  (Sampling)\n",
      "Chain 3: Iteration: 1400 / 2000 [ 70%]  (Sampling)\n",
      "Chain 3: Iteration: 1600 / 2000 [ 80%]  (Sampling)\n",
      "Chain 3: Iteration: 1800 / 2000 [ 90%]  (Sampling)\n",
      "Chain 3: Iteration: 2000 / 2000 [100%]  (Sampling)\n",
      "Chain 3: \n",
      "Chain 3:  Elapsed Time: 0.352 seconds (Warm-up)\n",
      "Chain 3:                0.284 seconds (Sampling)\n",
      "Chain 3:                0.636 seconds (Total)\n",
      "Chain 3: \n",
      "\n",
      "SAMPLING FOR MODEL 'anon_model' NOW (CHAIN 4).\n",
      "Chain 4: \n",
      "Chain 4: Gradient evaluation took 1.2e-05 seconds\n",
      "Chain 4: 1000 transitions using 10 leapfrog steps per transition would take 0.12 seconds.\n",
      "Chain 4: Adjust your expectations accordingly!\n",
      "Chain 4: \n",
      "Chain 4: \n",
      "Chain 4: Iteration:    1 / 2000 [  0%]  (Warmup)\n",
      "Chain 4: Iteration:  200 / 2000 [ 10%]  (Warmup)\n",
      "Chain 4: Iteration:  400 / 2000 [ 20%]  (Warmup)\n",
      "Chain 4: Iteration:  600 / 2000 [ 30%]  (Warmup)\n",
      "Chain 4: Iteration:  800 / 2000 [ 40%]  (Warmup)\n",
      "Chain 4: Iteration: 1000 / 2000 [ 50%]  (Warmup)\n",
      "Chain 4: Iteration: 1001 / 2000 [ 50%]  (Sampling)\n",
      "Chain 4: Iteration: 1200 / 2000 [ 60%]  (Sampling)\n",
      "Chain 4: Iteration: 1400 / 2000 [ 70%]  (Sampling)\n",
      "Chain 4: Iteration: 1600 / 2000 [ 80%]  (Sampling)\n",
      "Chain 4: Iteration: 1800 / 2000 [ 90%]  (Sampling)\n",
      "Chain 4: Iteration: 2000 / 2000 [100%]  (Sampling)\n",
      "Chain 4: \n",
      "Chain 4:  Elapsed Time: 0.392 seconds (Warm-up)\n",
      "Chain 4:                0.255 seconds (Sampling)\n",
      "Chain 4:                0.647 seconds (Total)\n",
      "Chain 4: \n"
     ]
    },
    {
     "name": "stderr",
     "output_type": "stream",
     "text": [
      "Warning message:\n",
      "“There were 47 divergent transitions after warmup. See\n",
      "https://mc-stan.org/misc/warnings.html#divergent-transitions-after-warmup\n",
      "to find out why this is a problem and how to eliminate them.”\n",
      "Warning message:\n",
      "“There were 4 chains where the estimated Bayesian Fraction of Missing Information was low. See\n",
      "https://mc-stan.org/misc/warnings.html#bfmi-low”\n",
      "Warning message:\n",
      "“Examine the pairs() plot to diagnose sampling problems\n",
      "”\n",
      "Warning message:\n",
      "“The largest R-hat is 1.31, indicating chains have not mixed.\n",
      "Running the chains for more iterations may help. See\n",
      "https://mc-stan.org/misc/warnings.html#r-hat”\n",
      "Warning message:\n",
      "“Bulk Effective Samples Size (ESS) is too low, indicating posterior means and medians may be unreliable.\n",
      "Running the chains for more iterations may help. See\n",
      "https://mc-stan.org/misc/warnings.html#bulk-ess”\n",
      "Warning message:\n",
      "“Tail Effective Samples Size (ESS) is too low, indicating posterior variances and tail quantiles may be unreliable.\n",
      "Running the chains for more iterations may help. See\n",
      "https://mc-stan.org/misc/warnings.html#tail-ess”\n"
     ]
    }
   ],
   "source": [
    "priors <- c(\n",
    "    prior(normal(3,1), class = b, coef = miS, resp = X),\n",
    "    prior(normal(1,1), class = b, coef = miS, resp = Y1)\n",
    ")\n",
    "\n",
    "fit <- brm(bform, data = data, prior = priors)"
   ]
  },
  {
   "cell_type": "code",
   "execution_count": 16,
   "metadata": {
    "vscode": {
     "languageId": "r"
    }
   },
   "outputs": [
    {
     "name": "stderr",
     "output_type": "stream",
     "text": [
      "Warning message:\n",
      "“Parts of the model have not converged (some Rhats are > 1.05). Be careful when analysing the results! We recommend running more iterations and/or setting stronger priors.”\n",
      "Warning message:\n",
      "“There were 47 divergent transitions after warmup. Increasing adapt_delta above 0.8 may help. See http://mc-stan.org/misc/warnings.html#divergent-transitions-after-warmup”\n"
     ]
    },
    {
     "data": {
      "text/plain": [
       " Family: MV(gaussian, gaussian, gaussian) \n",
       "  Links: mu = identity; sigma = identity\n",
       "         mu = identity; sigma = identity\n",
       "         mu = identity; sigma = identity \n",
       "Formula: X ~ 0 + mi(S) \n",
       "         S | mi() ~ 0 \n",
       "         Y1 ~ 0 + mi(S) \n",
       "   Data: data (Number of observations: 100) \n",
       "  Draws: 4 chains, each with iter = 2000; warmup = 1000; thin = 1;\n",
       "         total post-warmup draws = 4000\n",
       "\n",
       "Population-Level Effects: \n",
       "       Estimate Est.Error l-95% CI u-95% CI Rhat Bulk_ESS Tail_ESS\n",
       "X_miS      1.21      0.48     0.29     2.13 1.22       14       12\n",
       "Y1_miS     2.46      0.84     0.69     4.03 1.18       16       12\n",
       "\n",
       "Family Specific Parameters: \n",
       "         Estimate Est.Error l-95% CI u-95% CI Rhat Bulk_ESS Tail_ESS\n",
       "sigma_X      0.26      0.11     0.07     0.47 1.12       25       63\n",
       "sigma_S      0.71      0.45     0.33     2.23 1.20       15       12\n",
       "sigma_Y1     0.90      0.20     0.39     1.16 1.05       69      160\n",
       "\n",
       "Draws were sampled using sampling(NUTS). For each parameter, Bulk_ESS\n",
       "and Tail_ESS are effective sample size measures, and Rhat is the potential\n",
       "scale reduction factor on split chains (at convergence, Rhat = 1)."
      ]
     },
     "metadata": {},
     "output_type": "display_data"
    }
   ],
   "source": [
    "summary(fit)"
   ]
  },
  {
   "cell_type": "code",
   "execution_count": 17,
   "metadata": {
    "vscode": {
     "languageId": "r"
    }
   },
   "outputs": [
    {
     "name": "stderr",
     "output_type": "stream",
     "text": [
      "Compiling Stan program...\n",
      "\n",
      "Start sampling\n",
      "\n"
     ]
    },
    {
     "name": "stdout",
     "output_type": "stream",
     "text": [
      "\n",
      "SAMPLING FOR MODEL 'anon_model' NOW (CHAIN 1).\n",
      "Chain 1: \n",
      "Chain 1: Gradient evaluation took 6.7e-05 seconds\n",
      "Chain 1: 1000 transitions using 10 leapfrog steps per transition would take 0.67 seconds.\n",
      "Chain 1: Adjust your expectations accordingly!\n",
      "Chain 1: \n",
      "Chain 1: \n",
      "Chain 1: Iteration:    1 / 2000 [  0%]  (Warmup)\n",
      "Chain 1: Iteration:  200 / 2000 [ 10%]  (Warmup)\n",
      "Chain 1: Iteration:  400 / 2000 [ 20%]  (Warmup)\n",
      "Chain 1: Iteration:  600 / 2000 [ 30%]  (Warmup)\n",
      "Chain 1: Iteration:  800 / 2000 [ 40%]  (Warmup)\n",
      "Chain 1: Iteration: 1000 / 2000 [ 50%]  (Warmup)\n",
      "Chain 1: Iteration: 1001 / 2000 [ 50%]  (Sampling)\n",
      "Chain 1: Iteration: 1200 / 2000 [ 60%]  (Sampling)\n",
      "Chain 1: Iteration: 1400 / 2000 [ 70%]  (Sampling)\n",
      "Chain 1: Iteration: 1600 / 2000 [ 80%]  (Sampling)\n",
      "Chain 1: Iteration: 1800 / 2000 [ 90%]  (Sampling)\n",
      "Chain 1: Iteration: 2000 / 2000 [100%]  (Sampling)\n",
      "Chain 1: \n",
      "Chain 1:  Elapsed Time: 0.194 seconds (Warm-up)\n",
      "Chain 1:                0.509 seconds (Sampling)\n",
      "Chain 1:                0.703 seconds (Total)\n",
      "Chain 1: \n",
      "\n",
      "SAMPLING FOR MODEL 'anon_model' NOW (CHAIN 2).\n",
      "Chain 2: \n",
      "Chain 2: Gradient evaluation took 1.2e-05 seconds\n",
      "Chain 2: 1000 transitions using 10 leapfrog steps per transition would take 0.12 seconds.\n",
      "Chain 2: Adjust your expectations accordingly!\n",
      "Chain 2: \n",
      "Chain 2: \n",
      "Chain 2: Iteration:    1 / 2000 [  0%]  (Warmup)\n",
      "Chain 2: Iteration:  200 / 2000 [ 10%]  (Warmup)\n",
      "Chain 2: Iteration:  400 / 2000 [ 20%]  (Warmup)\n",
      "Chain 2: Iteration:  600 / 2000 [ 30%]  (Warmup)\n",
      "Chain 2: Iteration:  800 / 2000 [ 40%]  (Warmup)\n",
      "Chain 2: Iteration: 1000 / 2000 [ 50%]  (Warmup)\n",
      "Chain 2: Iteration: 1001 / 2000 [ 50%]  (Sampling)\n",
      "Chain 2: Iteration: 1200 / 2000 [ 60%]  (Sampling)\n",
      "Chain 2: Iteration: 1400 / 2000 [ 70%]  (Sampling)\n",
      "Chain 2: Iteration: 1600 / 2000 [ 80%]  (Sampling)\n",
      "Chain 2: Iteration: 1800 / 2000 [ 90%]  (Sampling)\n",
      "Chain 2: Iteration: 2000 / 2000 [100%]  (Sampling)\n",
      "Chain 2: \n",
      "Chain 2:  Elapsed Time: 0.19 seconds (Warm-up)\n",
      "Chain 2:                0.362 seconds (Sampling)\n",
      "Chain 2:                0.552 seconds (Total)\n",
      "Chain 2: \n",
      "\n",
      "SAMPLING FOR MODEL 'anon_model' NOW (CHAIN 3).\n",
      "Chain 3: \n",
      "Chain 3: Gradient evaluation took 1.2e-05 seconds\n",
      "Chain 3: 1000 transitions using 10 leapfrog steps per transition would take 0.12 seconds.\n",
      "Chain 3: Adjust your expectations accordingly!\n",
      "Chain 3: \n",
      "Chain 3: \n",
      "Chain 3: Iteration:    1 / 2000 [  0%]  (Warmup)\n",
      "Chain 3: Iteration:  200 / 2000 [ 10%]  (Warmup)\n",
      "Chain 3: Iteration:  400 / 2000 [ 20%]  (Warmup)\n",
      "Chain 3: Iteration:  600 / 2000 [ 30%]  (Warmup)\n",
      "Chain 3: Iteration:  800 / 2000 [ 40%]  (Warmup)\n",
      "Chain 3: Iteration: 1000 / 2000 [ 50%]  (Warmup)\n",
      "Chain 3: Iteration: 1001 / 2000 [ 50%]  (Sampling)\n",
      "Chain 3: Iteration: 1200 / 2000 [ 60%]  (Sampling)\n",
      "Chain 3: Iteration: 1400 / 2000 [ 70%]  (Sampling)\n",
      "Chain 3: Iteration: 1600 / 2000 [ 80%]  (Sampling)\n",
      "Chain 3: Iteration: 1800 / 2000 [ 90%]  (Sampling)\n",
      "Chain 3: Iteration: 2000 / 2000 [100%]  (Sampling)\n",
      "Chain 3: \n",
      "Chain 3:  Elapsed Time: 0.258 seconds (Warm-up)\n",
      "Chain 3:                0.306 seconds (Sampling)\n",
      "Chain 3:                0.564 seconds (Total)\n",
      "Chain 3: \n",
      "\n",
      "SAMPLING FOR MODEL 'anon_model' NOW (CHAIN 4).\n",
      "Chain 4: \n",
      "Chain 4: Gradient evaluation took 1.3e-05 seconds\n",
      "Chain 4: 1000 transitions using 10 leapfrog steps per transition would take 0.13 seconds.\n",
      "Chain 4: Adjust your expectations accordingly!\n",
      "Chain 4: \n",
      "Chain 4: \n",
      "Chain 4: Iteration:    1 / 2000 [  0%]  (Warmup)\n",
      "Chain 4: Iteration:  200 / 2000 [ 10%]  (Warmup)\n",
      "Chain 4: Iteration:  400 / 2000 [ 20%]  (Warmup)\n",
      "Chain 4: Iteration:  600 / 2000 [ 30%]  (Warmup)\n",
      "Chain 4: Iteration:  800 / 2000 [ 40%]  (Warmup)\n",
      "Chain 4: Iteration: 1000 / 2000 [ 50%]  (Warmup)\n",
      "Chain 4: Iteration: 1001 / 2000 [ 50%]  (Sampling)\n",
      "Chain 4: Iteration: 1200 / 2000 [ 60%]  (Sampling)\n",
      "Chain 4: Iteration: 1400 / 2000 [ 70%]  (Sampling)\n",
      "Chain 4: Iteration: 1600 / 2000 [ 80%]  (Sampling)\n",
      "Chain 4: Iteration: 1800 / 2000 [ 90%]  (Sampling)\n",
      "Chain 4: Iteration: 2000 / 2000 [100%]  (Sampling)\n",
      "Chain 4: \n",
      "Chain 4:  Elapsed Time: 0.276 seconds (Warm-up)\n",
      "Chain 4:                0.251 seconds (Sampling)\n",
      "Chain 4:                0.527 seconds (Total)\n",
      "Chain 4: \n"
     ]
    },
    {
     "name": "stderr",
     "output_type": "stream",
     "text": [
      "Warning message:\n",
      "“There were 4 chains where the estimated Bayesian Fraction of Missing Information was low. See\n",
      "https://mc-stan.org/misc/warnings.html#bfmi-low”\n",
      "Warning message:\n",
      "“Examine the pairs() plot to diagnose sampling problems\n",
      "”\n",
      "Warning message:\n",
      "“The largest R-hat is 1.19, indicating chains have not mixed.\n",
      "Running the chains for more iterations may help. See\n",
      "https://mc-stan.org/misc/warnings.html#r-hat”\n",
      "Warning message:\n",
      "“Bulk Effective Samples Size (ESS) is too low, indicating posterior means and medians may be unreliable.\n",
      "Running the chains for more iterations may help. See\n",
      "https://mc-stan.org/misc/warnings.html#bulk-ess”\n",
      "Warning message:\n",
      "“Tail Effective Samples Size (ESS) is too low, indicating posterior variances and tail quantiles may be unreliable.\n",
      "Running the chains for more iterations may help. See\n",
      "https://mc-stan.org/misc/warnings.html#tail-ess”\n"
     ]
    }
   ],
   "source": [
    "priors <- c(\n",
    "    prior(normal(3,.1), class = b, coef = miS, resp = X),\n",
    "    prior(normal(1,.1), class = b, coef = miS, resp = Y1)\n",
    ")\n",
    "\n",
    "fit <- brm(bform, data = data, prior = priors)"
   ]
  },
  {
   "cell_type": "code",
   "execution_count": 18,
   "metadata": {
    "vscode": {
     "languageId": "r"
    }
   },
   "outputs": [
    {
     "name": "stderr",
     "output_type": "stream",
     "text": [
      "Warning message:\n",
      "“Parts of the model have not converged (some Rhats are > 1.05). Be careful when analysing the results! We recommend running more iterations and/or setting stronger priors.”\n"
     ]
    },
    {
     "data": {
      "text/plain": [
       " Family: MV(gaussian, gaussian, gaussian) \n",
       "  Links: mu = identity; sigma = identity\n",
       "         mu = identity; sigma = identity\n",
       "         mu = identity; sigma = identity \n",
       "Formula: X ~ 0 + mi(S) \n",
       "         S | mi() ~ 0 \n",
       "         Y1 ~ 0 + mi(S) \n",
       "   Data: data (Number of observations: 100) \n",
       "  Draws: 4 chains, each with iter = 2000; warmup = 1000; thin = 1;\n",
       "         total post-warmup draws = 4000\n",
       "\n",
       "Population-Level Effects: \n",
       "       Estimate Est.Error l-95% CI u-95% CI Rhat Bulk_ESS Tail_ESS\n",
       "X_miS      2.95      0.10     2.75     3.15 1.01      548      946\n",
       "Y1_miS     1.11      0.10     0.92     1.32 1.00      686      952\n",
       "\n",
       "Family Specific Parameters: \n",
       "         Estimate Est.Error l-95% CI u-95% CI Rhat Bulk_ESS Tail_ESS\n",
       "sigma_X      0.15      0.10     0.02     0.38 1.12       24       48\n",
       "sigma_S      0.25      0.02     0.21     0.29 1.01      516     1167\n",
       "sigma_Y1     1.52      0.11     1.33     1.76 1.00      800     1949\n",
       "\n",
       "Draws were sampled using sampling(NUTS). For each parameter, Bulk_ESS\n",
       "and Tail_ESS are effective sample size measures, and Rhat is the potential\n",
       "scale reduction factor on split chains (at convergence, Rhat = 1)."
      ]
     },
     "metadata": {},
     "output_type": "display_data"
    }
   ],
   "source": [
    "summary(fit)"
   ]
  },
  {
   "attachments": {},
   "cell_type": "markdown",
   "metadata": {},
   "source": [
    "## Full model, but linear"
   ]
  },
  {
   "cell_type": "code",
   "execution_count": 21,
   "metadata": {
    "vscode": {
     "languageId": "r"
    }
   },
   "outputs": [],
   "source": [
    "N <- 100\n",
    "M <- 2\n",
    "K <- 4\n",
    "J <- 3\n",
    "\n",
    "mu <- 0\n",
    "al <- matrix(c(-1, 1), ncol = 1)\n",
    "Z <- matrix(rnorm(M*N, sd = .5), ncol = N)\n",
    "ep_x <- matrix(rnorm(N, sd = 0.1), ncol = N)\n",
    "X <- t(al) %*% Z + ep_x\n",
    "\n",
    "U <- matrix(rnorm(K*N, sd = .2), ncol = N)\n",
    "W <- sweep(U, 2, X, \"+\")\n",
    "\n",
    "h_1 <- function(x) -x\n",
    "h_2 <- function(x) 3*x\n",
    "f <- function(x) 2*x\n",
    "eta <- rnorm(N)\n",
    "S <- f(X) + h_1(Z[1, ]) + h_2(Z[2, ]) + eta\n",
    "S <- matrix(S, ncol = N)\n",
    "\n",
    "beta0 <- matrix(rep(0, J*N), ncol = N)\n",
    "beta1 <- matrix(rep(1, J), ncol = 1)\n",
    "ep_y <- matrix(rnorm(J * N, sd = 0.1), ncol = N)\n",
    "Y <- beta0 + beta1 %*% S + ep_y"
   ]
  },
  {
   "cell_type": "code",
   "execution_count": 27,
   "metadata": {
    "vscode": {
     "languageId": "r"
    }
   },
   "outputs": [
    {
     "name": "stderr",
     "output_type": "stream",
     "text": [
      "Compiling Stan program...\n",
      "\n",
      "Start sampling\n",
      "\n"
     ]
    },
    {
     "name": "stdout",
     "output_type": "stream",
     "text": [
      "\n",
      "SAMPLING FOR MODEL 'anon_model' NOW (CHAIN 1).\n",
      "Chain 1: \n",
      "Chain 1: Gradient evaluation took 0.000105 seconds\n",
      "Chain 1: 1000 transitions using 10 leapfrog steps per transition would take 1.05 seconds.\n",
      "Chain 1: Adjust your expectations accordingly!\n",
      "Chain 1: \n",
      "Chain 1: \n",
      "Chain 1: Iteration:    1 / 2000 [  0%]  (Warmup)\n",
      "Chain 1: Iteration:  200 / 2000 [ 10%]  (Warmup)\n",
      "Chain 1: Iteration:  400 / 2000 [ 20%]  (Warmup)\n",
      "Chain 1: Iteration:  600 / 2000 [ 30%]  (Warmup)\n",
      "Chain 1: Iteration:  800 / 2000 [ 40%]  (Warmup)\n",
      "Chain 1: Iteration: 1000 / 2000 [ 50%]  (Warmup)\n",
      "Chain 1: Iteration: 1001 / 2000 [ 50%]  (Sampling)\n",
      "Chain 1: Iteration: 1200 / 2000 [ 60%]  (Sampling)\n",
      "Chain 1: Iteration: 1400 / 2000 [ 70%]  (Sampling)\n",
      "Chain 1: Iteration: 1600 / 2000 [ 80%]  (Sampling)\n",
      "Chain 1: Iteration: 1800 / 2000 [ 90%]  (Sampling)\n",
      "Chain 1: Iteration: 2000 / 2000 [100%]  (Sampling)\n",
      "Chain 1: \n",
      "Chain 1:  Elapsed Time: 6.62 seconds (Warm-up)\n",
      "Chain 1:                11.15 seconds (Sampling)\n",
      "Chain 1:                17.77 seconds (Total)\n",
      "Chain 1: \n",
      "\n",
      "SAMPLING FOR MODEL 'anon_model' NOW (CHAIN 2).\n",
      "Chain 2: \n",
      "Chain 2: Gradient evaluation took 2.7e-05 seconds\n",
      "Chain 2: 1000 transitions using 10 leapfrog steps per transition would take 0.27 seconds.\n",
      "Chain 2: Adjust your expectations accordingly!\n",
      "Chain 2: \n",
      "Chain 2: \n",
      "Chain 2: Iteration:    1 / 2000 [  0%]  (Warmup)\n",
      "Chain 2: Iteration:  200 / 2000 [ 10%]  (Warmup)\n",
      "Chain 2: Iteration:  400 / 2000 [ 20%]  (Warmup)\n",
      "Chain 2: Iteration:  600 / 2000 [ 30%]  (Warmup)\n",
      "Chain 2: Iteration:  800 / 2000 [ 40%]  (Warmup)\n",
      "Chain 2: Iteration: 1000 / 2000 [ 50%]  (Warmup)\n",
      "Chain 2: Iteration: 1001 / 2000 [ 50%]  (Sampling)\n",
      "Chain 2: Iteration: 1200 / 2000 [ 60%]  (Sampling)\n",
      "Chain 2: Iteration: 1400 / 2000 [ 70%]  (Sampling)\n",
      "Chain 2: Iteration: 1600 / 2000 [ 80%]  (Sampling)\n",
      "Chain 2: Iteration: 1800 / 2000 [ 90%]  (Sampling)\n",
      "Chain 2: Iteration: 2000 / 2000 [100%]  (Sampling)\n",
      "Chain 2: \n",
      "Chain 2:  Elapsed Time: 8.631 seconds (Warm-up)\n",
      "Chain 2:                4.17 seconds (Sampling)\n",
      "Chain 2:                12.801 seconds (Total)\n",
      "Chain 2: \n",
      "\n",
      "SAMPLING FOR MODEL 'anon_model' NOW (CHAIN 3).\n",
      "Chain 3: \n",
      "Chain 3: Gradient evaluation took 2.7e-05 seconds\n",
      "Chain 3: 1000 transitions using 10 leapfrog steps per transition would take 0.27 seconds.\n",
      "Chain 3: Adjust your expectations accordingly!\n",
      "Chain 3: \n",
      "Chain 3: \n",
      "Chain 3: Iteration:    1 / 2000 [  0%]  (Warmup)\n",
      "Chain 3: Iteration:  200 / 2000 [ 10%]  (Warmup)\n",
      "Chain 3: Iteration:  400 / 2000 [ 20%]  (Warmup)\n",
      "Chain 3: Iteration:  600 / 2000 [ 30%]  (Warmup)\n",
      "Chain 3: Iteration:  800 / 2000 [ 40%]  (Warmup)\n",
      "Chain 3: Iteration: 1000 / 2000 [ 50%]  (Warmup)\n",
      "Chain 3: Iteration: 1001 / 2000 [ 50%]  (Sampling)\n",
      "Chain 3: Iteration: 1200 / 2000 [ 60%]  (Sampling)\n",
      "Chain 3: Iteration: 1400 / 2000 [ 70%]  (Sampling)\n",
      "Chain 3: Iteration: 1600 / 2000 [ 80%]  (Sampling)\n",
      "Chain 3: Iteration: 1800 / 2000 [ 90%]  (Sampling)\n",
      "Chain 3: Iteration: 2000 / 2000 [100%]  (Sampling)\n",
      "Chain 3: \n",
      "Chain 3:  Elapsed Time: 10.408 seconds (Warm-up)\n",
      "Chain 3:                15.436 seconds (Sampling)\n",
      "Chain 3:                25.844 seconds (Total)\n",
      "Chain 3: \n",
      "\n",
      "SAMPLING FOR MODEL 'anon_model' NOW (CHAIN 4).\n",
      "Chain 4: \n",
      "Chain 4: Gradient evaluation took 2.7e-05 seconds\n",
      "Chain 4: 1000 transitions using 10 leapfrog steps per transition would take 0.27 seconds.\n",
      "Chain 4: Adjust your expectations accordingly!\n",
      "Chain 4: \n",
      "Chain 4: \n",
      "Chain 4: Iteration:    1 / 2000 [  0%]  (Warmup)\n",
      "Chain 4: Iteration:  200 / 2000 [ 10%]  (Warmup)\n",
      "Chain 4: Iteration:  400 / 2000 [ 20%]  (Warmup)\n",
      "Chain 4: Iteration:  600 / 2000 [ 30%]  (Warmup)\n",
      "Chain 4: Iteration:  800 / 2000 [ 40%]  (Warmup)\n",
      "Chain 4: Iteration: 1000 / 2000 [ 50%]  (Warmup)\n",
      "Chain 4: Iteration: 1001 / 2000 [ 50%]  (Sampling)\n",
      "Chain 4: Iteration: 1200 / 2000 [ 60%]  (Sampling)\n",
      "Chain 4: Iteration: 1400 / 2000 [ 70%]  (Sampling)\n",
      "Chain 4: Iteration: 1600 / 2000 [ 80%]  (Sampling)\n",
      "Chain 4: Iteration: 1800 / 2000 [ 90%]  (Sampling)\n",
      "Chain 4: Iteration: 2000 / 2000 [100%]  (Sampling)\n",
      "Chain 4: \n",
      "Chain 4:  Elapsed Time: 15.294 seconds (Warm-up)\n",
      "Chain 4:                24.556 seconds (Sampling)\n",
      "Chain 4:                39.85 seconds (Total)\n",
      "Chain 4: \n"
     ]
    },
    {
     "name": "stderr",
     "output_type": "stream",
     "text": [
      "Warning message:\n",
      "“There were 562 divergent transitions after warmup. See\n",
      "https://mc-stan.org/misc/warnings.html#divergent-transitions-after-warmup\n",
      "to find out why this is a problem and how to eliminate them.”\n",
      "Warning message:\n",
      "“There were 1413 transitions after warmup that exceeded the maximum treedepth. Increase max_treedepth above 10. See\n",
      "https://mc-stan.org/misc/warnings.html#maximum-treedepth-exceeded”\n",
      "Warning message:\n",
      "“There were 4 chains where the estimated Bayesian Fraction of Missing Information was low. See\n",
      "https://mc-stan.org/misc/warnings.html#bfmi-low”\n",
      "Warning message:\n",
      "“Examine the pairs() plot to diagnose sampling problems\n",
      "”\n",
      "Warning message:\n",
      "“The largest R-hat is 2.49, indicating chains have not mixed.\n",
      "Running the chains for more iterations may help. See\n",
      "https://mc-stan.org/misc/warnings.html#r-hat”\n",
      "Warning message:\n",
      "“Bulk Effective Samples Size (ESS) is too low, indicating posterior means and medians may be unreliable.\n",
      "Running the chains for more iterations may help. See\n",
      "https://mc-stan.org/misc/warnings.html#bulk-ess”\n",
      "Warning message:\n",
      "“Tail Effective Samples Size (ESS) is too low, indicating posterior variances and tail quantiles may be unreliable.\n",
      "Running the chains for more iterations may help. See\n",
      "https://mc-stan.org/misc/warnings.html#tail-ess”\n"
     ]
    }
   ],
   "source": [
    "data$Xm <- as.numeric(NA)\n",
    "\n",
    "bf2 <- bf(S|mi() ~ mi(Xm) + Z1 + Z2)\n",
    "bf3 <- bf(Y1 ~ 0 + mi(S))\n",
    "bf4 <- bf(Y2 ~ 0 + mi(S))\n",
    "bf5 <- bf(Y3 ~ 0 + mi(S))\n",
    "bf6 <- bf(Z1 ~ 0 + mi(Xm))\n",
    "bf7 <- bf(Z2 ~ 0 + mi(Xm))\n",
    "bf8 <- bf(Xm|mi() ~ 0)\n",
    "\n",
    "bf9 <- bf(Y1 ~ Z1+Z2 + mi(Xm)+mi(S))\n",
    "\n",
    "model <- brm(bf2 + bf3 + bf4 + bf5 + bf6 + bf7 + bf8 +set_rescor(FALSE), data = data)"
   ]
  },
  {
   "cell_type": "code",
   "execution_count": 28,
   "metadata": {
    "vscode": {
     "languageId": "r"
    }
   },
   "outputs": [
    {
     "name": "stderr",
     "output_type": "stream",
     "text": [
      "Warning message:\n",
      "“Parts of the model have not converged (some Rhats are > 1.05). Be careful when analysing the results! We recommend running more iterations and/or setting stronger priors.”\n",
      "Warning message:\n",
      "“There were 562 divergent transitions after warmup. Increasing adapt_delta above 0.8 may help. See http://mc-stan.org/misc/warnings.html#divergent-transitions-after-warmup”\n"
     ]
    },
    {
     "data": {
      "text/plain": [
       " Family: MV(gaussian, gaussian, gaussian, gaussian, gaussian, gaussian, gaussian) \n",
       "  Links: mu = identity; sigma = identity\n",
       "         mu = identity; sigma = identity\n",
       "         mu = identity; sigma = identity\n",
       "         mu = identity; sigma = identity\n",
       "         mu = identity; sigma = identity\n",
       "         mu = identity; sigma = identity\n",
       "         mu = identity; sigma = identity \n",
       "Formula: S | mi() ~ mi(Xm) + Z1 + Z2 \n",
       "         Y1 ~ 0 + mi(S) \n",
       "         Y2 ~ 0 + mi(S) \n",
       "         Y3 ~ 0 + mi(S) \n",
       "         Z1 ~ 0 + mi(Xm) \n",
       "         Z2 ~ 0 + mi(Xm) \n",
       "         Xm | mi() ~ 0 \n",
       "   Data: data (Number of observations: 100) \n",
       "  Draws: 4 chains, each with iter = 2000; warmup = 1000; thin = 1;\n",
       "         total post-warmup draws = 4000\n",
       "\n",
       "Population-Level Effects: \n",
       "             Estimate Est.Error   l-95% CI u-95% CI Rhat Bulk_ESS Tail_ESS\n",
       "S_Intercept      0.19      0.57      -0.68     1.51 1.34       10      110\n",
       "S_Z1             2.81      6.76      -6.81    15.02 1.98        6       63\n",
       "S_Z2            -2.07      6.73     -15.67     6.94 1.74        6       53\n",
       "S_miXm      -52244.68  97232.62 -309896.47  8601.96 2.12        7       26\n",
       "Y1_miS           0.24      0.54      -0.46     1.56 2.42        5       14\n",
       "Y2_miS           0.24      0.53      -0.45     1.54 2.42        5       14\n",
       "Y3_miS           0.25      0.54      -0.46     1.56 2.42        5       14\n",
       "Z1_miXm       -923.87   2201.58   -6483.35  2127.93 1.62       11       17\n",
       "Z2_miXm       1268.16   3402.92   -2493.64 11328.76 1.75       15       22\n",
       "\n",
       "Family Specific Parameters: \n",
       "         Estimate Est.Error l-95% CI u-95% CI Rhat Bulk_ESS Tail_ESS\n",
       "sigma_S      2.37      1.58     0.45     6.81 1.46        8       74\n",
       "sigma_Y1     0.10      0.01     0.07     0.12 1.03      251      283\n",
       "sigma_Y2     0.12      0.01     0.10     0.15 1.02      518      792\n",
       "sigma_Y3     0.09      0.01     0.06     0.11 1.01      273      293\n",
       "sigma_Z1     0.48      0.07     0.30     0.58 1.02      266      377\n",
       "sigma_Z2     0.46      0.08     0.24     0.56 1.02      203      284\n",
       "sigma_Xm     0.00      0.00     0.00     0.01 2.50        5       21\n",
       "\n",
       "Draws were sampled using sampling(NUTS). For each parameter, Bulk_ESS\n",
       "and Tail_ESS are effective sample size measures, and Rhat is the potential\n",
       "scale reduction factor on split chains (at convergence, Rhat = 1)."
      ]
     },
     "metadata": {},
     "output_type": "display_data"
    }
   ],
   "source": [
    "summary(model)"
   ]
  },
  {
   "cell_type": "code",
   "execution_count": 29,
   "metadata": {
    "vscode": {
     "languageId": "r"
    }
   },
   "outputs": [
    {
     "data": {
      "text/html": [
       "<table class=\"dataframe\">\n",
       "<caption>A brmsprior: 22 × 10</caption>\n",
       "<thead>\n",
       "\t<tr><th scope=col>prior</th><th scope=col>class</th><th scope=col>coef</th><th scope=col>group</th><th scope=col>resp</th><th scope=col>dpar</th><th scope=col>nlpar</th><th scope=col>lb</th><th scope=col>ub</th><th scope=col>source</th></tr>\n",
       "\t<tr><th scope=col>&lt;chr&gt;</th><th scope=col>&lt;chr&gt;</th><th scope=col>&lt;chr&gt;</th><th scope=col>&lt;chr&gt;</th><th scope=col>&lt;chr&gt;</th><th scope=col>&lt;chr&gt;</th><th scope=col>&lt;chr&gt;</th><th scope=col>&lt;chr&gt;</th><th scope=col>&lt;chr&gt;</th><th scope=col>&lt;chr&gt;</th></tr>\n",
       "</thead>\n",
       "<tbody>\n",
       "\t<tr><td>student_t(3, 0, 2.5)</td><td>Intercept</td><td>    </td><td></td><td>S </td><td></td><td></td><td> </td><td></td><td>default</td></tr>\n",
       "\t<tr><td>                    </td><td>b        </td><td>    </td><td></td><td>S </td><td></td><td></td><td> </td><td></td><td>default</td></tr>\n",
       "\t<tr><td>                    </td><td>b        </td><td>Z1  </td><td></td><td>S </td><td></td><td></td><td> </td><td></td><td>default</td></tr>\n",
       "\t<tr><td>                    </td><td>b        </td><td>Z2  </td><td></td><td>S </td><td></td><td></td><td> </td><td></td><td>default</td></tr>\n",
       "\t<tr><td>                    </td><td>b        </td><td>miXm</td><td></td><td>S </td><td></td><td></td><td> </td><td></td><td>default</td></tr>\n",
       "\t<tr><td>                    </td><td>b        </td><td>    </td><td></td><td>Y1</td><td></td><td></td><td> </td><td></td><td>default</td></tr>\n",
       "\t<tr><td>                    </td><td>b        </td><td>miS </td><td></td><td>Y1</td><td></td><td></td><td> </td><td></td><td>default</td></tr>\n",
       "\t<tr><td>                    </td><td>b        </td><td>    </td><td></td><td>Y2</td><td></td><td></td><td> </td><td></td><td>default</td></tr>\n",
       "\t<tr><td>                    </td><td>b        </td><td>miS </td><td></td><td>Y2</td><td></td><td></td><td> </td><td></td><td>default</td></tr>\n",
       "\t<tr><td>                    </td><td>b        </td><td>    </td><td></td><td>Y3</td><td></td><td></td><td> </td><td></td><td>default</td></tr>\n",
       "\t<tr><td>                    </td><td>b        </td><td>miS </td><td></td><td>Y3</td><td></td><td></td><td> </td><td></td><td>default</td></tr>\n",
       "\t<tr><td>                    </td><td>b        </td><td>    </td><td></td><td>Z1</td><td></td><td></td><td> </td><td></td><td>default</td></tr>\n",
       "\t<tr><td>                    </td><td>b        </td><td>miXm</td><td></td><td>Z1</td><td></td><td></td><td> </td><td></td><td>default</td></tr>\n",
       "\t<tr><td>                    </td><td>b        </td><td>    </td><td></td><td>Z2</td><td></td><td></td><td> </td><td></td><td>default</td></tr>\n",
       "\t<tr><td>                    </td><td>b        </td><td>miXm</td><td></td><td>Z2</td><td></td><td></td><td> </td><td></td><td>default</td></tr>\n",
       "\t<tr><td>student_t(3, 0, 2.5)</td><td>sigma    </td><td>    </td><td></td><td>S </td><td></td><td></td><td>0</td><td></td><td>default</td></tr>\n",
       "\t<tr><td>student_t(3, 0, 2.5)</td><td>sigma    </td><td>    </td><td></td><td>Xm</td><td></td><td></td><td>0</td><td></td><td>default</td></tr>\n",
       "\t<tr><td>student_t(3, 0, 2.5)</td><td>sigma    </td><td>    </td><td></td><td>Y1</td><td></td><td></td><td>0</td><td></td><td>default</td></tr>\n",
       "\t<tr><td>student_t(3, 0, 2.5)</td><td>sigma    </td><td>    </td><td></td><td>Y2</td><td></td><td></td><td>0</td><td></td><td>default</td></tr>\n",
       "\t<tr><td>student_t(3, 0, 2.5)</td><td>sigma    </td><td>    </td><td></td><td>Y3</td><td></td><td></td><td>0</td><td></td><td>default</td></tr>\n",
       "\t<tr><td>student_t(3, 0, 2.5)</td><td>sigma    </td><td>    </td><td></td><td>Z1</td><td></td><td></td><td>0</td><td></td><td>default</td></tr>\n",
       "\t<tr><td>student_t(3, 0, 2.5)</td><td>sigma    </td><td>    </td><td></td><td>Z2</td><td></td><td></td><td>0</td><td></td><td>default</td></tr>\n",
       "</tbody>\n",
       "</table>\n"
      ],
      "text/latex": [
       "A brmsprior: 22 × 10\n",
       "\\begin{tabular}{llllllllll}\n",
       " prior & class & coef & group & resp & dpar & nlpar & lb & ub & source\\\\\n",
       " <chr> & <chr> & <chr> & <chr> & <chr> & <chr> & <chr> & <chr> & <chr> & <chr>\\\\\n",
       "\\hline\n",
       "\t student\\_t(3, 0, 2.5) & Intercept &      &  & S  &  &  &   &  & default\\\\\n",
       "\t                      & b         &      &  & S  &  &  &   &  & default\\\\\n",
       "\t                      & b         & Z1   &  & S  &  &  &   &  & default\\\\\n",
       "\t                      & b         & Z2   &  & S  &  &  &   &  & default\\\\\n",
       "\t                      & b         & miXm &  & S  &  &  &   &  & default\\\\\n",
       "\t                      & b         &      &  & Y1 &  &  &   &  & default\\\\\n",
       "\t                      & b         & miS  &  & Y1 &  &  &   &  & default\\\\\n",
       "\t                      & b         &      &  & Y2 &  &  &   &  & default\\\\\n",
       "\t                      & b         & miS  &  & Y2 &  &  &   &  & default\\\\\n",
       "\t                      & b         &      &  & Y3 &  &  &   &  & default\\\\\n",
       "\t                      & b         & miS  &  & Y3 &  &  &   &  & default\\\\\n",
       "\t                      & b         &      &  & Z1 &  &  &   &  & default\\\\\n",
       "\t                      & b         & miXm &  & Z1 &  &  &   &  & default\\\\\n",
       "\t                      & b         &      &  & Z2 &  &  &   &  & default\\\\\n",
       "\t                      & b         & miXm &  & Z2 &  &  &   &  & default\\\\\n",
       "\t student\\_t(3, 0, 2.5) & sigma     &      &  & S  &  &  & 0 &  & default\\\\\n",
       "\t student\\_t(3, 0, 2.5) & sigma     &      &  & Xm &  &  & 0 &  & default\\\\\n",
       "\t student\\_t(3, 0, 2.5) & sigma     &      &  & Y1 &  &  & 0 &  & default\\\\\n",
       "\t student\\_t(3, 0, 2.5) & sigma     &      &  & Y2 &  &  & 0 &  & default\\\\\n",
       "\t student\\_t(3, 0, 2.5) & sigma     &      &  & Y3 &  &  & 0 &  & default\\\\\n",
       "\t student\\_t(3, 0, 2.5) & sigma     &      &  & Z1 &  &  & 0 &  & default\\\\\n",
       "\t student\\_t(3, 0, 2.5) & sigma     &      &  & Z2 &  &  & 0 &  & default\\\\\n",
       "\\end{tabular}\n"
      ],
      "text/markdown": [
       "\n",
       "A brmsprior: 22 × 10\n",
       "\n",
       "| prior &lt;chr&gt; | class &lt;chr&gt; | coef &lt;chr&gt; | group &lt;chr&gt; | resp &lt;chr&gt; | dpar &lt;chr&gt; | nlpar &lt;chr&gt; | lb &lt;chr&gt; | ub &lt;chr&gt; | source &lt;chr&gt; |\n",
       "|---|---|---|---|---|---|---|---|---|---|\n",
       "| student_t(3, 0, 2.5) | Intercept | <!----> | <!----> | S  | <!----> | <!----> | <!----> | <!----> | default |\n",
       "| <!----> | b         | <!----> | <!----> | S  | <!----> | <!----> | <!----> | <!----> | default |\n",
       "| <!----> | b         | Z1   | <!----> | S  | <!----> | <!----> | <!----> | <!----> | default |\n",
       "| <!----> | b         | Z2   | <!----> | S  | <!----> | <!----> | <!----> | <!----> | default |\n",
       "| <!----> | b         | miXm | <!----> | S  | <!----> | <!----> | <!----> | <!----> | default |\n",
       "| <!----> | b         | <!----> | <!----> | Y1 | <!----> | <!----> | <!----> | <!----> | default |\n",
       "| <!----> | b         | miS  | <!----> | Y1 | <!----> | <!----> | <!----> | <!----> | default |\n",
       "| <!----> | b         | <!----> | <!----> | Y2 | <!----> | <!----> | <!----> | <!----> | default |\n",
       "| <!----> | b         | miS  | <!----> | Y2 | <!----> | <!----> | <!----> | <!----> | default |\n",
       "| <!----> | b         | <!----> | <!----> | Y3 | <!----> | <!----> | <!----> | <!----> | default |\n",
       "| <!----> | b         | miS  | <!----> | Y3 | <!----> | <!----> | <!----> | <!----> | default |\n",
       "| <!----> | b         | <!----> | <!----> | Z1 | <!----> | <!----> | <!----> | <!----> | default |\n",
       "| <!----> | b         | miXm | <!----> | Z1 | <!----> | <!----> | <!----> | <!----> | default |\n",
       "| <!----> | b         | <!----> | <!----> | Z2 | <!----> | <!----> | <!----> | <!----> | default |\n",
       "| <!----> | b         | miXm | <!----> | Z2 | <!----> | <!----> | <!----> | <!----> | default |\n",
       "| student_t(3, 0, 2.5) | sigma     | <!----> | <!----> | S  | <!----> | <!----> | 0 | <!----> | default |\n",
       "| student_t(3, 0, 2.5) | sigma     | <!----> | <!----> | Xm | <!----> | <!----> | 0 | <!----> | default |\n",
       "| student_t(3, 0, 2.5) | sigma     | <!----> | <!----> | Y1 | <!----> | <!----> | 0 | <!----> | default |\n",
       "| student_t(3, 0, 2.5) | sigma     | <!----> | <!----> | Y2 | <!----> | <!----> | 0 | <!----> | default |\n",
       "| student_t(3, 0, 2.5) | sigma     | <!----> | <!----> | Y3 | <!----> | <!----> | 0 | <!----> | default |\n",
       "| student_t(3, 0, 2.5) | sigma     | <!----> | <!----> | Z1 | <!----> | <!----> | 0 | <!----> | default |\n",
       "| student_t(3, 0, 2.5) | sigma     | <!----> | <!----> | Z2 | <!----> | <!----> | 0 | <!----> | default |\n",
       "\n"
      ],
      "text/plain": [
       "   prior                class     coef group resp dpar nlpar lb ub source \n",
       "1  student_t(3, 0, 2.5) Intercept            S                     default\n",
       "2                       b                    S                     default\n",
       "3                       b         Z1         S                     default\n",
       "4                       b         Z2         S                     default\n",
       "5                       b         miXm       S                     default\n",
       "6                       b                    Y1                    default\n",
       "7                       b         miS        Y1                    default\n",
       "8                       b                    Y2                    default\n",
       "9                       b         miS        Y2                    default\n",
       "10                      b                    Y3                    default\n",
       "11                      b         miS        Y3                    default\n",
       "12                      b                    Z1                    default\n",
       "13                      b         miXm       Z1                    default\n",
       "14                      b                    Z2                    default\n",
       "15                      b         miXm       Z2                    default\n",
       "16 student_t(3, 0, 2.5) sigma                S               0     default\n",
       "17 student_t(3, 0, 2.5) sigma                Xm              0     default\n",
       "18 student_t(3, 0, 2.5) sigma                Y1              0     default\n",
       "19 student_t(3, 0, 2.5) sigma                Y2              0     default\n",
       "20 student_t(3, 0, 2.5) sigma                Y3              0     default\n",
       "21 student_t(3, 0, 2.5) sigma                Z1              0     default\n",
       "22 student_t(3, 0, 2.5) sigma                Z2              0     default"
      ]
     },
     "metadata": {},
     "output_type": "display_data"
    }
   ],
   "source": [
    "prior_summary(model)"
   ]
  },
  {
   "cell_type": "code",
   "execution_count": 31,
   "metadata": {
    "vscode": {
     "languageId": "r"
    }
   },
   "outputs": [
    {
     "name": "stderr",
     "output_type": "stream",
     "text": [
      "Compiling Stan program...\n",
      "\n",
      "Start sampling\n",
      "\n"
     ]
    },
    {
     "name": "stdout",
     "output_type": "stream",
     "text": [
      "\n",
      "SAMPLING FOR MODEL 'anon_model' NOW (CHAIN 1).\n",
      "Chain 1: \n",
      "Chain 1: Gradient evaluation took 0.000127 seconds\n",
      "Chain 1: 1000 transitions using 10 leapfrog steps per transition would take 1.27 seconds.\n",
      "Chain 1: Adjust your expectations accordingly!\n",
      "Chain 1: \n",
      "Chain 1: \n",
      "Chain 1: Iteration:    1 / 2000 [  0%]  (Warmup)\n",
      "Chain 1: Iteration:  200 / 2000 [ 10%]  (Warmup)\n",
      "Chain 1: Iteration:  400 / 2000 [ 20%]  (Warmup)\n",
      "Chain 1: Iteration:  600 / 2000 [ 30%]  (Warmup)\n",
      "Chain 1: Iteration:  800 / 2000 [ 40%]  (Warmup)\n",
      "Chain 1: Iteration: 1000 / 2000 [ 50%]  (Warmup)\n",
      "Chain 1: Iteration: 1001 / 2000 [ 50%]  (Sampling)\n",
      "Chain 1: Iteration: 1200 / 2000 [ 60%]  (Sampling)\n",
      "Chain 1: Iteration: 1400 / 2000 [ 70%]  (Sampling)\n",
      "Chain 1: Iteration: 1600 / 2000 [ 80%]  (Sampling)\n",
      "Chain 1: Iteration: 1800 / 2000 [ 90%]  (Sampling)\n",
      "Chain 1: Iteration: 2000 / 2000 [100%]  (Sampling)\n",
      "Chain 1: \n",
      "Chain 1:  Elapsed Time: 5.493 seconds (Warm-up)\n",
      "Chain 1:                6.903 seconds (Sampling)\n",
      "Chain 1:                12.396 seconds (Total)\n",
      "Chain 1: \n",
      "\n",
      "SAMPLING FOR MODEL 'anon_model' NOW (CHAIN 2).\n",
      "Chain 2: \n",
      "Chain 2: Gradient evaluation took 2.7e-05 seconds\n",
      "Chain 2: 1000 transitions using 10 leapfrog steps per transition would take 0.27 seconds.\n",
      "Chain 2: Adjust your expectations accordingly!\n",
      "Chain 2: \n",
      "Chain 2: \n",
      "Chain 2: Iteration:    1 / 2000 [  0%]  (Warmup)\n",
      "Chain 2: Iteration:  200 / 2000 [ 10%]  (Warmup)\n",
      "Chain 2: Iteration:  400 / 2000 [ 20%]  (Warmup)\n",
      "Chain 2: Iteration:  600 / 2000 [ 30%]  (Warmup)\n",
      "Chain 2: Iteration:  800 / 2000 [ 40%]  (Warmup)\n",
      "Chain 2: Iteration: 1000 / 2000 [ 50%]  (Warmup)\n",
      "Chain 2: Iteration: 1001 / 2000 [ 50%]  (Sampling)\n",
      "Chain 2: Iteration: 1200 / 2000 [ 60%]  (Sampling)\n",
      "Chain 2: Iteration: 1400 / 2000 [ 70%]  (Sampling)\n",
      "Chain 2: Iteration: 1600 / 2000 [ 80%]  (Sampling)\n",
      "Chain 2: Iteration: 1800 / 2000 [ 90%]  (Sampling)\n",
      "Chain 2: Iteration: 2000 / 2000 [100%]  (Sampling)\n",
      "Chain 2: \n",
      "Chain 2:  Elapsed Time: 6.418 seconds (Warm-up)\n",
      "Chain 2:                11.146 seconds (Sampling)\n",
      "Chain 2:                17.564 seconds (Total)\n",
      "Chain 2: \n",
      "\n",
      "SAMPLING FOR MODEL 'anon_model' NOW (CHAIN 3).\n",
      "Chain 3: \n",
      "Chain 3: Gradient evaluation took 2.8e-05 seconds\n",
      "Chain 3: 1000 transitions using 10 leapfrog steps per transition would take 0.28 seconds.\n",
      "Chain 3: Adjust your expectations accordingly!\n",
      "Chain 3: \n",
      "Chain 3: \n",
      "Chain 3: Iteration:    1 / 2000 [  0%]  (Warmup)\n",
      "Chain 3: Iteration:  200 / 2000 [ 10%]  (Warmup)\n",
      "Chain 3: Iteration:  400 / 2000 [ 20%]  (Warmup)\n",
      "Chain 3: Iteration:  600 / 2000 [ 30%]  (Warmup)\n",
      "Chain 3: Iteration:  800 / 2000 [ 40%]  (Warmup)\n",
      "Chain 3: Iteration: 1000 / 2000 [ 50%]  (Warmup)\n",
      "Chain 3: Iteration: 1001 / 2000 [ 50%]  (Sampling)\n",
      "Chain 3: Iteration: 1200 / 2000 [ 60%]  (Sampling)\n",
      "Chain 3: Iteration: 1400 / 2000 [ 70%]  (Sampling)\n",
      "Chain 3: Iteration: 1600 / 2000 [ 80%]  (Sampling)\n",
      "Chain 3: Iteration: 1800 / 2000 [ 90%]  (Sampling)\n",
      "Chain 3: Iteration: 2000 / 2000 [100%]  (Sampling)\n",
      "Chain 3: \n",
      "Chain 3:  Elapsed Time: 7.708 seconds (Warm-up)\n",
      "Chain 3:                12.753 seconds (Sampling)\n",
      "Chain 3:                20.461 seconds (Total)\n",
      "Chain 3: \n",
      "\n",
      "SAMPLING FOR MODEL 'anon_model' NOW (CHAIN 4).\n",
      "Chain 4: \n",
      "Chain 4: Gradient evaluation took 2.7e-05 seconds\n",
      "Chain 4: 1000 transitions using 10 leapfrog steps per transition would take 0.27 seconds.\n",
      "Chain 4: Adjust your expectations accordingly!\n",
      "Chain 4: \n",
      "Chain 4: \n",
      "Chain 4: Iteration:    1 / 2000 [  0%]  (Warmup)\n",
      "Chain 4: Iteration:  200 / 2000 [ 10%]  (Warmup)\n",
      "Chain 4: Iteration:  400 / 2000 [ 20%]  (Warmup)\n",
      "Chain 4: Iteration:  600 / 2000 [ 30%]  (Warmup)\n",
      "Chain 4: Iteration:  800 / 2000 [ 40%]  (Warmup)\n",
      "Chain 4: Iteration: 1000 / 2000 [ 50%]  (Warmup)\n",
      "Chain 4: Iteration: 1001 / 2000 [ 50%]  (Sampling)\n",
      "Chain 4: Iteration: 1200 / 2000 [ 60%]  (Sampling)\n",
      "Chain 4: Iteration: 1400 / 2000 [ 70%]  (Sampling)\n",
      "Chain 4: Iteration: 1600 / 2000 [ 80%]  (Sampling)\n",
      "Chain 4: Iteration: 1800 / 2000 [ 90%]  (Sampling)\n",
      "Chain 4: Iteration: 2000 / 2000 [100%]  (Sampling)\n",
      "Chain 4: \n",
      "Chain 4:  Elapsed Time: 2.366 seconds (Warm-up)\n",
      "Chain 4:                0.587 seconds (Sampling)\n",
      "Chain 4:                2.953 seconds (Total)\n",
      "Chain 4: \n"
     ]
    },
    {
     "name": "stderr",
     "output_type": "stream",
     "text": [
      "Warning message:\n",
      "“There were 986 divergent transitions after warmup. See\n",
      "https://mc-stan.org/misc/warnings.html#divergent-transitions-after-warmup\n",
      "to find out why this is a problem and how to eliminate them.”\n",
      "Warning message:\n",
      "“There were 277 transitions after warmup that exceeded the maximum treedepth. Increase max_treedepth above 10. See\n",
      "https://mc-stan.org/misc/warnings.html#maximum-treedepth-exceeded”\n",
      "Warning message:\n",
      "“There were 3 chains where the estimated Bayesian Fraction of Missing Information was low. See\n",
      "https://mc-stan.org/misc/warnings.html#bfmi-low”\n",
      "Warning message:\n",
      "“Examine the pairs() plot to diagnose sampling problems\n",
      "”\n",
      "Warning message:\n",
      "“The largest R-hat is 2.24, indicating chains have not mixed.\n",
      "Running the chains for more iterations may help. See\n",
      "https://mc-stan.org/misc/warnings.html#r-hat”\n",
      "Warning message:\n",
      "“Bulk Effective Samples Size (ESS) is too low, indicating posterior means and medians may be unreliable.\n",
      "Running the chains for more iterations may help. See\n",
      "https://mc-stan.org/misc/warnings.html#bulk-ess”\n",
      "Warning message:\n",
      "“Tail Effective Samples Size (ESS) is too low, indicating posterior variances and tail quantiles may be unreliable.\n",
      "Running the chains for more iterations may help. See\n",
      "https://mc-stan.org/misc/warnings.html#tail-ess”\n"
     ]
    }
   ],
   "source": [
    "priors <- c(\n",
    "    prior(normal(-1, 1), class = b, coef = Z1, resp = S),\n",
    "    prior(normal(3, 1), class = b, coef = Z2, resp = S),\n",
    "    prior(normal(0, 1), class = b, coef = miXm, resp = S),\n",
    "    prior(normal(1, 1), class = b, coef = miS, resp = Y1),\n",
    "    prior(normal(1, 1), class = b, coef = miS, resp = Y2),\n",
    "    prior(normal(1, 1), class = b, coef = miS, resp = Y3),\n",
    "    prior(normal(-1, 1), class = b, coef = miXm, resp = Z1),\n",
    "    prior(normal(1, 1), class = b, coef = miXm, resp = Z2)\n",
    ")\n",
    "\n",
    "model <- brm(bf2 + bf3 + bf4 + bf5 + bf6 + bf7 + bf8 +set_rescor(FALSE), data = data, prior = priors)"
   ]
  },
  {
   "cell_type": "code",
   "execution_count": 32,
   "metadata": {
    "vscode": {
     "languageId": "r"
    }
   },
   "outputs": [
    {
     "name": "stderr",
     "output_type": "stream",
     "text": [
      "Warning message:\n",
      "“Parts of the model have not converged (some Rhats are > 1.05). Be careful when analysing the results! We recommend running more iterations and/or setting stronger priors.”\n",
      "Warning message:\n",
      "“There were 986 divergent transitions after warmup. Increasing adapt_delta above 0.8 may help. See http://mc-stan.org/misc/warnings.html#divergent-transitions-after-warmup”\n"
     ]
    },
    {
     "data": {
      "text/plain": [
       " Family: MV(gaussian, gaussian, gaussian, gaussian, gaussian, gaussian, gaussian) \n",
       "  Links: mu = identity; sigma = identity\n",
       "         mu = identity; sigma = identity\n",
       "         mu = identity; sigma = identity\n",
       "         mu = identity; sigma = identity\n",
       "         mu = identity; sigma = identity\n",
       "         mu = identity; sigma = identity\n",
       "         mu = identity; sigma = identity \n",
       "Formula: S | mi() ~ mi(Xm) + Z1 + Z2 \n",
       "         Y1 ~ 0 + mi(S) \n",
       "         Y2 ~ 0 + mi(S) \n",
       "         Y3 ~ 0 + mi(S) \n",
       "         Z1 ~ 0 + mi(Xm) \n",
       "         Z2 ~ 0 + mi(Xm) \n",
       "         Xm | mi() ~ 0 \n",
       "   Data: data (Number of observations: 100) \n",
       "  Draws: 4 chains, each with iter = 2000; warmup = 1000; thin = 1;\n",
       "         total post-warmup draws = 4000\n",
       "\n",
       "Population-Level Effects: \n",
       "            Estimate Est.Error l-95% CI u-95% CI Rhat Bulk_ESS Tail_ESS\n",
       "S_Intercept     0.05      0.18    -0.35     0.40 1.43        8       31\n",
       "S_Z1            0.78      1.72    -2.88     2.82 2.01        6       37\n",
       "S_Z2            1.73      1.23    -0.05     4.01 1.27       12      205\n",
       "S_miXm          0.43      1.07    -1.51     2.14 1.67        7       36\n",
       "Y1_miS         -0.45      0.78    -1.15     1.16 1.75        6       43\n",
       "Y2_miS         -0.45      0.77    -1.14     1.15 1.74        6       44\n",
       "Y3_miS         -0.45      0.78    -1.15     1.16 1.75        6       46\n",
       "Z1_miXm        -0.10      0.34    -1.22     0.15 1.38        9       11\n",
       "Z2_miXm        -0.01      0.35    -0.45     0.86 1.56        7       30\n",
       "\n",
       "Family Specific Parameters: \n",
       "         Estimate Est.Error l-95% CI u-95% CI Rhat Bulk_ESS Tail_ESS\n",
       "sigma_S      0.86      0.52     0.17     1.88 1.63        7       21\n",
       "sigma_Y1     0.10      0.01     0.07     0.12 1.08      363     1396\n",
       "sigma_Y2     0.13      0.01     0.10     0.15 1.19       15      211\n",
       "sigma_Y3     0.09      0.01     0.07     0.11 1.08       60      842\n",
       "sigma_Z1     0.49      0.05     0.36     0.58 1.13       24       31\n",
       "sigma_Z2     0.30      0.13     0.06     0.53 1.78        6       31\n",
       "sigma_Xm     1.76      1.03     0.17     4.23 1.54        7       14\n",
       "\n",
       "Draws were sampled using sampling(NUTS). For each parameter, Bulk_ESS\n",
       "and Tail_ESS are effective sample size measures, and Rhat is the potential\n",
       "scale reduction factor on split chains (at convergence, Rhat = 1)."
      ]
     },
     "metadata": {},
     "output_type": "display_data"
    }
   ],
   "source": [
    "summary(model)"
   ]
  },
  {
   "cell_type": "code",
   "execution_count": 33,
   "metadata": {
    "vscode": {
     "languageId": "r"
    }
   },
   "outputs": [
    {
     "name": "stderr",
     "output_type": "stream",
     "text": [
      "Compiling Stan program...\n",
      "\n",
      "Start sampling\n",
      "\n"
     ]
    },
    {
     "name": "stdout",
     "output_type": "stream",
     "text": [
      "\n",
      "SAMPLING FOR MODEL 'anon_model' NOW (CHAIN 1).\n",
      "Chain 1: \n",
      "Chain 1: Gradient evaluation took 0.000119 seconds\n",
      "Chain 1: 1000 transitions using 10 leapfrog steps per transition would take 1.19 seconds.\n",
      "Chain 1: Adjust your expectations accordingly!\n",
      "Chain 1: \n",
      "Chain 1: \n",
      "Chain 1: Iteration:    1 / 2000 [  0%]  (Warmup)\n",
      "Chain 1: Iteration:  200 / 2000 [ 10%]  (Warmup)\n",
      "Chain 1: Iteration:  400 / 2000 [ 20%]  (Warmup)\n",
      "Chain 1: Iteration:  600 / 2000 [ 30%]  (Warmup)\n",
      "Chain 1: Iteration:  800 / 2000 [ 40%]  (Warmup)\n",
      "Chain 1: Iteration: 1000 / 2000 [ 50%]  (Warmup)\n",
      "Chain 1: Iteration: 1001 / 2000 [ 50%]  (Sampling)\n",
      "Chain 1: Iteration: 1200 / 2000 [ 60%]  (Sampling)\n",
      "Chain 1: Iteration: 1400 / 2000 [ 70%]  (Sampling)\n",
      "Chain 1: Iteration: 1600 / 2000 [ 80%]  (Sampling)\n",
      "Chain 1: Iteration: 1800 / 2000 [ 90%]  (Sampling)\n",
      "Chain 1: Iteration: 2000 / 2000 [100%]  (Sampling)\n",
      "Chain 1: \n",
      "Chain 1:  Elapsed Time: 1.701 seconds (Warm-up)\n",
      "Chain 1:                1.496 seconds (Sampling)\n",
      "Chain 1:                3.197 seconds (Total)\n",
      "Chain 1: \n",
      "\n",
      "SAMPLING FOR MODEL 'anon_model' NOW (CHAIN 2).\n",
      "Chain 2: \n",
      "Chain 2: Gradient evaluation took 2.9e-05 seconds\n",
      "Chain 2: 1000 transitions using 10 leapfrog steps per transition would take 0.29 seconds.\n",
      "Chain 2: Adjust your expectations accordingly!\n",
      "Chain 2: \n",
      "Chain 2: \n",
      "Chain 2: Iteration:    1 / 2000 [  0%]  (Warmup)\n",
      "Chain 2: Iteration:  200 / 2000 [ 10%]  (Warmup)\n",
      "Chain 2: Iteration:  400 / 2000 [ 20%]  (Warmup)\n",
      "Chain 2: Iteration:  600 / 2000 [ 30%]  (Warmup)\n",
      "Chain 2: Iteration:  800 / 2000 [ 40%]  (Warmup)\n",
      "Chain 2: Iteration: 1000 / 2000 [ 50%]  (Warmup)\n",
      "Chain 2: Iteration: 1001 / 2000 [ 50%]  (Sampling)\n",
      "Chain 2: Iteration: 1200 / 2000 [ 60%]  (Sampling)\n",
      "Chain 2: Iteration: 1400 / 2000 [ 70%]  (Sampling)\n",
      "Chain 2: Iteration: 1600 / 2000 [ 80%]  (Sampling)\n",
      "Chain 2: Iteration: 1800 / 2000 [ 90%]  (Sampling)\n",
      "Chain 2: Iteration: 2000 / 2000 [100%]  (Sampling)\n",
      "Chain 2: \n",
      "Chain 2:  Elapsed Time: 1.316 seconds (Warm-up)\n",
      "Chain 2:                0.91 seconds (Sampling)\n",
      "Chain 2:                2.226 seconds (Total)\n",
      "Chain 2: \n",
      "\n",
      "SAMPLING FOR MODEL 'anon_model' NOW (CHAIN 3).\n",
      "Chain 3: \n",
      "Chain 3: Gradient evaluation took 2.8e-05 seconds\n",
      "Chain 3: 1000 transitions using 10 leapfrog steps per transition would take 0.28 seconds.\n",
      "Chain 3: Adjust your expectations accordingly!\n",
      "Chain 3: \n",
      "Chain 3: \n",
      "Chain 3: Iteration:    1 / 2000 [  0%]  (Warmup)\n",
      "Chain 3: Iteration:  200 / 2000 [ 10%]  (Warmup)\n",
      "Chain 3: Iteration:  400 / 2000 [ 20%]  (Warmup)\n",
      "Chain 3: Iteration:  600 / 2000 [ 30%]  (Warmup)\n",
      "Chain 3: Iteration:  800 / 2000 [ 40%]  (Warmup)\n",
      "Chain 3: Iteration: 1000 / 2000 [ 50%]  (Warmup)\n",
      "Chain 3: Iteration: 1001 / 2000 [ 50%]  (Sampling)\n",
      "Chain 3: Iteration: 1200 / 2000 [ 60%]  (Sampling)\n",
      "Chain 3: Iteration: 1400 / 2000 [ 70%]  (Sampling)\n",
      "Chain 3: Iteration: 1600 / 2000 [ 80%]  (Sampling)\n",
      "Chain 3: Iteration: 1800 / 2000 [ 90%]  (Sampling)\n",
      "Chain 3: Iteration: 2000 / 2000 [100%]  (Sampling)\n",
      "Chain 3: \n",
      "Chain 3:  Elapsed Time: 2.405 seconds (Warm-up)\n",
      "Chain 3:                1.435 seconds (Sampling)\n",
      "Chain 3:                3.84 seconds (Total)\n",
      "Chain 3: \n",
      "\n",
      "SAMPLING FOR MODEL 'anon_model' NOW (CHAIN 4).\n",
      "Chain 4: \n",
      "Chain 4: Gradient evaluation took 2.8e-05 seconds\n",
      "Chain 4: 1000 transitions using 10 leapfrog steps per transition would take 0.28 seconds.\n",
      "Chain 4: Adjust your expectations accordingly!\n",
      "Chain 4: \n",
      "Chain 4: \n",
      "Chain 4: Iteration:    1 / 2000 [  0%]  (Warmup)\n",
      "Chain 4: Iteration:  200 / 2000 [ 10%]  (Warmup)\n",
      "Chain 4: Iteration:  400 / 2000 [ 20%]  (Warmup)\n",
      "Chain 4: Iteration:  600 / 2000 [ 30%]  (Warmup)\n",
      "Chain 4: Iteration:  800 / 2000 [ 40%]  (Warmup)\n",
      "Chain 4: Iteration: 1000 / 2000 [ 50%]  (Warmup)\n",
      "Chain 4: Iteration: 1001 / 2000 [ 50%]  (Sampling)\n",
      "Chain 4: Iteration: 1200 / 2000 [ 60%]  (Sampling)\n",
      "Chain 4: Iteration: 1400 / 2000 [ 70%]  (Sampling)\n",
      "Chain 4: Iteration: 1600 / 2000 [ 80%]  (Sampling)\n",
      "Chain 4: Iteration: 1800 / 2000 [ 90%]  (Sampling)\n",
      "Chain 4: Iteration: 2000 / 2000 [100%]  (Sampling)\n",
      "Chain 4: \n",
      "Chain 4:  Elapsed Time: 1.459 seconds (Warm-up)\n",
      "Chain 4:                1.235 seconds (Sampling)\n",
      "Chain 4:                2.694 seconds (Total)\n",
      "Chain 4: \n"
     ]
    },
    {
     "name": "stderr",
     "output_type": "stream",
     "text": [
      "Warning message:\n",
      "“There were 1 divergent transitions after warmup. See\n",
      "https://mc-stan.org/misc/warnings.html#divergent-transitions-after-warmup\n",
      "to find out why this is a problem and how to eliminate them.”\n",
      "Warning message:\n",
      "“There were 4 chains where the estimated Bayesian Fraction of Missing Information was low. See\n",
      "https://mc-stan.org/misc/warnings.html#bfmi-low”\n",
      "Warning message:\n",
      "“Examine the pairs() plot to diagnose sampling problems\n",
      "”\n",
      "Warning message:\n",
      "“The largest R-hat is 1.13, indicating chains have not mixed.\n",
      "Running the chains for more iterations may help. See\n",
      "https://mc-stan.org/misc/warnings.html#r-hat”\n",
      "Warning message:\n",
      "“Bulk Effective Samples Size (ESS) is too low, indicating posterior means and medians may be unreliable.\n",
      "Running the chains for more iterations may help. See\n",
      "https://mc-stan.org/misc/warnings.html#bulk-ess”\n",
      "Warning message:\n",
      "“Tail Effective Samples Size (ESS) is too low, indicating posterior variances and tail quantiles may be unreliable.\n",
      "Running the chains for more iterations may help. See\n",
      "https://mc-stan.org/misc/warnings.html#tail-ess”\n"
     ]
    }
   ],
   "source": [
    "priors <- c(\n",
    "    prior(normal(-1, .1), class = b, coef = Z1, resp = S),\n",
    "    prior(normal(3, .1), class = b, coef = Z2, resp = S),\n",
    "    prior(normal(0, .1), class = b, coef = miXm, resp = S),\n",
    "    prior(normal(1, .1), class = b, coef = miS, resp = Y1),\n",
    "    prior(normal(1, .1), class = b, coef = miS, resp = Y2),\n",
    "    prior(normal(1, .1), class = b, coef = miS, resp = Y3),\n",
    "    prior(normal(-1, .1), class = b, coef = miXm, resp = Z1),\n",
    "    prior(normal(1, .1), class = b, coef = miXm, resp = Z2)\n",
    ")\n",
    "\n",
    "model <- brm(bf2 + bf3 + bf4 + bf5 + bf6 + bf7 + bf8 +set_rescor(FALSE), data = data, prior = priors)"
   ]
  },
  {
   "cell_type": "code",
   "execution_count": 34,
   "metadata": {
    "vscode": {
     "languageId": "r"
    }
   },
   "outputs": [
    {
     "name": "stderr",
     "output_type": "stream",
     "text": [
      "Warning message:\n",
      "“Parts of the model have not converged (some Rhats are > 1.05). Be careful when analysing the results! We recommend running more iterations and/or setting stronger priors.”\n",
      "Warning message:\n",
      "“There were 1 divergent transitions after warmup. Increasing adapt_delta above 0.8 may help. See http://mc-stan.org/misc/warnings.html#divergent-transitions-after-warmup”\n"
     ]
    },
    {
     "data": {
      "text/html": [
       "<table class=\"dataframe\">\n",
       "<caption>A data.frame: 9 × 7</caption>\n",
       "<thead>\n",
       "\t<tr><th></th><th scope=col>Estimate</th><th scope=col>Est.Error</th><th scope=col>l-95% CI</th><th scope=col>u-95% CI</th><th scope=col>Rhat</th><th scope=col>Bulk_ESS</th><th scope=col>Tail_ESS</th></tr>\n",
       "\t<tr><th></th><th scope=col>&lt;dbl&gt;</th><th scope=col>&lt;dbl&gt;</th><th scope=col>&lt;dbl&gt;</th><th scope=col>&lt;dbl&gt;</th><th scope=col>&lt;dbl&gt;</th><th scope=col>&lt;dbl&gt;</th><th scope=col>&lt;dbl&gt;</th></tr>\n",
       "</thead>\n",
       "<tbody>\n",
       "\t<tr><th scope=row>S_Intercept</th><td>-0.1757661296</td><td>0.13930969</td><td>-0.4441348</td><td> 0.1003517</td><td>1.001002</td><td>4323.82640</td><td>1882.0427</td></tr>\n",
       "\t<tr><th scope=row>S_Z1</th><td>-1.1150504237</td><td>0.09480844</td><td>-1.2985332</td><td>-0.9320417</td><td>1.000859</td><td>4702.44978</td><td>2466.1177</td></tr>\n",
       "\t<tr><th scope=row>S_Z2</th><td> 2.8778693594</td><td>0.09978830</td><td> 2.6750300</td><td> 3.0706836</td><td>1.001620</td><td>2593.77683</td><td>1687.3579</td></tr>\n",
       "\t<tr><th scope=row>S_miXm</th><td> 0.0004406981</td><td>0.09725450</td><td>-0.1862563</td><td> 0.1908271</td><td>1.001539</td><td>4532.40082</td><td>2650.1977</td></tr>\n",
       "\t<tr><th scope=row>Y1_miS</th><td> 0.9259501037</td><td>0.04512503</td><td> 0.8407304</td><td> 1.0178528</td><td>1.039999</td><td>  85.89351</td><td> 191.6594</td></tr>\n",
       "\t<tr><th scope=row>Y2_miS</th><td> 0.9188863537</td><td>0.04506247</td><td> 0.8344672</td><td> 1.0120520</td><td>1.039456</td><td>  87.85233</td><td> 269.5959</td></tr>\n",
       "\t<tr><th scope=row>Y3_miS</th><td> 0.9294615951</td><td>0.04529852</td><td> 0.8441146</td><td> 1.0223252</td><td>1.040190</td><td>  85.69370</td><td> 238.3877</td></tr>\n",
       "\t<tr><th scope=row>Z1_miXm</th><td>-0.9927617810</td><td>0.10305031</td><td>-1.2002699</td><td>-0.7869071</td><td>1.002301</td><td>2628.61483</td><td>1909.4443</td></tr>\n",
       "\t<tr><th scope=row>Z2_miXm</th><td> 0.9940223048</td><td>0.09915843</td><td> 0.7984717</td><td> 1.1817605</td><td>1.001710</td><td>3873.35173</td><td>3014.1738</td></tr>\n",
       "</tbody>\n",
       "</table>\n"
      ],
      "text/latex": [
       "A data.frame: 9 × 7\n",
       "\\begin{tabular}{r|lllllll}\n",
       "  & Estimate & Est.Error & l-95\\% CI & u-95\\% CI & Rhat & Bulk\\_ESS & Tail\\_ESS\\\\\n",
       "  & <dbl> & <dbl> & <dbl> & <dbl> & <dbl> & <dbl> & <dbl>\\\\\n",
       "\\hline\n",
       "\tS\\_Intercept & -0.1757661296 & 0.13930969 & -0.4441348 &  0.1003517 & 1.001002 & 4323.82640 & 1882.0427\\\\\n",
       "\tS\\_Z1 & -1.1150504237 & 0.09480844 & -1.2985332 & -0.9320417 & 1.000859 & 4702.44978 & 2466.1177\\\\\n",
       "\tS\\_Z2 &  2.8778693594 & 0.09978830 &  2.6750300 &  3.0706836 & 1.001620 & 2593.77683 & 1687.3579\\\\\n",
       "\tS\\_miXm &  0.0004406981 & 0.09725450 & -0.1862563 &  0.1908271 & 1.001539 & 4532.40082 & 2650.1977\\\\\n",
       "\tY1\\_miS &  0.9259501037 & 0.04512503 &  0.8407304 &  1.0178528 & 1.039999 &   85.89351 &  191.6594\\\\\n",
       "\tY2\\_miS &  0.9188863537 & 0.04506247 &  0.8344672 &  1.0120520 & 1.039456 &   87.85233 &  269.5959\\\\\n",
       "\tY3\\_miS &  0.9294615951 & 0.04529852 &  0.8441146 &  1.0223252 & 1.040190 &   85.69370 &  238.3877\\\\\n",
       "\tZ1\\_miXm & -0.9927617810 & 0.10305031 & -1.2002699 & -0.7869071 & 1.002301 & 2628.61483 & 1909.4443\\\\\n",
       "\tZ2\\_miXm &  0.9940223048 & 0.09915843 &  0.7984717 &  1.1817605 & 1.001710 & 3873.35173 & 3014.1738\\\\\n",
       "\\end{tabular}\n"
      ],
      "text/markdown": [
       "\n",
       "A data.frame: 9 × 7\n",
       "\n",
       "| <!--/--> | Estimate &lt;dbl&gt; | Est.Error &lt;dbl&gt; | l-95% CI &lt;dbl&gt; | u-95% CI &lt;dbl&gt; | Rhat &lt;dbl&gt; | Bulk_ESS &lt;dbl&gt; | Tail_ESS &lt;dbl&gt; |\n",
       "|---|---|---|---|---|---|---|---|\n",
       "| S_Intercept | -0.1757661296 | 0.13930969 | -0.4441348 |  0.1003517 | 1.001002 | 4323.82640 | 1882.0427 |\n",
       "| S_Z1 | -1.1150504237 | 0.09480844 | -1.2985332 | -0.9320417 | 1.000859 | 4702.44978 | 2466.1177 |\n",
       "| S_Z2 |  2.8778693594 | 0.09978830 |  2.6750300 |  3.0706836 | 1.001620 | 2593.77683 | 1687.3579 |\n",
       "| S_miXm |  0.0004406981 | 0.09725450 | -0.1862563 |  0.1908271 | 1.001539 | 4532.40082 | 2650.1977 |\n",
       "| Y1_miS |  0.9259501037 | 0.04512503 |  0.8407304 |  1.0178528 | 1.039999 |   85.89351 |  191.6594 |\n",
       "| Y2_miS |  0.9188863537 | 0.04506247 |  0.8344672 |  1.0120520 | 1.039456 |   87.85233 |  269.5959 |\n",
       "| Y3_miS |  0.9294615951 | 0.04529852 |  0.8441146 |  1.0223252 | 1.040190 |   85.69370 |  238.3877 |\n",
       "| Z1_miXm | -0.9927617810 | 0.10305031 | -1.2002699 | -0.7869071 | 1.002301 | 2628.61483 | 1909.4443 |\n",
       "| Z2_miXm |  0.9940223048 | 0.09915843 |  0.7984717 |  1.1817605 | 1.001710 | 3873.35173 | 3014.1738 |\n",
       "\n"
      ],
      "text/plain": [
       "            Estimate      Est.Error  l-95% CI   u-95% CI   Rhat     Bulk_ESS  \n",
       "S_Intercept -0.1757661296 0.13930969 -0.4441348  0.1003517 1.001002 4323.82640\n",
       "S_Z1        -1.1150504237 0.09480844 -1.2985332 -0.9320417 1.000859 4702.44978\n",
       "S_Z2         2.8778693594 0.09978830  2.6750300  3.0706836 1.001620 2593.77683\n",
       "S_miXm       0.0004406981 0.09725450 -0.1862563  0.1908271 1.001539 4532.40082\n",
       "Y1_miS       0.9259501037 0.04512503  0.8407304  1.0178528 1.039999   85.89351\n",
       "Y2_miS       0.9188863537 0.04506247  0.8344672  1.0120520 1.039456   87.85233\n",
       "Y3_miS       0.9294615951 0.04529852  0.8441146  1.0223252 1.040190   85.69370\n",
       "Z1_miXm     -0.9927617810 0.10305031 -1.2002699 -0.7869071 1.002301 2628.61483\n",
       "Z2_miXm      0.9940223048 0.09915843  0.7984717  1.1817605 1.001710 3873.35173\n",
       "            Tail_ESS \n",
       "S_Intercept 1882.0427\n",
       "S_Z1        2466.1177\n",
       "S_Z2        1687.3579\n",
       "S_miXm      2650.1977\n",
       "Y1_miS       191.6594\n",
       "Y2_miS       269.5959\n",
       "Y3_miS       238.3877\n",
       "Z1_miXm     1909.4443\n",
       "Z2_miXm     3014.1738"
      ]
     },
     "metadata": {},
     "output_type": "display_data"
    }
   ],
   "source": [
    "summary(model)$fixed"
   ]
  },
  {
   "cell_type": "code",
   "execution_count": 37,
   "metadata": {
    "vscode": {
     "languageId": "r"
    }
   },
   "outputs": [
    {
     "name": "stderr",
     "output_type": "stream",
     "text": [
      "Warning message:\n",
      "“Parts of the model have not converged (some Rhats are > 1.05). Be careful when analysing the results! We recommend running more iterations and/or setting stronger priors.”\n",
      "Warning message:\n",
      "“There were 1 divergent transitions after warmup. Increasing adapt_delta above 0.8 may help. See http://mc-stan.org/misc/warnings.html#divergent-transitions-after-warmup”\n"
     ]
    },
    {
     "data": {
      "text/html": [
       "<table class=\"dataframe\">\n",
       "<caption>A data.frame: 7 × 7</caption>\n",
       "<thead>\n",
       "\t<tr><th></th><th scope=col>Estimate</th><th scope=col>Est.Error</th><th scope=col>l-95% CI</th><th scope=col>u-95% CI</th><th scope=col>Rhat</th><th scope=col>Bulk_ESS</th><th scope=col>Tail_ESS</th></tr>\n",
       "\t<tr><th></th><th scope=col>&lt;dbl&gt;</th><th scope=col>&lt;dbl&gt;</th><th scope=col>&lt;dbl&gt;</th><th scope=col>&lt;dbl&gt;</th><th scope=col>&lt;dbl&gt;</th><th scope=col>&lt;dbl&gt;</th><th scope=col>&lt;dbl&gt;</th></tr>\n",
       "</thead>\n",
       "<tbody>\n",
       "\t<tr><th scope=row>sigma_S</th><td>1.33413050</td><td>0.11189470</td><td>1.13576580</td><td>1.5760446</td><td>1.007696</td><td> 468.74676</td><td>1291.18482</td></tr>\n",
       "\t<tr><th scope=row>sigma_Y1</th><td>0.09664608</td><td>0.01227873</td><td>0.07241084</td><td>0.1209848</td><td>1.003977</td><td>1397.77169</td><td>1527.54867</td></tr>\n",
       "\t<tr><th scope=row>sigma_Y2</th><td>0.12232609</td><td>0.01173712</td><td>0.10058782</td><td>0.1473152</td><td>1.000257</td><td>2589.44648</td><td>2152.02288</td></tr>\n",
       "\t<tr><th scope=row>sigma_Y3</th><td>0.09028654</td><td>0.01227888</td><td>0.06600359</td><td>0.1147027</td><td>1.002112</td><td>1369.80106</td><td>1697.98776</td></tr>\n",
       "\t<tr><th scope=row>sigma_Z1</th><td>0.49452111</td><td>0.04095892</td><td>0.41818009</td><td>0.5806906</td><td>1.005532</td><td> 800.95236</td><td>2008.70433</td></tr>\n",
       "\t<tr><th scope=row>sigma_Z2</th><td>0.48571454</td><td>0.04137838</td><td>0.40686129</td><td>0.5700967</td><td>1.007887</td><td> 479.49614</td><td>1525.92975</td></tr>\n",
       "\t<tr><th scope=row>sigma_Xm</th><td>0.13040434</td><td>0.07132711</td><td>0.01455318</td><td>0.2744768</td><td>1.122439</td><td>  23.15566</td><td>  24.94241</td></tr>\n",
       "</tbody>\n",
       "</table>\n"
      ],
      "text/latex": [
       "A data.frame: 7 × 7\n",
       "\\begin{tabular}{r|lllllll}\n",
       "  & Estimate & Est.Error & l-95\\% CI & u-95\\% CI & Rhat & Bulk\\_ESS & Tail\\_ESS\\\\\n",
       "  & <dbl> & <dbl> & <dbl> & <dbl> & <dbl> & <dbl> & <dbl>\\\\\n",
       "\\hline\n",
       "\tsigma\\_S & 1.33413050 & 0.11189470 & 1.13576580 & 1.5760446 & 1.007696 &  468.74676 & 1291.18482\\\\\n",
       "\tsigma\\_Y1 & 0.09664608 & 0.01227873 & 0.07241084 & 0.1209848 & 1.003977 & 1397.77169 & 1527.54867\\\\\n",
       "\tsigma\\_Y2 & 0.12232609 & 0.01173712 & 0.10058782 & 0.1473152 & 1.000257 & 2589.44648 & 2152.02288\\\\\n",
       "\tsigma\\_Y3 & 0.09028654 & 0.01227888 & 0.06600359 & 0.1147027 & 1.002112 & 1369.80106 & 1697.98776\\\\\n",
       "\tsigma\\_Z1 & 0.49452111 & 0.04095892 & 0.41818009 & 0.5806906 & 1.005532 &  800.95236 & 2008.70433\\\\\n",
       "\tsigma\\_Z2 & 0.48571454 & 0.04137838 & 0.40686129 & 0.5700967 & 1.007887 &  479.49614 & 1525.92975\\\\\n",
       "\tsigma\\_Xm & 0.13040434 & 0.07132711 & 0.01455318 & 0.2744768 & 1.122439 &   23.15566 &   24.94241\\\\\n",
       "\\end{tabular}\n"
      ],
      "text/markdown": [
       "\n",
       "A data.frame: 7 × 7\n",
       "\n",
       "| <!--/--> | Estimate &lt;dbl&gt; | Est.Error &lt;dbl&gt; | l-95% CI &lt;dbl&gt; | u-95% CI &lt;dbl&gt; | Rhat &lt;dbl&gt; | Bulk_ESS &lt;dbl&gt; | Tail_ESS &lt;dbl&gt; |\n",
       "|---|---|---|---|---|---|---|---|\n",
       "| sigma_S | 1.33413050 | 0.11189470 | 1.13576580 | 1.5760446 | 1.007696 |  468.74676 | 1291.18482 |\n",
       "| sigma_Y1 | 0.09664608 | 0.01227873 | 0.07241084 | 0.1209848 | 1.003977 | 1397.77169 | 1527.54867 |\n",
       "| sigma_Y2 | 0.12232609 | 0.01173712 | 0.10058782 | 0.1473152 | 1.000257 | 2589.44648 | 2152.02288 |\n",
       "| sigma_Y3 | 0.09028654 | 0.01227888 | 0.06600359 | 0.1147027 | 1.002112 | 1369.80106 | 1697.98776 |\n",
       "| sigma_Z1 | 0.49452111 | 0.04095892 | 0.41818009 | 0.5806906 | 1.005532 |  800.95236 | 2008.70433 |\n",
       "| sigma_Z2 | 0.48571454 | 0.04137838 | 0.40686129 | 0.5700967 | 1.007887 |  479.49614 | 1525.92975 |\n",
       "| sigma_Xm | 0.13040434 | 0.07132711 | 0.01455318 | 0.2744768 | 1.122439 |   23.15566 |   24.94241 |\n",
       "\n"
      ],
      "text/plain": [
       "         Estimate   Est.Error  l-95% CI   u-95% CI  Rhat     Bulk_ESS  \n",
       "sigma_S  1.33413050 0.11189470 1.13576580 1.5760446 1.007696  468.74676\n",
       "sigma_Y1 0.09664608 0.01227873 0.07241084 0.1209848 1.003977 1397.77169\n",
       "sigma_Y2 0.12232609 0.01173712 0.10058782 0.1473152 1.000257 2589.44648\n",
       "sigma_Y3 0.09028654 0.01227888 0.06600359 0.1147027 1.002112 1369.80106\n",
       "sigma_Z1 0.49452111 0.04095892 0.41818009 0.5806906 1.005532  800.95236\n",
       "sigma_Z2 0.48571454 0.04137838 0.40686129 0.5700967 1.007887  479.49614\n",
       "sigma_Xm 0.13040434 0.07132711 0.01455318 0.2744768 1.122439   23.15566\n",
       "         Tail_ESS  \n",
       "sigma_S  1291.18482\n",
       "sigma_Y1 1527.54867\n",
       "sigma_Y2 2152.02288\n",
       "sigma_Y3 1697.98776\n",
       "sigma_Z1 2008.70433\n",
       "sigma_Z2 1525.92975\n",
       "sigma_Xm   24.94241"
      ]
     },
     "metadata": {},
     "output_type": "display_data"
    }
   ],
   "source": [
    "summary(model)$spec_pars"
   ]
  },
  {
   "cell_type": "code",
   "execution_count": 39,
   "metadata": {
    "vscode": {
     "languageId": "r"
    }
   },
   "outputs": [
    {
     "name": "stderr",
     "output_type": "stream",
     "text": [
      "Compiling Stan program...\n",
      "\n",
      "Start sampling\n",
      "\n"
     ]
    },
    {
     "name": "stdout",
     "output_type": "stream",
     "text": [
      "\n",
      "SAMPLING FOR MODEL 'anon_model' NOW (CHAIN 1).\n",
      "Chain 1: \n",
      "Chain 1: Gradient evaluation took 0.000133 seconds\n",
      "Chain 1: 1000 transitions using 10 leapfrog steps per transition would take 1.33 seconds.\n",
      "Chain 1: Adjust your expectations accordingly!\n",
      "Chain 1: \n",
      "Chain 1: \n",
      "Chain 1: Iteration:    1 / 10000 [  0%]  (Warmup)\n",
      "Chain 1: Iteration: 1000 / 10000 [ 10%]  (Warmup)\n",
      "Chain 1: Iteration: 2000 / 10000 [ 20%]  (Warmup)\n",
      "Chain 1: Iteration: 3000 / 10000 [ 30%]  (Warmup)\n",
      "Chain 1: Iteration: 4000 / 10000 [ 40%]  (Warmup)\n",
      "Chain 1: Iteration: 5000 / 10000 [ 50%]  (Warmup)\n",
      "Chain 1: Iteration: 5001 / 10000 [ 50%]  (Sampling)\n",
      "Chain 1: Iteration: 6000 / 10000 [ 60%]  (Sampling)\n",
      "Chain 1: Iteration: 7000 / 10000 [ 70%]  (Sampling)\n",
      "Chain 1: Iteration: 8000 / 10000 [ 80%]  (Sampling)\n",
      "Chain 1: Iteration: 9000 / 10000 [ 90%]  (Sampling)\n",
      "Chain 1: Iteration: 10000 / 10000 [100%]  (Sampling)\n",
      "Chain 1: \n",
      "Chain 1:  Elapsed Time: 22.093 seconds (Warm-up)\n",
      "Chain 1:                32.888 seconds (Sampling)\n",
      "Chain 1:                54.981 seconds (Total)\n",
      "Chain 1: \n",
      "\n",
      "SAMPLING FOR MODEL 'anon_model' NOW (CHAIN 2).\n",
      "Chain 2: \n",
      "Chain 2: Gradient evaluation took 3.7e-05 seconds\n",
      "Chain 2: 1000 transitions using 10 leapfrog steps per transition would take 0.37 seconds.\n",
      "Chain 2: Adjust your expectations accordingly!\n",
      "Chain 2: \n",
      "Chain 2: \n",
      "Chain 2: Iteration:    1 / 10000 [  0%]  (Warmup)\n",
      "Chain 2: Iteration: 1000 / 10000 [ 10%]  (Warmup)\n",
      "Chain 2: Iteration: 2000 / 10000 [ 20%]  (Warmup)\n",
      "Chain 2: Iteration: 3000 / 10000 [ 30%]  (Warmup)\n",
      "Chain 2: Iteration: 4000 / 10000 [ 40%]  (Warmup)\n",
      "Chain 2: Iteration: 5000 / 10000 [ 50%]  (Warmup)\n",
      "Chain 2: Iteration: 5001 / 10000 [ 50%]  (Sampling)\n",
      "Chain 2: Iteration: 6000 / 10000 [ 60%]  (Sampling)\n",
      "Chain 2: Iteration: 7000 / 10000 [ 70%]  (Sampling)\n",
      "Chain 2: Iteration: 8000 / 10000 [ 80%]  (Sampling)\n",
      "Chain 2: Iteration: 9000 / 10000 [ 90%]  (Sampling)\n",
      "Chain 2: Iteration: 10000 / 10000 [100%]  (Sampling)\n",
      "Chain 2: \n",
      "Chain 2:  Elapsed Time: 18.354 seconds (Warm-up)\n",
      "Chain 2:                20.18 seconds (Sampling)\n",
      "Chain 2:                38.534 seconds (Total)\n",
      "Chain 2: \n",
      "\n",
      "SAMPLING FOR MODEL 'anon_model' NOW (CHAIN 3).\n",
      "Chain 3: \n",
      "Chain 3: Gradient evaluation took 3.1e-05 seconds\n",
      "Chain 3: 1000 transitions using 10 leapfrog steps per transition would take 0.31 seconds.\n",
      "Chain 3: Adjust your expectations accordingly!\n",
      "Chain 3: \n",
      "Chain 3: \n",
      "Chain 3: Iteration:    1 / 10000 [  0%]  (Warmup)\n",
      "Chain 3: Iteration: 1000 / 10000 [ 10%]  (Warmup)\n",
      "Chain 3: Iteration: 2000 / 10000 [ 20%]  (Warmup)\n",
      "Chain 3: Iteration: 3000 / 10000 [ 30%]  (Warmup)\n",
      "Chain 3: Iteration: 4000 / 10000 [ 40%]  (Warmup)\n",
      "Chain 3: Iteration: 5000 / 10000 [ 50%]  (Warmup)\n",
      "Chain 3: Iteration: 5001 / 10000 [ 50%]  (Sampling)\n",
      "Chain 3: Iteration: 6000 / 10000 [ 60%]  (Sampling)\n",
      "Chain 3: Iteration: 7000 / 10000 [ 70%]  (Sampling)\n",
      "Chain 3: Iteration: 8000 / 10000 [ 80%]  (Sampling)\n",
      "Chain 3: Iteration: 9000 / 10000 [ 90%]  (Sampling)\n",
      "Chain 3: Iteration: 10000 / 10000 [100%]  (Sampling)\n",
      "Chain 3: \n",
      "Chain 3:  Elapsed Time: 31.376 seconds (Warm-up)\n",
      "Chain 3:                52.272 seconds (Sampling)\n",
      "Chain 3:                83.648 seconds (Total)\n",
      "Chain 3: \n",
      "\n",
      "SAMPLING FOR MODEL 'anon_model' NOW (CHAIN 4).\n",
      "Chain 4: \n",
      "Chain 4: Gradient evaluation took 3.6e-05 seconds\n",
      "Chain 4: 1000 transitions using 10 leapfrog steps per transition would take 0.36 seconds.\n",
      "Chain 4: Adjust your expectations accordingly!\n",
      "Chain 4: \n",
      "Chain 4: \n",
      "Chain 4: Iteration:    1 / 10000 [  0%]  (Warmup)\n",
      "Chain 4: Iteration: 1000 / 10000 [ 10%]  (Warmup)\n",
      "Chain 4: Iteration: 2000 / 10000 [ 20%]  (Warmup)\n",
      "Chain 4: Iteration: 3000 / 10000 [ 30%]  (Warmup)\n",
      "Chain 4: Iteration: 4000 / 10000 [ 40%]  (Warmup)\n",
      "Chain 4: Iteration: 5000 / 10000 [ 50%]  (Warmup)\n",
      "Chain 4: Iteration: 5001 / 10000 [ 50%]  (Sampling)\n",
      "Chain 4: Iteration: 6000 / 10000 [ 60%]  (Sampling)\n",
      "Chain 4: Iteration: 7000 / 10000 [ 70%]  (Sampling)\n",
      "Chain 4: Iteration: 8000 / 10000 [ 80%]  (Sampling)\n",
      "Chain 4: Iteration: 9000 / 10000 [ 90%]  (Sampling)\n",
      "Chain 4: Iteration: 10000 / 10000 [100%]  (Sampling)\n",
      "Chain 4: \n",
      "Chain 4:  Elapsed Time: 39.602 seconds (Warm-up)\n",
      "Chain 4:                28.51 seconds (Sampling)\n",
      "Chain 4:                68.112 seconds (Total)\n",
      "Chain 4: \n"
     ]
    },
    {
     "name": "stderr",
     "output_type": "stream",
     "text": [
      "Warning message:\n",
      "“There were 664 divergent transitions after warmup. See\n",
      "https://mc-stan.org/misc/warnings.html#divergent-transitions-after-warmup\n",
      "to find out why this is a problem and how to eliminate them.”\n",
      "Warning message:\n",
      "“There were 153 transitions after warmup that exceeded the maximum treedepth. Increase max_treedepth above 10. See\n",
      "https://mc-stan.org/misc/warnings.html#maximum-treedepth-exceeded”\n",
      "Warning message:\n",
      "“There were 4 chains where the estimated Bayesian Fraction of Missing Information was low. See\n",
      "https://mc-stan.org/misc/warnings.html#bfmi-low”\n",
      "Warning message:\n",
      "“Examine the pairs() plot to diagnose sampling problems\n",
      "”\n",
      "Warning message:\n",
      "“The largest R-hat is 1.68, indicating chains have not mixed.\n",
      "Running the chains for more iterations may help. See\n",
      "https://mc-stan.org/misc/warnings.html#r-hat”\n",
      "Warning message:\n",
      "“Bulk Effective Samples Size (ESS) is too low, indicating posterior means and medians may be unreliable.\n",
      "Running the chains for more iterations may help. See\n",
      "https://mc-stan.org/misc/warnings.html#bulk-ess”\n",
      "Warning message:\n",
      "“Tail Effective Samples Size (ESS) is too low, indicating posterior variances and tail quantiles may be unreliable.\n",
      "Running the chains for more iterations may help. See\n",
      "https://mc-stan.org/misc/warnings.html#tail-ess”\n"
     ]
    }
   ],
   "source": [
    "priors <- c(\n",
    "    prior(normal(-1, 1), class = b, coef = Z1, resp = S),\n",
    "    prior(normal(3, 1), class = b, coef = Z2, resp = S),\n",
    "    prior(normal(0, 1), class = b, coef = miXm, resp = S),\n",
    "    prior(normal(1, 1), class = b, coef = miS, resp = Y1),\n",
    "    prior(normal(1, 1), class = b, coef = miS, resp = Y2),\n",
    "    prior(normal(1, 1), class = b, coef = miS, resp = Y3),\n",
    "    prior(normal(-1, 1), class = b, coef = miXm, resp = Z1),\n",
    "    prior(normal(1, 1), class = b, coef = miXm, resp = Z2)\n",
    ")\n",
    "\n",
    "model <- brm(bf2 + bf3 + bf4 + bf5 + bf6 + bf7 + bf8 +set_rescor(FALSE), data = data, prior = priors, iter = 10000)"
   ]
  },
  {
   "cell_type": "code",
   "execution_count": 40,
   "metadata": {
    "vscode": {
     "languageId": "r"
    }
   },
   "outputs": [
    {
     "name": "stderr",
     "output_type": "stream",
     "text": [
      "Warning message:\n",
      "“Parts of the model have not converged (some Rhats are > 1.05). Be careful when analysing the results! We recommend running more iterations and/or setting stronger priors.”\n",
      "Warning message:\n",
      "“There were 664 divergent transitions after warmup. Increasing adapt_delta above 0.8 may help. See http://mc-stan.org/misc/warnings.html#divergent-transitions-after-warmup”\n"
     ]
    },
    {
     "data": {
      "text/html": [
       "<table class=\"dataframe\">\n",
       "<caption>A data.frame: 9 × 7</caption>\n",
       "<thead>\n",
       "\t<tr><th></th><th scope=col>Estimate</th><th scope=col>Est.Error</th><th scope=col>l-95% CI</th><th scope=col>u-95% CI</th><th scope=col>Rhat</th><th scope=col>Bulk_ESS</th><th scope=col>Tail_ESS</th></tr>\n",
       "\t<tr><th></th><th scope=col>&lt;dbl&gt;</th><th scope=col>&lt;dbl&gt;</th><th scope=col>&lt;dbl&gt;</th><th scope=col>&lt;dbl&gt;</th><th scope=col>&lt;dbl&gt;</th><th scope=col>&lt;dbl&gt;</th><th scope=col>&lt;dbl&gt;</th></tr>\n",
       "</thead>\n",
       "<tbody>\n",
       "\t<tr><th scope=row>S_Intercept</th><td> 0.06905141</td><td>0.1724986</td><td>-0.2825742</td><td>0.3999082</td><td>1.315267</td><td>  9.827193</td><td> 32.09461</td></tr>\n",
       "\t<tr><th scope=row>S_Z1</th><td> 0.89869333</td><td>1.6579175</td><td>-2.5793405</td><td>2.7331050</td><td>1.543981</td><td>  7.284443</td><td> 32.36529</td></tr>\n",
       "\t<tr><th scope=row>S_Z2</th><td> 2.03673246</td><td>1.0634827</td><td>-0.4130513</td><td>4.0731939</td><td>1.037770</td><td>728.170964</td><td>302.97747</td></tr>\n",
       "\t<tr><th scope=row>S_miXm</th><td> 0.44247218</td><td>1.3807218</td><td>-2.4038597</td><td>2.4651162</td><td>1.510760</td><td>  7.269149</td><td> 31.24461</td></tr>\n",
       "\t<tr><th scope=row>Y1_miS</th><td>-0.42802128</td><td>0.8647176</td><td>-1.3842493</td><td>1.3977658</td><td>1.556024</td><td>  7.324673</td><td> 35.54158</td></tr>\n",
       "\t<tr><th scope=row>Y2_miS</th><td>-0.42474178</td><td>0.8581258</td><td>-1.3718103</td><td>1.3876980</td><td>1.556021</td><td>  7.324992</td><td> 34.33362</td></tr>\n",
       "\t<tr><th scope=row>Y3_miS</th><td>-0.42963902</td><td>0.8680734</td><td>-1.3893906</td><td>1.4037978</td><td>1.556055</td><td>  7.322983</td><td> 34.79631</td></tr>\n",
       "\t<tr><th scope=row>Z1_miXm</th><td>-0.19071023</td><td>0.5768238</td><td>-2.0377848</td><td>0.2981241</td><td>1.380525</td><td> 12.931001</td><td> 42.24953</td></tr>\n",
       "\t<tr><th scope=row>Z2_miXm</th><td> 0.08172883</td><td>0.6001508</td><td>-0.5748421</td><td>1.8376512</td><td>1.396198</td><td>  8.427494</td><td> 34.18448</td></tr>\n",
       "</tbody>\n",
       "</table>\n"
      ],
      "text/latex": [
       "A data.frame: 9 × 7\n",
       "\\begin{tabular}{r|lllllll}\n",
       "  & Estimate & Est.Error & l-95\\% CI & u-95\\% CI & Rhat & Bulk\\_ESS & Tail\\_ESS\\\\\n",
       "  & <dbl> & <dbl> & <dbl> & <dbl> & <dbl> & <dbl> & <dbl>\\\\\n",
       "\\hline\n",
       "\tS\\_Intercept &  0.06905141 & 0.1724986 & -0.2825742 & 0.3999082 & 1.315267 &   9.827193 &  32.09461\\\\\n",
       "\tS\\_Z1 &  0.89869333 & 1.6579175 & -2.5793405 & 2.7331050 & 1.543981 &   7.284443 &  32.36529\\\\\n",
       "\tS\\_Z2 &  2.03673246 & 1.0634827 & -0.4130513 & 4.0731939 & 1.037770 & 728.170964 & 302.97747\\\\\n",
       "\tS\\_miXm &  0.44247218 & 1.3807218 & -2.4038597 & 2.4651162 & 1.510760 &   7.269149 &  31.24461\\\\\n",
       "\tY1\\_miS & -0.42802128 & 0.8647176 & -1.3842493 & 1.3977658 & 1.556024 &   7.324673 &  35.54158\\\\\n",
       "\tY2\\_miS & -0.42474178 & 0.8581258 & -1.3718103 & 1.3876980 & 1.556021 &   7.324992 &  34.33362\\\\\n",
       "\tY3\\_miS & -0.42963902 & 0.8680734 & -1.3893906 & 1.4037978 & 1.556055 &   7.322983 &  34.79631\\\\\n",
       "\tZ1\\_miXm & -0.19071023 & 0.5768238 & -2.0377848 & 0.2981241 & 1.380525 &  12.931001 &  42.24953\\\\\n",
       "\tZ2\\_miXm &  0.08172883 & 0.6001508 & -0.5748421 & 1.8376512 & 1.396198 &   8.427494 &  34.18448\\\\\n",
       "\\end{tabular}\n"
      ],
      "text/markdown": [
       "\n",
       "A data.frame: 9 × 7\n",
       "\n",
       "| <!--/--> | Estimate &lt;dbl&gt; | Est.Error &lt;dbl&gt; | l-95% CI &lt;dbl&gt; | u-95% CI &lt;dbl&gt; | Rhat &lt;dbl&gt; | Bulk_ESS &lt;dbl&gt; | Tail_ESS &lt;dbl&gt; |\n",
       "|---|---|---|---|---|---|---|---|\n",
       "| S_Intercept |  0.06905141 | 0.1724986 | -0.2825742 | 0.3999082 | 1.315267 |   9.827193 |  32.09461 |\n",
       "| S_Z1 |  0.89869333 | 1.6579175 | -2.5793405 | 2.7331050 | 1.543981 |   7.284443 |  32.36529 |\n",
       "| S_Z2 |  2.03673246 | 1.0634827 | -0.4130513 | 4.0731939 | 1.037770 | 728.170964 | 302.97747 |\n",
       "| S_miXm |  0.44247218 | 1.3807218 | -2.4038597 | 2.4651162 | 1.510760 |   7.269149 |  31.24461 |\n",
       "| Y1_miS | -0.42802128 | 0.8647176 | -1.3842493 | 1.3977658 | 1.556024 |   7.324673 |  35.54158 |\n",
       "| Y2_miS | -0.42474178 | 0.8581258 | -1.3718103 | 1.3876980 | 1.556021 |   7.324992 |  34.33362 |\n",
       "| Y3_miS | -0.42963902 | 0.8680734 | -1.3893906 | 1.4037978 | 1.556055 |   7.322983 |  34.79631 |\n",
       "| Z1_miXm | -0.19071023 | 0.5768238 | -2.0377848 | 0.2981241 | 1.380525 |  12.931001 |  42.24953 |\n",
       "| Z2_miXm |  0.08172883 | 0.6001508 | -0.5748421 | 1.8376512 | 1.396198 |   8.427494 |  34.18448 |\n",
       "\n"
      ],
      "text/plain": [
       "            Estimate    Est.Error l-95% CI   u-95% CI  Rhat     Bulk_ESS  \n",
       "S_Intercept  0.06905141 0.1724986 -0.2825742 0.3999082 1.315267   9.827193\n",
       "S_Z1         0.89869333 1.6579175 -2.5793405 2.7331050 1.543981   7.284443\n",
       "S_Z2         2.03673246 1.0634827 -0.4130513 4.0731939 1.037770 728.170964\n",
       "S_miXm       0.44247218 1.3807218 -2.4038597 2.4651162 1.510760   7.269149\n",
       "Y1_miS      -0.42802128 0.8647176 -1.3842493 1.3977658 1.556024   7.324673\n",
       "Y2_miS      -0.42474178 0.8581258 -1.3718103 1.3876980 1.556021   7.324992\n",
       "Y3_miS      -0.42963902 0.8680734 -1.3893906 1.4037978 1.556055   7.322983\n",
       "Z1_miXm     -0.19071023 0.5768238 -2.0377848 0.2981241 1.380525  12.931001\n",
       "Z2_miXm      0.08172883 0.6001508 -0.5748421 1.8376512 1.396198   8.427494\n",
       "            Tail_ESS \n",
       "S_Intercept  32.09461\n",
       "S_Z1         32.36529\n",
       "S_Z2        302.97747\n",
       "S_miXm       31.24461\n",
       "Y1_miS       35.54158\n",
       "Y2_miS       34.33362\n",
       "Y3_miS       34.79631\n",
       "Z1_miXm      42.24953\n",
       "Z2_miXm      34.18448"
      ]
     },
     "metadata": {},
     "output_type": "display_data"
    }
   ],
   "source": [
    "summary(model)$fixed"
   ]
  },
  {
   "cell_type": "code",
   "execution_count": 41,
   "metadata": {
    "vscode": {
     "languageId": "r"
    }
   },
   "outputs": [],
   "source": [
    "save(list = ls(), file = \"priors_brms.RData\")"
   ]
  }
 ],
 "metadata": {
  "kernelspec": {
   "display_name": "R",
   "language": "R",
   "name": "ir"
  },
  "language_info": {
   "codemirror_mode": "r",
   "file_extension": ".r",
   "mimetype": "text/x-r-source",
   "name": "R",
   "pygments_lexer": "r",
   "version": "4.2.2"
  },
  "orig_nbformat": 4
 },
 "nbformat": 4,
 "nbformat_minor": 2
}
