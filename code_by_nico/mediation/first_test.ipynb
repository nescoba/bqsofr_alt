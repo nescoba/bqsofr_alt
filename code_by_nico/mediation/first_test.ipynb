{
 "cells": [
  {
   "attachments": {},
   "cell_type": "markdown",
   "metadata": {},
   "source": [
    "# Bayesian SEM"
   ]
  },
  {
   "attachments": {},
   "cell_type": "markdown",
   "metadata": {},
   "source": [
    "## Preliminaries"
   ]
  },
  {
   "cell_type": "code",
   "execution_count": null,
   "metadata": {
    "vscode": {
     "languageId": "r"
    }
   },
   "outputs": [],
   "source": [
    "load(\"first_test.RData\")"
   ]
  },
  {
   "cell_type": "code",
   "execution_count": 4,
   "metadata": {
    "vscode": {
     "languageId": "r"
    }
   },
   "outputs": [
    {
     "name": "stderr",
     "output_type": "stream",
     "text": [
      "Loading required package: Rcpp\n",
      "\n",
      "Loading 'brms' package (version 2.18.0). Useful instructions\n",
      "can be found by typing help('brms'). A more detailed introduction\n",
      "to the package is available through vignette('brms_overview').\n",
      "\n",
      "\n",
      "Attaching package: ‘brms’\n",
      "\n",
      "\n",
      "The following object is masked from ‘package:stats’:\n",
      "\n",
      "    ar\n",
      "\n",
      "\n"
     ]
    }
   ],
   "source": [
    "library(manymome)\n",
    "library(lavaan)\n",
    "library(brms)"
   ]
  },
  {
   "cell_type": "code",
   "execution_count": 2,
   "metadata": {
    "vscode": {
     "languageId": "r"
    }
   },
   "outputs": [
    {
     "data": {
      "text/html": [
       "<table class=\"dataframe\">\n",
       "<caption>A data.frame: 6 × 14</caption>\n",
       "<thead>\n",
       "\t<tr><th></th><th scope=col>x01</th><th scope=col>x02</th><th scope=col>x03</th><th scope=col>x04</th><th scope=col>x05</th><th scope=col>x06</th><th scope=col>x07</th><th scope=col>x08</th><th scope=col>x09</th><th scope=col>x10</th><th scope=col>x11</th><th scope=col>x12</th><th scope=col>x13</th><th scope=col>x14</th></tr>\n",
       "\t<tr><th></th><th scope=col>&lt;dbl&gt;</th><th scope=col>&lt;dbl&gt;</th><th scope=col>&lt;dbl&gt;</th><th scope=col>&lt;dbl&gt;</th><th scope=col>&lt;dbl&gt;</th><th scope=col>&lt;dbl&gt;</th><th scope=col>&lt;dbl&gt;</th><th scope=col>&lt;dbl&gt;</th><th scope=col>&lt;dbl&gt;</th><th scope=col>&lt;dbl&gt;</th><th scope=col>&lt;dbl&gt;</th><th scope=col>&lt;dbl&gt;</th><th scope=col>&lt;dbl&gt;</th><th scope=col>&lt;dbl&gt;</th></tr>\n",
       "</thead>\n",
       "<tbody>\n",
       "\t<tr><th scope=row>1</th><td> 0.23576013</td><td>-1.05037417</td><td>-0.2040220</td><td> 2.7002823</td><td>-0.11505670</td><td> 2.1698611</td><td> 1.6852091</td><td> 0.2360732</td><td>-1.9410730</td><td>-2.1475869</td><td>-0.8945538</td><td>-0.51234386</td><td>-0.6378251</td><td>-1.5415323</td></tr>\n",
       "\t<tr><th scope=row>2</th><td> 0.11337970</td><td> 0.27366418</td><td> 0.8584178</td><td>-0.4686163</td><td>-1.03172258</td><td> 0.7874647</td><td>-0.2813761</td><td>-0.9216282</td><td> 0.7760754</td><td>-1.4925370</td><td>-0.7365507</td><td> 1.03750725</td><td>-0.7504301</td><td>-1.4359552</td></tr>\n",
       "\t<tr><th scope=row>3</th><td>-0.08915241</td><td>-0.05083648</td><td> 2.4274752</td><td>-0.2252800</td><td>-0.06686246</td><td>-1.6325857</td><td>-1.8842986</td><td>-2.4352690</td><td>-0.3012754</td><td>-0.2454858</td><td> 0.4550789</td><td>-0.68057390</td><td> 0.1880389</td><td>-0.6560311</td></tr>\n",
       "\t<tr><th scope=row>4</th><td>-0.48256707</td><td> 1.14124531</td><td>-0.7289318</td><td>-0.5325998</td><td> 1.02918776</td><td>-0.5794417</td><td>-0.9199805</td><td>-1.5210671</td><td>-1.5298175</td><td>-0.5369419</td><td>-2.1625877</td><td>-1.57768509</td><td>-0.8356664</td><td>-0.1963328</td></tr>\n",
       "\t<tr><th scope=row>5</th><td>-0.82143162</td><td>-0.32768509</td><td>-0.8794389</td><td>-0.2084861</td><td> 0.30020723</td><td>-2.0980021</td><td>-0.4602843</td><td>-1.7961560</td><td>-0.1309144</td><td>-2.7187970</td><td>-0.4373113</td><td>-1.16013401</td><td> 0.2917883</td><td>-2.5906322</td></tr>\n",
       "\t<tr><th scope=row>6</th><td> 0.90501420</td><td> 0.32949507</td><td> 0.2525691</td><td> 0.9569735</td><td>-1.84036094</td><td>-0.3608671</td><td> 0.8296289</td><td>-0.4051225</td><td>-1.0937565</td><td>-2.0898469</td><td> 0.3949706</td><td>-0.01419469</td><td>-0.3025810</td><td> 2.2394808</td></tr>\n",
       "</tbody>\n",
       "</table>\n"
      ],
      "text/latex": [
       "A data.frame: 6 × 14\n",
       "\\begin{tabular}{r|llllllllllllll}\n",
       "  & x01 & x02 & x03 & x04 & x05 & x06 & x07 & x08 & x09 & x10 & x11 & x12 & x13 & x14\\\\\n",
       "  & <dbl> & <dbl> & <dbl> & <dbl> & <dbl> & <dbl> & <dbl> & <dbl> & <dbl> & <dbl> & <dbl> & <dbl> & <dbl> & <dbl>\\\\\n",
       "\\hline\n",
       "\t1 &  0.23576013 & -1.05037417 & -0.2040220 &  2.7002823 & -0.11505670 &  2.1698611 &  1.6852091 &  0.2360732 & -1.9410730 & -2.1475869 & -0.8945538 & -0.51234386 & -0.6378251 & -1.5415323\\\\\n",
       "\t2 &  0.11337970 &  0.27366418 &  0.8584178 & -0.4686163 & -1.03172258 &  0.7874647 & -0.2813761 & -0.9216282 &  0.7760754 & -1.4925370 & -0.7365507 &  1.03750725 & -0.7504301 & -1.4359552\\\\\n",
       "\t3 & -0.08915241 & -0.05083648 &  2.4274752 & -0.2252800 & -0.06686246 & -1.6325857 & -1.8842986 & -2.4352690 & -0.3012754 & -0.2454858 &  0.4550789 & -0.68057390 &  0.1880389 & -0.6560311\\\\\n",
       "\t4 & -0.48256707 &  1.14124531 & -0.7289318 & -0.5325998 &  1.02918776 & -0.5794417 & -0.9199805 & -1.5210671 & -1.5298175 & -0.5369419 & -2.1625877 & -1.57768509 & -0.8356664 & -0.1963328\\\\\n",
       "\t5 & -0.82143162 & -0.32768509 & -0.8794389 & -0.2084861 &  0.30020723 & -2.0980021 & -0.4602843 & -1.7961560 & -0.1309144 & -2.7187970 & -0.4373113 & -1.16013401 &  0.2917883 & -2.5906322\\\\\n",
       "\t6 &  0.90501420 &  0.32949507 &  0.2525691 &  0.9569735 & -1.84036094 & -0.3608671 &  0.8296289 & -0.4051225 & -1.0937565 & -2.0898469 &  0.3949706 & -0.01419469 & -0.3025810 &  2.2394808\\\\\n",
       "\\end{tabular}\n"
      ],
      "text/markdown": [
       "\n",
       "A data.frame: 6 × 14\n",
       "\n",
       "| <!--/--> | x01 &lt;dbl&gt; | x02 &lt;dbl&gt; | x03 &lt;dbl&gt; | x04 &lt;dbl&gt; | x05 &lt;dbl&gt; | x06 &lt;dbl&gt; | x07 &lt;dbl&gt; | x08 &lt;dbl&gt; | x09 &lt;dbl&gt; | x10 &lt;dbl&gt; | x11 &lt;dbl&gt; | x12 &lt;dbl&gt; | x13 &lt;dbl&gt; | x14 &lt;dbl&gt; |\n",
       "|---|---|---|---|---|---|---|---|---|---|---|---|---|---|---|\n",
       "| 1 |  0.23576013 | -1.05037417 | -0.2040220 |  2.7002823 | -0.11505670 |  2.1698611 |  1.6852091 |  0.2360732 | -1.9410730 | -2.1475869 | -0.8945538 | -0.51234386 | -0.6378251 | -1.5415323 |\n",
       "| 2 |  0.11337970 |  0.27366418 |  0.8584178 | -0.4686163 | -1.03172258 |  0.7874647 | -0.2813761 | -0.9216282 |  0.7760754 | -1.4925370 | -0.7365507 |  1.03750725 | -0.7504301 | -1.4359552 |\n",
       "| 3 | -0.08915241 | -0.05083648 |  2.4274752 | -0.2252800 | -0.06686246 | -1.6325857 | -1.8842986 | -2.4352690 | -0.3012754 | -0.2454858 |  0.4550789 | -0.68057390 |  0.1880389 | -0.6560311 |\n",
       "| 4 | -0.48256707 |  1.14124531 | -0.7289318 | -0.5325998 |  1.02918776 | -0.5794417 | -0.9199805 | -1.5210671 | -1.5298175 | -0.5369419 | -2.1625877 | -1.57768509 | -0.8356664 | -0.1963328 |\n",
       "| 5 | -0.82143162 | -0.32768509 | -0.8794389 | -0.2084861 |  0.30020723 | -2.0980021 | -0.4602843 | -1.7961560 | -0.1309144 | -2.7187970 | -0.4373113 | -1.16013401 |  0.2917883 | -2.5906322 |\n",
       "| 6 |  0.90501420 |  0.32949507 |  0.2525691 |  0.9569735 | -1.84036094 | -0.3608671 |  0.8296289 | -0.4051225 | -1.0937565 | -2.0898469 |  0.3949706 | -0.01419469 | -0.3025810 |  2.2394808 |\n",
       "\n"
      ],
      "text/plain": [
       "  x01         x02         x03        x04        x05         x06       \n",
       "1  0.23576013 -1.05037417 -0.2040220  2.7002823 -0.11505670  2.1698611\n",
       "2  0.11337970  0.27366418  0.8584178 -0.4686163 -1.03172258  0.7874647\n",
       "3 -0.08915241 -0.05083648  2.4274752 -0.2252800 -0.06686246 -1.6325857\n",
       "4 -0.48256707  1.14124531 -0.7289318 -0.5325998  1.02918776 -0.5794417\n",
       "5 -0.82143162 -0.32768509 -0.8794389 -0.2084861  0.30020723 -2.0980021\n",
       "6  0.90501420  0.32949507  0.2525691  0.9569735 -1.84036094 -0.3608671\n",
       "  x07        x08        x09        x10        x11        x12         x13       \n",
       "1  1.6852091  0.2360732 -1.9410730 -2.1475869 -0.8945538 -0.51234386 -0.6378251\n",
       "2 -0.2813761 -0.9216282  0.7760754 -1.4925370 -0.7365507  1.03750725 -0.7504301\n",
       "3 -1.8842986 -2.4352690 -0.3012754 -0.2454858  0.4550789 -0.68057390  0.1880389\n",
       "4 -0.9199805 -1.5210671 -1.5298175 -0.5369419 -2.1625877 -1.57768509 -0.8356664\n",
       "5 -0.4602843 -1.7961560 -0.1309144 -2.7187970 -0.4373113 -1.16013401  0.2917883\n",
       "6  0.8296289 -0.4051225 -1.0937565 -2.0898469  0.3949706 -0.01419469 -0.3025810\n",
       "  x14       \n",
       "1 -1.5415323\n",
       "2 -1.4359552\n",
       "3 -0.6560311\n",
       "4 -0.1963328\n",
       "5 -2.5906322\n",
       "6  2.2394808"
      ]
     },
     "metadata": {},
     "output_type": "display_data"
    }
   ],
   "source": [
    "dat <- data_sem \n",
    "head(dat)"
   ]
  },
  {
   "attachments": {},
   "cell_type": "markdown",
   "metadata": {},
   "source": [
    "## lavaan syntax fails"
   ]
  },
  {
   "cell_type": "code",
   "execution_count": 8,
   "metadata": {
    "vscode": {
     "languageId": "r"
    }
   },
   "outputs": [
    {
     "ename": "ERROR",
     "evalue": "Error in brmsformula(formula, ..., flist = flist, family = family, autocor = autocor, : argument \"formula\" is missing, with no default\n",
     "output_type": "error",
     "traceback": [
      "Error in brmsformula(formula, ..., flist = flist, family = family, autocor = autocor, : argument \"formula\" is missing, with no default\nTraceback:\n",
      "1. bf(f1 = ~x01 + x02 + x03)",
      "2. brmsformula(formula, ..., flist = flist, family = family, autocor = autocor, \n .     nl = nl, loop = loop, center = center, cmc = cmc, sparse = sparse, \n .     decomp = decomp)",
      "3. is.brmsformula(formula)"
     ]
    }
   ],
   "source": [
    "# Writing the formulas that describe the dependency structure of the model\n",
    "# This fails\n",
    "\n",
    "f1_form <- bf(f1 =~ x01 + x02 + x03)\n",
    "f2_form <- bf(f2 =~ x04 + x05 + x06 + x07)\n",
    "f3_form <- bf(f3 =~ x08 + x09 + x10)\n",
    "f4_form <- bf(f4 =~ x11 + x12 + x13 + x14)\n",
    "f3_lat <- bf(f3 ~ f1 + f2)\n",
    "f4_lat <- bf(f4 ~ f1 + f3)\n",
    "\n",
    "fit_brms <- brm(f1_form + f2_form + f3_form + f4_form + f3_lat + f4_lat + set_rescor(FALSE), data = dat, iter = 2000, chains = 2, cores = 4, seed = 123)"
   ]
  },
  {
   "attachments": {},
   "cell_type": "markdown",
   "metadata": {},
   "source": [
    "## Alternatives\n",
    "\n",
    "Apparently, brms does not have this capability natively. There was discussion [here](https://github.com/paul-buerkner/brms/issues/304), and it looks like it will be implemented in brms 3.0 per [this](https://github.com/paul-buerkner/brms/milestone/20). But nothing yet. \n",
    "\n",
    "Currently, there seem to be two alternatives: \n",
    "- Mimic this behavior using the `mi()` function from brms, as described [here](https://scottclaessens.github.io/blog/2020/brmsLV/)\n",
    "- Use blavaan instead. It was originally built on top of JAGS, but now it works with Stan. See [this](https://arxiv.org/pdf/2008.07733.pdf)\n"
   ]
  },
  {
   "cell_type": "code",
   "execution_count": 13,
   "metadata": {
    "vscode": {
     "languageId": "r"
    }
   },
   "outputs": [
    {
     "data": {
      "text/html": [
       "<table class=\"dataframe\">\n",
       "<caption>A lavaan.data.frame: 7 × 9</caption>\n",
       "<thead>\n",
       "\t<tr><th scope=col>lhs</th><th scope=col>op</th><th scope=col>rhs</th><th scope=col>est</th><th scope=col>se</th><th scope=col>z</th><th scope=col>pvalue</th><th scope=col>ci.lower</th><th scope=col>ci.upper</th></tr>\n",
       "\t<tr><th scope=col>&lt;chr&gt;</th><th scope=col>&lt;chr&gt;</th><th scope=col>&lt;chr&gt;</th><th scope=col>&lt;dbl&gt;</th><th scope=col>&lt;dbl&gt;</th><th scope=col>&lt;dbl&gt;</th><th scope=col>&lt;dbl&gt;</th><th scope=col>&lt;dbl&gt;</th><th scope=col>&lt;dbl&gt;</th></tr>\n",
       "</thead>\n",
       "<tbody>\n",
       "\t<tr><td>f2 </td><td>=~</td><td>x01</td><td>1.0000000</td><td>0.0000000</td><td>      NA</td><td>          NA</td><td>1.0000000</td><td>1.000000</td></tr>\n",
       "\t<tr><td>f2 </td><td>=~</td><td>x02</td><td>0.7968281</td><td>0.1340520</td><td>5.944170</td><td>2.778608e-09</td><td>0.5340909</td><td>1.059565</td></tr>\n",
       "\t<tr><td>x03</td><td>~ </td><td>f2 </td><td>1.3631511</td><td>0.2402049</td><td>5.674951</td><td>1.387281e-08</td><td>0.8923581</td><td>1.833944</td></tr>\n",
       "\t<tr><td>x01</td><td>~~</td><td>x01</td><td>1.0495644</td><td>0.1625866</td><td>6.455418</td><td>1.079208e-10</td><td>0.7309005</td><td>1.368228</td></tr>\n",
       "\t<tr><td>x02</td><td>~~</td><td>x02</td><td>1.0840369</td><td>0.1340419</td><td>8.087299</td><td>6.661338e-16</td><td>0.8213196</td><td>1.346754</td></tr>\n",
       "\t<tr><td>x03</td><td>~~</td><td>x03</td><td>0.8706706</td><td>0.2466138</td><td>3.530502</td><td>4.147723e-04</td><td>0.3873163</td><td>1.354025</td></tr>\n",
       "\t<tr><td>f2 </td><td>~~</td><td>f2 </td><td>0.7797276</td><td>0.1945913</td><td>4.007001</td><td>6.149460e-05</td><td>0.3983356</td><td>1.161120</td></tr>\n",
       "</tbody>\n",
       "</table>\n"
      ],
      "text/latex": [
       "A lavaan.data.frame: 7 × 9\n",
       "\\begin{tabular}{lllllllll}\n",
       " lhs & op & rhs & est & se & z & pvalue & ci.lower & ci.upper\\\\\n",
       " <chr> & <chr> & <chr> & <dbl> & <dbl> & <dbl> & <dbl> & <dbl> & <dbl>\\\\\n",
       "\\hline\n",
       "\t f2  & =\\textasciitilde{} & x01 & 1.0000000 & 0.0000000 &       NA &           NA & 1.0000000 & 1.000000\\\\\n",
       "\t f2  & =\\textasciitilde{} & x02 & 0.7968281 & 0.1340520 & 5.944170 & 2.778608e-09 & 0.5340909 & 1.059565\\\\\n",
       "\t x03 & \\textasciitilde{}  & f2  & 1.3631511 & 0.2402049 & 5.674951 & 1.387281e-08 & 0.8923581 & 1.833944\\\\\n",
       "\t x01 & \\textasciitilde{}\\textasciitilde{} & x01 & 1.0495644 & 0.1625866 & 6.455418 & 1.079208e-10 & 0.7309005 & 1.368228\\\\\n",
       "\t x02 & \\textasciitilde{}\\textasciitilde{} & x02 & 1.0840369 & 0.1340419 & 8.087299 & 6.661338e-16 & 0.8213196 & 1.346754\\\\\n",
       "\t x03 & \\textasciitilde{}\\textasciitilde{} & x03 & 0.8706706 & 0.2466138 & 3.530502 & 4.147723e-04 & 0.3873163 & 1.354025\\\\\n",
       "\t f2  & \\textasciitilde{}\\textasciitilde{} & f2  & 0.7797276 & 0.1945913 & 4.007001 & 6.149460e-05 & 0.3983356 & 1.161120\\\\\n",
       "\\end{tabular}\n"
      ],
      "text/markdown": [
       "\n",
       "A lavaan.data.frame: 7 × 9\n",
       "\n",
       "| lhs &lt;chr&gt; | op &lt;chr&gt; | rhs &lt;chr&gt; | est &lt;dbl&gt; | se &lt;dbl&gt; | z &lt;dbl&gt; | pvalue &lt;dbl&gt; | ci.lower &lt;dbl&gt; | ci.upper &lt;dbl&gt; |\n",
       "|---|---|---|---|---|---|---|---|---|\n",
       "| f2  | =~ | x01 | 1.0000000 | 0.0000000 |       NA |           NA | 1.0000000 | 1.000000 |\n",
       "| f2  | =~ | x02 | 0.7968281 | 0.1340520 | 5.944170 | 2.778608e-09 | 0.5340909 | 1.059565 |\n",
       "| x03 | ~  | f2  | 1.3631511 | 0.2402049 | 5.674951 | 1.387281e-08 | 0.8923581 | 1.833944 |\n",
       "| x01 | ~~ | x01 | 1.0495644 | 0.1625866 | 6.455418 | 1.079208e-10 | 0.7309005 | 1.368228 |\n",
       "| x02 | ~~ | x02 | 1.0840369 | 0.1340419 | 8.087299 | 6.661338e-16 | 0.8213196 | 1.346754 |\n",
       "| x03 | ~~ | x03 | 0.8706706 | 0.2466138 | 3.530502 | 4.147723e-04 | 0.3873163 | 1.354025 |\n",
       "| f2  | ~~ | f2  | 0.7797276 | 0.1945913 | 4.007001 | 6.149460e-05 | 0.3983356 | 1.161120 |\n",
       "\n"
      ],
      "text/plain": [
       "  lhs op rhs est       se        z        pvalue       ci.lower  ci.upper\n",
       "1 f2  =~ x01 1.0000000 0.0000000       NA           NA 1.0000000 1.000000\n",
       "2 f2  =~ x02 0.7968281 0.1340520 5.944170 2.778608e-09 0.5340909 1.059565\n",
       "3 x03 ~  f2  1.3631511 0.2402049 5.674951 1.387281e-08 0.8923581 1.833944\n",
       "4 x01 ~~ x01 1.0495644 0.1625866 6.455418 1.079208e-10 0.7309005 1.368228\n",
       "5 x02 ~~ x02 1.0840369 0.1340419 8.087299 6.661338e-16 0.8213196 1.346754\n",
       "6 x03 ~~ x03 0.8706706 0.2466138 3.530502 4.147723e-04 0.3873163 1.354025\n",
       "7 f2  ~~ f2  0.7797276 0.1945913 4.007001 6.149460e-05 0.3983356 1.161120"
      ]
     },
     "metadata": {},
     "output_type": "display_data"
    }
   ],
   "source": [
    "# For reference, let us fit a simple model with lavaan\n",
    "mod <- \n",
    "\"\n",
    "f2 =~ x01 + x02\n",
    "x03 ~ f2\n",
    "\"\n",
    "\n",
    "fit_lavaan <- sem(mod, data = dat)\n",
    "parameterEstimates(fit_lavaan)"
   ]
  },
  {
   "cell_type": "code",
   "execution_count": 15,
   "metadata": {
    "vscode": {
     "languageId": "r"
    }
   },
   "outputs": [
    {
     "name": "stderr",
     "output_type": "stream",
     "text": [
      "Compiling Stan program...\n",
      "\n",
      "Start sampling\n",
      "\n",
      "Warning message:\n",
      "“There were 1836 transitions after warmup that exceeded the maximum treedepth. Increase max_treedepth above 10. See\n",
      "https://mc-stan.org/misc/warnings.html#maximum-treedepth-exceeded”\n",
      "Warning message:\n",
      "“There were 1 chains where the estimated Bayesian Fraction of Missing Information was low. See\n",
      "https://mc-stan.org/misc/warnings.html#bfmi-low”\n",
      "Warning message:\n",
      "“Examine the pairs() plot to diagnose sampling problems\n",
      "”\n",
      "Warning message:\n",
      "“The largest R-hat is 1.08, indicating chains have not mixed.\n",
      "Running the chains for more iterations may help. See\n",
      "https://mc-stan.org/misc/warnings.html#r-hat”\n",
      "Warning message:\n",
      "“Bulk Effective Samples Size (ESS) is too low, indicating posterior means and medians may be unreliable.\n",
      "Running the chains for more iterations may help. See\n",
      "https://mc-stan.org/misc/warnings.html#bulk-ess”\n",
      "Warning message:\n",
      "“Tail Effective Samples Size (ESS) is too low, indicating posterior variances and tail quantiles may be unreliable.\n",
      "Running the chains for more iterations may help. See\n",
      "https://mc-stan.org/misc/warnings.html#tail-ess”\n",
      "Warning message:\n",
      "“Parts of the model have not converged (some Rhats are > 1.05). Be careful when analysing the results! We recommend running more iterations and/or setting stronger priors.”\n"
     ]
    },
    {
     "data": {
      "text/plain": [
       " Family: MV(gaussian, gaussian, gaussian, gaussian) \n",
       "  Links: mu = identity; sigma = identity\n",
       "         mu = identity; sigma = identity\n",
       "         mu = identity; sigma = identity\n",
       "         mu = identity; sigma = identity \n",
       "Formula: x01 ~ 0 + mi(f1) \n",
       "         x02 ~ 0 + mi(f1) \n",
       "         f1 | mi() ~ 0 \n",
       "         x03 ~ 0 + mi(f1) \n",
       "   Data: dat (Number of observations: 200) \n",
       "  Draws: 2 chains, each with iter = 2000; warmup = 1000; thin = 1;\n",
       "         total post-warmup draws = 2000\n",
       "\n",
       "Population-Level Effects: \n",
       "         Estimate Est.Error l-95% CI u-95% CI Rhat Bulk_ESS Tail_ESS\n",
       "x01_mif1     1.00      0.00     1.00     1.00 1.00     2144     1381\n",
       "x02_mif1     0.83      0.14     0.58     1.13 1.01      202      604\n",
       "x03_mif1     1.47      0.31     0.99     2.24 1.08       27       27\n",
       "\n",
       "Family Specific Parameters: \n",
       "          Estimate Est.Error l-95% CI u-95% CI Rhat Bulk_ESS Tail_ESS\n",
       "sigma_x01     1.05      0.08     0.89     1.20 1.04       61      373\n",
       "sigma_x02     1.05      0.07     0.93     1.20 1.01      213     1097\n",
       "sigma_f1      0.85      0.11     0.61     1.07 1.07       34       35\n",
       "sigma_x03     0.91      0.17     0.52     1.17 1.05       34       80\n",
       "\n",
       "Draws were sampled using sampling(NUTS). For each parameter, Bulk_ESS\n",
       "and Tail_ESS are effective sample size measures, and Rhat is the potential\n",
       "scale reduction factor on split chains (at convergence, Rhat = 1)."
      ]
     },
     "metadata": {},
     "output_type": "display_data"
    }
   ],
   "source": [
    "# Using mi()\n",
    "\n",
    "# Creating empty column for the mediator\n",
    "dat$f1 <- as.numeric(NA)\n",
    "\n",
    "# Defining the dependency of the mediator on observed variables: \n",
    "bf1 <- bf(x01 ~ 0 + mi(f1))\n",
    "bf2 <- bf(x02 ~ 0 + mi(f1))\n",
    "\n",
    "# Telling brms that the mediator is a latent variable\n",
    "bf3 <- bf(f1 | mi() ~ 0)\n",
    "\n",
    "# Defining the dependency of the outcome on the mediator\n",
    "bf4 <- bf(x03 ~ 0 + mi(f1))\n",
    "\n",
    "# Fitting the brms object \n",
    "fit_brms <- brm(bf1 + bf2 + bf3 + bf4 + set_rescor(FALSE), data = dat, iter = 2000, chains = 2, cores = 4, seed = 123, prior = prior(normal(1, 0.00001), coef = mif1, resp = x01))\n",
    "\n",
    "summary(fit_brms)"
   ]
  },
  {
   "cell_type": "code",
   "execution_count": 1,
   "metadata": {
    "vscode": {
     "languageId": "r"
    }
   },
   "outputs": [
    {
     "name": "stderr",
     "output_type": "stream",
     "text": [
      "Warning message in save(file = \"first_test.RData\"):\n",
      "“nothing specified to be save()d”\n"
     ]
    }
   ],
   "source": [
    "save(file = \"first_test.RData\")"
   ]
  }
 ],
 "metadata": {
  "kernelspec": {
   "display_name": "R",
   "language": "R",
   "name": "ir"
  },
  "language_info": {
   "codemirror_mode": "r",
   "file_extension": ".r",
   "mimetype": "text/x-r-source",
   "name": "R",
   "pygments_lexer": "r",
   "version": "4.2.2"
  },
  "orig_nbformat": 4
 },
 "nbformat": 4,
 "nbformat_minor": 2
}
