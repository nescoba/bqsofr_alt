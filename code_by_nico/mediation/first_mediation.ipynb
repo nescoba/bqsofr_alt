{
 "cells": [
  {
   "attachments": {},
   "cell_type": "markdown",
   "metadata": {},
   "source": [
    "# Mediation analysis"
   ]
  },
  {
   "cell_type": "code",
   "execution_count": 2,
   "metadata": {
    "vscode": {
     "languageId": "r"
    }
   },
   "outputs": [
    {
     "name": "stderr",
     "output_type": "stream",
     "text": [
      "Loading required package: Rcpp\n",
      "\n",
      "Loading 'brms' package (version 2.18.0). Useful instructions\n",
      "can be found by typing help('brms'). A more detailed introduction\n",
      "to the package is available through vignette('brms_overview').\n",
      "\n",
      "\n",
      "Attaching package: ‘brms’\n",
      "\n",
      "\n",
      "The following object is masked from ‘package:stats’:\n",
      "\n",
      "    ar\n",
      "\n",
      "\n"
     ]
    }
   ],
   "source": [
    "library(brms)"
   ]
  },
  {
   "attachments": {},
   "cell_type": "markdown",
   "metadata": {},
   "source": [
    "## Preliminaries"
   ]
  },
  {
   "cell_type": "code",
   "execution_count": 1,
   "metadata": {
    "vscode": {
     "languageId": "r"
    }
   },
   "outputs": [],
   "source": [
    "N <- 3000\n",
    "M <- 2\n",
    "K <- 4\n",
    "J <- 3\n",
    "\n",
    "mu <- 0\n",
    "al <- matrix(c(-1, 1), ncol = 1)\n",
    "Z <- matrix(rnorm(M*N, sd = .5), ncol = N)\n",
    "ep_x <- matrix(rnorm(N, sd = 0.1), ncol = N)\n",
    "X <- t(al) %*% Z + ep_x\n",
    "\n",
    "U <- matrix(rnorm(K*N, sd = .2), ncol = N)\n",
    "W <- sweep(U, 2, X, \"+\")\n",
    "\n",
    "h_1 <- function(x) -x\n",
    "h_2 <- function(x) 3*x\n",
    "f <- function(x) 2*x\n",
    "eta <- rnorm(N)\n",
    "S <- f(X) + h_1(Z[1, ]) + h_2(Z[2, ]) + eta\n",
    "S <- matrix(S, ncol = N)\n",
    "\n",
    "beta0 <- matrix(rep(0, J*N), ncol = N)\n",
    "beta1 <- matrix(rep(1, J), ncol = 1)\n",
    "ep_y <- matrix(rnorm(J * N, sd = 0.1), ncol = N)\n",
    "Y <- beta0 + beta1 %*% S + ep_y\n",
    "\n",
    "data <- as.data.frame(t(rbind(Z,X,W,Y)))\n",
    "names(data) <- c(\"Z1\", \"Z2\", \"X\",\"W1\", \"W2\", \"W3\", \"W4\", \"Y1\", \"Y2\", \"Y3\")\n",
    "\n",
    "data$Xm <- as.numeric(NA)\n",
    "data$Sm <- as.numeric(NA)\n",
    "\n"
   ]
  },
  {
   "attachments": {},
   "cell_type": "markdown",
   "metadata": {},
   "source": [
    "## Models"
   ]
  },
  {
   "cell_type": "code",
   "execution_count": 4,
   "metadata": {
    "vscode": {
     "languageId": "r"
    }
   },
   "outputs": [
    {
     "name": "stderr",
     "output_type": "stream",
     "text": [
      "Compiling Stan program...\n",
      "\n",
      "Start sampling\n",
      "\n",
      "Warning message:\n",
      "“The largest R-hat is 3.04, indicating chains have not mixed.\n",
      "Running the chains for more iterations may help. See\n",
      "https://mc-stan.org/misc/warnings.html#r-hat”\n",
      "Warning message:\n",
      "“Bulk Effective Samples Size (ESS) is too low, indicating posterior means and medians may be unreliable.\n",
      "Running the chains for more iterations may help. See\n",
      "https://mc-stan.org/misc/warnings.html#bulk-ess”\n",
      "Warning message:\n",
      "“Tail Effective Samples Size (ESS) is too low, indicating posterior variances and tail quantiles may be unreliable.\n",
      "Running the chains for more iterations may help. See\n",
      "https://mc-stan.org/misc/warnings.html#tail-ess”\n"
     ]
    }
   ],
   "source": [
    "bf2 <- bf(Sm|mi() ~ mi(Xm) + Z1 + Z2)\n",
    "bf3 <- bf(Y1 ~ 0 + mi(Sm))\n",
    "bf4 <- bf(Y2 ~ 0 + mi(Sm))\n",
    "bf5 <- bf(Y3 ~ 0 + mi(Sm))\n",
    "bf8 <- bf(Xm|mi() ~ Z1 + Z2)\n",
    "bf9 <- bf(W1 ~ 0 + mi(Xm))\n",
    "bf10 <- bf(W2 ~ 0 + mi(Xm))\n",
    "bf11 <- bf(W3 ~ 0 + mi(Xm))\n",
    "bf12 <- bf(W4 ~ 0 + mi(Xm))\n",
    "\n",
    "priors <- c(\n",
    "    prior(normal(-1, 1), class = b, coef = Z1, resp = Sm),\n",
    "    prior(normal(3, 1), class = b, coef = Z2, resp = Sm),\n",
    "    prior(normal(2, 1), class = b, coef = miXm, resp = Sm),\n",
    "    prior(normal(1, 1), class = b, coef = miSm, resp = Y1),\n",
    "    prior(normal(1, 1), class = b, coef = miSm, resp = Y2),\n",
    "    prior(normal(1, 1), class = b, coef = miSm, resp = Y3),\n",
    "    prior(normal(-1, 1), class = b, coef = Z1, resp = Xm),\n",
    "    prior(normal(1, 1), class = b, coef = Z2, resp = Xm),\n",
    "    prior(normal(1, 0.0001), class = b, coef = miXm, resp = W1),\n",
    "    prior(normal(1, 0.0001), class = b, coef = miXm, resp = W2),\n",
    "    prior(normal(1, 0.0001), class = b, coef = miXm, resp = W3),\n",
    "    prior(normal(1, 0.0001), class = b, coef = miXm, resp = W4)\n",
    ")\n",
    "\n",
    "model <- brm(bf2 + bf3 + bf4 + bf5 + bf8 + bf9 + bf10 + bf11 + bf12 +set_rescor(FALSE), \n",
    "data = data, prior = priors, iter = 4000, cores = 4)"
   ]
  },
  {
   "cell_type": "code",
   "execution_count": 5,
   "metadata": {
    "vscode": {
     "languageId": "r"
    }
   },
   "outputs": [
    {
     "name": "stderr",
     "output_type": "stream",
     "text": [
      "Compiling Stan program...\n",
      "\n",
      "Start sampling\n",
      "\n",
      "Warning message:\n",
      "“There were 4000 transitions after warmup that exceeded the maximum treedepth. Increase max_treedepth above 10. See\n",
      "https://mc-stan.org/misc/warnings.html#maximum-treedepth-exceeded”\n",
      "Warning message:\n",
      "“There were 4 chains where the estimated Bayesian Fraction of Missing Information was low. See\n",
      "https://mc-stan.org/misc/warnings.html#bfmi-low”\n",
      "Warning message:\n",
      "“Examine the pairs() plot to diagnose sampling problems\n",
      "”\n",
      "Warning message:\n",
      "“The largest R-hat is 3.74, indicating chains have not mixed.\n",
      "Running the chains for more iterations may help. See\n",
      "https://mc-stan.org/misc/warnings.html#r-hat”\n",
      "Warning message:\n",
      "“Bulk Effective Samples Size (ESS) is too low, indicating posterior means and medians may be unreliable.\n",
      "Running the chains for more iterations may help. See\n",
      "https://mc-stan.org/misc/warnings.html#bulk-ess”\n",
      "Warning message:\n",
      "“Tail Effective Samples Size (ESS) is too low, indicating posterior variances and tail quantiles may be unreliable.\n",
      "Running the chains for more iterations may help. See\n",
      "https://mc-stan.org/misc/warnings.html#tail-ess”\n"
     ]
    }
   ],
   "source": [
    "bf2 <- bf(Sm|mi() ~ mi(Xm) + Z1 + Z2)\n",
    "bf3 <- bf(Y1 ~ 0 + mi(Sm) + Z1 + Z2)\n",
    "bf4 <- bf(Y2 ~ 0 + mi(Sm) + Z1 + Z2)\n",
    "bf5 <- bf(Y3 ~ 0 + mi(Sm) + Z1 + Z2)\n",
    "bf8 <- bf(Xm|mi() ~ Z1 + Z2)\n",
    "bf9 <- bf(W1 ~ 0 + mi(Xm))\n",
    "bf10 <- bf(W2 ~ 0 + mi(Xm))\n",
    "bf11 <- bf(W3 ~ 0 + mi(Xm))\n",
    "bf12 <- bf(W4 ~ 0 + mi(Xm))\n",
    "\n",
    "priors <- c(\n",
    "    prior(normal(-1, 1), class = b, coef = Z1, resp = Sm),\n",
    "    prior(normal(3, 1), class = b, coef = Z2, resp = Sm),\n",
    "    prior(normal(2, 1), class = b, coef = miXm, resp = Sm),\n",
    "    prior(normal(1, 1), class = b, coef = miSm, resp = Y1),\n",
    "    prior(normal(1, 1), class = b, coef = miSm, resp = Y2),\n",
    "    prior(normal(1, 1), class = b, coef = miSm, resp = Y3),\n",
    "    prior(normal(-1, 1), class = b, coef = Z1, resp = Xm),\n",
    "    prior(normal(1, 1), class = b, coef = Z2, resp = Xm),\n",
    "    prior(normal(1, 0.0001), class = b, coef = miXm, resp = W1),\n",
    "    prior(normal(1, 0.0001), class = b, coef = miXm, resp = W2),\n",
    "    prior(normal(1, 0.0001), class = b, coef = miXm, resp = W3),\n",
    "    prior(normal(1, 0.0001), class = b, coef = miXm, resp = W4), \n",
    "    prior(normal(0, 1), class = b, coef = Z1, resp = Y1),\n",
    "    prior(normal(0, 1), class = b, coef = Z2, resp = Y1),\n",
    "    prior(normal(0, 1), class = b, coef = Z1, resp = Y2),\n",
    "    prior(normal(0, 1), class = b, coef = Z2, resp = Y2),\n",
    "    prior(normal(0, 1), class = b, coef = Z1, resp = Y3),\n",
    "    prior(normal(0, 1), class = b, coef = Z2, resp = Y3)\n",
    ")\n",
    "\n",
    "model2 <- brm(bf2 + bf3 + bf4 + bf5 + bf8 + bf9 + bf10 + bf11 + bf12 +set_rescor(FALSE), \n",
    "data = data, prior = priors, iter = 4000, cores = 4)"
   ]
  },
  {
   "cell_type": "code",
   "execution_count": 6,
   "metadata": {
    "vscode": {
     "languageId": "r"
    }
   },
   "outputs": [
    {
     "name": "stderr",
     "output_type": "stream",
     "text": [
      "Warning message:\n",
      "“Parts of the model have not converged (some Rhats are > 1.05). Be careful when analysing the results! We recommend running more iterations and/or setting stronger priors.”\n"
     ]
    },
    {
     "data": {
      "text/html": [
       "<table class=\"dataframe\">\n",
       "<caption>A data.frame: 20 × 7</caption>\n",
       "<thead>\n",
       "\t<tr><th></th><th scope=col>Estimate</th><th scope=col>Est.Error</th><th scope=col>l-95% CI</th><th scope=col>u-95% CI</th><th scope=col>Rhat</th><th scope=col>Bulk_ESS</th><th scope=col>Tail_ESS</th></tr>\n",
       "\t<tr><th></th><th scope=col>&lt;dbl&gt;</th><th scope=col>&lt;dbl&gt;</th><th scope=col>&lt;dbl&gt;</th><th scope=col>&lt;dbl&gt;</th><th scope=col>&lt;dbl&gt;</th><th scope=col>&lt;dbl&gt;</th><th scope=col>&lt;dbl&gt;</th></tr>\n",
       "</thead>\n",
       "<tbody>\n",
       "\t<tr><th scope=row>Sm_Intercept</th><td>-0.0093126598</td><td>2.403631e-02</td><td>-0.064471820</td><td> 0.030982951</td><td>1.258442</td><td>  11.163973</td><td>  34.50435</td></tr>\n",
       "\t<tr><th scope=row>Xm_Intercept</th><td> 0.0003931555</td><td>2.570327e-03</td><td>-0.004588283</td><td> 0.005517164</td><td>1.000157</td><td>6094.207875</td><td>6585.00212</td></tr>\n",
       "\t<tr><th scope=row>Sm_Z1</th><td> 0.2018723645</td><td>9.764043e-01</td><td>-1.289233657</td><td> 2.533596080</td><td>1.648392</td><td>   6.475710</td><td>  19.75418</td></tr>\n",
       "\t<tr><th scope=row>Sm_Z2</th><td> 0.4725509744</td><td>1.261916e+00</td><td>-1.353400707</td><td> 2.450316462</td><td>2.071102</td><td>   5.283832</td><td>  26.24836</td></tr>\n",
       "\t<tr><th scope=row>Y1_Z1</th><td>-0.6720048682</td><td>8.427992e-01</td><td>-2.225550137</td><td> 1.074034277</td><td>1.704197</td><td>   6.347270</td><td>  20.25099</td></tr>\n",
       "\t<tr><th scope=row>Y1_Z2</th><td> 1.8092922671</td><td>1.564453e+00</td><td>-0.461399358</td><td> 4.464777936</td><td>2.401055</td><td>   4.900448</td><td>  22.66333</td></tr>\n",
       "\t<tr><th scope=row>Y2_Z1</th><td>-0.6772156630</td><td>8.403604e-01</td><td>-2.229117139</td><td> 1.067843209</td><td>1.704323</td><td>   6.347037</td><td>  19.92750</td></tr>\n",
       "\t<tr><th scope=row>Y2_Z2</th><td> 1.8163689453</td><td>1.560094e+00</td><td>-0.441870868</td><td> 4.466305556</td><td>2.400766</td><td>   4.900674</td><td>  22.50891</td></tr>\n",
       "\t<tr><th scope=row>Y3_Z1</th><td>-0.6785239896</td><td>8.433648e-01</td><td>-2.231313003</td><td> 1.068832649</td><td>1.704125</td><td>   6.347531</td><td>  19.84945</td></tr>\n",
       "\t<tr><th scope=row>Y3_Z2</th><td> 1.8015953962</td><td>1.565584e+00</td><td>-0.468320880</td><td> 4.460906189</td><td>2.401031</td><td>   4.900342</td><td>  22.72219</td></tr>\n",
       "\t<tr><th scope=row>Xm_Z1</th><td>-1.0069830233</td><td>5.111028e-03</td><td>-1.017037052</td><td>-0.997201978</td><td>1.000509</td><td>5662.387235</td><td>6092.76618</td></tr>\n",
       "\t<tr><th scope=row>Xm_Z2</th><td> 0.9871163621</td><td>5.065656e-03</td><td> 0.977191335</td><td> 0.996994543</td><td>1.000555</td><td>5628.425001</td><td>6025.46786</td></tr>\n",
       "\t<tr><th scope=row>Sm_miXm</th><td>-1.1883527879</td><td>1.745035e+00</td><td>-3.778756149</td><td> 1.754443450</td><td>2.855447</td><td>   4.593143</td><td>  25.60241</td></tr>\n",
       "\t<tr><th scope=row>Y1_miSm</th><td>-0.6021892318</td><td>1.284403e+00</td><td>-2.282063108</td><td> 1.534251872</td><td>3.092611</td><td>   4.520480</td><td>  20.69621</td></tr>\n",
       "\t<tr><th scope=row>Y2_miSm</th><td>-0.6004069794</td><td>1.280689e+00</td><td>-2.276206573</td><td> 1.529607652</td><td>3.092041</td><td>   4.520757</td><td>  21.99634</td></tr>\n",
       "\t<tr><th scope=row>Y3_miSm</th><td>-0.6025879583</td><td>1.285282e+00</td><td>-2.283694380</td><td> 1.534825617</td><td>3.092774</td><td>   4.520442</td><td>  21.97229</td></tr>\n",
       "\t<tr><th scope=row>W1_miXm</th><td> 1.0000019132</td><td>9.959598e-05</td><td> 0.999811484</td><td> 1.000203913</td><td>1.001001</td><td>7466.504833</td><td>4269.05813</td></tr>\n",
       "\t<tr><th scope=row>W2_miXm</th><td> 1.0000023611</td><td>1.000416e-04</td><td> 0.999809157</td><td> 1.000194736</td><td>1.002628</td><td>7377.539258</td><td>4760.02912</td></tr>\n",
       "\t<tr><th scope=row>W3_miXm</th><td> 0.9999978282</td><td>9.837110e-05</td><td> 0.999800785</td><td> 1.000190807</td><td>1.000421</td><td>7884.340614</td><td>4750.20366</td></tr>\n",
       "\t<tr><th scope=row>W4_miXm</th><td> 0.9999978445</td><td>9.876956e-05</td><td> 0.999800787</td><td> 1.000189603</td><td>1.001894</td><td>8246.319863</td><td>4601.33218</td></tr>\n",
       "</tbody>\n",
       "</table>\n"
      ],
      "text/latex": [
       "A data.frame: 20 × 7\n",
       "\\begin{tabular}{r|lllllll}\n",
       "  & Estimate & Est.Error & l-95\\% CI & u-95\\% CI & Rhat & Bulk\\_ESS & Tail\\_ESS\\\\\n",
       "  & <dbl> & <dbl> & <dbl> & <dbl> & <dbl> & <dbl> & <dbl>\\\\\n",
       "\\hline\n",
       "\tSm\\_Intercept & -0.0093126598 & 2.403631e-02 & -0.064471820 &  0.030982951 & 1.258442 &   11.163973 &   34.50435\\\\\n",
       "\tXm\\_Intercept &  0.0003931555 & 2.570327e-03 & -0.004588283 &  0.005517164 & 1.000157 & 6094.207875 & 6585.00212\\\\\n",
       "\tSm\\_Z1 &  0.2018723645 & 9.764043e-01 & -1.289233657 &  2.533596080 & 1.648392 &    6.475710 &   19.75418\\\\\n",
       "\tSm\\_Z2 &  0.4725509744 & 1.261916e+00 & -1.353400707 &  2.450316462 & 2.071102 &    5.283832 &   26.24836\\\\\n",
       "\tY1\\_Z1 & -0.6720048682 & 8.427992e-01 & -2.225550137 &  1.074034277 & 1.704197 &    6.347270 &   20.25099\\\\\n",
       "\tY1\\_Z2 &  1.8092922671 & 1.564453e+00 & -0.461399358 &  4.464777936 & 2.401055 &    4.900448 &   22.66333\\\\\n",
       "\tY2\\_Z1 & -0.6772156630 & 8.403604e-01 & -2.229117139 &  1.067843209 & 1.704323 &    6.347037 &   19.92750\\\\\n",
       "\tY2\\_Z2 &  1.8163689453 & 1.560094e+00 & -0.441870868 &  4.466305556 & 2.400766 &    4.900674 &   22.50891\\\\\n",
       "\tY3\\_Z1 & -0.6785239896 & 8.433648e-01 & -2.231313003 &  1.068832649 & 1.704125 &    6.347531 &   19.84945\\\\\n",
       "\tY3\\_Z2 &  1.8015953962 & 1.565584e+00 & -0.468320880 &  4.460906189 & 2.401031 &    4.900342 &   22.72219\\\\\n",
       "\tXm\\_Z1 & -1.0069830233 & 5.111028e-03 & -1.017037052 & -0.997201978 & 1.000509 & 5662.387235 & 6092.76618\\\\\n",
       "\tXm\\_Z2 &  0.9871163621 & 5.065656e-03 &  0.977191335 &  0.996994543 & 1.000555 & 5628.425001 & 6025.46786\\\\\n",
       "\tSm\\_miXm & -1.1883527879 & 1.745035e+00 & -3.778756149 &  1.754443450 & 2.855447 &    4.593143 &   25.60241\\\\\n",
       "\tY1\\_miSm & -0.6021892318 & 1.284403e+00 & -2.282063108 &  1.534251872 & 3.092611 &    4.520480 &   20.69621\\\\\n",
       "\tY2\\_miSm & -0.6004069794 & 1.280689e+00 & -2.276206573 &  1.529607652 & 3.092041 &    4.520757 &   21.99634\\\\\n",
       "\tY3\\_miSm & -0.6025879583 & 1.285282e+00 & -2.283694380 &  1.534825617 & 3.092774 &    4.520442 &   21.97229\\\\\n",
       "\tW1\\_miXm &  1.0000019132 & 9.959598e-05 &  0.999811484 &  1.000203913 & 1.001001 & 7466.504833 & 4269.05813\\\\\n",
       "\tW2\\_miXm &  1.0000023611 & 1.000416e-04 &  0.999809157 &  1.000194736 & 1.002628 & 7377.539258 & 4760.02912\\\\\n",
       "\tW3\\_miXm &  0.9999978282 & 9.837110e-05 &  0.999800785 &  1.000190807 & 1.000421 & 7884.340614 & 4750.20366\\\\\n",
       "\tW4\\_miXm &  0.9999978445 & 9.876956e-05 &  0.999800787 &  1.000189603 & 1.001894 & 8246.319863 & 4601.33218\\\\\n",
       "\\end{tabular}\n"
      ],
      "text/markdown": [
       "\n",
       "A data.frame: 20 × 7\n",
       "\n",
       "| <!--/--> | Estimate &lt;dbl&gt; | Est.Error &lt;dbl&gt; | l-95% CI &lt;dbl&gt; | u-95% CI &lt;dbl&gt; | Rhat &lt;dbl&gt; | Bulk_ESS &lt;dbl&gt; | Tail_ESS &lt;dbl&gt; |\n",
       "|---|---|---|---|---|---|---|---|\n",
       "| Sm_Intercept | -0.0093126598 | 2.403631e-02 | -0.064471820 |  0.030982951 | 1.258442 |   11.163973 |   34.50435 |\n",
       "| Xm_Intercept |  0.0003931555 | 2.570327e-03 | -0.004588283 |  0.005517164 | 1.000157 | 6094.207875 | 6585.00212 |\n",
       "| Sm_Z1 |  0.2018723645 | 9.764043e-01 | -1.289233657 |  2.533596080 | 1.648392 |    6.475710 |   19.75418 |\n",
       "| Sm_Z2 |  0.4725509744 | 1.261916e+00 | -1.353400707 |  2.450316462 | 2.071102 |    5.283832 |   26.24836 |\n",
       "| Y1_Z1 | -0.6720048682 | 8.427992e-01 | -2.225550137 |  1.074034277 | 1.704197 |    6.347270 |   20.25099 |\n",
       "| Y1_Z2 |  1.8092922671 | 1.564453e+00 | -0.461399358 |  4.464777936 | 2.401055 |    4.900448 |   22.66333 |\n",
       "| Y2_Z1 | -0.6772156630 | 8.403604e-01 | -2.229117139 |  1.067843209 | 1.704323 |    6.347037 |   19.92750 |\n",
       "| Y2_Z2 |  1.8163689453 | 1.560094e+00 | -0.441870868 |  4.466305556 | 2.400766 |    4.900674 |   22.50891 |\n",
       "| Y3_Z1 | -0.6785239896 | 8.433648e-01 | -2.231313003 |  1.068832649 | 1.704125 |    6.347531 |   19.84945 |\n",
       "| Y3_Z2 |  1.8015953962 | 1.565584e+00 | -0.468320880 |  4.460906189 | 2.401031 |    4.900342 |   22.72219 |\n",
       "| Xm_Z1 | -1.0069830233 | 5.111028e-03 | -1.017037052 | -0.997201978 | 1.000509 | 5662.387235 | 6092.76618 |\n",
       "| Xm_Z2 |  0.9871163621 | 5.065656e-03 |  0.977191335 |  0.996994543 | 1.000555 | 5628.425001 | 6025.46786 |\n",
       "| Sm_miXm | -1.1883527879 | 1.745035e+00 | -3.778756149 |  1.754443450 | 2.855447 |    4.593143 |   25.60241 |\n",
       "| Y1_miSm | -0.6021892318 | 1.284403e+00 | -2.282063108 |  1.534251872 | 3.092611 |    4.520480 |   20.69621 |\n",
       "| Y2_miSm | -0.6004069794 | 1.280689e+00 | -2.276206573 |  1.529607652 | 3.092041 |    4.520757 |   21.99634 |\n",
       "| Y3_miSm | -0.6025879583 | 1.285282e+00 | -2.283694380 |  1.534825617 | 3.092774 |    4.520442 |   21.97229 |\n",
       "| W1_miXm |  1.0000019132 | 9.959598e-05 |  0.999811484 |  1.000203913 | 1.001001 | 7466.504833 | 4269.05813 |\n",
       "| W2_miXm |  1.0000023611 | 1.000416e-04 |  0.999809157 |  1.000194736 | 1.002628 | 7377.539258 | 4760.02912 |\n",
       "| W3_miXm |  0.9999978282 | 9.837110e-05 |  0.999800785 |  1.000190807 | 1.000421 | 7884.340614 | 4750.20366 |\n",
       "| W4_miXm |  0.9999978445 | 9.876956e-05 |  0.999800787 |  1.000189603 | 1.001894 | 8246.319863 | 4601.33218 |\n",
       "\n"
      ],
      "text/plain": [
       "             Estimate      Est.Error    l-95% CI     u-95% CI     Rhat    \n",
       "Sm_Intercept -0.0093126598 2.403631e-02 -0.064471820  0.030982951 1.258442\n",
       "Xm_Intercept  0.0003931555 2.570327e-03 -0.004588283  0.005517164 1.000157\n",
       "Sm_Z1         0.2018723645 9.764043e-01 -1.289233657  2.533596080 1.648392\n",
       "Sm_Z2         0.4725509744 1.261916e+00 -1.353400707  2.450316462 2.071102\n",
       "Y1_Z1        -0.6720048682 8.427992e-01 -2.225550137  1.074034277 1.704197\n",
       "Y1_Z2         1.8092922671 1.564453e+00 -0.461399358  4.464777936 2.401055\n",
       "Y2_Z1        -0.6772156630 8.403604e-01 -2.229117139  1.067843209 1.704323\n",
       "Y2_Z2         1.8163689453 1.560094e+00 -0.441870868  4.466305556 2.400766\n",
       "Y3_Z1        -0.6785239896 8.433648e-01 -2.231313003  1.068832649 1.704125\n",
       "Y3_Z2         1.8015953962 1.565584e+00 -0.468320880  4.460906189 2.401031\n",
       "Xm_Z1        -1.0069830233 5.111028e-03 -1.017037052 -0.997201978 1.000509\n",
       "Xm_Z2         0.9871163621 5.065656e-03  0.977191335  0.996994543 1.000555\n",
       "Sm_miXm      -1.1883527879 1.745035e+00 -3.778756149  1.754443450 2.855447\n",
       "Y1_miSm      -0.6021892318 1.284403e+00 -2.282063108  1.534251872 3.092611\n",
       "Y2_miSm      -0.6004069794 1.280689e+00 -2.276206573  1.529607652 3.092041\n",
       "Y3_miSm      -0.6025879583 1.285282e+00 -2.283694380  1.534825617 3.092774\n",
       "W1_miXm       1.0000019132 9.959598e-05  0.999811484  1.000203913 1.001001\n",
       "W2_miXm       1.0000023611 1.000416e-04  0.999809157  1.000194736 1.002628\n",
       "W3_miXm       0.9999978282 9.837110e-05  0.999800785  1.000190807 1.000421\n",
       "W4_miXm       0.9999978445 9.876956e-05  0.999800787  1.000189603 1.001894\n",
       "             Bulk_ESS    Tail_ESS  \n",
       "Sm_Intercept   11.163973   34.50435\n",
       "Xm_Intercept 6094.207875 6585.00212\n",
       "Sm_Z1           6.475710   19.75418\n",
       "Sm_Z2           5.283832   26.24836\n",
       "Y1_Z1           6.347270   20.25099\n",
       "Y1_Z2           4.900448   22.66333\n",
       "Y2_Z1           6.347037   19.92750\n",
       "Y2_Z2           4.900674   22.50891\n",
       "Y3_Z1           6.347531   19.84945\n",
       "Y3_Z2           4.900342   22.72219\n",
       "Xm_Z1        5662.387235 6092.76618\n",
       "Xm_Z2        5628.425001 6025.46786\n",
       "Sm_miXm         4.593143   25.60241\n",
       "Y1_miSm         4.520480   20.69621\n",
       "Y2_miSm         4.520757   21.99634\n",
       "Y3_miSm         4.520442   21.97229\n",
       "W1_miXm      7466.504833 4269.05813\n",
       "W2_miXm      7377.539258 4760.02912\n",
       "W3_miXm      7884.340614 4750.20366\n",
       "W4_miXm      8246.319863 4601.33218"
      ]
     },
     "metadata": {},
     "output_type": "display_data"
    }
   ],
   "source": [
    "summary(model2)$fixed"
   ]
  },
  {
   "cell_type": "code",
   "execution_count": 7,
   "metadata": {
    "vscode": {
     "languageId": "r"
    }
   },
   "outputs": [
    {
     "name": "stderr",
     "output_type": "stream",
     "text": [
      "Warning message:\n",
      "“Parts of the model have not converged (some Rhats are > 1.05). Be careful when analysing the results! We recommend running more iterations and/or setting stronger priors.”\n"
     ]
    },
    {
     "data": {
      "text/html": [
       "<table class=\"dataframe\">\n",
       "<caption>A data.frame: 9 × 7</caption>\n",
       "<thead>\n",
       "\t<tr><th></th><th scope=col>Estimate</th><th scope=col>Est.Error</th><th scope=col>l-95% CI</th><th scope=col>u-95% CI</th><th scope=col>Rhat</th><th scope=col>Bulk_ESS</th><th scope=col>Tail_ESS</th></tr>\n",
       "\t<tr><th></th><th scope=col>&lt;dbl&gt;</th><th scope=col>&lt;dbl&gt;</th><th scope=col>&lt;dbl&gt;</th><th scope=col>&lt;dbl&gt;</th><th scope=col>&lt;dbl&gt;</th><th scope=col>&lt;dbl&gt;</th><th scope=col>&lt;dbl&gt;</th></tr>\n",
       "</thead>\n",
       "<tbody>\n",
       "\t<tr><th scope=row>sigma_Sm</th><td>0.94774378</td><td>0.474202763</td><td>0.44374678</td><td>2.2472008</td><td>3.1111148</td><td>   4.512049</td><td>  11.38072</td></tr>\n",
       "\t<tr><th scope=row>sigma_Y1</th><td>0.10011570</td><td>0.002026959</td><td>0.09611526</td><td>0.1040494</td><td>1.0001002</td><td>8548.229345</td><td>5909.66226</td></tr>\n",
       "\t<tr><th scope=row>sigma_Y2</th><td>0.10009910</td><td>0.002069000</td><td>0.09614182</td><td>0.1042503</td><td>1.0005697</td><td>8219.713321</td><td>5621.21304</td></tr>\n",
       "\t<tr><th scope=row>sigma_Y3</th><td>0.09828170</td><td>0.002025848</td><td>0.09439626</td><td>0.1022895</td><td>0.9997260</td><td>7678.217924</td><td>6514.06741</td></tr>\n",
       "\t<tr><th scope=row>sigma_Xm</th><td>0.09930972</td><td>0.002595589</td><td>0.09418763</td><td>0.1043857</td><td>1.0039903</td><td>2081.706540</td><td>3689.39664</td></tr>\n",
       "\t<tr><th scope=row>sigma_W1</th><td>0.19573649</td><td>0.002946327</td><td>0.19003305</td><td>0.2016260</td><td>1.0003373</td><td>8117.368110</td><td>6304.42133</td></tr>\n",
       "\t<tr><th scope=row>sigma_W2</th><td>0.19611900</td><td>0.002902856</td><td>0.19053123</td><td>0.2019865</td><td>1.0002413</td><td>8040.403229</td><td>6031.58718</td></tr>\n",
       "\t<tr><th scope=row>sigma_W3</th><td>0.19844395</td><td>0.002938518</td><td>0.19265792</td><td>0.2043469</td><td>1.0003512</td><td>8576.438634</td><td>6320.32840</td></tr>\n",
       "\t<tr><th scope=row>sigma_W4</th><td>0.19814526</td><td>0.003003409</td><td>0.19228536</td><td>0.2041068</td><td>0.9999083</td><td>8992.349159</td><td>6191.51830</td></tr>\n",
       "</tbody>\n",
       "</table>\n"
      ],
      "text/latex": [
       "A data.frame: 9 × 7\n",
       "\\begin{tabular}{r|lllllll}\n",
       "  & Estimate & Est.Error & l-95\\% CI & u-95\\% CI & Rhat & Bulk\\_ESS & Tail\\_ESS\\\\\n",
       "  & <dbl> & <dbl> & <dbl> & <dbl> & <dbl> & <dbl> & <dbl>\\\\\n",
       "\\hline\n",
       "\tsigma\\_Sm & 0.94774378 & 0.474202763 & 0.44374678 & 2.2472008 & 3.1111148 &    4.512049 &   11.38072\\\\\n",
       "\tsigma\\_Y1 & 0.10011570 & 0.002026959 & 0.09611526 & 0.1040494 & 1.0001002 & 8548.229345 & 5909.66226\\\\\n",
       "\tsigma\\_Y2 & 0.10009910 & 0.002069000 & 0.09614182 & 0.1042503 & 1.0005697 & 8219.713321 & 5621.21304\\\\\n",
       "\tsigma\\_Y3 & 0.09828170 & 0.002025848 & 0.09439626 & 0.1022895 & 0.9997260 & 7678.217924 & 6514.06741\\\\\n",
       "\tsigma\\_Xm & 0.09930972 & 0.002595589 & 0.09418763 & 0.1043857 & 1.0039903 & 2081.706540 & 3689.39664\\\\\n",
       "\tsigma\\_W1 & 0.19573649 & 0.002946327 & 0.19003305 & 0.2016260 & 1.0003373 & 8117.368110 & 6304.42133\\\\\n",
       "\tsigma\\_W2 & 0.19611900 & 0.002902856 & 0.19053123 & 0.2019865 & 1.0002413 & 8040.403229 & 6031.58718\\\\\n",
       "\tsigma\\_W3 & 0.19844395 & 0.002938518 & 0.19265792 & 0.2043469 & 1.0003512 & 8576.438634 & 6320.32840\\\\\n",
       "\tsigma\\_W4 & 0.19814526 & 0.003003409 & 0.19228536 & 0.2041068 & 0.9999083 & 8992.349159 & 6191.51830\\\\\n",
       "\\end{tabular}\n"
      ],
      "text/markdown": [
       "\n",
       "A data.frame: 9 × 7\n",
       "\n",
       "| <!--/--> | Estimate &lt;dbl&gt; | Est.Error &lt;dbl&gt; | l-95% CI &lt;dbl&gt; | u-95% CI &lt;dbl&gt; | Rhat &lt;dbl&gt; | Bulk_ESS &lt;dbl&gt; | Tail_ESS &lt;dbl&gt; |\n",
       "|---|---|---|---|---|---|---|---|\n",
       "| sigma_Sm | 0.94774378 | 0.474202763 | 0.44374678 | 2.2472008 | 3.1111148 |    4.512049 |   11.38072 |\n",
       "| sigma_Y1 | 0.10011570 | 0.002026959 | 0.09611526 | 0.1040494 | 1.0001002 | 8548.229345 | 5909.66226 |\n",
       "| sigma_Y2 | 0.10009910 | 0.002069000 | 0.09614182 | 0.1042503 | 1.0005697 | 8219.713321 | 5621.21304 |\n",
       "| sigma_Y3 | 0.09828170 | 0.002025848 | 0.09439626 | 0.1022895 | 0.9997260 | 7678.217924 | 6514.06741 |\n",
       "| sigma_Xm | 0.09930972 | 0.002595589 | 0.09418763 | 0.1043857 | 1.0039903 | 2081.706540 | 3689.39664 |\n",
       "| sigma_W1 | 0.19573649 | 0.002946327 | 0.19003305 | 0.2016260 | 1.0003373 | 8117.368110 | 6304.42133 |\n",
       "| sigma_W2 | 0.19611900 | 0.002902856 | 0.19053123 | 0.2019865 | 1.0002413 | 8040.403229 | 6031.58718 |\n",
       "| sigma_W3 | 0.19844395 | 0.002938518 | 0.19265792 | 0.2043469 | 1.0003512 | 8576.438634 | 6320.32840 |\n",
       "| sigma_W4 | 0.19814526 | 0.003003409 | 0.19228536 | 0.2041068 | 0.9999083 | 8992.349159 | 6191.51830 |\n",
       "\n"
      ],
      "text/plain": [
       "         Estimate   Est.Error   l-95% CI   u-95% CI  Rhat      Bulk_ESS   \n",
       "sigma_Sm 0.94774378 0.474202763 0.44374678 2.2472008 3.1111148    4.512049\n",
       "sigma_Y1 0.10011570 0.002026959 0.09611526 0.1040494 1.0001002 8548.229345\n",
       "sigma_Y2 0.10009910 0.002069000 0.09614182 0.1042503 1.0005697 8219.713321\n",
       "sigma_Y3 0.09828170 0.002025848 0.09439626 0.1022895 0.9997260 7678.217924\n",
       "sigma_Xm 0.09930972 0.002595589 0.09418763 0.1043857 1.0039903 2081.706540\n",
       "sigma_W1 0.19573649 0.002946327 0.19003305 0.2016260 1.0003373 8117.368110\n",
       "sigma_W2 0.19611900 0.002902856 0.19053123 0.2019865 1.0002413 8040.403229\n",
       "sigma_W3 0.19844395 0.002938518 0.19265792 0.2043469 1.0003512 8576.438634\n",
       "sigma_W4 0.19814526 0.003003409 0.19228536 0.2041068 0.9999083 8992.349159\n",
       "         Tail_ESS  \n",
       "sigma_Sm   11.38072\n",
       "sigma_Y1 5909.66226\n",
       "sigma_Y2 5621.21304\n",
       "sigma_Y3 6514.06741\n",
       "sigma_Xm 3689.39664\n",
       "sigma_W1 6304.42133\n",
       "sigma_W2 6031.58718\n",
       "sigma_W3 6320.32840\n",
       "sigma_W4 6191.51830"
      ]
     },
     "metadata": {},
     "output_type": "display_data"
    }
   ],
   "source": [
    "summary(model2)$spec_pars"
   ]
  },
  {
   "attachments": {},
   "cell_type": "markdown",
   "metadata": {},
   "source": [
    "## Mediation for original model"
   ]
  },
  {
   "attachments": {},
   "cell_type": "markdown",
   "metadata": {},
   "source": [
    "### Using the `bayestestR` package"
   ]
  },
  {
   "cell_type": "code",
   "execution_count": 11,
   "metadata": {
    "vscode": {
     "languageId": "r"
    }
   },
   "outputs": [
    {
     "name": "stderr",
     "output_type": "stream",
     "text": [
      "Installing package into ‘/Users/nescoba/Library/R/arm64/4.2/library’\n",
      "(as ‘lib’ is unspecified)\n",
      "\n",
      "also installing the dependencies ‘insight’, ‘datawizard’\n",
      "\n",
      "\n"
     ]
    },
    {
     "name": "stdout",
     "output_type": "stream",
     "text": [
      "\n",
      "The downloaded binary packages are in\n",
      "\t/var/folders/gb/chvh9g355qqf4q5rw11d1m55xdk3f1/T//RtmpjVgcvg/downloaded_packages\n"
     ]
    },
    {
     "ename": "ERROR",
     "evalue": "Error in if (variable %in% colnames(mf)) {: the condition has length > 1\n",
     "output_type": "error",
     "traceback": [
      "Error in if (variable %in% colnames(mf)) {: the condition has length > 1\nTraceback:\n",
      "1. mediation(model)",
      "2. mediation.brmsfit(model)",
      "3. .mediation(model = model, treatment = treatment, mediator = mediator, \n .     response = response, centrality = centrality, ci = ci, method = method, \n .     pattern = \"b_%s_%s\", ...)",
      "4. .fix_factor_name(model, mediator)"
     ]
    }
   ],
   "source": [
    "install.packages(\"bayestestR\")\n",
    "library(bayestestR)\n",
    "\n",
    "m1 <- mediation(model)"
   ]
  },
  {
   "cell_type": "code",
   "execution_count": 12,
   "metadata": {
    "vscode": {
     "languageId": "r"
    }
   },
   "outputs": [
    {
     "ename": "ERROR",
     "evalue": "Error in .subset2(x, i, exact = exact): recursive indexing failed at level 2\n\n",
     "output_type": "error",
     "traceback": [
      "Error in .subset2(x, i, exact = exact): recursive indexing failed at level 2\n\nTraceback:\n",
      "1. mediation(model2, treatment = \"Z1\", mediator = \"Sm\", outcome = \"Y1\")",
      "2. mediation.brmsfit(model2, treatment = \"Z1\", mediator = \"Sm\", \n .     outcome = \"Y1\")",
      "3. .mediation(model = model, treatment = treatment, mediator = mediator, \n .     response = response, centrality = centrality, ci = ci, method = method, \n .     pattern = \"b_%s_%s\", ...)",
      "4. insight::get_parameters(model)[[coef_treatment]]",
      "5. `[[.data.frame`(insight::get_parameters(model), coef_treatment)",
      "6. (function(x, i, exact) if (is.matrix(i)) as.matrix(x)[[i]] else .subset2(x, \n .     i, exact = exact))(x, ..., exact = exact)"
     ]
    }
   ],
   "source": [
    "m1 <- mediation(model2, treatment = \"Z1\", mediator = \"Sm\", outcome = \"Y1\")"
   ]
  },
  {
   "cell_type": "code",
   "execution_count": 13,
   "metadata": {
    "vscode": {
     "languageId": "r"
    }
   },
   "outputs": [
    {
     "ename": "ERROR",
     "evalue": "Error in .subset2(x, i, exact = exact): attempt to select less than one element in get1index\n",
     "output_type": "error",
     "traceback": [
      "Error in .subset2(x, i, exact = exact): attempt to select less than one element in get1index\nTraceback:\n",
      "1. mediation(model, treatment = \"Z1\", mediation = \"Xm\", response = \"Sm\")",
      "2. mediation.brmsfit(model, treatment = \"Z1\", mediation = \"Xm\", \n .     response = \"Sm\")",
      "3. .mediation(model = model, treatment = treatment, mediator = mediator, \n .     response = response, centrality = centrality, ci = ci, method = method, \n .     pattern = \"b_%s_%s\", ...)",
      "4. insight::get_parameters(model)[[coef_treatment]]",
      "5. `[[.data.frame`(insight::get_parameters(model), coef_treatment)",
      "6. (function(x, i, exact) if (is.matrix(i)) as.matrix(x)[[i]] else .subset2(x, \n .     i, exact = exact))(x, ..., exact = exact)"
     ]
    }
   ],
   "source": [
    "m1 <- mediation(model, treatment = \"Z1\", mediation = \"Xm\", response = \"Sm\")"
   ]
  },
  {
   "cell_type": "code",
   "execution_count": 14,
   "metadata": {
    "vscode": {
     "languageId": "r"
    }
   },
   "outputs": [
    {
     "ename": "ERROR",
     "evalue": "Error in if (variable %in% colnames(mf)) {: the condition has length > 1\n",
     "output_type": "error",
     "traceback": [
      "Error in if (variable %in% colnames(mf)) {: the condition has length > 1\nTraceback:\n",
      "1. mediation(model)",
      "2. mediation.brmsfit(model)",
      "3. .mediation(model = model, treatment = treatment, mediator = mediator, \n .     response = response, centrality = centrality, ci = ci, method = method, \n .     pattern = \"b_%s_%s\", ...)",
      "4. .fix_factor_name(model, mediator)"
     ]
    }
   ],
   "source": [
    "m1 <- mediation(model)"
   ]
  },
  {
   "cell_type": "code",
   "execution_count": 15,
   "metadata": {
    "vscode": {
     "languageId": "r"
    }
   },
   "outputs": [
    {
     "ename": "ERROR",
     "evalue": "Error in .subset2(x, i, exact = exact): attempt to select less than one element in get1index\n",
     "output_type": "error",
     "traceback": [
      "Error in .subset2(x, i, exact = exact): attempt to select less than one element in get1index\nTraceback:\n",
      "1. mediation(model, response = \"Sm\")",
      "2. mediation.brmsfit(model, response = \"Sm\")",
      "3. .mediation(model = model, treatment = treatment, mediator = mediator, \n .     response = response, centrality = centrality, ci = ci, method = method, \n .     pattern = \"b_%s_%s\", ...)",
      "4. insight::get_parameters(model)[[coef_treatment]]",
      "5. `[[.data.frame`(insight::get_parameters(model), coef_treatment)",
      "6. (function(x, i, exact) if (is.matrix(i)) as.matrix(x)[[i]] else .subset2(x, \n .     i, exact = exact))(x, ..., exact = exact)"
     ]
    }
   ],
   "source": [
    "m1 <- mediation(model, response = \"Sm\")"
   ]
  },
  {
   "cell_type": "code",
   "execution_count": 16,
   "metadata": {
    "vscode": {
     "languageId": "r"
    }
   },
   "outputs": [
    {
     "ename": "ERROR",
     "evalue": "Error in .subset2(x, i, exact = exact): attempt to select less than one element in get1index\n",
     "output_type": "error",
     "traceback": [
      "Error in .subset2(x, i, exact = exact): attempt to select less than one element in get1index\nTraceback:\n",
      "1. mediation(model, treatment = \"Z1\", mediation = \"miXm\", response = \"Sm\")",
      "2. mediation.brmsfit(model, treatment = \"Z1\", mediation = \"miXm\", \n .     response = \"Sm\")",
      "3. .mediation(model = model, treatment = treatment, mediator = mediator, \n .     response = response, centrality = centrality, ci = ci, method = method, \n .     pattern = \"b_%s_%s\", ...)",
      "4. insight::get_parameters(model)[[coef_treatment]]",
      "5. `[[.data.frame`(insight::get_parameters(model), coef_treatment)",
      "6. (function(x, i, exact) if (is.matrix(i)) as.matrix(x)[[i]] else .subset2(x, \n .     i, exact = exact))(x, ..., exact = exact)"
     ]
    }
   ],
   "source": [
    "m1 <- mediation(model, treatment = \"Z1\", mediation = \"miXm\", response = \"Sm\")"
   ]
  },
  {
   "cell_type": "code",
   "execution_count": 17,
   "metadata": {
    "vscode": {
     "languageId": "r"
    }
   },
   "outputs": [
    {
     "ename": "ERROR",
     "evalue": "Error in `[.data.frame`(insight::get_parameters(model), c(coef_indirect, : undefined columns selected\n",
     "output_type": "error",
     "traceback": [
      "Error in `[.data.frame`(insight::get_parameters(model), c(coef_indirect, : undefined columns selected\nTraceback:\n",
      "1. mediation(model, treatment = \"Z1\", response = c(Xm = \"miXm\", \n .     \"Sm\"))",
      "2. mediation.brmsfit(model, treatment = \"Z1\", response = c(Xm = \"miXm\", \n .     \"Sm\"))",
      "3. .mediation(model = model, treatment = treatment, mediator = mediator, \n .     response = response, centrality = centrality, ci = ci, method = method, \n .     pattern = \"b_%s_%s\", ...)",
      "4. insight::get_parameters(model)[c(coef_indirect, coef_mediator)]",
      "5. `[.data.frame`(insight::get_parameters(model), c(coef_indirect, \n .     coef_mediator))",
      "6. stop(\"undefined columns selected\")"
     ]
    }
   ],
   "source": [
    "m1 <- mediation(model, treatment = \"Z1\", response = c(Xm = \"miXm\", \"Sm\"))"
   ]
  },
  {
   "cell_type": "code",
   "execution_count": 18,
   "metadata": {
    "vscode": {
     "languageId": "r"
    }
   },
   "outputs": [
    {
     "ename": "ERROR",
     "evalue": "Error in if (variable %in% colnames(mf)) {: argument is of length zero\n",
     "output_type": "error",
     "traceback": [
      "Error in if (variable %in% colnames(mf)) {: argument is of length zero\nTraceback:\n",
      "1. mediation(model, treatment = \"Z1\", response = c(Xm = \"miXm\", \n .     Sm = \"miSm\"))",
      "2. mediation.brmsfit(model, treatment = \"Z1\", response = c(Xm = \"miXm\", \n .     Sm = \"miSm\"))",
      "3. .mediation(model = model, treatment = treatment, mediator = mediator, \n .     response = response, centrality = centrality, ci = ci, method = method, \n .     pattern = \"b_%s_%s\", ...)",
      "4. .fix_factor_name(model, mediator)"
     ]
    }
   ],
   "source": [
    "m1 <- mediation(model, treatment = \"Z1\", response = c(Xm = \"miXm\", Sm = \"miSm\"))"
   ]
  },
  {
   "cell_type": "code",
   "execution_count": 19,
   "metadata": {
    "vscode": {
     "languageId": "r"
    }
   },
   "outputs": [
    {
     "ename": "ERROR",
     "evalue": "Error in if (variable %in% colnames(mf)) {: the condition has length > 1\n",
     "output_type": "error",
     "traceback": [
      "Error in if (variable %in% colnames(mf)) {: the condition has length > 1\nTraceback:\n",
      "1. mediation(model, treatment = \"Z1\", response = c(miXm = \"Xm\", \n .     miSm = \"Sm\"))",
      "2. mediation.brmsfit(model, treatment = \"Z1\", response = c(miXm = \"Xm\", \n .     miSm = \"Sm\"))",
      "3. .mediation(model = model, treatment = treatment, mediator = mediator, \n .     response = response, centrality = centrality, ci = ci, method = method, \n .     pattern = \"b_%s_%s\", ...)",
      "4. .fix_factor_name(model, mediator)"
     ]
    }
   ],
   "source": [
    "m1 <- mediation(model, treatment = \"Z1\", response = c(miXm = \"Xm\", miSm = \"Sm\"))"
   ]
  },
  {
   "cell_type": "code",
   "execution_count": 20,
   "metadata": {
    "vscode": {
     "languageId": "r"
    }
   },
   "outputs": [
    {
     "data": {
      "text/html": [
       "<style>\n",
       ".list-inline {list-style: none; margin:0; padding: 0}\n",
       ".list-inline>li {display: inline-block}\n",
       ".list-inline>li:not(:last-child)::after {content: \"\\00b7\"; padding: 0 .5ex}\n",
       "</style>\n",
       "<ol class=list-inline><li>'Sm'</li><li>'Y1'</li><li>'Y2'</li><li>'Y3'</li><li>'Xm'</li><li>'W1'</li><li>'W2'</li><li>'W3'</li><li>'W4'</li><li>'Sm'</li><li>'Y1'</li><li>'Y2'</li><li>'Y3'</li><li>'Xm'</li><li>'W1'</li><li>'W2'</li><li>'W3'</li><li>'W4'</li></ol>\n"
      ],
      "text/latex": [
       "\\begin{enumerate*}\n",
       "\\item 'Sm'\n",
       "\\item 'Y1'\n",
       "\\item 'Y2'\n",
       "\\item 'Y3'\n",
       "\\item 'Xm'\n",
       "\\item 'W1'\n",
       "\\item 'W2'\n",
       "\\item 'W3'\n",
       "\\item 'W4'\n",
       "\\item 'Sm'\n",
       "\\item 'Y1'\n",
       "\\item 'Y2'\n",
       "\\item 'Y3'\n",
       "\\item 'Xm'\n",
       "\\item 'W1'\n",
       "\\item 'W2'\n",
       "\\item 'W3'\n",
       "\\item 'W4'\n",
       "\\end{enumerate*}\n"
      ],
      "text/markdown": [
       "1. 'Sm'\n",
       "2. 'Y1'\n",
       "3. 'Y2'\n",
       "4. 'Y3'\n",
       "5. 'Xm'\n",
       "6. 'W1'\n",
       "7. 'W2'\n",
       "8. 'W3'\n",
       "9. 'W4'\n",
       "10. 'Sm'\n",
       "11. 'Y1'\n",
       "12. 'Y2'\n",
       "13. 'Y3'\n",
       "14. 'Xm'\n",
       "15. 'W1'\n",
       "16. 'W2'\n",
       "17. 'W3'\n",
       "18. 'W4'\n",
       "\n",
       "\n"
      ],
      "text/plain": [
       " [1] \"Sm\" \"Y1\" \"Y2\" \"Y3\" \"Xm\" \"W1\" \"W2\" \"W3\" \"W4\" \"Sm\" \"Y1\" \"Y2\" \"Y3\" \"Xm\" \"W1\"\n",
       "[16] \"W2\" \"W3\" \"W4\""
      ]
     },
     "metadata": {},
     "output_type": "display_data"
    }
   ],
   "source": [
    "names(insight::find_response(model, combine = TRUE))"
   ]
  },
  {
   "cell_type": "code",
   "execution_count": 21,
   "metadata": {
    "vscode": {
     "languageId": "r"
    }
   },
   "outputs": [
    {
     "ename": "ERROR",
     "evalue": "Error in .subset2(x, i, exact = exact): attempt to select less than one element in get1index\n",
     "output_type": "error",
     "traceback": [
      "Error in .subset2(x, i, exact = exact): attempt to select less than one element in get1index\nTraceback:\n",
      "1. mediation(model, treatment = \"Z1\", response = c(Sm = \"Sm\"))",
      "2. mediation.brmsfit(model, treatment = \"Z1\", response = c(Sm = \"Sm\"))",
      "3. .mediation(model = model, treatment = treatment, mediator = mediator, \n .     response = response, centrality = centrality, ci = ci, method = method, \n .     pattern = \"b_%s_%s\", ...)",
      "4. insight::get_parameters(model)[[coef_treatment]]",
      "5. `[[.data.frame`(insight::get_parameters(model), coef_treatment)",
      "6. (function(x, i, exact) if (is.matrix(i)) as.matrix(x)[[i]] else .subset2(x, \n .     i, exact = exact))(x, ..., exact = exact)"
     ]
    }
   ],
   "source": [
    "m1 <- mediation(model, treatment = \"Z1\", response = c(Sm = \"Sm\"))"
   ]
  },
  {
   "cell_type": "code",
   "execution_count": 22,
   "metadata": {
    "vscode": {
     "languageId": "r"
    }
   },
   "outputs": [
    {
     "data": {
      "text/html": [
       "<table class=\"dataframe\">\n",
       "<caption>A data.frame: 8000 × 46</caption>\n",
       "<thead>\n",
       "\t<tr><th scope=col>b_Sm_Intercept</th><th scope=col>b_Sm_Z1</th><th scope=col>b_Sm_Z2</th><th scope=col>bsp_Sm_miXm</th><th scope=col>sigma_Sm</th><th scope=col>bsp_Y1_miSm</th><th scope=col>sigma_Y1</th><th scope=col>bsp_Y2_miSm</th><th scope=col>sigma_Y2</th><th scope=col>bsp_Y3_miSm</th><th scope=col>⋯</th><th scope=col>b_Xm_Z2.1</th><th scope=col>sigma_Xm.1</th><th scope=col>bsp_W1_miXm.1</th><th scope=col>sigma_W1.1</th><th scope=col>bsp_W2_miXm.1</th><th scope=col>sigma_W2.1</th><th scope=col>bsp_W3_miXm.1</th><th scope=col>sigma_W3.1</th><th scope=col>bsp_W4_miXm.1</th><th scope=col>sigma_W4.1</th></tr>\n",
       "\t<tr><th scope=col>&lt;dbl&gt;</th><th scope=col>&lt;dbl&gt;</th><th scope=col>&lt;dbl&gt;</th><th scope=col>&lt;dbl&gt;</th><th scope=col>&lt;dbl&gt;</th><th scope=col>&lt;dbl&gt;</th><th scope=col>&lt;dbl&gt;</th><th scope=col>&lt;dbl&gt;</th><th scope=col>&lt;dbl&gt;</th><th scope=col>&lt;dbl&gt;</th><th scope=col>⋯</th><th scope=col>&lt;dbl&gt;</th><th scope=col>&lt;dbl&gt;</th><th scope=col>&lt;dbl&gt;</th><th scope=col>&lt;dbl&gt;</th><th scope=col>&lt;dbl&gt;</th><th scope=col>&lt;dbl&gt;</th><th scope=col>&lt;dbl&gt;</th><th scope=col>&lt;dbl&gt;</th><th scope=col>&lt;dbl&gt;</th><th scope=col>&lt;dbl&gt;</th></tr>\n",
       "</thead>\n",
       "<tbody>\n",
       "\t<tr><td> 0.0091141096</td><td>-0.2446136</td><td>1.372547</td><td>1.4992080</td><td>0.5749250</td><td>1.742508</td><td>0.09902868</td><td>1.740455</td><td>0.10157703</td><td>1.742042</td><td>⋯</td><td>0.9894173</td><td>0.10049621</td><td>0.9998507</td><td>0.1933146</td><td>1.0000061</td><td>0.1914069</td><td>0.9999393</td><td>0.1965938</td><td>0.9999134</td><td>0.1980532</td></tr>\n",
       "\t<tr><td> 0.0192413923</td><td>-0.4015140</td><td>1.606707</td><td>1.2733181</td><td>0.5759861</td><td>1.742520</td><td>0.09825962</td><td>1.742753</td><td>0.10246786</td><td>1.742515</td><td>⋯</td><td>0.9914083</td><td>0.09764157</td><td>0.9999013</td><td>0.1950061</td><td>1.0003347</td><td>0.1874089</td><td>1.0000369</td><td>0.1960657</td><td>1.0000542</td><td>0.1995207</td></tr>\n",
       "\t<tr><td> 0.0014242763</td><td>-0.4892473</td><td>1.664421</td><td>1.2068760</td><td>0.5871842</td><td>1.747338</td><td>0.09972973</td><td>1.745612</td><td>0.09984290</td><td>1.747345</td><td>⋯</td><td>0.9816321</td><td>0.09927816</td><td>0.9999229</td><td>0.1961226</td><td>1.0003265</td><td>0.1995112</td><td>1.0000179</td><td>0.2006636</td><td>1.0000457</td><td>0.1981186</td></tr>\n",
       "\t<tr><td> 0.0140844917</td><td>-0.8067995</td><td>1.952051</td><td>0.9063171</td><td>0.5864414</td><td>1.745028</td><td>0.10019805</td><td>1.744418</td><td>0.10070894</td><td>1.744759</td><td>⋯</td><td>0.9893785</td><td>0.10262490</td><td>0.9999446</td><td>0.1952738</td><td>1.0003425</td><td>0.1913862</td><td>1.0001751</td><td>0.2012594</td><td>1.0001984</td><td>0.2017655</td></tr>\n",
       "\t<tr><td>-0.0072836107</td><td>-0.7266051</td><td>1.893401</td><td>0.9892694</td><td>0.5931883</td><td>1.741977</td><td>0.10197321</td><td>1.741160</td><td>0.09952891</td><td>1.741273</td><td>⋯</td><td>0.9851509</td><td>0.10008531</td><td>1.0000481</td><td>0.1918957</td><td>0.9999451</td><td>0.1918873</td><td>0.9998326</td><td>0.2028188</td><td>0.9999618</td><td>0.1958290</td></tr>\n",
       "\t<tr><td> 0.0246802737</td><td>-0.5104554</td><td>1.670651</td><td>1.1947524</td><td>0.5720278</td><td>1.740288</td><td>0.10059692</td><td>1.739296</td><td>0.10201831</td><td>1.740221</td><td>⋯</td><td>0.9869987</td><td>0.09857913</td><td>0.9997968</td><td>0.1991435</td><td>0.9999658</td><td>0.1937714</td><td>1.0001174</td><td>0.1969991</td><td>0.9999068</td><td>0.1957394</td></tr>\n",
       "\t<tr><td> 0.0049744229</td><td>-0.4437174</td><td>1.601330</td><td>1.2906698</td><td>0.5767442</td><td>1.739956</td><td>0.10078698</td><td>1.738455</td><td>0.10102300</td><td>1.738911</td><td>⋯</td><td>0.9881628</td><td>0.10453567</td><td>0.9999068</td><td>0.1937722</td><td>0.9999825</td><td>0.1948244</td><td>1.0001083</td><td>0.1999379</td><td>0.9999343</td><td>0.1973081</td></tr>\n",
       "\t<tr><td> 0.0174964526</td><td>-0.7128993</td><td>1.867462</td><td>0.9929390</td><td>0.5871397</td><td>1.739984</td><td>0.09995295</td><td>1.738347</td><td>0.10013111</td><td>1.741059</td><td>⋯</td><td>0.9865103</td><td>0.10204328</td><td>1.0002089</td><td>0.1928613</td><td>1.0001396</td><td>0.1955670</td><td>0.9999059</td><td>0.1986334</td><td>1.0001027</td><td>0.1976609</td></tr>\n",
       "\t<tr><td> 0.0111848563</td><td>-0.6405633</td><td>1.811547</td><td>1.0494408</td><td>0.5865574</td><td>1.740952</td><td>0.10019603</td><td>1.738973</td><td>0.09682565</td><td>1.739121</td><td>⋯</td><td>0.9949695</td><td>0.09795452</td><td>0.9999457</td><td>0.1974302</td><td>1.0000072</td><td>0.1944454</td><td>1.0000908</td><td>0.1993173</td><td>0.9998270</td><td>0.1963066</td></tr>\n",
       "\t<tr><td>-0.0003316813</td><td>-0.4692292</td><td>1.648060</td><td>1.2573004</td><td>0.5795917</td><td>1.738493</td><td>0.09983708</td><td>1.738503</td><td>0.09969557</td><td>1.739689</td><td>⋯</td><td>0.9862668</td><td>0.09729356</td><td>0.9999317</td><td>0.1926191</td><td>0.9998968</td><td>0.1993423</td><td>1.0000394</td><td>0.2003214</td><td>1.0000816</td><td>0.1966152</td></tr>\n",
       "\t<tr><td> 0.0198549962</td><td>-0.5564910</td><td>1.691785</td><td>1.1541603</td><td>0.5846428</td><td>1.740902</td><td>0.10094398</td><td>1.739292</td><td>0.09823895</td><td>1.741384</td><td>⋯</td><td>0.9872854</td><td>0.09711467</td><td>0.9999884</td><td>0.1952250</td><td>0.9998776</td><td>0.1987328</td><td>0.9999500</td><td>0.1983026</td><td>1.0000215</td><td>0.1996623</td></tr>\n",
       "\t<tr><td>-0.0007801887</td><td>-0.7081593</td><td>1.871517</td><td>1.0345505</td><td>0.5779316</td><td>1.741762</td><td>0.10151965</td><td>1.741161</td><td>0.09962902</td><td>1.743085</td><td>⋯</td><td>0.9845134</td><td>0.09888854</td><td>1.0000129</td><td>0.1967598</td><td>0.9998572</td><td>0.1999011</td><td>1.0000655</td><td>0.1972810</td><td>1.0000713</td><td>0.1977840</td></tr>\n",
       "\t<tr><td> 0.0125642735</td><td>-0.6052457</td><td>1.764742</td><td>1.1080153</td><td>0.5861707</td><td>1.741110</td><td>0.10260678</td><td>1.740508</td><td>0.10027829</td><td>1.739855</td><td>⋯</td><td>0.9846016</td><td>0.10271877</td><td>0.9999852</td><td>0.1952837</td><td>0.9999649</td><td>0.1978646</td><td>1.0000325</td><td>0.1968045</td><td>0.9998936</td><td>0.2000952</td></tr>\n",
       "\t<tr><td>-0.0003336935</td><td>-0.6159791</td><td>1.756926</td><td>1.1136848</td><td>0.5810177</td><td>1.742518</td><td>0.10103024</td><td>1.742170</td><td>0.10406192</td><td>1.740025</td><td>⋯</td><td>0.9792519</td><td>0.10259069</td><td>1.0000105</td><td>0.1962695</td><td>1.0000695</td><td>0.1966163</td><td>1.0000091</td><td>0.2009969</td><td>1.0000606</td><td>0.1979139</td></tr>\n",
       "\t<tr><td> 0.0213850506</td><td>-0.4816825</td><td>1.653591</td><td>1.2165152</td><td>0.5818444</td><td>1.744052</td><td>0.09903782</td><td>1.741672</td><td>0.10014613</td><td>1.745586</td><td>⋯</td><td>0.9920831</td><td>0.10051918</td><td>0.9999940</td><td>0.1967890</td><td>0.9999351</td><td>0.1901539</td><td>0.9999880</td><td>0.1979053</td><td>0.9999332</td><td>0.1979003</td></tr>\n",
       "\t<tr><td>-0.0093940850</td><td>-0.4618573</td><td>1.609209</td><td>1.2556391</td><td>0.5717538</td><td>1.748100</td><td>0.09958081</td><td>1.748763</td><td>0.10231417</td><td>1.748983</td><td>⋯</td><td>0.9762534</td><td>0.09773720</td><td>1.0000255</td><td>0.1979360</td><td>0.9999286</td><td>0.1985664</td><td>1.0000208</td><td>0.2005532</td><td>0.9999701</td><td>0.1977299</td></tr>\n",
       "\t<tr><td> 0.0231620997</td><td>-0.6061165</td><td>1.721774</td><td>1.1511636</td><td>0.5915052</td><td>1.749068</td><td>0.10253923</td><td>1.747668</td><td>0.09697314</td><td>1.749640</td><td>⋯</td><td>0.9807536</td><td>0.10315413</td><td>0.9999408</td><td>0.1965447</td><td>0.9999548</td><td>0.1944425</td><td>0.9999302</td><td>0.1954994</td><td>0.9999911</td><td>0.1938250</td></tr>\n",
       "\t<tr><td>-0.0110981493</td><td>-0.6575436</td><td>1.761417</td><td>1.0590228</td><td>0.5713183</td><td>1.751080</td><td>0.09820142</td><td>1.749636</td><td>0.10249828</td><td>1.749133</td><td>⋯</td><td>0.9922878</td><td>0.10343399</td><td>0.9999995</td><td>0.1985754</td><td>0.9999773</td><td>0.1944398</td><td>0.9999140</td><td>0.2009923</td><td>0.9999868</td><td>0.1993693</td></tr>\n",
       "\t<tr><td>-0.0024570993</td><td>-0.4248288</td><td>1.526956</td><td>1.3052934</td><td>0.5786183</td><td>1.751032</td><td>0.09759430</td><td>1.749412</td><td>0.10320615</td><td>1.749577</td><td>⋯</td><td>0.9899131</td><td>0.09796538</td><td>0.9999341</td><td>0.1977595</td><td>1.0000675</td><td>0.1943972</td><td>1.0000899</td><td>0.1953747</td><td>1.0000200</td><td>0.1986207</td></tr>\n",
       "\t<tr><td> 0.0122146140</td><td>-0.1567284</td><td>1.293367</td><td>1.5573185</td><td>0.5755040</td><td>1.753057</td><td>0.09841017</td><td>1.750837</td><td>0.09963138</td><td>1.752948</td><td>⋯</td><td>0.9817728</td><td>0.09576348</td><td>0.9999446</td><td>0.1958162</td><td>1.0001210</td><td>0.1998042</td><td>1.0001035</td><td>0.2035669</td><td>0.9999930</td><td>0.1943592</td></tr>\n",
       "\t<tr><td> 0.0122437686</td><td>-0.6440100</td><td>1.813623</td><td>1.0549500</td><td>0.5771925</td><td>1.750224</td><td>0.09638784</td><td>1.748495</td><td>0.10034823</td><td>1.747281</td><td>⋯</td><td>0.9905701</td><td>0.09800994</td><td>1.0000314</td><td>0.1924686</td><td>0.9999009</td><td>0.1966108</td><td>0.9999864</td><td>0.1994885</td><td>0.9998638</td><td>0.2017307</td></tr>\n",
       "\t<tr><td> 0.0232168105</td><td>-0.5919278</td><td>1.728949</td><td>1.1303415</td><td>0.5879867</td><td>1.750427</td><td>0.09787844</td><td>1.747814</td><td>0.09958216</td><td>1.748611</td><td>⋯</td><td>0.9856117</td><td>0.09915888</td><td>1.0000013</td><td>0.1990291</td><td>1.0001283</td><td>0.1978785</td><td>1.0000388</td><td>0.1980955</td><td>1.0000972</td><td>0.2004129</td></tr>\n",
       "\t<tr><td>-0.0066845173</td><td>-0.7095422</td><td>1.865007</td><td>1.0138677</td><td>0.5730079</td><td>1.747431</td><td>0.09781904</td><td>1.747643</td><td>0.10023992</td><td>1.749696</td><td>⋯</td><td>0.9894590</td><td>0.10088891</td><td>1.0000316</td><td>0.1915823</td><td>0.9999791</td><td>0.1922381</td><td>1.0000964</td><td>0.1974315</td><td>1.0000241</td><td>0.1958262</td></tr>\n",
       "\t<tr><td> 0.0350655390</td><td>-0.3510807</td><td>1.518275</td><td>1.3716409</td><td>0.5887940</td><td>1.746616</td><td>0.10124380</td><td>1.745316</td><td>0.09877597</td><td>1.748511</td><td>⋯</td><td>0.9815771</td><td>0.09924935</td><td>1.0001246</td><td>0.1981781</td><td>0.9999716</td><td>0.1975670</td><td>1.0001679</td><td>0.2002049</td><td>0.9999405</td><td>0.1975030</td></tr>\n",
       "\t<tr><td>-0.0158596048</td><td>-0.6157752</td><td>1.789867</td><td>1.1096732</td><td>0.5764250</td><td>1.746432</td><td>0.10105058</td><td>1.745212</td><td>0.09822495</td><td>1.748528</td><td>⋯</td><td>0.9923014</td><td>0.09864773</td><td>0.9999868</td><td>0.1991101</td><td>1.0000243</td><td>0.1938287</td><td>0.9999655</td><td>0.1973252</td><td>0.9999439</td><td>0.1983205</td></tr>\n",
       "\t<tr><td> 0.0335093410</td><td>-0.5475259</td><td>1.715046</td><td>1.1771764</td><td>0.5740609</td><td>1.748659</td><td>0.10107006</td><td>1.747353</td><td>0.10337524</td><td>1.745926</td><td>⋯</td><td>0.9923948</td><td>0.09817751</td><td>1.0000257</td><td>0.1927053</td><td>1.0000167</td><td>0.1992560</td><td>1.0000744</td><td>0.2002019</td><td>1.0000274</td><td>0.1951751</td></tr>\n",
       "\t<tr><td>-0.0055136787</td><td>-0.6021827</td><td>1.753581</td><td>1.1293404</td><td>0.5820912</td><td>1.748896</td><td>0.10052387</td><td>1.747781</td><td>0.10271376</td><td>1.749581</td><td>⋯</td><td>0.9918208</td><td>0.09873718</td><td>0.9999810</td><td>0.1970181</td><td>1.0000031</td><td>0.1938292</td><td>1.0000361</td><td>0.2015325</td><td>1.0000123</td><td>0.1994339</td></tr>\n",
       "\t<tr><td> 0.0297426446</td><td>-0.5522184</td><td>1.730971</td><td>1.1662028</td><td>0.5915257</td><td>1.746211</td><td>0.10031292</td><td>1.745487</td><td>0.09876501</td><td>1.745015</td><td>⋯</td><td>0.9921267</td><td>0.10104330</td><td>1.0000763</td><td>0.1929837</td><td>1.0000433</td><td>0.1959020</td><td>1.0000372</td><td>0.1940847</td><td>1.0000296</td><td>0.1960049</td></tr>\n",
       "\t<tr><td> 0.0026482668</td><td>-0.5491362</td><td>1.686229</td><td>1.1445407</td><td>0.5896107</td><td>1.745984</td><td>0.10203072</td><td>1.745082</td><td>0.10091352</td><td>1.745118</td><td>⋯</td><td>0.9945651</td><td>0.10312501</td><td>0.9999164</td><td>0.1967537</td><td>0.9999855</td><td>0.1992366</td><td>0.9999462</td><td>0.1992165</td><td>0.9999476</td><td>0.1993786</td></tr>\n",
       "\t<tr><td> 0.0258000773</td><td>-0.7014538</td><td>1.868907</td><td>0.9775447</td><td>0.5792228</td><td>1.747104</td><td>0.10115676</td><td>1.744772</td><td>0.10003278</td><td>1.747997</td><td>⋯</td><td>0.9950415</td><td>0.09999639</td><td>0.9999368</td><td>0.1935574</td><td>1.0000169</td><td>0.1922282</td><td>0.9999331</td><td>0.1961662</td><td>0.9999649</td><td>0.2009870</td></tr>\n",
       "\t<tr><td>⋮</td><td>⋮</td><td>⋮</td><td>⋮</td><td>⋮</td><td>⋮</td><td>⋮</td><td>⋮</td><td>⋮</td><td>⋮</td><td>⋱</td><td>⋮</td><td>⋮</td><td>⋮</td><td>⋮</td><td>⋮</td><td>⋮</td><td>⋮</td><td>⋮</td><td>⋮</td><td>⋮</td></tr>\n",
       "\t<tr><td> 0.0039998539</td><td>-0.3783407</td><td>1.352997</td><td>1.0619899</td><td>0.4893948</td><td>2.070099</td><td>0.10167794</td><td>2.068766</td><td>0.09744997</td><td>2.067483</td><td>⋯</td><td>0.9874627</td><td>0.09706886</td><td>0.9999352</td><td>0.1941428</td><td>1.0001124</td><td>0.1928965</td><td>0.9999972</td><td>0.1976993</td><td>0.9999534</td><td>0.1986085</td></tr>\n",
       "\t<tr><td> 0.0056793140</td><td>-0.5153856</td><td>1.491964</td><td>0.9381447</td><td>0.4966272</td><td>2.066206</td><td>0.09950276</td><td>2.064051</td><td>0.09958712</td><td>2.067463</td><td>⋯</td><td>0.9871375</td><td>0.09569629</td><td>1.0000459</td><td>0.2002398</td><td>0.9999787</td><td>0.1960861</td><td>0.9999867</td><td>0.1998190</td><td>1.0000597</td><td>0.1987136</td></tr>\n",
       "\t<tr><td> 0.0002895639</td><td>-0.3215027</td><td>1.288189</td><td>1.1427785</td><td>0.4831981</td><td>2.067844</td><td>0.09920844</td><td>2.067009</td><td>0.10081791</td><td>2.066408</td><td>⋯</td><td>0.9897933</td><td>0.10060160</td><td>1.0000363</td><td>0.1981173</td><td>1.0000058</td><td>0.1893012</td><td>0.9998900</td><td>0.2031014</td><td>1.0000877</td><td>0.2004773</td></tr>\n",
       "\t<tr><td> 0.0116052926</td><td>-0.3437425</td><td>1.333834</td><td>1.1164666</td><td>0.4927465</td><td>2.065340</td><td>0.10074539</td><td>2.063305</td><td>0.09946057</td><td>2.066609</td><td>⋯</td><td>0.9845393</td><td>0.10126965</td><td>0.9999966</td><td>0.1968950</td><td>0.9999349</td><td>0.2015333</td><td>1.0000861</td><td>0.1972333</td><td>0.9999332</td><td>0.1957947</td></tr>\n",
       "\t<tr><td> 0.0026074750</td><td>-0.5055299</td><td>1.491710</td><td>0.9244837</td><td>0.4878459</td><td>2.065470</td><td>0.10141993</td><td>2.065124</td><td>0.09896098</td><td>2.062684</td><td>⋯</td><td>0.9819170</td><td>0.10486419</td><td>0.9998454</td><td>0.1967265</td><td>1.0000296</td><td>0.1962603</td><td>0.9999993</td><td>0.2015341</td><td>1.0000619</td><td>0.1986551</td></tr>\n",
       "\t<tr><td>-0.0012976868</td><td>-0.5350699</td><td>1.502726</td><td>0.9270280</td><td>0.4790670</td><td>2.065214</td><td>0.10342564</td><td>2.060961</td><td>0.09592763</td><td>2.066052</td><td>⋯</td><td>0.9775507</td><td>0.10289341</td><td>0.9999553</td><td>0.1970363</td><td>1.0000369</td><td>0.2003975</td><td>0.9999900</td><td>0.2003593</td><td>0.9999004</td><td>0.2008845</td></tr>\n",
       "\t<tr><td> 0.0015703795</td><td>-0.5504967</td><td>1.541105</td><td>0.8745155</td><td>0.4901703</td><td>2.064040</td><td>0.10243029</td><td>2.062867</td><td>0.10037724</td><td>2.063173</td><td>⋯</td><td>0.9818810</td><td>0.10361492</td><td>1.0000421</td><td>0.1916097</td><td>0.9999363</td><td>0.1990263</td><td>0.9999427</td><td>0.1997716</td><td>1.0000838</td><td>0.2021495</td></tr>\n",
       "\t<tr><td> 0.0147379344</td><td>-0.5714521</td><td>1.558589</td><td>0.8777328</td><td>0.4932927</td><td>2.065274</td><td>0.10239828</td><td>2.065220</td><td>0.09536543</td><td>2.067691</td><td>⋯</td><td>0.9865365</td><td>0.09812336</td><td>0.9999635</td><td>0.1931467</td><td>1.0000763</td><td>0.1972649</td><td>1.0000491</td><td>0.1944611</td><td>0.9999174</td><td>0.1935736</td></tr>\n",
       "\t<tr><td> 0.0039888498</td><td>-0.4746283</td><td>1.463464</td><td>0.9678755</td><td>0.4937457</td><td>2.061981</td><td>0.10128574</td><td>2.060282</td><td>0.09943325</td><td>2.059818</td><td>⋯</td><td>0.9847147</td><td>0.09838485</td><td>1.0000057</td><td>0.1960958</td><td>1.0001459</td><td>0.1964137</td><td>0.9998850</td><td>0.2042290</td><td>0.9999515</td><td>0.2055117</td></tr>\n",
       "\t<tr><td> 0.0077346327</td><td>-0.5046044</td><td>1.466047</td><td>0.9513510</td><td>0.4969689</td><td>2.061700</td><td>0.10021120</td><td>2.060289</td><td>0.09960387</td><td>2.060449</td><td>⋯</td><td>0.9783363</td><td>0.09871617</td><td>0.9999650</td><td>0.1950018</td><td>0.9998798</td><td>0.1956861</td><td>1.0000942</td><td>0.2023385</td><td>0.9999809</td><td>0.2056464</td></tr>\n",
       "\t<tr><td> 0.0096960604</td><td>-0.4864290</td><td>1.411136</td><td>0.9846889</td><td>0.4937252</td><td>2.061093</td><td>0.09943230</td><td>2.059220</td><td>0.10241084</td><td>2.063668</td><td>⋯</td><td>0.9806550</td><td>0.09917148</td><td>0.9999530</td><td>0.1950705</td><td>0.9999340</td><td>0.1968167</td><td>1.0000551</td><td>0.1966399</td><td>1.0000181</td><td>0.1921625</td></tr>\n",
       "\t<tr><td> 0.0109627583</td><td>-0.4301030</td><td>1.424392</td><td>1.0087363</td><td>0.4933756</td><td>2.061190</td><td>0.09949694</td><td>2.060815</td><td>0.10369278</td><td>2.060406</td><td>⋯</td><td>0.9820525</td><td>0.10069988</td><td>1.0000152</td><td>0.1954982</td><td>0.9999431</td><td>0.1963937</td><td>1.0001445</td><td>0.1965227</td><td>0.9998690</td><td>0.1927753</td></tr>\n",
       "\t<tr><td> 0.0202669462</td><td>-0.6115990</td><td>1.620673</td><td>0.8154870</td><td>0.4924441</td><td>2.064285</td><td>0.09990531</td><td>2.064075</td><td>0.10184310</td><td>2.063537</td><td>⋯</td><td>0.9863291</td><td>0.09857740</td><td>1.0001730</td><td>0.1954471</td><td>1.0000141</td><td>0.1945875</td><td>1.0000542</td><td>0.1959344</td><td>1.0000618</td><td>0.2056260</td></tr>\n",
       "\t<tr><td> 0.0191459848</td><td>-0.6272750</td><td>1.599905</td><td>0.8109176</td><td>0.4943937</td><td>2.063550</td><td>0.09961299</td><td>2.060808</td><td>0.10139645</td><td>2.064157</td><td>⋯</td><td>0.9862053</td><td>0.09825879</td><td>0.9998772</td><td>0.1955063</td><td>0.9999382</td><td>0.1940968</td><td>0.9999535</td><td>0.1955293</td><td>1.0000404</td><td>0.2059028</td></tr>\n",
       "\t<tr><td>-0.0004375873</td><td>-0.5304641</td><td>1.538010</td><td>0.8832519</td><td>0.4999902</td><td>2.064425</td><td>0.10233047</td><td>2.064439</td><td>0.10032343</td><td>2.066178</td><td>⋯</td><td>0.9898842</td><td>0.09852472</td><td>0.9998739</td><td>0.1950101</td><td>0.9999328</td><td>0.1968263</td><td>0.9999495</td><td>0.2009061</td><td>1.0000380</td><td>0.1938461</td></tr>\n",
       "\t<tr><td> 0.0140823021</td><td>-0.3080116</td><td>1.247451</td><td>1.1687817</td><td>0.4898647</td><td>2.070581</td><td>0.09803165</td><td>2.067647</td><td>0.10002815</td><td>2.070016</td><td>⋯</td><td>0.9822050</td><td>0.10210018</td><td>0.9998674</td><td>0.1945857</td><td>0.9999422</td><td>0.1928583</td><td>0.9999559</td><td>0.1952471</td><td>1.0000365</td><td>0.1999176</td></tr>\n",
       "\t<tr><td>-0.0077446688</td><td>-0.2838266</td><td>1.255624</td><td>1.1733062</td><td>0.4926141</td><td>2.070083</td><td>0.09590985</td><td>2.066923</td><td>0.10246580</td><td>2.068047</td><td>⋯</td><td>0.9813312</td><td>0.09982153</td><td>0.9999149</td><td>0.1983507</td><td>0.9999370</td><td>0.1986487</td><td>0.9999304</td><td>0.1999125</td><td>1.0000424</td><td>0.1983307</td></tr>\n",
       "\t<tr><td> 0.0188931886</td><td>-0.5700161</td><td>1.524009</td><td>0.9046105</td><td>0.4853517</td><td>2.067366</td><td>0.09822216</td><td>2.065998</td><td>0.10176610</td><td>2.067533</td><td>⋯</td><td>0.9945600</td><td>0.09805439</td><td>0.9999436</td><td>0.1977995</td><td>0.9999173</td><td>0.1946431</td><td>0.9998994</td><td>0.1985725</td><td>1.0000699</td><td>0.1958580</td></tr>\n",
       "\t<tr><td>-0.0110358282</td><td>-0.4569794</td><td>1.448521</td><td>0.9978965</td><td>0.4944236</td><td>2.065681</td><td>0.09512249</td><td>2.064986</td><td>0.10019976</td><td>2.066547</td><td>⋯</td><td>0.9752273</td><td>0.09676710</td><td>0.9999425</td><td>0.1992834</td><td>0.9999048</td><td>0.1979606</td><td>0.9998920</td><td>0.1976527</td><td>1.0000776</td><td>0.1970861</td></tr>\n",
       "\t<tr><td> 0.0172588298</td><td>-0.5110444</td><td>1.491897</td><td>0.9294458</td><td>0.4918035</td><td>2.069944</td><td>0.10025502</td><td>2.066139</td><td>0.09996444</td><td>2.067403</td><td>⋯</td><td>0.9934475</td><td>0.09671895</td><td>0.9999424</td><td>0.1917342</td><td>0.9999212</td><td>0.1950989</td><td>0.9999553</td><td>0.1994161</td><td>1.0000737</td><td>0.2010365</td></tr>\n",
       "\t<tr><td>-0.0021170947</td><td>-0.4292387</td><td>1.385342</td><td>1.0195373</td><td>0.4928603</td><td>2.063794</td><td>0.10161062</td><td>2.064717</td><td>0.09878677</td><td>2.066217</td><td>⋯</td><td>0.9942913</td><td>0.10114113</td><td>1.0000607</td><td>0.1929438</td><td>1.0000908</td><td>0.1976515</td><td>1.0000422</td><td>0.1976223</td><td>0.9999172</td><td>0.2009489</td></tr>\n",
       "\t<tr><td>-0.0064713882</td><td>-0.5094204</td><td>1.478110</td><td>0.9381158</td><td>0.4934161</td><td>2.065308</td><td>0.10056071</td><td>2.062651</td><td>0.10233270</td><td>2.062496</td><td>⋯</td><td>0.9846547</td><td>0.10036887</td><td>0.9999069</td><td>0.1969854</td><td>0.9998651</td><td>0.1985176</td><td>0.9999963</td><td>0.1976844</td><td>1.0000508</td><td>0.2019924</td></tr>\n",
       "\t<tr><td> 0.0157373342</td><td>-0.5672200</td><td>1.565441</td><td>0.8691148</td><td>0.4910739</td><td>2.065836</td><td>0.09797971</td><td>2.062528</td><td>0.10005848</td><td>2.063749</td><td>⋯</td><td>0.9785687</td><td>0.09859987</td><td>0.9998176</td><td>0.1912240</td><td>1.0000784</td><td>0.1975420</td><td>1.0000177</td><td>0.2006768</td><td>0.9999313</td><td>0.1961222</td></tr>\n",
       "\t<tr><td> 0.0053017672</td><td>-0.6443401</td><td>1.621693</td><td>0.8074615</td><td>0.4926760</td><td>2.065085</td><td>0.09849195</td><td>2.062219</td><td>0.09937713</td><td>2.066282</td><td>⋯</td><td>0.9869271</td><td>0.09722369</td><td>0.9998297</td><td>0.1980781</td><td>1.0001447</td><td>0.1933726</td><td>0.9999311</td><td>0.2031484</td><td>0.9999682</td><td>0.1975392</td></tr>\n",
       "\t<tr><td> 0.0182685745</td><td>-0.3343875</td><td>1.325180</td><td>1.0979268</td><td>0.4928038</td><td>2.065633</td><td>0.09857227</td><td>2.064610</td><td>0.09962101</td><td>2.064308</td><td>⋯</td><td>0.9889647</td><td>0.09865667</td><td>0.9998290</td><td>0.1953914</td><td>1.0001368</td><td>0.1977070</td><td>0.9999639</td><td>0.1920398</td><td>0.9998303</td><td>0.2007457</td></tr>\n",
       "\t<tr><td>-0.0033128191</td><td>-0.4039925</td><td>1.380791</td><td>1.0375902</td><td>0.4873024</td><td>2.064743</td><td>0.09737717</td><td>2.062376</td><td>0.09995186</td><td>2.064158</td><td>⋯</td><td>0.9887813</td><td>0.10181417</td><td>0.9999513</td><td>0.1982120</td><td>1.0000630</td><td>0.1919749</td><td>0.9999046</td><td>0.2024263</td><td>1.0002771</td><td>0.1978154</td></tr>\n",
       "\t<tr><td> 0.0223753229</td><td>-0.5023533</td><td>1.483271</td><td>0.9321660</td><td>0.4939070</td><td>2.063733</td><td>0.09945189</td><td>2.061865</td><td>0.10405153</td><td>2.064381</td><td>⋯</td><td>0.9930796</td><td>0.10324000</td><td>1.0000085</td><td>0.1951980</td><td>1.0000691</td><td>0.2014959</td><td>0.9998609</td><td>0.1955179</td><td>1.0002306</td><td>0.1942307</td></tr>\n",
       "\t<tr><td>-0.0006968308</td><td>-0.5453985</td><td>1.525256</td><td>0.9172527</td><td>0.4899441</td><td>2.061996</td><td>0.10000723</td><td>2.061619</td><td>0.10101984</td><td>2.064069</td><td>⋯</td><td>0.9794285</td><td>0.10213700</td><td>0.9998959</td><td>0.1988083</td><td>0.9999562</td><td>0.1896169</td><td>0.9999798</td><td>0.1985154</td><td>0.9998347</td><td>0.2013189</td></tr>\n",
       "\t<tr><td> 0.0075642462</td><td>-0.3424131</td><td>1.329979</td><td>1.0899960</td><td>0.4918178</td><td>2.060447</td><td>0.09615132</td><td>2.059290</td><td>0.10092702</td><td>2.059884</td><td>⋯</td><td>0.9936008</td><td>0.10303887</td><td>1.0001211</td><td>0.1935816</td><td>1.0000502</td><td>0.2020976</td><td>0.9999650</td><td>0.1992477</td><td>1.0001420</td><td>0.1981754</td></tr>\n",
       "\t<tr><td> 0.0139881881</td><td>-0.5333792</td><td>1.540124</td><td>0.8947837</td><td>0.4976799</td><td>2.057491</td><td>0.09814275</td><td>2.055507</td><td>0.09752791</td><td>2.056720</td><td>⋯</td><td>0.9740308</td><td>0.10168159</td><td>1.0001037</td><td>0.2011769</td><td>1.0000420</td><td>0.1934272</td><td>0.9999840</td><td>0.1958733</td><td>0.9998785</td><td>0.2018523</td></tr>\n",
       "</tbody>\n",
       "</table>\n"
      ],
      "text/latex": [
       "A data.frame: 8000 × 46\n",
       "\\begin{tabular}{lllllllllllllllllllll}\n",
       " b\\_Sm\\_Intercept & b\\_Sm\\_Z1 & b\\_Sm\\_Z2 & bsp\\_Sm\\_miXm & sigma\\_Sm & bsp\\_Y1\\_miSm & sigma\\_Y1 & bsp\\_Y2\\_miSm & sigma\\_Y2 & bsp\\_Y3\\_miSm & ⋯ & b\\_Xm\\_Z2.1 & sigma\\_Xm.1 & bsp\\_W1\\_miXm.1 & sigma\\_W1.1 & bsp\\_W2\\_miXm.1 & sigma\\_W2.1 & bsp\\_W3\\_miXm.1 & sigma\\_W3.1 & bsp\\_W4\\_miXm.1 & sigma\\_W4.1\\\\\n",
       " <dbl> & <dbl> & <dbl> & <dbl> & <dbl> & <dbl> & <dbl> & <dbl> & <dbl> & <dbl> & ⋯ & <dbl> & <dbl> & <dbl> & <dbl> & <dbl> & <dbl> & <dbl> & <dbl> & <dbl> & <dbl>\\\\\n",
       "\\hline\n",
       "\t  0.0091141096 & -0.2446136 & 1.372547 & 1.4992080 & 0.5749250 & 1.742508 & 0.09902868 & 1.740455 & 0.10157703 & 1.742042 & ⋯ & 0.9894173 & 0.10049621 & 0.9998507 & 0.1933146 & 1.0000061 & 0.1914069 & 0.9999393 & 0.1965938 & 0.9999134 & 0.1980532\\\\\n",
       "\t  0.0192413923 & -0.4015140 & 1.606707 & 1.2733181 & 0.5759861 & 1.742520 & 0.09825962 & 1.742753 & 0.10246786 & 1.742515 & ⋯ & 0.9914083 & 0.09764157 & 0.9999013 & 0.1950061 & 1.0003347 & 0.1874089 & 1.0000369 & 0.1960657 & 1.0000542 & 0.1995207\\\\\n",
       "\t  0.0014242763 & -0.4892473 & 1.664421 & 1.2068760 & 0.5871842 & 1.747338 & 0.09972973 & 1.745612 & 0.09984290 & 1.747345 & ⋯ & 0.9816321 & 0.09927816 & 0.9999229 & 0.1961226 & 1.0003265 & 0.1995112 & 1.0000179 & 0.2006636 & 1.0000457 & 0.1981186\\\\\n",
       "\t  0.0140844917 & -0.8067995 & 1.952051 & 0.9063171 & 0.5864414 & 1.745028 & 0.10019805 & 1.744418 & 0.10070894 & 1.744759 & ⋯ & 0.9893785 & 0.10262490 & 0.9999446 & 0.1952738 & 1.0003425 & 0.1913862 & 1.0001751 & 0.2012594 & 1.0001984 & 0.2017655\\\\\n",
       "\t -0.0072836107 & -0.7266051 & 1.893401 & 0.9892694 & 0.5931883 & 1.741977 & 0.10197321 & 1.741160 & 0.09952891 & 1.741273 & ⋯ & 0.9851509 & 0.10008531 & 1.0000481 & 0.1918957 & 0.9999451 & 0.1918873 & 0.9998326 & 0.2028188 & 0.9999618 & 0.1958290\\\\\n",
       "\t  0.0246802737 & -0.5104554 & 1.670651 & 1.1947524 & 0.5720278 & 1.740288 & 0.10059692 & 1.739296 & 0.10201831 & 1.740221 & ⋯ & 0.9869987 & 0.09857913 & 0.9997968 & 0.1991435 & 0.9999658 & 0.1937714 & 1.0001174 & 0.1969991 & 0.9999068 & 0.1957394\\\\\n",
       "\t  0.0049744229 & -0.4437174 & 1.601330 & 1.2906698 & 0.5767442 & 1.739956 & 0.10078698 & 1.738455 & 0.10102300 & 1.738911 & ⋯ & 0.9881628 & 0.10453567 & 0.9999068 & 0.1937722 & 0.9999825 & 0.1948244 & 1.0001083 & 0.1999379 & 0.9999343 & 0.1973081\\\\\n",
       "\t  0.0174964526 & -0.7128993 & 1.867462 & 0.9929390 & 0.5871397 & 1.739984 & 0.09995295 & 1.738347 & 0.10013111 & 1.741059 & ⋯ & 0.9865103 & 0.10204328 & 1.0002089 & 0.1928613 & 1.0001396 & 0.1955670 & 0.9999059 & 0.1986334 & 1.0001027 & 0.1976609\\\\\n",
       "\t  0.0111848563 & -0.6405633 & 1.811547 & 1.0494408 & 0.5865574 & 1.740952 & 0.10019603 & 1.738973 & 0.09682565 & 1.739121 & ⋯ & 0.9949695 & 0.09795452 & 0.9999457 & 0.1974302 & 1.0000072 & 0.1944454 & 1.0000908 & 0.1993173 & 0.9998270 & 0.1963066\\\\\n",
       "\t -0.0003316813 & -0.4692292 & 1.648060 & 1.2573004 & 0.5795917 & 1.738493 & 0.09983708 & 1.738503 & 0.09969557 & 1.739689 & ⋯ & 0.9862668 & 0.09729356 & 0.9999317 & 0.1926191 & 0.9998968 & 0.1993423 & 1.0000394 & 0.2003214 & 1.0000816 & 0.1966152\\\\\n",
       "\t  0.0198549962 & -0.5564910 & 1.691785 & 1.1541603 & 0.5846428 & 1.740902 & 0.10094398 & 1.739292 & 0.09823895 & 1.741384 & ⋯ & 0.9872854 & 0.09711467 & 0.9999884 & 0.1952250 & 0.9998776 & 0.1987328 & 0.9999500 & 0.1983026 & 1.0000215 & 0.1996623\\\\\n",
       "\t -0.0007801887 & -0.7081593 & 1.871517 & 1.0345505 & 0.5779316 & 1.741762 & 0.10151965 & 1.741161 & 0.09962902 & 1.743085 & ⋯ & 0.9845134 & 0.09888854 & 1.0000129 & 0.1967598 & 0.9998572 & 0.1999011 & 1.0000655 & 0.1972810 & 1.0000713 & 0.1977840\\\\\n",
       "\t  0.0125642735 & -0.6052457 & 1.764742 & 1.1080153 & 0.5861707 & 1.741110 & 0.10260678 & 1.740508 & 0.10027829 & 1.739855 & ⋯ & 0.9846016 & 0.10271877 & 0.9999852 & 0.1952837 & 0.9999649 & 0.1978646 & 1.0000325 & 0.1968045 & 0.9998936 & 0.2000952\\\\\n",
       "\t -0.0003336935 & -0.6159791 & 1.756926 & 1.1136848 & 0.5810177 & 1.742518 & 0.10103024 & 1.742170 & 0.10406192 & 1.740025 & ⋯ & 0.9792519 & 0.10259069 & 1.0000105 & 0.1962695 & 1.0000695 & 0.1966163 & 1.0000091 & 0.2009969 & 1.0000606 & 0.1979139\\\\\n",
       "\t  0.0213850506 & -0.4816825 & 1.653591 & 1.2165152 & 0.5818444 & 1.744052 & 0.09903782 & 1.741672 & 0.10014613 & 1.745586 & ⋯ & 0.9920831 & 0.10051918 & 0.9999940 & 0.1967890 & 0.9999351 & 0.1901539 & 0.9999880 & 0.1979053 & 0.9999332 & 0.1979003\\\\\n",
       "\t -0.0093940850 & -0.4618573 & 1.609209 & 1.2556391 & 0.5717538 & 1.748100 & 0.09958081 & 1.748763 & 0.10231417 & 1.748983 & ⋯ & 0.9762534 & 0.09773720 & 1.0000255 & 0.1979360 & 0.9999286 & 0.1985664 & 1.0000208 & 0.2005532 & 0.9999701 & 0.1977299\\\\\n",
       "\t  0.0231620997 & -0.6061165 & 1.721774 & 1.1511636 & 0.5915052 & 1.749068 & 0.10253923 & 1.747668 & 0.09697314 & 1.749640 & ⋯ & 0.9807536 & 0.10315413 & 0.9999408 & 0.1965447 & 0.9999548 & 0.1944425 & 0.9999302 & 0.1954994 & 0.9999911 & 0.1938250\\\\\n",
       "\t -0.0110981493 & -0.6575436 & 1.761417 & 1.0590228 & 0.5713183 & 1.751080 & 0.09820142 & 1.749636 & 0.10249828 & 1.749133 & ⋯ & 0.9922878 & 0.10343399 & 0.9999995 & 0.1985754 & 0.9999773 & 0.1944398 & 0.9999140 & 0.2009923 & 0.9999868 & 0.1993693\\\\\n",
       "\t -0.0024570993 & -0.4248288 & 1.526956 & 1.3052934 & 0.5786183 & 1.751032 & 0.09759430 & 1.749412 & 0.10320615 & 1.749577 & ⋯ & 0.9899131 & 0.09796538 & 0.9999341 & 0.1977595 & 1.0000675 & 0.1943972 & 1.0000899 & 0.1953747 & 1.0000200 & 0.1986207\\\\\n",
       "\t  0.0122146140 & -0.1567284 & 1.293367 & 1.5573185 & 0.5755040 & 1.753057 & 0.09841017 & 1.750837 & 0.09963138 & 1.752948 & ⋯ & 0.9817728 & 0.09576348 & 0.9999446 & 0.1958162 & 1.0001210 & 0.1998042 & 1.0001035 & 0.2035669 & 0.9999930 & 0.1943592\\\\\n",
       "\t  0.0122437686 & -0.6440100 & 1.813623 & 1.0549500 & 0.5771925 & 1.750224 & 0.09638784 & 1.748495 & 0.10034823 & 1.747281 & ⋯ & 0.9905701 & 0.09800994 & 1.0000314 & 0.1924686 & 0.9999009 & 0.1966108 & 0.9999864 & 0.1994885 & 0.9998638 & 0.2017307\\\\\n",
       "\t  0.0232168105 & -0.5919278 & 1.728949 & 1.1303415 & 0.5879867 & 1.750427 & 0.09787844 & 1.747814 & 0.09958216 & 1.748611 & ⋯ & 0.9856117 & 0.09915888 & 1.0000013 & 0.1990291 & 1.0001283 & 0.1978785 & 1.0000388 & 0.1980955 & 1.0000972 & 0.2004129\\\\\n",
       "\t -0.0066845173 & -0.7095422 & 1.865007 & 1.0138677 & 0.5730079 & 1.747431 & 0.09781904 & 1.747643 & 0.10023992 & 1.749696 & ⋯ & 0.9894590 & 0.10088891 & 1.0000316 & 0.1915823 & 0.9999791 & 0.1922381 & 1.0000964 & 0.1974315 & 1.0000241 & 0.1958262\\\\\n",
       "\t  0.0350655390 & -0.3510807 & 1.518275 & 1.3716409 & 0.5887940 & 1.746616 & 0.10124380 & 1.745316 & 0.09877597 & 1.748511 & ⋯ & 0.9815771 & 0.09924935 & 1.0001246 & 0.1981781 & 0.9999716 & 0.1975670 & 1.0001679 & 0.2002049 & 0.9999405 & 0.1975030\\\\\n",
       "\t -0.0158596048 & -0.6157752 & 1.789867 & 1.1096732 & 0.5764250 & 1.746432 & 0.10105058 & 1.745212 & 0.09822495 & 1.748528 & ⋯ & 0.9923014 & 0.09864773 & 0.9999868 & 0.1991101 & 1.0000243 & 0.1938287 & 0.9999655 & 0.1973252 & 0.9999439 & 0.1983205\\\\\n",
       "\t  0.0335093410 & -0.5475259 & 1.715046 & 1.1771764 & 0.5740609 & 1.748659 & 0.10107006 & 1.747353 & 0.10337524 & 1.745926 & ⋯ & 0.9923948 & 0.09817751 & 1.0000257 & 0.1927053 & 1.0000167 & 0.1992560 & 1.0000744 & 0.2002019 & 1.0000274 & 0.1951751\\\\\n",
       "\t -0.0055136787 & -0.6021827 & 1.753581 & 1.1293404 & 0.5820912 & 1.748896 & 0.10052387 & 1.747781 & 0.10271376 & 1.749581 & ⋯ & 0.9918208 & 0.09873718 & 0.9999810 & 0.1970181 & 1.0000031 & 0.1938292 & 1.0000361 & 0.2015325 & 1.0000123 & 0.1994339\\\\\n",
       "\t  0.0297426446 & -0.5522184 & 1.730971 & 1.1662028 & 0.5915257 & 1.746211 & 0.10031292 & 1.745487 & 0.09876501 & 1.745015 & ⋯ & 0.9921267 & 0.10104330 & 1.0000763 & 0.1929837 & 1.0000433 & 0.1959020 & 1.0000372 & 0.1940847 & 1.0000296 & 0.1960049\\\\\n",
       "\t  0.0026482668 & -0.5491362 & 1.686229 & 1.1445407 & 0.5896107 & 1.745984 & 0.10203072 & 1.745082 & 0.10091352 & 1.745118 & ⋯ & 0.9945651 & 0.10312501 & 0.9999164 & 0.1967537 & 0.9999855 & 0.1992366 & 0.9999462 & 0.1992165 & 0.9999476 & 0.1993786\\\\\n",
       "\t  0.0258000773 & -0.7014538 & 1.868907 & 0.9775447 & 0.5792228 & 1.747104 & 0.10115676 & 1.744772 & 0.10003278 & 1.747997 & ⋯ & 0.9950415 & 0.09999639 & 0.9999368 & 0.1935574 & 1.0000169 & 0.1922282 & 0.9999331 & 0.1961662 & 0.9999649 & 0.2009870\\\\\n",
       "\t ⋮ & ⋮ & ⋮ & ⋮ & ⋮ & ⋮ & ⋮ & ⋮ & ⋮ & ⋮ & ⋱ & ⋮ & ⋮ & ⋮ & ⋮ & ⋮ & ⋮ & ⋮ & ⋮ & ⋮ & ⋮\\\\\n",
       "\t  0.0039998539 & -0.3783407 & 1.352997 & 1.0619899 & 0.4893948 & 2.070099 & 0.10167794 & 2.068766 & 0.09744997 & 2.067483 & ⋯ & 0.9874627 & 0.09706886 & 0.9999352 & 0.1941428 & 1.0001124 & 0.1928965 & 0.9999972 & 0.1976993 & 0.9999534 & 0.1986085\\\\\n",
       "\t  0.0056793140 & -0.5153856 & 1.491964 & 0.9381447 & 0.4966272 & 2.066206 & 0.09950276 & 2.064051 & 0.09958712 & 2.067463 & ⋯ & 0.9871375 & 0.09569629 & 1.0000459 & 0.2002398 & 0.9999787 & 0.1960861 & 0.9999867 & 0.1998190 & 1.0000597 & 0.1987136\\\\\n",
       "\t  0.0002895639 & -0.3215027 & 1.288189 & 1.1427785 & 0.4831981 & 2.067844 & 0.09920844 & 2.067009 & 0.10081791 & 2.066408 & ⋯ & 0.9897933 & 0.10060160 & 1.0000363 & 0.1981173 & 1.0000058 & 0.1893012 & 0.9998900 & 0.2031014 & 1.0000877 & 0.2004773\\\\\n",
       "\t  0.0116052926 & -0.3437425 & 1.333834 & 1.1164666 & 0.4927465 & 2.065340 & 0.10074539 & 2.063305 & 0.09946057 & 2.066609 & ⋯ & 0.9845393 & 0.10126965 & 0.9999966 & 0.1968950 & 0.9999349 & 0.2015333 & 1.0000861 & 0.1972333 & 0.9999332 & 0.1957947\\\\\n",
       "\t  0.0026074750 & -0.5055299 & 1.491710 & 0.9244837 & 0.4878459 & 2.065470 & 0.10141993 & 2.065124 & 0.09896098 & 2.062684 & ⋯ & 0.9819170 & 0.10486419 & 0.9998454 & 0.1967265 & 1.0000296 & 0.1962603 & 0.9999993 & 0.2015341 & 1.0000619 & 0.1986551\\\\\n",
       "\t -0.0012976868 & -0.5350699 & 1.502726 & 0.9270280 & 0.4790670 & 2.065214 & 0.10342564 & 2.060961 & 0.09592763 & 2.066052 & ⋯ & 0.9775507 & 0.10289341 & 0.9999553 & 0.1970363 & 1.0000369 & 0.2003975 & 0.9999900 & 0.2003593 & 0.9999004 & 0.2008845\\\\\n",
       "\t  0.0015703795 & -0.5504967 & 1.541105 & 0.8745155 & 0.4901703 & 2.064040 & 0.10243029 & 2.062867 & 0.10037724 & 2.063173 & ⋯ & 0.9818810 & 0.10361492 & 1.0000421 & 0.1916097 & 0.9999363 & 0.1990263 & 0.9999427 & 0.1997716 & 1.0000838 & 0.2021495\\\\\n",
       "\t  0.0147379344 & -0.5714521 & 1.558589 & 0.8777328 & 0.4932927 & 2.065274 & 0.10239828 & 2.065220 & 0.09536543 & 2.067691 & ⋯ & 0.9865365 & 0.09812336 & 0.9999635 & 0.1931467 & 1.0000763 & 0.1972649 & 1.0000491 & 0.1944611 & 0.9999174 & 0.1935736\\\\\n",
       "\t  0.0039888498 & -0.4746283 & 1.463464 & 0.9678755 & 0.4937457 & 2.061981 & 0.10128574 & 2.060282 & 0.09943325 & 2.059818 & ⋯ & 0.9847147 & 0.09838485 & 1.0000057 & 0.1960958 & 1.0001459 & 0.1964137 & 0.9998850 & 0.2042290 & 0.9999515 & 0.2055117\\\\\n",
       "\t  0.0077346327 & -0.5046044 & 1.466047 & 0.9513510 & 0.4969689 & 2.061700 & 0.10021120 & 2.060289 & 0.09960387 & 2.060449 & ⋯ & 0.9783363 & 0.09871617 & 0.9999650 & 0.1950018 & 0.9998798 & 0.1956861 & 1.0000942 & 0.2023385 & 0.9999809 & 0.2056464\\\\\n",
       "\t  0.0096960604 & -0.4864290 & 1.411136 & 0.9846889 & 0.4937252 & 2.061093 & 0.09943230 & 2.059220 & 0.10241084 & 2.063668 & ⋯ & 0.9806550 & 0.09917148 & 0.9999530 & 0.1950705 & 0.9999340 & 0.1968167 & 1.0000551 & 0.1966399 & 1.0000181 & 0.1921625\\\\\n",
       "\t  0.0109627583 & -0.4301030 & 1.424392 & 1.0087363 & 0.4933756 & 2.061190 & 0.09949694 & 2.060815 & 0.10369278 & 2.060406 & ⋯ & 0.9820525 & 0.10069988 & 1.0000152 & 0.1954982 & 0.9999431 & 0.1963937 & 1.0001445 & 0.1965227 & 0.9998690 & 0.1927753\\\\\n",
       "\t  0.0202669462 & -0.6115990 & 1.620673 & 0.8154870 & 0.4924441 & 2.064285 & 0.09990531 & 2.064075 & 0.10184310 & 2.063537 & ⋯ & 0.9863291 & 0.09857740 & 1.0001730 & 0.1954471 & 1.0000141 & 0.1945875 & 1.0000542 & 0.1959344 & 1.0000618 & 0.2056260\\\\\n",
       "\t  0.0191459848 & -0.6272750 & 1.599905 & 0.8109176 & 0.4943937 & 2.063550 & 0.09961299 & 2.060808 & 0.10139645 & 2.064157 & ⋯ & 0.9862053 & 0.09825879 & 0.9998772 & 0.1955063 & 0.9999382 & 0.1940968 & 0.9999535 & 0.1955293 & 1.0000404 & 0.2059028\\\\\n",
       "\t -0.0004375873 & -0.5304641 & 1.538010 & 0.8832519 & 0.4999902 & 2.064425 & 0.10233047 & 2.064439 & 0.10032343 & 2.066178 & ⋯ & 0.9898842 & 0.09852472 & 0.9998739 & 0.1950101 & 0.9999328 & 0.1968263 & 0.9999495 & 0.2009061 & 1.0000380 & 0.1938461\\\\\n",
       "\t  0.0140823021 & -0.3080116 & 1.247451 & 1.1687817 & 0.4898647 & 2.070581 & 0.09803165 & 2.067647 & 0.10002815 & 2.070016 & ⋯ & 0.9822050 & 0.10210018 & 0.9998674 & 0.1945857 & 0.9999422 & 0.1928583 & 0.9999559 & 0.1952471 & 1.0000365 & 0.1999176\\\\\n",
       "\t -0.0077446688 & -0.2838266 & 1.255624 & 1.1733062 & 0.4926141 & 2.070083 & 0.09590985 & 2.066923 & 0.10246580 & 2.068047 & ⋯ & 0.9813312 & 0.09982153 & 0.9999149 & 0.1983507 & 0.9999370 & 0.1986487 & 0.9999304 & 0.1999125 & 1.0000424 & 0.1983307\\\\\n",
       "\t  0.0188931886 & -0.5700161 & 1.524009 & 0.9046105 & 0.4853517 & 2.067366 & 0.09822216 & 2.065998 & 0.10176610 & 2.067533 & ⋯ & 0.9945600 & 0.09805439 & 0.9999436 & 0.1977995 & 0.9999173 & 0.1946431 & 0.9998994 & 0.1985725 & 1.0000699 & 0.1958580\\\\\n",
       "\t -0.0110358282 & -0.4569794 & 1.448521 & 0.9978965 & 0.4944236 & 2.065681 & 0.09512249 & 2.064986 & 0.10019976 & 2.066547 & ⋯ & 0.9752273 & 0.09676710 & 0.9999425 & 0.1992834 & 0.9999048 & 0.1979606 & 0.9998920 & 0.1976527 & 1.0000776 & 0.1970861\\\\\n",
       "\t  0.0172588298 & -0.5110444 & 1.491897 & 0.9294458 & 0.4918035 & 2.069944 & 0.10025502 & 2.066139 & 0.09996444 & 2.067403 & ⋯ & 0.9934475 & 0.09671895 & 0.9999424 & 0.1917342 & 0.9999212 & 0.1950989 & 0.9999553 & 0.1994161 & 1.0000737 & 0.2010365\\\\\n",
       "\t -0.0021170947 & -0.4292387 & 1.385342 & 1.0195373 & 0.4928603 & 2.063794 & 0.10161062 & 2.064717 & 0.09878677 & 2.066217 & ⋯ & 0.9942913 & 0.10114113 & 1.0000607 & 0.1929438 & 1.0000908 & 0.1976515 & 1.0000422 & 0.1976223 & 0.9999172 & 0.2009489\\\\\n",
       "\t -0.0064713882 & -0.5094204 & 1.478110 & 0.9381158 & 0.4934161 & 2.065308 & 0.10056071 & 2.062651 & 0.10233270 & 2.062496 & ⋯ & 0.9846547 & 0.10036887 & 0.9999069 & 0.1969854 & 0.9998651 & 0.1985176 & 0.9999963 & 0.1976844 & 1.0000508 & 0.2019924\\\\\n",
       "\t  0.0157373342 & -0.5672200 & 1.565441 & 0.8691148 & 0.4910739 & 2.065836 & 0.09797971 & 2.062528 & 0.10005848 & 2.063749 & ⋯ & 0.9785687 & 0.09859987 & 0.9998176 & 0.1912240 & 1.0000784 & 0.1975420 & 1.0000177 & 0.2006768 & 0.9999313 & 0.1961222\\\\\n",
       "\t  0.0053017672 & -0.6443401 & 1.621693 & 0.8074615 & 0.4926760 & 2.065085 & 0.09849195 & 2.062219 & 0.09937713 & 2.066282 & ⋯ & 0.9869271 & 0.09722369 & 0.9998297 & 0.1980781 & 1.0001447 & 0.1933726 & 0.9999311 & 0.2031484 & 0.9999682 & 0.1975392\\\\\n",
       "\t  0.0182685745 & -0.3343875 & 1.325180 & 1.0979268 & 0.4928038 & 2.065633 & 0.09857227 & 2.064610 & 0.09962101 & 2.064308 & ⋯ & 0.9889647 & 0.09865667 & 0.9998290 & 0.1953914 & 1.0001368 & 0.1977070 & 0.9999639 & 0.1920398 & 0.9998303 & 0.2007457\\\\\n",
       "\t -0.0033128191 & -0.4039925 & 1.380791 & 1.0375902 & 0.4873024 & 2.064743 & 0.09737717 & 2.062376 & 0.09995186 & 2.064158 & ⋯ & 0.9887813 & 0.10181417 & 0.9999513 & 0.1982120 & 1.0000630 & 0.1919749 & 0.9999046 & 0.2024263 & 1.0002771 & 0.1978154\\\\\n",
       "\t  0.0223753229 & -0.5023533 & 1.483271 & 0.9321660 & 0.4939070 & 2.063733 & 0.09945189 & 2.061865 & 0.10405153 & 2.064381 & ⋯ & 0.9930796 & 0.10324000 & 1.0000085 & 0.1951980 & 1.0000691 & 0.2014959 & 0.9998609 & 0.1955179 & 1.0002306 & 0.1942307\\\\\n",
       "\t -0.0006968308 & -0.5453985 & 1.525256 & 0.9172527 & 0.4899441 & 2.061996 & 0.10000723 & 2.061619 & 0.10101984 & 2.064069 & ⋯ & 0.9794285 & 0.10213700 & 0.9998959 & 0.1988083 & 0.9999562 & 0.1896169 & 0.9999798 & 0.1985154 & 0.9998347 & 0.2013189\\\\\n",
       "\t  0.0075642462 & -0.3424131 & 1.329979 & 1.0899960 & 0.4918178 & 2.060447 & 0.09615132 & 2.059290 & 0.10092702 & 2.059884 & ⋯ & 0.9936008 & 0.10303887 & 1.0001211 & 0.1935816 & 1.0000502 & 0.2020976 & 0.9999650 & 0.1992477 & 1.0001420 & 0.1981754\\\\\n",
       "\t  0.0139881881 & -0.5333792 & 1.540124 & 0.8947837 & 0.4976799 & 2.057491 & 0.09814275 & 2.055507 & 0.09752791 & 2.056720 & ⋯ & 0.9740308 & 0.10168159 & 1.0001037 & 0.2011769 & 1.0000420 & 0.1934272 & 0.9999840 & 0.1958733 & 0.9998785 & 0.2018523\\\\\n",
       "\\end{tabular}\n"
      ],
      "text/markdown": [
       "\n",
       "A data.frame: 8000 × 46\n",
       "\n",
       "| b_Sm_Intercept &lt;dbl&gt; | b_Sm_Z1 &lt;dbl&gt; | b_Sm_Z2 &lt;dbl&gt; | bsp_Sm_miXm &lt;dbl&gt; | sigma_Sm &lt;dbl&gt; | bsp_Y1_miSm &lt;dbl&gt; | sigma_Y1 &lt;dbl&gt; | bsp_Y2_miSm &lt;dbl&gt; | sigma_Y2 &lt;dbl&gt; | bsp_Y3_miSm &lt;dbl&gt; | ⋯ ⋯ | b_Xm_Z2.1 &lt;dbl&gt; | sigma_Xm.1 &lt;dbl&gt; | bsp_W1_miXm.1 &lt;dbl&gt; | sigma_W1.1 &lt;dbl&gt; | bsp_W2_miXm.1 &lt;dbl&gt; | sigma_W2.1 &lt;dbl&gt; | bsp_W3_miXm.1 &lt;dbl&gt; | sigma_W3.1 &lt;dbl&gt; | bsp_W4_miXm.1 &lt;dbl&gt; | sigma_W4.1 &lt;dbl&gt; |\n",
       "|---|---|---|---|---|---|---|---|---|---|---|---|---|---|---|---|---|---|---|---|---|\n",
       "|  0.0091141096 | -0.2446136 | 1.372547 | 1.4992080 | 0.5749250 | 1.742508 | 0.09902868 | 1.740455 | 0.10157703 | 1.742042 | ⋯ | 0.9894173 | 0.10049621 | 0.9998507 | 0.1933146 | 1.0000061 | 0.1914069 | 0.9999393 | 0.1965938 | 0.9999134 | 0.1980532 |\n",
       "|  0.0192413923 | -0.4015140 | 1.606707 | 1.2733181 | 0.5759861 | 1.742520 | 0.09825962 | 1.742753 | 0.10246786 | 1.742515 | ⋯ | 0.9914083 | 0.09764157 | 0.9999013 | 0.1950061 | 1.0003347 | 0.1874089 | 1.0000369 | 0.1960657 | 1.0000542 | 0.1995207 |\n",
       "|  0.0014242763 | -0.4892473 | 1.664421 | 1.2068760 | 0.5871842 | 1.747338 | 0.09972973 | 1.745612 | 0.09984290 | 1.747345 | ⋯ | 0.9816321 | 0.09927816 | 0.9999229 | 0.1961226 | 1.0003265 | 0.1995112 | 1.0000179 | 0.2006636 | 1.0000457 | 0.1981186 |\n",
       "|  0.0140844917 | -0.8067995 | 1.952051 | 0.9063171 | 0.5864414 | 1.745028 | 0.10019805 | 1.744418 | 0.10070894 | 1.744759 | ⋯ | 0.9893785 | 0.10262490 | 0.9999446 | 0.1952738 | 1.0003425 | 0.1913862 | 1.0001751 | 0.2012594 | 1.0001984 | 0.2017655 |\n",
       "| -0.0072836107 | -0.7266051 | 1.893401 | 0.9892694 | 0.5931883 | 1.741977 | 0.10197321 | 1.741160 | 0.09952891 | 1.741273 | ⋯ | 0.9851509 | 0.10008531 | 1.0000481 | 0.1918957 | 0.9999451 | 0.1918873 | 0.9998326 | 0.2028188 | 0.9999618 | 0.1958290 |\n",
       "|  0.0246802737 | -0.5104554 | 1.670651 | 1.1947524 | 0.5720278 | 1.740288 | 0.10059692 | 1.739296 | 0.10201831 | 1.740221 | ⋯ | 0.9869987 | 0.09857913 | 0.9997968 | 0.1991435 | 0.9999658 | 0.1937714 | 1.0001174 | 0.1969991 | 0.9999068 | 0.1957394 |\n",
       "|  0.0049744229 | -0.4437174 | 1.601330 | 1.2906698 | 0.5767442 | 1.739956 | 0.10078698 | 1.738455 | 0.10102300 | 1.738911 | ⋯ | 0.9881628 | 0.10453567 | 0.9999068 | 0.1937722 | 0.9999825 | 0.1948244 | 1.0001083 | 0.1999379 | 0.9999343 | 0.1973081 |\n",
       "|  0.0174964526 | -0.7128993 | 1.867462 | 0.9929390 | 0.5871397 | 1.739984 | 0.09995295 | 1.738347 | 0.10013111 | 1.741059 | ⋯ | 0.9865103 | 0.10204328 | 1.0002089 | 0.1928613 | 1.0001396 | 0.1955670 | 0.9999059 | 0.1986334 | 1.0001027 | 0.1976609 |\n",
       "|  0.0111848563 | -0.6405633 | 1.811547 | 1.0494408 | 0.5865574 | 1.740952 | 0.10019603 | 1.738973 | 0.09682565 | 1.739121 | ⋯ | 0.9949695 | 0.09795452 | 0.9999457 | 0.1974302 | 1.0000072 | 0.1944454 | 1.0000908 | 0.1993173 | 0.9998270 | 0.1963066 |\n",
       "| -0.0003316813 | -0.4692292 | 1.648060 | 1.2573004 | 0.5795917 | 1.738493 | 0.09983708 | 1.738503 | 0.09969557 | 1.739689 | ⋯ | 0.9862668 | 0.09729356 | 0.9999317 | 0.1926191 | 0.9998968 | 0.1993423 | 1.0000394 | 0.2003214 | 1.0000816 | 0.1966152 |\n",
       "|  0.0198549962 | -0.5564910 | 1.691785 | 1.1541603 | 0.5846428 | 1.740902 | 0.10094398 | 1.739292 | 0.09823895 | 1.741384 | ⋯ | 0.9872854 | 0.09711467 | 0.9999884 | 0.1952250 | 0.9998776 | 0.1987328 | 0.9999500 | 0.1983026 | 1.0000215 | 0.1996623 |\n",
       "| -0.0007801887 | -0.7081593 | 1.871517 | 1.0345505 | 0.5779316 | 1.741762 | 0.10151965 | 1.741161 | 0.09962902 | 1.743085 | ⋯ | 0.9845134 | 0.09888854 | 1.0000129 | 0.1967598 | 0.9998572 | 0.1999011 | 1.0000655 | 0.1972810 | 1.0000713 | 0.1977840 |\n",
       "|  0.0125642735 | -0.6052457 | 1.764742 | 1.1080153 | 0.5861707 | 1.741110 | 0.10260678 | 1.740508 | 0.10027829 | 1.739855 | ⋯ | 0.9846016 | 0.10271877 | 0.9999852 | 0.1952837 | 0.9999649 | 0.1978646 | 1.0000325 | 0.1968045 | 0.9998936 | 0.2000952 |\n",
       "| -0.0003336935 | -0.6159791 | 1.756926 | 1.1136848 | 0.5810177 | 1.742518 | 0.10103024 | 1.742170 | 0.10406192 | 1.740025 | ⋯ | 0.9792519 | 0.10259069 | 1.0000105 | 0.1962695 | 1.0000695 | 0.1966163 | 1.0000091 | 0.2009969 | 1.0000606 | 0.1979139 |\n",
       "|  0.0213850506 | -0.4816825 | 1.653591 | 1.2165152 | 0.5818444 | 1.744052 | 0.09903782 | 1.741672 | 0.10014613 | 1.745586 | ⋯ | 0.9920831 | 0.10051918 | 0.9999940 | 0.1967890 | 0.9999351 | 0.1901539 | 0.9999880 | 0.1979053 | 0.9999332 | 0.1979003 |\n",
       "| -0.0093940850 | -0.4618573 | 1.609209 | 1.2556391 | 0.5717538 | 1.748100 | 0.09958081 | 1.748763 | 0.10231417 | 1.748983 | ⋯ | 0.9762534 | 0.09773720 | 1.0000255 | 0.1979360 | 0.9999286 | 0.1985664 | 1.0000208 | 0.2005532 | 0.9999701 | 0.1977299 |\n",
       "|  0.0231620997 | -0.6061165 | 1.721774 | 1.1511636 | 0.5915052 | 1.749068 | 0.10253923 | 1.747668 | 0.09697314 | 1.749640 | ⋯ | 0.9807536 | 0.10315413 | 0.9999408 | 0.1965447 | 0.9999548 | 0.1944425 | 0.9999302 | 0.1954994 | 0.9999911 | 0.1938250 |\n",
       "| -0.0110981493 | -0.6575436 | 1.761417 | 1.0590228 | 0.5713183 | 1.751080 | 0.09820142 | 1.749636 | 0.10249828 | 1.749133 | ⋯ | 0.9922878 | 0.10343399 | 0.9999995 | 0.1985754 | 0.9999773 | 0.1944398 | 0.9999140 | 0.2009923 | 0.9999868 | 0.1993693 |\n",
       "| -0.0024570993 | -0.4248288 | 1.526956 | 1.3052934 | 0.5786183 | 1.751032 | 0.09759430 | 1.749412 | 0.10320615 | 1.749577 | ⋯ | 0.9899131 | 0.09796538 | 0.9999341 | 0.1977595 | 1.0000675 | 0.1943972 | 1.0000899 | 0.1953747 | 1.0000200 | 0.1986207 |\n",
       "|  0.0122146140 | -0.1567284 | 1.293367 | 1.5573185 | 0.5755040 | 1.753057 | 0.09841017 | 1.750837 | 0.09963138 | 1.752948 | ⋯ | 0.9817728 | 0.09576348 | 0.9999446 | 0.1958162 | 1.0001210 | 0.1998042 | 1.0001035 | 0.2035669 | 0.9999930 | 0.1943592 |\n",
       "|  0.0122437686 | -0.6440100 | 1.813623 | 1.0549500 | 0.5771925 | 1.750224 | 0.09638784 | 1.748495 | 0.10034823 | 1.747281 | ⋯ | 0.9905701 | 0.09800994 | 1.0000314 | 0.1924686 | 0.9999009 | 0.1966108 | 0.9999864 | 0.1994885 | 0.9998638 | 0.2017307 |\n",
       "|  0.0232168105 | -0.5919278 | 1.728949 | 1.1303415 | 0.5879867 | 1.750427 | 0.09787844 | 1.747814 | 0.09958216 | 1.748611 | ⋯ | 0.9856117 | 0.09915888 | 1.0000013 | 0.1990291 | 1.0001283 | 0.1978785 | 1.0000388 | 0.1980955 | 1.0000972 | 0.2004129 |\n",
       "| -0.0066845173 | -0.7095422 | 1.865007 | 1.0138677 | 0.5730079 | 1.747431 | 0.09781904 | 1.747643 | 0.10023992 | 1.749696 | ⋯ | 0.9894590 | 0.10088891 | 1.0000316 | 0.1915823 | 0.9999791 | 0.1922381 | 1.0000964 | 0.1974315 | 1.0000241 | 0.1958262 |\n",
       "|  0.0350655390 | -0.3510807 | 1.518275 | 1.3716409 | 0.5887940 | 1.746616 | 0.10124380 | 1.745316 | 0.09877597 | 1.748511 | ⋯ | 0.9815771 | 0.09924935 | 1.0001246 | 0.1981781 | 0.9999716 | 0.1975670 | 1.0001679 | 0.2002049 | 0.9999405 | 0.1975030 |\n",
       "| -0.0158596048 | -0.6157752 | 1.789867 | 1.1096732 | 0.5764250 | 1.746432 | 0.10105058 | 1.745212 | 0.09822495 | 1.748528 | ⋯ | 0.9923014 | 0.09864773 | 0.9999868 | 0.1991101 | 1.0000243 | 0.1938287 | 0.9999655 | 0.1973252 | 0.9999439 | 0.1983205 |\n",
       "|  0.0335093410 | -0.5475259 | 1.715046 | 1.1771764 | 0.5740609 | 1.748659 | 0.10107006 | 1.747353 | 0.10337524 | 1.745926 | ⋯ | 0.9923948 | 0.09817751 | 1.0000257 | 0.1927053 | 1.0000167 | 0.1992560 | 1.0000744 | 0.2002019 | 1.0000274 | 0.1951751 |\n",
       "| -0.0055136787 | -0.6021827 | 1.753581 | 1.1293404 | 0.5820912 | 1.748896 | 0.10052387 | 1.747781 | 0.10271376 | 1.749581 | ⋯ | 0.9918208 | 0.09873718 | 0.9999810 | 0.1970181 | 1.0000031 | 0.1938292 | 1.0000361 | 0.2015325 | 1.0000123 | 0.1994339 |\n",
       "|  0.0297426446 | -0.5522184 | 1.730971 | 1.1662028 | 0.5915257 | 1.746211 | 0.10031292 | 1.745487 | 0.09876501 | 1.745015 | ⋯ | 0.9921267 | 0.10104330 | 1.0000763 | 0.1929837 | 1.0000433 | 0.1959020 | 1.0000372 | 0.1940847 | 1.0000296 | 0.1960049 |\n",
       "|  0.0026482668 | -0.5491362 | 1.686229 | 1.1445407 | 0.5896107 | 1.745984 | 0.10203072 | 1.745082 | 0.10091352 | 1.745118 | ⋯ | 0.9945651 | 0.10312501 | 0.9999164 | 0.1967537 | 0.9999855 | 0.1992366 | 0.9999462 | 0.1992165 | 0.9999476 | 0.1993786 |\n",
       "|  0.0258000773 | -0.7014538 | 1.868907 | 0.9775447 | 0.5792228 | 1.747104 | 0.10115676 | 1.744772 | 0.10003278 | 1.747997 | ⋯ | 0.9950415 | 0.09999639 | 0.9999368 | 0.1935574 | 1.0000169 | 0.1922282 | 0.9999331 | 0.1961662 | 0.9999649 | 0.2009870 |\n",
       "| ⋮ | ⋮ | ⋮ | ⋮ | ⋮ | ⋮ | ⋮ | ⋮ | ⋮ | ⋮ | ⋱ | ⋮ | ⋮ | ⋮ | ⋮ | ⋮ | ⋮ | ⋮ | ⋮ | ⋮ | ⋮ |\n",
       "|  0.0039998539 | -0.3783407 | 1.352997 | 1.0619899 | 0.4893948 | 2.070099 | 0.10167794 | 2.068766 | 0.09744997 | 2.067483 | ⋯ | 0.9874627 | 0.09706886 | 0.9999352 | 0.1941428 | 1.0001124 | 0.1928965 | 0.9999972 | 0.1976993 | 0.9999534 | 0.1986085 |\n",
       "|  0.0056793140 | -0.5153856 | 1.491964 | 0.9381447 | 0.4966272 | 2.066206 | 0.09950276 | 2.064051 | 0.09958712 | 2.067463 | ⋯ | 0.9871375 | 0.09569629 | 1.0000459 | 0.2002398 | 0.9999787 | 0.1960861 | 0.9999867 | 0.1998190 | 1.0000597 | 0.1987136 |\n",
       "|  0.0002895639 | -0.3215027 | 1.288189 | 1.1427785 | 0.4831981 | 2.067844 | 0.09920844 | 2.067009 | 0.10081791 | 2.066408 | ⋯ | 0.9897933 | 0.10060160 | 1.0000363 | 0.1981173 | 1.0000058 | 0.1893012 | 0.9998900 | 0.2031014 | 1.0000877 | 0.2004773 |\n",
       "|  0.0116052926 | -0.3437425 | 1.333834 | 1.1164666 | 0.4927465 | 2.065340 | 0.10074539 | 2.063305 | 0.09946057 | 2.066609 | ⋯ | 0.9845393 | 0.10126965 | 0.9999966 | 0.1968950 | 0.9999349 | 0.2015333 | 1.0000861 | 0.1972333 | 0.9999332 | 0.1957947 |\n",
       "|  0.0026074750 | -0.5055299 | 1.491710 | 0.9244837 | 0.4878459 | 2.065470 | 0.10141993 | 2.065124 | 0.09896098 | 2.062684 | ⋯ | 0.9819170 | 0.10486419 | 0.9998454 | 0.1967265 | 1.0000296 | 0.1962603 | 0.9999993 | 0.2015341 | 1.0000619 | 0.1986551 |\n",
       "| -0.0012976868 | -0.5350699 | 1.502726 | 0.9270280 | 0.4790670 | 2.065214 | 0.10342564 | 2.060961 | 0.09592763 | 2.066052 | ⋯ | 0.9775507 | 0.10289341 | 0.9999553 | 0.1970363 | 1.0000369 | 0.2003975 | 0.9999900 | 0.2003593 | 0.9999004 | 0.2008845 |\n",
       "|  0.0015703795 | -0.5504967 | 1.541105 | 0.8745155 | 0.4901703 | 2.064040 | 0.10243029 | 2.062867 | 0.10037724 | 2.063173 | ⋯ | 0.9818810 | 0.10361492 | 1.0000421 | 0.1916097 | 0.9999363 | 0.1990263 | 0.9999427 | 0.1997716 | 1.0000838 | 0.2021495 |\n",
       "|  0.0147379344 | -0.5714521 | 1.558589 | 0.8777328 | 0.4932927 | 2.065274 | 0.10239828 | 2.065220 | 0.09536543 | 2.067691 | ⋯ | 0.9865365 | 0.09812336 | 0.9999635 | 0.1931467 | 1.0000763 | 0.1972649 | 1.0000491 | 0.1944611 | 0.9999174 | 0.1935736 |\n",
       "|  0.0039888498 | -0.4746283 | 1.463464 | 0.9678755 | 0.4937457 | 2.061981 | 0.10128574 | 2.060282 | 0.09943325 | 2.059818 | ⋯ | 0.9847147 | 0.09838485 | 1.0000057 | 0.1960958 | 1.0001459 | 0.1964137 | 0.9998850 | 0.2042290 | 0.9999515 | 0.2055117 |\n",
       "|  0.0077346327 | -0.5046044 | 1.466047 | 0.9513510 | 0.4969689 | 2.061700 | 0.10021120 | 2.060289 | 0.09960387 | 2.060449 | ⋯ | 0.9783363 | 0.09871617 | 0.9999650 | 0.1950018 | 0.9998798 | 0.1956861 | 1.0000942 | 0.2023385 | 0.9999809 | 0.2056464 |\n",
       "|  0.0096960604 | -0.4864290 | 1.411136 | 0.9846889 | 0.4937252 | 2.061093 | 0.09943230 | 2.059220 | 0.10241084 | 2.063668 | ⋯ | 0.9806550 | 0.09917148 | 0.9999530 | 0.1950705 | 0.9999340 | 0.1968167 | 1.0000551 | 0.1966399 | 1.0000181 | 0.1921625 |\n",
       "|  0.0109627583 | -0.4301030 | 1.424392 | 1.0087363 | 0.4933756 | 2.061190 | 0.09949694 | 2.060815 | 0.10369278 | 2.060406 | ⋯ | 0.9820525 | 0.10069988 | 1.0000152 | 0.1954982 | 0.9999431 | 0.1963937 | 1.0001445 | 0.1965227 | 0.9998690 | 0.1927753 |\n",
       "|  0.0202669462 | -0.6115990 | 1.620673 | 0.8154870 | 0.4924441 | 2.064285 | 0.09990531 | 2.064075 | 0.10184310 | 2.063537 | ⋯ | 0.9863291 | 0.09857740 | 1.0001730 | 0.1954471 | 1.0000141 | 0.1945875 | 1.0000542 | 0.1959344 | 1.0000618 | 0.2056260 |\n",
       "|  0.0191459848 | -0.6272750 | 1.599905 | 0.8109176 | 0.4943937 | 2.063550 | 0.09961299 | 2.060808 | 0.10139645 | 2.064157 | ⋯ | 0.9862053 | 0.09825879 | 0.9998772 | 0.1955063 | 0.9999382 | 0.1940968 | 0.9999535 | 0.1955293 | 1.0000404 | 0.2059028 |\n",
       "| -0.0004375873 | -0.5304641 | 1.538010 | 0.8832519 | 0.4999902 | 2.064425 | 0.10233047 | 2.064439 | 0.10032343 | 2.066178 | ⋯ | 0.9898842 | 0.09852472 | 0.9998739 | 0.1950101 | 0.9999328 | 0.1968263 | 0.9999495 | 0.2009061 | 1.0000380 | 0.1938461 |\n",
       "|  0.0140823021 | -0.3080116 | 1.247451 | 1.1687817 | 0.4898647 | 2.070581 | 0.09803165 | 2.067647 | 0.10002815 | 2.070016 | ⋯ | 0.9822050 | 0.10210018 | 0.9998674 | 0.1945857 | 0.9999422 | 0.1928583 | 0.9999559 | 0.1952471 | 1.0000365 | 0.1999176 |\n",
       "| -0.0077446688 | -0.2838266 | 1.255624 | 1.1733062 | 0.4926141 | 2.070083 | 0.09590985 | 2.066923 | 0.10246580 | 2.068047 | ⋯ | 0.9813312 | 0.09982153 | 0.9999149 | 0.1983507 | 0.9999370 | 0.1986487 | 0.9999304 | 0.1999125 | 1.0000424 | 0.1983307 |\n",
       "|  0.0188931886 | -0.5700161 | 1.524009 | 0.9046105 | 0.4853517 | 2.067366 | 0.09822216 | 2.065998 | 0.10176610 | 2.067533 | ⋯ | 0.9945600 | 0.09805439 | 0.9999436 | 0.1977995 | 0.9999173 | 0.1946431 | 0.9998994 | 0.1985725 | 1.0000699 | 0.1958580 |\n",
       "| -0.0110358282 | -0.4569794 | 1.448521 | 0.9978965 | 0.4944236 | 2.065681 | 0.09512249 | 2.064986 | 0.10019976 | 2.066547 | ⋯ | 0.9752273 | 0.09676710 | 0.9999425 | 0.1992834 | 0.9999048 | 0.1979606 | 0.9998920 | 0.1976527 | 1.0000776 | 0.1970861 |\n",
       "|  0.0172588298 | -0.5110444 | 1.491897 | 0.9294458 | 0.4918035 | 2.069944 | 0.10025502 | 2.066139 | 0.09996444 | 2.067403 | ⋯ | 0.9934475 | 0.09671895 | 0.9999424 | 0.1917342 | 0.9999212 | 0.1950989 | 0.9999553 | 0.1994161 | 1.0000737 | 0.2010365 |\n",
       "| -0.0021170947 | -0.4292387 | 1.385342 | 1.0195373 | 0.4928603 | 2.063794 | 0.10161062 | 2.064717 | 0.09878677 | 2.066217 | ⋯ | 0.9942913 | 0.10114113 | 1.0000607 | 0.1929438 | 1.0000908 | 0.1976515 | 1.0000422 | 0.1976223 | 0.9999172 | 0.2009489 |\n",
       "| -0.0064713882 | -0.5094204 | 1.478110 | 0.9381158 | 0.4934161 | 2.065308 | 0.10056071 | 2.062651 | 0.10233270 | 2.062496 | ⋯ | 0.9846547 | 0.10036887 | 0.9999069 | 0.1969854 | 0.9998651 | 0.1985176 | 0.9999963 | 0.1976844 | 1.0000508 | 0.2019924 |\n",
       "|  0.0157373342 | -0.5672200 | 1.565441 | 0.8691148 | 0.4910739 | 2.065836 | 0.09797971 | 2.062528 | 0.10005848 | 2.063749 | ⋯ | 0.9785687 | 0.09859987 | 0.9998176 | 0.1912240 | 1.0000784 | 0.1975420 | 1.0000177 | 0.2006768 | 0.9999313 | 0.1961222 |\n",
       "|  0.0053017672 | -0.6443401 | 1.621693 | 0.8074615 | 0.4926760 | 2.065085 | 0.09849195 | 2.062219 | 0.09937713 | 2.066282 | ⋯ | 0.9869271 | 0.09722369 | 0.9998297 | 0.1980781 | 1.0001447 | 0.1933726 | 0.9999311 | 0.2031484 | 0.9999682 | 0.1975392 |\n",
       "|  0.0182685745 | -0.3343875 | 1.325180 | 1.0979268 | 0.4928038 | 2.065633 | 0.09857227 | 2.064610 | 0.09962101 | 2.064308 | ⋯ | 0.9889647 | 0.09865667 | 0.9998290 | 0.1953914 | 1.0001368 | 0.1977070 | 0.9999639 | 0.1920398 | 0.9998303 | 0.2007457 |\n",
       "| -0.0033128191 | -0.4039925 | 1.380791 | 1.0375902 | 0.4873024 | 2.064743 | 0.09737717 | 2.062376 | 0.09995186 | 2.064158 | ⋯ | 0.9887813 | 0.10181417 | 0.9999513 | 0.1982120 | 1.0000630 | 0.1919749 | 0.9999046 | 0.2024263 | 1.0002771 | 0.1978154 |\n",
       "|  0.0223753229 | -0.5023533 | 1.483271 | 0.9321660 | 0.4939070 | 2.063733 | 0.09945189 | 2.061865 | 0.10405153 | 2.064381 | ⋯ | 0.9930796 | 0.10324000 | 1.0000085 | 0.1951980 | 1.0000691 | 0.2014959 | 0.9998609 | 0.1955179 | 1.0002306 | 0.1942307 |\n",
       "| -0.0006968308 | -0.5453985 | 1.525256 | 0.9172527 | 0.4899441 | 2.061996 | 0.10000723 | 2.061619 | 0.10101984 | 2.064069 | ⋯ | 0.9794285 | 0.10213700 | 0.9998959 | 0.1988083 | 0.9999562 | 0.1896169 | 0.9999798 | 0.1985154 | 0.9998347 | 0.2013189 |\n",
       "|  0.0075642462 | -0.3424131 | 1.329979 | 1.0899960 | 0.4918178 | 2.060447 | 0.09615132 | 2.059290 | 0.10092702 | 2.059884 | ⋯ | 0.9936008 | 0.10303887 | 1.0001211 | 0.1935816 | 1.0000502 | 0.2020976 | 0.9999650 | 0.1992477 | 1.0001420 | 0.1981754 |\n",
       "|  0.0139881881 | -0.5333792 | 1.540124 | 0.8947837 | 0.4976799 | 2.057491 | 0.09814275 | 2.055507 | 0.09752791 | 2.056720 | ⋯ | 0.9740308 | 0.10168159 | 1.0001037 | 0.2011769 | 1.0000420 | 0.1934272 | 0.9999840 | 0.1958733 | 0.9998785 | 0.2018523 |\n",
       "\n"
      ],
      "text/plain": [
       "     b_Sm_Intercept b_Sm_Z1    b_Sm_Z2  bsp_Sm_miXm sigma_Sm  bsp_Y1_miSm\n",
       "1     0.0091141096  -0.2446136 1.372547 1.4992080   0.5749250 1.742508   \n",
       "2     0.0192413923  -0.4015140 1.606707 1.2733181   0.5759861 1.742520   \n",
       "3     0.0014242763  -0.4892473 1.664421 1.2068760   0.5871842 1.747338   \n",
       "4     0.0140844917  -0.8067995 1.952051 0.9063171   0.5864414 1.745028   \n",
       "5    -0.0072836107  -0.7266051 1.893401 0.9892694   0.5931883 1.741977   \n",
       "6     0.0246802737  -0.5104554 1.670651 1.1947524   0.5720278 1.740288   \n",
       "7     0.0049744229  -0.4437174 1.601330 1.2906698   0.5767442 1.739956   \n",
       "8     0.0174964526  -0.7128993 1.867462 0.9929390   0.5871397 1.739984   \n",
       "9     0.0111848563  -0.6405633 1.811547 1.0494408   0.5865574 1.740952   \n",
       "10   -0.0003316813  -0.4692292 1.648060 1.2573004   0.5795917 1.738493   \n",
       "11    0.0198549962  -0.5564910 1.691785 1.1541603   0.5846428 1.740902   \n",
       "12   -0.0007801887  -0.7081593 1.871517 1.0345505   0.5779316 1.741762   \n",
       "13    0.0125642735  -0.6052457 1.764742 1.1080153   0.5861707 1.741110   \n",
       "14   -0.0003336935  -0.6159791 1.756926 1.1136848   0.5810177 1.742518   \n",
       "15    0.0213850506  -0.4816825 1.653591 1.2165152   0.5818444 1.744052   \n",
       "16   -0.0093940850  -0.4618573 1.609209 1.2556391   0.5717538 1.748100   \n",
       "17    0.0231620997  -0.6061165 1.721774 1.1511636   0.5915052 1.749068   \n",
       "18   -0.0110981493  -0.6575436 1.761417 1.0590228   0.5713183 1.751080   \n",
       "19   -0.0024570993  -0.4248288 1.526956 1.3052934   0.5786183 1.751032   \n",
       "20    0.0122146140  -0.1567284 1.293367 1.5573185   0.5755040 1.753057   \n",
       "21    0.0122437686  -0.6440100 1.813623 1.0549500   0.5771925 1.750224   \n",
       "22    0.0232168105  -0.5919278 1.728949 1.1303415   0.5879867 1.750427   \n",
       "23   -0.0066845173  -0.7095422 1.865007 1.0138677   0.5730079 1.747431   \n",
       "24    0.0350655390  -0.3510807 1.518275 1.3716409   0.5887940 1.746616   \n",
       "25   -0.0158596048  -0.6157752 1.789867 1.1096732   0.5764250 1.746432   \n",
       "26    0.0335093410  -0.5475259 1.715046 1.1771764   0.5740609 1.748659   \n",
       "27   -0.0055136787  -0.6021827 1.753581 1.1293404   0.5820912 1.748896   \n",
       "28    0.0297426446  -0.5522184 1.730971 1.1662028   0.5915257 1.746211   \n",
       "29    0.0026482668  -0.5491362 1.686229 1.1445407   0.5896107 1.745984   \n",
       "30    0.0258000773  -0.7014538 1.868907 0.9775447   0.5792228 1.747104   \n",
       "⋮    ⋮              ⋮          ⋮        ⋮           ⋮         ⋮          \n",
       "7971  0.0039998539  -0.3783407 1.352997 1.0619899   0.4893948 2.070099   \n",
       "7972  0.0056793140  -0.5153856 1.491964 0.9381447   0.4966272 2.066206   \n",
       "7973  0.0002895639  -0.3215027 1.288189 1.1427785   0.4831981 2.067844   \n",
       "7974  0.0116052926  -0.3437425 1.333834 1.1164666   0.4927465 2.065340   \n",
       "7975  0.0026074750  -0.5055299 1.491710 0.9244837   0.4878459 2.065470   \n",
       "7976 -0.0012976868  -0.5350699 1.502726 0.9270280   0.4790670 2.065214   \n",
       "7977  0.0015703795  -0.5504967 1.541105 0.8745155   0.4901703 2.064040   \n",
       "7978  0.0147379344  -0.5714521 1.558589 0.8777328   0.4932927 2.065274   \n",
       "7979  0.0039888498  -0.4746283 1.463464 0.9678755   0.4937457 2.061981   \n",
       "7980  0.0077346327  -0.5046044 1.466047 0.9513510   0.4969689 2.061700   \n",
       "7981  0.0096960604  -0.4864290 1.411136 0.9846889   0.4937252 2.061093   \n",
       "7982  0.0109627583  -0.4301030 1.424392 1.0087363   0.4933756 2.061190   \n",
       "7983  0.0202669462  -0.6115990 1.620673 0.8154870   0.4924441 2.064285   \n",
       "7984  0.0191459848  -0.6272750 1.599905 0.8109176   0.4943937 2.063550   \n",
       "7985 -0.0004375873  -0.5304641 1.538010 0.8832519   0.4999902 2.064425   \n",
       "7986  0.0140823021  -0.3080116 1.247451 1.1687817   0.4898647 2.070581   \n",
       "7987 -0.0077446688  -0.2838266 1.255624 1.1733062   0.4926141 2.070083   \n",
       "7988  0.0188931886  -0.5700161 1.524009 0.9046105   0.4853517 2.067366   \n",
       "7989 -0.0110358282  -0.4569794 1.448521 0.9978965   0.4944236 2.065681   \n",
       "7990  0.0172588298  -0.5110444 1.491897 0.9294458   0.4918035 2.069944   \n",
       "7991 -0.0021170947  -0.4292387 1.385342 1.0195373   0.4928603 2.063794   \n",
       "7992 -0.0064713882  -0.5094204 1.478110 0.9381158   0.4934161 2.065308   \n",
       "7993  0.0157373342  -0.5672200 1.565441 0.8691148   0.4910739 2.065836   \n",
       "7994  0.0053017672  -0.6443401 1.621693 0.8074615   0.4926760 2.065085   \n",
       "7995  0.0182685745  -0.3343875 1.325180 1.0979268   0.4928038 2.065633   \n",
       "7996 -0.0033128191  -0.4039925 1.380791 1.0375902   0.4873024 2.064743   \n",
       "7997  0.0223753229  -0.5023533 1.483271 0.9321660   0.4939070 2.063733   \n",
       "7998 -0.0006968308  -0.5453985 1.525256 0.9172527   0.4899441 2.061996   \n",
       "7999  0.0075642462  -0.3424131 1.329979 1.0899960   0.4918178 2.060447   \n",
       "8000  0.0139881881  -0.5333792 1.540124 0.8947837   0.4976799 2.057491   \n",
       "     sigma_Y1   bsp_Y2_miSm sigma_Y2   bsp_Y3_miSm ⋯ b_Xm_Z2.1 sigma_Xm.1\n",
       "1    0.09902868 1.740455    0.10157703 1.742042    ⋯ 0.9894173 0.10049621\n",
       "2    0.09825962 1.742753    0.10246786 1.742515    ⋯ 0.9914083 0.09764157\n",
       "3    0.09972973 1.745612    0.09984290 1.747345    ⋯ 0.9816321 0.09927816\n",
       "4    0.10019805 1.744418    0.10070894 1.744759    ⋯ 0.9893785 0.10262490\n",
       "5    0.10197321 1.741160    0.09952891 1.741273    ⋯ 0.9851509 0.10008531\n",
       "6    0.10059692 1.739296    0.10201831 1.740221    ⋯ 0.9869987 0.09857913\n",
       "7    0.10078698 1.738455    0.10102300 1.738911    ⋯ 0.9881628 0.10453567\n",
       "8    0.09995295 1.738347    0.10013111 1.741059    ⋯ 0.9865103 0.10204328\n",
       "9    0.10019603 1.738973    0.09682565 1.739121    ⋯ 0.9949695 0.09795452\n",
       "10   0.09983708 1.738503    0.09969557 1.739689    ⋯ 0.9862668 0.09729356\n",
       "11   0.10094398 1.739292    0.09823895 1.741384    ⋯ 0.9872854 0.09711467\n",
       "12   0.10151965 1.741161    0.09962902 1.743085    ⋯ 0.9845134 0.09888854\n",
       "13   0.10260678 1.740508    0.10027829 1.739855    ⋯ 0.9846016 0.10271877\n",
       "14   0.10103024 1.742170    0.10406192 1.740025    ⋯ 0.9792519 0.10259069\n",
       "15   0.09903782 1.741672    0.10014613 1.745586    ⋯ 0.9920831 0.10051918\n",
       "16   0.09958081 1.748763    0.10231417 1.748983    ⋯ 0.9762534 0.09773720\n",
       "17   0.10253923 1.747668    0.09697314 1.749640    ⋯ 0.9807536 0.10315413\n",
       "18   0.09820142 1.749636    0.10249828 1.749133    ⋯ 0.9922878 0.10343399\n",
       "19   0.09759430 1.749412    0.10320615 1.749577    ⋯ 0.9899131 0.09796538\n",
       "20   0.09841017 1.750837    0.09963138 1.752948    ⋯ 0.9817728 0.09576348\n",
       "21   0.09638784 1.748495    0.10034823 1.747281    ⋯ 0.9905701 0.09800994\n",
       "22   0.09787844 1.747814    0.09958216 1.748611    ⋯ 0.9856117 0.09915888\n",
       "23   0.09781904 1.747643    0.10023992 1.749696    ⋯ 0.9894590 0.10088891\n",
       "24   0.10124380 1.745316    0.09877597 1.748511    ⋯ 0.9815771 0.09924935\n",
       "25   0.10105058 1.745212    0.09822495 1.748528    ⋯ 0.9923014 0.09864773\n",
       "26   0.10107006 1.747353    0.10337524 1.745926    ⋯ 0.9923948 0.09817751\n",
       "27   0.10052387 1.747781    0.10271376 1.749581    ⋯ 0.9918208 0.09873718\n",
       "28   0.10031292 1.745487    0.09876501 1.745015    ⋯ 0.9921267 0.10104330\n",
       "29   0.10203072 1.745082    0.10091352 1.745118    ⋯ 0.9945651 0.10312501\n",
       "30   0.10115676 1.744772    0.10003278 1.747997    ⋯ 0.9950415 0.09999639\n",
       "⋮    ⋮          ⋮           ⋮          ⋮           ⋱ ⋮         ⋮         \n",
       "7971 0.10167794 2.068766    0.09744997 2.067483    ⋯ 0.9874627 0.09706886\n",
       "7972 0.09950276 2.064051    0.09958712 2.067463    ⋯ 0.9871375 0.09569629\n",
       "7973 0.09920844 2.067009    0.10081791 2.066408    ⋯ 0.9897933 0.10060160\n",
       "7974 0.10074539 2.063305    0.09946057 2.066609    ⋯ 0.9845393 0.10126965\n",
       "7975 0.10141993 2.065124    0.09896098 2.062684    ⋯ 0.9819170 0.10486419\n",
       "7976 0.10342564 2.060961    0.09592763 2.066052    ⋯ 0.9775507 0.10289341\n",
       "7977 0.10243029 2.062867    0.10037724 2.063173    ⋯ 0.9818810 0.10361492\n",
       "7978 0.10239828 2.065220    0.09536543 2.067691    ⋯ 0.9865365 0.09812336\n",
       "7979 0.10128574 2.060282    0.09943325 2.059818    ⋯ 0.9847147 0.09838485\n",
       "7980 0.10021120 2.060289    0.09960387 2.060449    ⋯ 0.9783363 0.09871617\n",
       "7981 0.09943230 2.059220    0.10241084 2.063668    ⋯ 0.9806550 0.09917148\n",
       "7982 0.09949694 2.060815    0.10369278 2.060406    ⋯ 0.9820525 0.10069988\n",
       "7983 0.09990531 2.064075    0.10184310 2.063537    ⋯ 0.9863291 0.09857740\n",
       "7984 0.09961299 2.060808    0.10139645 2.064157    ⋯ 0.9862053 0.09825879\n",
       "7985 0.10233047 2.064439    0.10032343 2.066178    ⋯ 0.9898842 0.09852472\n",
       "7986 0.09803165 2.067647    0.10002815 2.070016    ⋯ 0.9822050 0.10210018\n",
       "7987 0.09590985 2.066923    0.10246580 2.068047    ⋯ 0.9813312 0.09982153\n",
       "7988 0.09822216 2.065998    0.10176610 2.067533    ⋯ 0.9945600 0.09805439\n",
       "7989 0.09512249 2.064986    0.10019976 2.066547    ⋯ 0.9752273 0.09676710\n",
       "7990 0.10025502 2.066139    0.09996444 2.067403    ⋯ 0.9934475 0.09671895\n",
       "7991 0.10161062 2.064717    0.09878677 2.066217    ⋯ 0.9942913 0.10114113\n",
       "7992 0.10056071 2.062651    0.10233270 2.062496    ⋯ 0.9846547 0.10036887\n",
       "7993 0.09797971 2.062528    0.10005848 2.063749    ⋯ 0.9785687 0.09859987\n",
       "7994 0.09849195 2.062219    0.09937713 2.066282    ⋯ 0.9869271 0.09722369\n",
       "7995 0.09857227 2.064610    0.09962101 2.064308    ⋯ 0.9889647 0.09865667\n",
       "7996 0.09737717 2.062376    0.09995186 2.064158    ⋯ 0.9887813 0.10181417\n",
       "7997 0.09945189 2.061865    0.10405153 2.064381    ⋯ 0.9930796 0.10324000\n",
       "7998 0.10000723 2.061619    0.10101984 2.064069    ⋯ 0.9794285 0.10213700\n",
       "7999 0.09615132 2.059290    0.10092702 2.059884    ⋯ 0.9936008 0.10303887\n",
       "8000 0.09814275 2.055507    0.09752791 2.056720    ⋯ 0.9740308 0.10168159\n",
       "     bsp_W1_miXm.1 sigma_W1.1 bsp_W2_miXm.1 sigma_W2.1 bsp_W3_miXm.1 sigma_W3.1\n",
       "1    0.9998507     0.1933146  1.0000061     0.1914069  0.9999393     0.1965938 \n",
       "2    0.9999013     0.1950061  1.0003347     0.1874089  1.0000369     0.1960657 \n",
       "3    0.9999229     0.1961226  1.0003265     0.1995112  1.0000179     0.2006636 \n",
       "4    0.9999446     0.1952738  1.0003425     0.1913862  1.0001751     0.2012594 \n",
       "5    1.0000481     0.1918957  0.9999451     0.1918873  0.9998326     0.2028188 \n",
       "6    0.9997968     0.1991435  0.9999658     0.1937714  1.0001174     0.1969991 \n",
       "7    0.9999068     0.1937722  0.9999825     0.1948244  1.0001083     0.1999379 \n",
       "8    1.0002089     0.1928613  1.0001396     0.1955670  0.9999059     0.1986334 \n",
       "9    0.9999457     0.1974302  1.0000072     0.1944454  1.0000908     0.1993173 \n",
       "10   0.9999317     0.1926191  0.9998968     0.1993423  1.0000394     0.2003214 \n",
       "11   0.9999884     0.1952250  0.9998776     0.1987328  0.9999500     0.1983026 \n",
       "12   1.0000129     0.1967598  0.9998572     0.1999011  1.0000655     0.1972810 \n",
       "13   0.9999852     0.1952837  0.9999649     0.1978646  1.0000325     0.1968045 \n",
       "14   1.0000105     0.1962695  1.0000695     0.1966163  1.0000091     0.2009969 \n",
       "15   0.9999940     0.1967890  0.9999351     0.1901539  0.9999880     0.1979053 \n",
       "16   1.0000255     0.1979360  0.9999286     0.1985664  1.0000208     0.2005532 \n",
       "17   0.9999408     0.1965447  0.9999548     0.1944425  0.9999302     0.1954994 \n",
       "18   0.9999995     0.1985754  0.9999773     0.1944398  0.9999140     0.2009923 \n",
       "19   0.9999341     0.1977595  1.0000675     0.1943972  1.0000899     0.1953747 \n",
       "20   0.9999446     0.1958162  1.0001210     0.1998042  1.0001035     0.2035669 \n",
       "21   1.0000314     0.1924686  0.9999009     0.1966108  0.9999864     0.1994885 \n",
       "22   1.0000013     0.1990291  1.0001283     0.1978785  1.0000388     0.1980955 \n",
       "23   1.0000316     0.1915823  0.9999791     0.1922381  1.0000964     0.1974315 \n",
       "24   1.0001246     0.1981781  0.9999716     0.1975670  1.0001679     0.2002049 \n",
       "25   0.9999868     0.1991101  1.0000243     0.1938287  0.9999655     0.1973252 \n",
       "26   1.0000257     0.1927053  1.0000167     0.1992560  1.0000744     0.2002019 \n",
       "27   0.9999810     0.1970181  1.0000031     0.1938292  1.0000361     0.2015325 \n",
       "28   1.0000763     0.1929837  1.0000433     0.1959020  1.0000372     0.1940847 \n",
       "29   0.9999164     0.1967537  0.9999855     0.1992366  0.9999462     0.1992165 \n",
       "30   0.9999368     0.1935574  1.0000169     0.1922282  0.9999331     0.1961662 \n",
       "⋮    ⋮             ⋮          ⋮             ⋮          ⋮             ⋮         \n",
       "7971 0.9999352     0.1941428  1.0001124     0.1928965  0.9999972     0.1976993 \n",
       "7972 1.0000459     0.2002398  0.9999787     0.1960861  0.9999867     0.1998190 \n",
       "7973 1.0000363     0.1981173  1.0000058     0.1893012  0.9998900     0.2031014 \n",
       "7974 0.9999966     0.1968950  0.9999349     0.2015333  1.0000861     0.1972333 \n",
       "7975 0.9998454     0.1967265  1.0000296     0.1962603  0.9999993     0.2015341 \n",
       "7976 0.9999553     0.1970363  1.0000369     0.2003975  0.9999900     0.2003593 \n",
       "7977 1.0000421     0.1916097  0.9999363     0.1990263  0.9999427     0.1997716 \n",
       "7978 0.9999635     0.1931467  1.0000763     0.1972649  1.0000491     0.1944611 \n",
       "7979 1.0000057     0.1960958  1.0001459     0.1964137  0.9998850     0.2042290 \n",
       "7980 0.9999650     0.1950018  0.9998798     0.1956861  1.0000942     0.2023385 \n",
       "7981 0.9999530     0.1950705  0.9999340     0.1968167  1.0000551     0.1966399 \n",
       "7982 1.0000152     0.1954982  0.9999431     0.1963937  1.0001445     0.1965227 \n",
       "7983 1.0001730     0.1954471  1.0000141     0.1945875  1.0000542     0.1959344 \n",
       "7984 0.9998772     0.1955063  0.9999382     0.1940968  0.9999535     0.1955293 \n",
       "7985 0.9998739     0.1950101  0.9999328     0.1968263  0.9999495     0.2009061 \n",
       "7986 0.9998674     0.1945857  0.9999422     0.1928583  0.9999559     0.1952471 \n",
       "7987 0.9999149     0.1983507  0.9999370     0.1986487  0.9999304     0.1999125 \n",
       "7988 0.9999436     0.1977995  0.9999173     0.1946431  0.9998994     0.1985725 \n",
       "7989 0.9999425     0.1992834  0.9999048     0.1979606  0.9998920     0.1976527 \n",
       "7990 0.9999424     0.1917342  0.9999212     0.1950989  0.9999553     0.1994161 \n",
       "7991 1.0000607     0.1929438  1.0000908     0.1976515  1.0000422     0.1976223 \n",
       "7992 0.9999069     0.1969854  0.9998651     0.1985176  0.9999963     0.1976844 \n",
       "7993 0.9998176     0.1912240  1.0000784     0.1975420  1.0000177     0.2006768 \n",
       "7994 0.9998297     0.1980781  1.0001447     0.1933726  0.9999311     0.2031484 \n",
       "7995 0.9998290     0.1953914  1.0001368     0.1977070  0.9999639     0.1920398 \n",
       "7996 0.9999513     0.1982120  1.0000630     0.1919749  0.9999046     0.2024263 \n",
       "7997 1.0000085     0.1951980  1.0000691     0.2014959  0.9998609     0.1955179 \n",
       "7998 0.9998959     0.1988083  0.9999562     0.1896169  0.9999798     0.1985154 \n",
       "7999 1.0001211     0.1935816  1.0000502     0.2020976  0.9999650     0.1992477 \n",
       "8000 1.0001037     0.2011769  1.0000420     0.1934272  0.9999840     0.1958733 \n",
       "     bsp_W4_miXm.1 sigma_W4.1\n",
       "1    0.9999134     0.1980532 \n",
       "2    1.0000542     0.1995207 \n",
       "3    1.0000457     0.1981186 \n",
       "4    1.0001984     0.2017655 \n",
       "5    0.9999618     0.1958290 \n",
       "6    0.9999068     0.1957394 \n",
       "7    0.9999343     0.1973081 \n",
       "8    1.0001027     0.1976609 \n",
       "9    0.9998270     0.1963066 \n",
       "10   1.0000816     0.1966152 \n",
       "11   1.0000215     0.1996623 \n",
       "12   1.0000713     0.1977840 \n",
       "13   0.9998936     0.2000952 \n",
       "14   1.0000606     0.1979139 \n",
       "15   0.9999332     0.1979003 \n",
       "16   0.9999701     0.1977299 \n",
       "17   0.9999911     0.1938250 \n",
       "18   0.9999868     0.1993693 \n",
       "19   1.0000200     0.1986207 \n",
       "20   0.9999930     0.1943592 \n",
       "21   0.9998638     0.2017307 \n",
       "22   1.0000972     0.2004129 \n",
       "23   1.0000241     0.1958262 \n",
       "24   0.9999405     0.1975030 \n",
       "25   0.9999439     0.1983205 \n",
       "26   1.0000274     0.1951751 \n",
       "27   1.0000123     0.1994339 \n",
       "28   1.0000296     0.1960049 \n",
       "29   0.9999476     0.1993786 \n",
       "30   0.9999649     0.2009870 \n",
       "⋮    ⋮             ⋮         \n",
       "7971 0.9999534     0.1986085 \n",
       "7972 1.0000597     0.1987136 \n",
       "7973 1.0000877     0.2004773 \n",
       "7974 0.9999332     0.1957947 \n",
       "7975 1.0000619     0.1986551 \n",
       "7976 0.9999004     0.2008845 \n",
       "7977 1.0000838     0.2021495 \n",
       "7978 0.9999174     0.1935736 \n",
       "7979 0.9999515     0.2055117 \n",
       "7980 0.9999809     0.2056464 \n",
       "7981 1.0000181     0.1921625 \n",
       "7982 0.9998690     0.1927753 \n",
       "7983 1.0000618     0.2056260 \n",
       "7984 1.0000404     0.2059028 \n",
       "7985 1.0000380     0.1938461 \n",
       "7986 1.0000365     0.1999176 \n",
       "7987 1.0000424     0.1983307 \n",
       "7988 1.0000699     0.1958580 \n",
       "7989 1.0000776     0.1970861 \n",
       "7990 1.0000737     0.2010365 \n",
       "7991 0.9999172     0.2009489 \n",
       "7992 1.0000508     0.2019924 \n",
       "7993 0.9999313     0.1961222 \n",
       "7994 0.9999682     0.1975392 \n",
       "7995 0.9998303     0.2007457 \n",
       "7996 1.0002771     0.1978154 \n",
       "7997 1.0002306     0.1942307 \n",
       "7998 0.9998347     0.2013189 \n",
       "7999 1.0001420     0.1981754 \n",
       "8000 0.9998785     0.2018523 "
      ]
     },
     "metadata": {},
     "output_type": "display_data"
    }
   ],
   "source": [
    "insight::get_parameters(model)"
   ]
  },
  {
   "cell_type": "code",
   "execution_count": 23,
   "metadata": {
    "vscode": {
     "languageId": "r"
    }
   },
   "outputs": [
    {
     "ename": "ERROR",
     "evalue": "Error in `[.data.frame`(insight::get_parameters(model), c(coef_indirect, : undefined columns selected\n",
     "output_type": "error",
     "traceback": [
      "Error in `[.data.frame`(insight::get_parameters(model), c(coef_indirect, : undefined columns selected\nTraceback:\n",
      "1. mediation(model, treatment = \"Z1\", response = c(Xm = \"miXm\", \n .     Sm = \"Sm\"))",
      "2. mediation.brmsfit(model, treatment = \"Z1\", response = c(Xm = \"miXm\", \n .     Sm = \"Sm\"))",
      "3. .mediation(model = model, treatment = treatment, mediator = mediator, \n .     response = response, centrality = centrality, ci = ci, method = method, \n .     pattern = \"b_%s_%s\", ...)",
      "4. insight::get_parameters(model)[c(coef_indirect, coef_mediator)]",
      "5. `[.data.frame`(insight::get_parameters(model), c(coef_indirect, \n .     coef_mediator))",
      "6. stop(\"undefined columns selected\")"
     ]
    }
   ],
   "source": [
    "m1 <- mediation(model, treatment = \"Z1\", response = c(Xm = \"miXm\",Sm = \"Sm\"))"
   ]
  },
  {
   "cell_type": "code",
   "execution_count": 24,
   "metadata": {
    "vscode": {
     "languageId": "r"
    }
   },
   "outputs": [
    {
     "ename": "ERROR",
     "evalue": "Error in if (variable %in% colnames(mf)) {: argument is of length zero\n",
     "output_type": "error",
     "traceback": [
      "Error in if (variable %in% colnames(mf)) {: argument is of length zero\nTraceback:\n",
      "1. mediation(model, treatment = \"Z1\", response = c(Xm = \"miXm\", \n .     Sm = \"sp_Sm\"))",
      "2. mediation.brmsfit(model, treatment = \"Z1\", response = c(Xm = \"miXm\", \n .     Sm = \"sp_Sm\"))",
      "3. .mediation(model = model, treatment = treatment, mediator = mediator, \n .     response = response, centrality = centrality, ci = ci, method = method, \n .     pattern = \"b_%s_%s\", ...)",
      "4. .fix_factor_name(model, mediator)"
     ]
    }
   ],
   "source": [
    "m1 <- mediation(model, treatment = \"Z1\", response = c(Xm = \"miXm\",Sm = \"sp_Sm\"))"
   ]
  },
  {
   "cell_type": "code",
   "execution_count": 25,
   "metadata": {
    "vscode": {
     "languageId": "r"
    }
   },
   "outputs": [
    {
     "ename": "ERROR",
     "evalue": "Error in if (variable %in% colnames(mf)) {: argument is of length zero\n",
     "output_type": "error",
     "traceback": [
      "Error in if (variable %in% colnames(mf)) {: argument is of length zero\nTraceback:\n",
      "1. mediation(model, treatment = \"Z1\", response = c(Xm = \"miXm\", \n .     Sm = \"miSm\"))",
      "2. mediation.brmsfit(model, treatment = \"Z1\", response = c(Xm = \"miXm\", \n .     Sm = \"miSm\"))",
      "3. .mediation(model = model, treatment = treatment, mediator = mediator, \n .     response = response, centrality = centrality, ci = ci, method = method, \n .     pattern = \"b_%s_%s\", ...)",
      "4. .fix_factor_name(model, mediator)"
     ]
    }
   ],
   "source": [
    "m1 <- mediation(model, treatment = \"Z1\", response = c(Xm = \"miXm\",Sm = \"miSm\"))"
   ]
  },
  {
   "cell_type": "code",
   "execution_count": 28,
   "metadata": {
    "vscode": {
     "languageId": "r"
    }
   },
   "outputs": [
    {
     "name": "stdout",
     "output_type": "stream",
     "text": [
      " [1] \"b_Sm_Intercept\"   \"b_Sm_Z1\"          \"b_Sm_Z2\"          \"bsp_Sm_miXm\"     \n",
      " [5] \"sigma_Sm\"         \"bsp_Y1_miSm\"      \"sigma_Y1\"         \"bsp_Y2_miSm\"     \n",
      " [9] \"sigma_Y2\"         \"bsp_Y3_miSm\"      \"sigma_Y3\"         \"b_Xm_Intercept\"  \n",
      "[13] \"b_Xm_Z1\"          \"b_Xm_Z2\"          \"sigma_Xm\"         \"bsp_W1_miXm\"     \n",
      "[17] \"sigma_W1\"         \"bsp_W2_miXm\"      \"sigma_W2\"         \"bsp_W3_miXm\"     \n",
      "[21] \"sigma_W3\"         \"bsp_W4_miXm\"      \"sigma_W4\"         \"b_Sm_Intercept.1\"\n",
      "[25] \"b_Sm_Z1.1\"        \"b_Sm_Z2.1\"        \"bsp_Sm_miXm.1\"    \"sigma_Sm.1\"      \n",
      "[29] \"bsp_Y1_miSm.1\"    \"sigma_Y1.1\"       \"bsp_Y2_miSm.1\"    \"sigma_Y2.1\"      \n",
      "[33] \"bsp_Y3_miSm.1\"    \"sigma_Y3.1\"       \"b_Xm_Intercept.1\" \"b_Xm_Z1.1\"       \n",
      "[37] \"b_Xm_Z2.1\"        \"sigma_Xm.1\"       \"bsp_W1_miXm.1\"    \"sigma_W1.1\"      \n",
      "[41] \"bsp_W2_miXm.1\"    \"sigma_W2.1\"       \"bsp_W3_miXm.1\"    \"sigma_W3.1\"      \n",
      "[45] \"bsp_W4_miXm.1\"    \"sigma_W4.1\"      \n"
     ]
    }
   ],
   "source": [
    "print(names(insight::get_parameters(model)))"
   ]
  },
  {
   "cell_type": "code",
   "execution_count": 27,
   "metadata": {
    "vscode": {
     "languageId": "r"
    }
   },
   "outputs": [
    {
     "ename": "ERROR",
     "evalue": "Error in .subset2(x, i, exact = exact): subscript out of bounds\n",
     "output_type": "error",
     "traceback": [
      "Error in .subset2(x, i, exact = exact): subscript out of bounds\nTraceback:\n",
      "1. mediation(model, treatment = \"Z1\", mediator = \"Xm\", response = c(Xm = \"miXm\", \n .     Sm = \"Sm\"))",
      "2. mediation.brmsfit(model, treatment = \"Z1\", mediator = \"Xm\", response = c(Xm = \"miXm\", \n .     Sm = \"Sm\"))",
      "3. .mediation(model = model, treatment = treatment, mediator = mediator, \n .     response = response, centrality = centrality, ci = ci, method = method, \n .     pattern = \"b_%s_%s\", ...)",
      "4. insight::get_parameters(model)[[coef_treatment]]",
      "5. `[[.data.frame`(insight::get_parameters(model), coef_treatment)"
     ]
    }
   ],
   "source": [
    "m1 <- mediation(model, treatment = \"Z1\", mediator = \"Xm\", response = c(Xm = \"miXm\",Sm = \"Sm\"))"
   ]
  },
  {
   "attachments": {},
   "cell_type": "markdown",
   "metadata": {},
   "source": [
    "### Doing it myself"
   ]
  },
  {
   "cell_type": "code",
   "execution_count": 33,
   "metadata": {
    "vscode": {
     "languageId": "r"
    }
   },
   "outputs": [
    {
     "name": "stderr",
     "output_type": "stream",
     "text": [
      "Warning message:\n",
      "“Method 'posterior_samples' is deprecated. Please see ?as_draws for recommended alternatives.”\n"
     ]
    },
    {
     "data": {
      "text/html": [
       "<table class=\"dataframe\">\n",
       "<caption>A data.frame: 8000 × 3</caption>\n",
       "<thead>\n",
       "\t<tr><th scope=col>b_Sm_Z1</th><th scope=col>bsp_Sm_miXm</th><th scope=col>b_Xm_Z1</th></tr>\n",
       "\t<tr><th scope=col>&lt;dbl&gt;</th><th scope=col>&lt;dbl&gt;</th><th scope=col>&lt;dbl&gt;</th></tr>\n",
       "</thead>\n",
       "<tbody>\n",
       "\t<tr><td>-0.2446136</td><td>1.4992080</td><td>-1.0063325</td></tr>\n",
       "\t<tr><td>-0.4015140</td><td>1.2733181</td><td>-1.0051004</td></tr>\n",
       "\t<tr><td>-0.4892473</td><td>1.2068760</td><td>-1.0050129</td></tr>\n",
       "\t<tr><td>-0.8067995</td><td>0.9063171</td><td>-1.0082990</td></tr>\n",
       "\t<tr><td>-0.7266051</td><td>0.9892694</td><td>-1.0122453</td></tr>\n",
       "\t<tr><td>-0.5104554</td><td>1.1947524</td><td>-0.9989742</td></tr>\n",
       "\t<tr><td>-0.4437174</td><td>1.2906698</td><td>-1.0022937</td></tr>\n",
       "\t<tr><td>-0.7128993</td><td>0.9929390</td><td>-1.0072755</td></tr>\n",
       "\t<tr><td>-0.6405633</td><td>1.0494408</td><td>-1.0093951</td></tr>\n",
       "\t<tr><td>-0.4692292</td><td>1.2573004</td><td>-1.0136445</td></tr>\n",
       "\t<tr><td>-0.5564910</td><td>1.1541603</td><td>-1.0063855</td></tr>\n",
       "\t<tr><td>-0.7081593</td><td>1.0345505</td><td>-0.9990184</td></tr>\n",
       "\t<tr><td>-0.6052457</td><td>1.1080153</td><td>-1.0034522</td></tr>\n",
       "\t<tr><td>-0.6159791</td><td>1.1136848</td><td>-1.0044868</td></tr>\n",
       "\t<tr><td>-0.4816825</td><td>1.2165152</td><td>-1.0053865</td></tr>\n",
       "\t<tr><td>-0.4618573</td><td>1.2556391</td><td>-1.0101305</td></tr>\n",
       "\t<tr><td>-0.6061165</td><td>1.1511636</td><td>-1.0056068</td></tr>\n",
       "\t<tr><td>-0.6575436</td><td>1.0590228</td><td>-1.0019563</td></tr>\n",
       "\t<tr><td>-0.4248288</td><td>1.3052934</td><td>-1.0037446</td></tr>\n",
       "\t<tr><td>-0.1567284</td><td>1.5573185</td><td>-1.0093830</td></tr>\n",
       "\t<tr><td>-0.6440100</td><td>1.0549500</td><td>-1.0038580</td></tr>\n",
       "\t<tr><td>-0.5919278</td><td>1.1303415</td><td>-0.9981328</td></tr>\n",
       "\t<tr><td>-0.7095422</td><td>1.0138677</td><td>-1.0014812</td></tr>\n",
       "\t<tr><td>-0.3510807</td><td>1.3716409</td><td>-1.0096395</td></tr>\n",
       "\t<tr><td>-0.6157752</td><td>1.1096732</td><td>-1.0123599</td></tr>\n",
       "\t<tr><td>-0.5475259</td><td>1.1771764</td><td>-1.0022443</td></tr>\n",
       "\t<tr><td>-0.6021827</td><td>1.1293404</td><td>-1.0101602</td></tr>\n",
       "\t<tr><td>-0.5522184</td><td>1.1662028</td><td>-1.0119766</td></tr>\n",
       "\t<tr><td>-0.5491362</td><td>1.1445407</td><td>-1.0094178</td></tr>\n",
       "\t<tr><td>-0.7014538</td><td>0.9775447</td><td>-1.0074681</td></tr>\n",
       "\t<tr><td>⋮</td><td>⋮</td><td>⋮</td></tr>\n",
       "\t<tr><td>-0.3783407</td><td>1.0619899</td><td>-1.0074755</td></tr>\n",
       "\t<tr><td>-0.5153856</td><td>0.9381447</td><td>-1.0039558</td></tr>\n",
       "\t<tr><td>-0.3215027</td><td>1.1427785</td><td>-1.0029545</td></tr>\n",
       "\t<tr><td>-0.3437425</td><td>1.1164666</td><td>-1.0081197</td></tr>\n",
       "\t<tr><td>-0.5055299</td><td>0.9244837</td><td>-1.0114784</td></tr>\n",
       "\t<tr><td>-0.5350699</td><td>0.9270280</td><td>-1.0150088</td></tr>\n",
       "\t<tr><td>-0.5504967</td><td>0.8745155</td><td>-1.0106999</td></tr>\n",
       "\t<tr><td>-0.5714521</td><td>0.8777328</td><td>-1.0165374</td></tr>\n",
       "\t<tr><td>-0.4746283</td><td>0.9678755</td><td>-1.0092368</td></tr>\n",
       "\t<tr><td>-0.5046044</td><td>0.9513510</td><td>-1.0143866</td></tr>\n",
       "\t<tr><td>-0.4864290</td><td>0.9846889</td><td>-1.0025199</td></tr>\n",
       "\t<tr><td>-0.4301030</td><td>1.0087363</td><td>-1.0028210</td></tr>\n",
       "\t<tr><td>-0.6115990</td><td>0.8154870</td><td>-1.0043487</td></tr>\n",
       "\t<tr><td>-0.6272750</td><td>0.8109176</td><td>-1.0038050</td></tr>\n",
       "\t<tr><td>-0.5304641</td><td>0.8832519</td><td>-1.0121259</td></tr>\n",
       "\t<tr><td>-0.3080116</td><td>1.1687817</td><td>-0.9980683</td></tr>\n",
       "\t<tr><td>-0.2838266</td><td>1.1733062</td><td>-1.0036620</td></tr>\n",
       "\t<tr><td>-0.5700161</td><td>0.9046105</td><td>-1.0021071</td></tr>\n",
       "\t<tr><td>-0.4569794</td><td>0.9978965</td><td>-1.0015900</td></tr>\n",
       "\t<tr><td>-0.5110444</td><td>0.9294458</td><td>-1.0180979</td></tr>\n",
       "\t<tr><td>-0.4292387</td><td>1.0195373</td><td>-1.0158213</td></tr>\n",
       "\t<tr><td>-0.5094204</td><td>0.9381158</td><td>-1.0179920</td></tr>\n",
       "\t<tr><td>-0.5672200</td><td>0.8691148</td><td>-1.0015194</td></tr>\n",
       "\t<tr><td>-0.6443401</td><td>0.8074615</td><td>-1.0036725</td></tr>\n",
       "\t<tr><td>-0.3343875</td><td>1.0979268</td><td>-1.0035655</td></tr>\n",
       "\t<tr><td>-0.4039925</td><td>1.0375902</td><td>-1.0026155</td></tr>\n",
       "\t<tr><td>-0.5023533</td><td>0.9321660</td><td>-1.0087092</td></tr>\n",
       "\t<tr><td>-0.5453985</td><td>0.9172527</td><td>-1.0030677</td></tr>\n",
       "\t<tr><td>-0.3424131</td><td>1.0899960</td><td>-1.0010893</td></tr>\n",
       "\t<tr><td>-0.5333792</td><td>0.8947837</td><td>-1.0129276</td></tr>\n",
       "</tbody>\n",
       "</table>\n"
      ],
      "text/latex": [
       "A data.frame: 8000 × 3\n",
       "\\begin{tabular}{lll}\n",
       " b\\_Sm\\_Z1 & bsp\\_Sm\\_miXm & b\\_Xm\\_Z1\\\\\n",
       " <dbl> & <dbl> & <dbl>\\\\\n",
       "\\hline\n",
       "\t -0.2446136 & 1.4992080 & -1.0063325\\\\\n",
       "\t -0.4015140 & 1.2733181 & -1.0051004\\\\\n",
       "\t -0.4892473 & 1.2068760 & -1.0050129\\\\\n",
       "\t -0.8067995 & 0.9063171 & -1.0082990\\\\\n",
       "\t -0.7266051 & 0.9892694 & -1.0122453\\\\\n",
       "\t -0.5104554 & 1.1947524 & -0.9989742\\\\\n",
       "\t -0.4437174 & 1.2906698 & -1.0022937\\\\\n",
       "\t -0.7128993 & 0.9929390 & -1.0072755\\\\\n",
       "\t -0.6405633 & 1.0494408 & -1.0093951\\\\\n",
       "\t -0.4692292 & 1.2573004 & -1.0136445\\\\\n",
       "\t -0.5564910 & 1.1541603 & -1.0063855\\\\\n",
       "\t -0.7081593 & 1.0345505 & -0.9990184\\\\\n",
       "\t -0.6052457 & 1.1080153 & -1.0034522\\\\\n",
       "\t -0.6159791 & 1.1136848 & -1.0044868\\\\\n",
       "\t -0.4816825 & 1.2165152 & -1.0053865\\\\\n",
       "\t -0.4618573 & 1.2556391 & -1.0101305\\\\\n",
       "\t -0.6061165 & 1.1511636 & -1.0056068\\\\\n",
       "\t -0.6575436 & 1.0590228 & -1.0019563\\\\\n",
       "\t -0.4248288 & 1.3052934 & -1.0037446\\\\\n",
       "\t -0.1567284 & 1.5573185 & -1.0093830\\\\\n",
       "\t -0.6440100 & 1.0549500 & -1.0038580\\\\\n",
       "\t -0.5919278 & 1.1303415 & -0.9981328\\\\\n",
       "\t -0.7095422 & 1.0138677 & -1.0014812\\\\\n",
       "\t -0.3510807 & 1.3716409 & -1.0096395\\\\\n",
       "\t -0.6157752 & 1.1096732 & -1.0123599\\\\\n",
       "\t -0.5475259 & 1.1771764 & -1.0022443\\\\\n",
       "\t -0.6021827 & 1.1293404 & -1.0101602\\\\\n",
       "\t -0.5522184 & 1.1662028 & -1.0119766\\\\\n",
       "\t -0.5491362 & 1.1445407 & -1.0094178\\\\\n",
       "\t -0.7014538 & 0.9775447 & -1.0074681\\\\\n",
       "\t ⋮ & ⋮ & ⋮\\\\\n",
       "\t -0.3783407 & 1.0619899 & -1.0074755\\\\\n",
       "\t -0.5153856 & 0.9381447 & -1.0039558\\\\\n",
       "\t -0.3215027 & 1.1427785 & -1.0029545\\\\\n",
       "\t -0.3437425 & 1.1164666 & -1.0081197\\\\\n",
       "\t -0.5055299 & 0.9244837 & -1.0114784\\\\\n",
       "\t -0.5350699 & 0.9270280 & -1.0150088\\\\\n",
       "\t -0.5504967 & 0.8745155 & -1.0106999\\\\\n",
       "\t -0.5714521 & 0.8777328 & -1.0165374\\\\\n",
       "\t -0.4746283 & 0.9678755 & -1.0092368\\\\\n",
       "\t -0.5046044 & 0.9513510 & -1.0143866\\\\\n",
       "\t -0.4864290 & 0.9846889 & -1.0025199\\\\\n",
       "\t -0.4301030 & 1.0087363 & -1.0028210\\\\\n",
       "\t -0.6115990 & 0.8154870 & -1.0043487\\\\\n",
       "\t -0.6272750 & 0.8109176 & -1.0038050\\\\\n",
       "\t -0.5304641 & 0.8832519 & -1.0121259\\\\\n",
       "\t -0.3080116 & 1.1687817 & -0.9980683\\\\\n",
       "\t -0.2838266 & 1.1733062 & -1.0036620\\\\\n",
       "\t -0.5700161 & 0.9046105 & -1.0021071\\\\\n",
       "\t -0.4569794 & 0.9978965 & -1.0015900\\\\\n",
       "\t -0.5110444 & 0.9294458 & -1.0180979\\\\\n",
       "\t -0.4292387 & 1.0195373 & -1.0158213\\\\\n",
       "\t -0.5094204 & 0.9381158 & -1.0179920\\\\\n",
       "\t -0.5672200 & 0.8691148 & -1.0015194\\\\\n",
       "\t -0.6443401 & 0.8074615 & -1.0036725\\\\\n",
       "\t -0.3343875 & 1.0979268 & -1.0035655\\\\\n",
       "\t -0.4039925 & 1.0375902 & -1.0026155\\\\\n",
       "\t -0.5023533 & 0.9321660 & -1.0087092\\\\\n",
       "\t -0.5453985 & 0.9172527 & -1.0030677\\\\\n",
       "\t -0.3424131 & 1.0899960 & -1.0010893\\\\\n",
       "\t -0.5333792 & 0.8947837 & -1.0129276\\\\\n",
       "\\end{tabular}\n"
      ],
      "text/markdown": [
       "\n",
       "A data.frame: 8000 × 3\n",
       "\n",
       "| b_Sm_Z1 &lt;dbl&gt; | bsp_Sm_miXm &lt;dbl&gt; | b_Xm_Z1 &lt;dbl&gt; |\n",
       "|---|---|---|\n",
       "| -0.2446136 | 1.4992080 | -1.0063325 |\n",
       "| -0.4015140 | 1.2733181 | -1.0051004 |\n",
       "| -0.4892473 | 1.2068760 | -1.0050129 |\n",
       "| -0.8067995 | 0.9063171 | -1.0082990 |\n",
       "| -0.7266051 | 0.9892694 | -1.0122453 |\n",
       "| -0.5104554 | 1.1947524 | -0.9989742 |\n",
       "| -0.4437174 | 1.2906698 | -1.0022937 |\n",
       "| -0.7128993 | 0.9929390 | -1.0072755 |\n",
       "| -0.6405633 | 1.0494408 | -1.0093951 |\n",
       "| -0.4692292 | 1.2573004 | -1.0136445 |\n",
       "| -0.5564910 | 1.1541603 | -1.0063855 |\n",
       "| -0.7081593 | 1.0345505 | -0.9990184 |\n",
       "| -0.6052457 | 1.1080153 | -1.0034522 |\n",
       "| -0.6159791 | 1.1136848 | -1.0044868 |\n",
       "| -0.4816825 | 1.2165152 | -1.0053865 |\n",
       "| -0.4618573 | 1.2556391 | -1.0101305 |\n",
       "| -0.6061165 | 1.1511636 | -1.0056068 |\n",
       "| -0.6575436 | 1.0590228 | -1.0019563 |\n",
       "| -0.4248288 | 1.3052934 | -1.0037446 |\n",
       "| -0.1567284 | 1.5573185 | -1.0093830 |\n",
       "| -0.6440100 | 1.0549500 | -1.0038580 |\n",
       "| -0.5919278 | 1.1303415 | -0.9981328 |\n",
       "| -0.7095422 | 1.0138677 | -1.0014812 |\n",
       "| -0.3510807 | 1.3716409 | -1.0096395 |\n",
       "| -0.6157752 | 1.1096732 | -1.0123599 |\n",
       "| -0.5475259 | 1.1771764 | -1.0022443 |\n",
       "| -0.6021827 | 1.1293404 | -1.0101602 |\n",
       "| -0.5522184 | 1.1662028 | -1.0119766 |\n",
       "| -0.5491362 | 1.1445407 | -1.0094178 |\n",
       "| -0.7014538 | 0.9775447 | -1.0074681 |\n",
       "| ⋮ | ⋮ | ⋮ |\n",
       "| -0.3783407 | 1.0619899 | -1.0074755 |\n",
       "| -0.5153856 | 0.9381447 | -1.0039558 |\n",
       "| -0.3215027 | 1.1427785 | -1.0029545 |\n",
       "| -0.3437425 | 1.1164666 | -1.0081197 |\n",
       "| -0.5055299 | 0.9244837 | -1.0114784 |\n",
       "| -0.5350699 | 0.9270280 | -1.0150088 |\n",
       "| -0.5504967 | 0.8745155 | -1.0106999 |\n",
       "| -0.5714521 | 0.8777328 | -1.0165374 |\n",
       "| -0.4746283 | 0.9678755 | -1.0092368 |\n",
       "| -0.5046044 | 0.9513510 | -1.0143866 |\n",
       "| -0.4864290 | 0.9846889 | -1.0025199 |\n",
       "| -0.4301030 | 1.0087363 | -1.0028210 |\n",
       "| -0.6115990 | 0.8154870 | -1.0043487 |\n",
       "| -0.6272750 | 0.8109176 | -1.0038050 |\n",
       "| -0.5304641 | 0.8832519 | -1.0121259 |\n",
       "| -0.3080116 | 1.1687817 | -0.9980683 |\n",
       "| -0.2838266 | 1.1733062 | -1.0036620 |\n",
       "| -0.5700161 | 0.9046105 | -1.0021071 |\n",
       "| -0.4569794 | 0.9978965 | -1.0015900 |\n",
       "| -0.5110444 | 0.9294458 | -1.0180979 |\n",
       "| -0.4292387 | 1.0195373 | -1.0158213 |\n",
       "| -0.5094204 | 0.9381158 | -1.0179920 |\n",
       "| -0.5672200 | 0.8691148 | -1.0015194 |\n",
       "| -0.6443401 | 0.8074615 | -1.0036725 |\n",
       "| -0.3343875 | 1.0979268 | -1.0035655 |\n",
       "| -0.4039925 | 1.0375902 | -1.0026155 |\n",
       "| -0.5023533 | 0.9321660 | -1.0087092 |\n",
       "| -0.5453985 | 0.9172527 | -1.0030677 |\n",
       "| -0.3424131 | 1.0899960 | -1.0010893 |\n",
       "| -0.5333792 | 0.8947837 | -1.0129276 |\n",
       "\n"
      ],
      "text/plain": [
       "     b_Sm_Z1    bsp_Sm_miXm b_Xm_Z1   \n",
       "1    -0.2446136 1.4992080   -1.0063325\n",
       "2    -0.4015140 1.2733181   -1.0051004\n",
       "3    -0.4892473 1.2068760   -1.0050129\n",
       "4    -0.8067995 0.9063171   -1.0082990\n",
       "5    -0.7266051 0.9892694   -1.0122453\n",
       "6    -0.5104554 1.1947524   -0.9989742\n",
       "7    -0.4437174 1.2906698   -1.0022937\n",
       "8    -0.7128993 0.9929390   -1.0072755\n",
       "9    -0.6405633 1.0494408   -1.0093951\n",
       "10   -0.4692292 1.2573004   -1.0136445\n",
       "11   -0.5564910 1.1541603   -1.0063855\n",
       "12   -0.7081593 1.0345505   -0.9990184\n",
       "13   -0.6052457 1.1080153   -1.0034522\n",
       "14   -0.6159791 1.1136848   -1.0044868\n",
       "15   -0.4816825 1.2165152   -1.0053865\n",
       "16   -0.4618573 1.2556391   -1.0101305\n",
       "17   -0.6061165 1.1511636   -1.0056068\n",
       "18   -0.6575436 1.0590228   -1.0019563\n",
       "19   -0.4248288 1.3052934   -1.0037446\n",
       "20   -0.1567284 1.5573185   -1.0093830\n",
       "21   -0.6440100 1.0549500   -1.0038580\n",
       "22   -0.5919278 1.1303415   -0.9981328\n",
       "23   -0.7095422 1.0138677   -1.0014812\n",
       "24   -0.3510807 1.3716409   -1.0096395\n",
       "25   -0.6157752 1.1096732   -1.0123599\n",
       "26   -0.5475259 1.1771764   -1.0022443\n",
       "27   -0.6021827 1.1293404   -1.0101602\n",
       "28   -0.5522184 1.1662028   -1.0119766\n",
       "29   -0.5491362 1.1445407   -1.0094178\n",
       "30   -0.7014538 0.9775447   -1.0074681\n",
       "⋮    ⋮          ⋮           ⋮         \n",
       "7971 -0.3783407 1.0619899   -1.0074755\n",
       "7972 -0.5153856 0.9381447   -1.0039558\n",
       "7973 -0.3215027 1.1427785   -1.0029545\n",
       "7974 -0.3437425 1.1164666   -1.0081197\n",
       "7975 -0.5055299 0.9244837   -1.0114784\n",
       "7976 -0.5350699 0.9270280   -1.0150088\n",
       "7977 -0.5504967 0.8745155   -1.0106999\n",
       "7978 -0.5714521 0.8777328   -1.0165374\n",
       "7979 -0.4746283 0.9678755   -1.0092368\n",
       "7980 -0.5046044 0.9513510   -1.0143866\n",
       "7981 -0.4864290 0.9846889   -1.0025199\n",
       "7982 -0.4301030 1.0087363   -1.0028210\n",
       "7983 -0.6115990 0.8154870   -1.0043487\n",
       "7984 -0.6272750 0.8109176   -1.0038050\n",
       "7985 -0.5304641 0.8832519   -1.0121259\n",
       "7986 -0.3080116 1.1687817   -0.9980683\n",
       "7987 -0.2838266 1.1733062   -1.0036620\n",
       "7988 -0.5700161 0.9046105   -1.0021071\n",
       "7989 -0.4569794 0.9978965   -1.0015900\n",
       "7990 -0.5110444 0.9294458   -1.0180979\n",
       "7991 -0.4292387 1.0195373   -1.0158213\n",
       "7992 -0.5094204 0.9381158   -1.0179920\n",
       "7993 -0.5672200 0.8691148   -1.0015194\n",
       "7994 -0.6443401 0.8074615   -1.0036725\n",
       "7995 -0.3343875 1.0979268   -1.0035655\n",
       "7996 -0.4039925 1.0375902   -1.0026155\n",
       "7997 -0.5023533 0.9321660   -1.0087092\n",
       "7998 -0.5453985 0.9172527   -1.0030677\n",
       "7999 -0.3424131 1.0899960   -1.0010893\n",
       "8000 -0.5333792 0.8947837   -1.0129276"
      ]
     },
     "metadata": {},
     "output_type": "display_data"
    }
   ],
   "source": [
    "samples <- posterior_samples(model, pars = c(\"b_Sm_Z1\", \"bsp_Sm_miXm\", \"b_Xm_Z1\"))\n",
    "samples"
   ]
  },
  {
   "cell_type": "code",
   "execution_count": 34,
   "metadata": {
    "vscode": {
     "languageId": "r"
    }
   },
   "outputs": [
    {
     "name": "stdout",
     "output_type": "stream",
     "text": [
      "draws-brms                package:brms                 R Documentation\n",
      "\n",
      "_\bT_\br_\ba_\bn_\bs_\bf_\bo_\br_\bm '_\bb_\br_\bm_\bs_\bf_\bi_\bt' _\bt_\bo '_\bd_\br_\ba_\bw_\bs' _\bo_\bb_\bj_\be_\bc_\bt_\bs\n",
      "\n",
      "_\bD_\be_\bs_\bc_\br_\bi_\bp_\bt_\bi_\bo_\bn:\n",
      "\n",
      "     Transform a ‘brmsfit’ object to a format supported by the\n",
      "     ‘posterior’ package.\n",
      "\n",
      "_\bU_\bs_\ba_\bg_\be:\n",
      "\n",
      "     ## S3 method for class 'brmsfit'\n",
      "     as_draws(x, variable = NULL, regex = FALSE, inc_warmup = FALSE, ...)\n",
      "     \n",
      "     ## S3 method for class 'brmsfit'\n",
      "     as_draws_matrix(x, variable = NULL, regex = FALSE, inc_warmup = FALSE, ...)\n",
      "     \n",
      "     ## S3 method for class 'brmsfit'\n",
      "     as_draws_array(x, variable = NULL, regex = FALSE, inc_warmup = FALSE, ...)\n",
      "     \n",
      "     ## S3 method for class 'brmsfit'\n",
      "     as_draws_df(x, variable = NULL, regex = FALSE, inc_warmup = FALSE, ...)\n",
      "     \n",
      "     ## S3 method for class 'brmsfit'\n",
      "     as_draws_list(x, variable = NULL, regex = FALSE, inc_warmup = FALSE, ...)\n",
      "     \n",
      "     ## S3 method for class 'brmsfit'\n",
      "     as_draws_rvars(x, variable = NULL, regex = FALSE, inc_warmup = FALSE, ...)\n",
      "     \n",
      "_\bA_\br_\bg_\bu_\bm_\be_\bn_\bt_\bs:\n",
      "\n",
      "       x: A ‘brmsfit’ object or another R object for which the methods\n",
      "          are defined.\n",
      "\n",
      "variable: A character vector providing the variables to extract. By\n",
      "          default, all variables are extracted.\n",
      "\n",
      "   regex: Logical; Should variable should be treated as a (vector of)\n",
      "          regular expressions? Any variable in ‘x’ matching at least\n",
      "          one of the regular expressions will be selected. Defaults to\n",
      "          ‘FALSE’.\n",
      "\n",
      "inc_warmup: Should warmup draws be included? Defaults to ‘FALSE’.\n",
      "\n",
      "     ...: Arguments passed to individual methods (if applicable).\n",
      "\n",
      "_\bD_\be_\bt_\ba_\bi_\bl_\bs:\n",
      "\n",
      "     To subset iterations, chains, or draws, use the ‘subset_draws’\n",
      "     method after transforming the ‘brmsfit’ to a ‘draws’ object.\n",
      "\n",
      "_\bS_\be_\be _\bA_\bl_\bs_\bo:\n",
      "\n",
      "     ‘draws’ ‘subset_draws’\n",
      "\n",
      "_\bE_\bx_\ba_\bm_\bp_\bl_\be_\bs:\n",
      "\n",
      "     ## Not run:\n",
      "     \n",
      "     fit <- brm(count ~ zAge + zBase * Trt + (1|patient),\n",
      "                data = epilepsy, family = poisson())\n",
      "     \n",
      "     # extract posterior draws in an array format\n",
      "     (draws_fit <- as_draws_array(fit))\n",
      "     posterior::summarize_draws(draws_fit)\n",
      "     \n",
      "     # extract only certain variables\n",
      "     as_draws_array(fit, variable = \"r_patient\")\n",
      "     as_draws_array(fit, variable = \"^b_\", regex = TRUE)\n",
      "     \n",
      "     # extract posterior draws in a random variables format\n",
      "     as_draws_rvars(fit)\n",
      "     ## End(Not run)\n",
      "     "
     ]
    }
   ],
   "source": [
    "?as_draws"
   ]
  },
  {
   "cell_type": "code",
   "execution_count": 35,
   "metadata": {
    "vscode": {
     "languageId": "r"
    }
   },
   "outputs": [
    {
     "data": {
      "text/plain": [
       "   Min. 1st Qu.  Median    Mean 3rd Qu.    Max. \n",
       " 0.4050  0.6538  0.7168  0.7173  0.7804  1.0595 "
      ]
     },
     "metadata": {},
     "output_type": "display_data"
    }
   ],
   "source": [
    "effect_indirect <- samples$b_Xm_Z1 * samples$bsp_Sm_miXm\n",
    "effect_total <- samples$b_Sm_Z1 + effect_indirect\n",
    "prop_mediated <- effect_indirect / effect_total\n",
    "\n",
    "summary(prop_mediated)"
   ]
  },
  {
   "cell_type": "code",
   "execution_count": 2,
   "metadata": {
    "vscode": {
     "languageId": "r"
    }
   },
   "outputs": [
    {
     "data": {
      "text/html": [
       "0.666666666666667"
      ],
      "text/latex": [
       "0.666666666666667"
      ],
      "text/markdown": [
       "0.666666666666667"
      ],
      "text/plain": [
       "[1] 0.6666667"
      ]
     },
     "metadata": {},
     "output_type": "display_data"
    }
   ],
   "source": [
    "c_X_Z1 <- -1\n",
    "c_S_X <- 2\n",
    "c_S_Z1 <- -1\n",
    "\n",
    "eff_ind <- c_X_Z1 * c_S_X\n",
    "eff_tot <- c_S_Z1 + eff_ind\n",
    "prop_med <- eff_ind / eff_tot\n",
    "\n",
    "prop_med"
   ]
  },
  {
   "attachments": {},
   "cell_type": "markdown",
   "metadata": {},
   "source": [
    "## Mediation additional model"
   ]
  },
  {
   "cell_type": "code",
   "execution_count": 37,
   "metadata": {
    "vscode": {
     "languageId": "r"
    }
   },
   "outputs": [
    {
     "name": "stdout",
     "output_type": "stream",
     "text": [
      " [1] \"b_Sm_Intercept\"   \"b_Sm_Z1\"          \"b_Sm_Z2\"          \"bsp_Sm_miXm\"     \n",
      " [5] \"sigma_Sm\"         \"b_Y1_Z1\"          \"b_Y1_Z2\"          \"bsp_Y1_miSm\"     \n",
      " [9] \"sigma_Y1\"         \"b_Y2_Z1\"          \"b_Y2_Z2\"          \"bsp_Y2_miSm\"     \n",
      "[13] \"sigma_Y2\"         \"b_Y3_Z1\"          \"b_Y3_Z2\"          \"bsp_Y3_miSm\"     \n",
      "[17] \"sigma_Y3\"         \"b_Xm_Intercept\"   \"b_Xm_Z1\"          \"b_Xm_Z2\"         \n",
      "[21] \"sigma_Xm\"         \"bsp_W1_miXm\"      \"sigma_W1\"         \"bsp_W2_miXm\"     \n",
      "[25] \"sigma_W2\"         \"bsp_W3_miXm\"      \"sigma_W3\"         \"bsp_W4_miXm\"     \n",
      "[29] \"sigma_W4\"         \"b_Sm_Intercept.1\" \"b_Sm_Z1.1\"        \"b_Sm_Z2.1\"       \n",
      "[33] \"bsp_Sm_miXm.1\"    \"sigma_Sm.1\"       \"b_Y1_Z1.1\"        \"b_Y1_Z2.1\"       \n",
      "[37] \"bsp_Y1_miSm.1\"    \"sigma_Y1.1\"       \"b_Y2_Z1.1\"        \"b_Y2_Z2.1\"       \n",
      "[41] \"bsp_Y2_miSm.1\"    \"sigma_Y2.1\"       \"b_Y3_Z1.1\"        \"b_Y3_Z2.1\"       \n",
      "[45] \"bsp_Y3_miSm.1\"    \"sigma_Y3.1\"       \"b_Xm_Intercept.1\" \"b_Xm_Z1.1\"       \n",
      "[49] \"b_Xm_Z2.1\"        \"sigma_Xm.1\"       \"bsp_W1_miXm.1\"    \"sigma_W1.1\"      \n",
      "[53] \"bsp_W2_miXm.1\"    \"sigma_W2.1\"       \"bsp_W3_miXm.1\"    \"sigma_W3.1\"      \n",
      "[57] \"bsp_W4_miXm.1\"    \"sigma_W4.1\"      \n"
     ]
    }
   ],
   "source": [
    "print(names(insight::get_parameters(model2)))"
   ]
  },
  {
   "cell_type": "code",
   "execution_count": 40,
   "metadata": {
    "vscode": {
     "languageId": "r"
    }
   },
   "outputs": [
    {
     "name": "stderr",
     "output_type": "stream",
     "text": [
      "Warning message:\n",
      "“Method 'posterior_samples' is deprecated. Please see ?as_draws for recommended alternatives.”\n"
     ]
    },
    {
     "data": {
      "text/html": [
       "<table class=\"dataframe\">\n",
       "<caption>A data.frame: 8000 × 3</caption>\n",
       "<thead>\n",
       "\t<tr><th scope=col>b_Y1_Z1</th><th scope=col>bsp_Y1_miSm</th><th scope=col>b_Sm_Z1</th></tr>\n",
       "\t<tr><th scope=col>&lt;dbl&gt;</th><th scope=col>&lt;dbl&gt;</th><th scope=col>&lt;dbl&gt;</th></tr>\n",
       "</thead>\n",
       "<tbody>\n",
       "\t<tr><td>-2.336900</td><td>-0.3732393</td><td>-1.5094339</td></tr>\n",
       "\t<tr><td>-2.341948</td><td>-0.3737813</td><td>-1.7389181</td></tr>\n",
       "\t<tr><td>-2.342563</td><td>-0.3734399</td><td>-1.6711928</td></tr>\n",
       "\t<tr><td>-2.339548</td><td>-0.3730859</td><td>-1.7581337</td></tr>\n",
       "\t<tr><td>-2.310850</td><td>-0.3738745</td><td>-1.5218329</td></tr>\n",
       "\t<tr><td>-2.298000</td><td>-0.3761827</td><td>-0.9304456</td></tr>\n",
       "\t<tr><td>-2.308006</td><td>-0.3759968</td><td>-2.1277447</td></tr>\n",
       "\t<tr><td>-2.279015</td><td>-0.3768368</td><td>-1.9926585</td></tr>\n",
       "\t<tr><td>-2.277312</td><td>-0.3768077</td><td>-1.8213606</td></tr>\n",
       "\t<tr><td>-2.274591</td><td>-0.3774371</td><td>-1.3437012</td></tr>\n",
       "\t<tr><td>-2.304226</td><td>-0.3777240</td><td>-1.6516018</td></tr>\n",
       "\t<tr><td>-2.305163</td><td>-0.3786662</td><td>-2.2007115</td></tr>\n",
       "\t<tr><td>-2.313722</td><td>-0.3786923</td><td>-1.7166632</td></tr>\n",
       "\t<tr><td>-2.309316</td><td>-0.3826531</td><td>-1.2914897</td></tr>\n",
       "\t<tr><td>-2.311005</td><td>-0.3823732</td><td>-1.0706352</td></tr>\n",
       "\t<tr><td>-2.313550</td><td>-0.3796372</td><td>-1.5670749</td></tr>\n",
       "\t<tr><td>-2.319600</td><td>-0.3810788</td><td>-0.8507004</td></tr>\n",
       "\t<tr><td>-2.314995</td><td>-0.3819630</td><td>-1.2654488</td></tr>\n",
       "\t<tr><td>-2.322043</td><td>-0.3833640</td><td>-1.8677026</td></tr>\n",
       "\t<tr><td>-2.277345</td><td>-0.3874537</td><td>-1.3603648</td></tr>\n",
       "\t<tr><td>-2.271618</td><td>-0.3881216</td><td>-0.6717259</td></tr>\n",
       "\t<tr><td>-2.247505</td><td>-0.3907763</td><td>-1.4024239</td></tr>\n",
       "\t<tr><td>-2.236581</td><td>-0.3880516</td><td>-1.7385859</td></tr>\n",
       "\t<tr><td>-2.233608</td><td>-0.3898126</td><td>-2.3394175</td></tr>\n",
       "\t<tr><td>-2.205064</td><td>-0.3892730</td><td>-1.8715970</td></tr>\n",
       "\t<tr><td>-2.195579</td><td>-0.3884232</td><td>-1.6351504</td></tr>\n",
       "\t<tr><td>-2.188805</td><td>-0.3882678</td><td>-1.3935905</td></tr>\n",
       "\t<tr><td>-2.193907</td><td>-0.3898667</td><td>-1.5776807</td></tr>\n",
       "\t<tr><td>-2.175132</td><td>-0.3926364</td><td>-0.6326391</td></tr>\n",
       "\t<tr><td>-2.172860</td><td>-0.3929493</td><td>-1.5531369</td></tr>\n",
       "\t<tr><td>⋮</td><td>⋮</td><td>⋮</td></tr>\n",
       "\t<tr><td>-1.265501</td><td>-1.215957</td><td>-0.18571337</td></tr>\n",
       "\t<tr><td>-1.252071</td><td>-1.230533</td><td>-0.38095390</td></tr>\n",
       "\t<tr><td>-1.241627</td><td>-1.236251</td><td>-0.05688349</td></tr>\n",
       "\t<tr><td>-1.255492</td><td>-1.223812</td><td>-0.44347296</td></tr>\n",
       "\t<tr><td>-1.235936</td><td>-1.232238</td><td>-0.24108955</td></tr>\n",
       "\t<tr><td>-1.213767</td><td>-1.249676</td><td>-0.19915103</td></tr>\n",
       "\t<tr><td>-1.231909</td><td>-1.235220</td><td>-0.28524954</td></tr>\n",
       "\t<tr><td>-1.224343</td><td>-1.244768</td><td>-0.23930640</td></tr>\n",
       "\t<tr><td>-1.241866</td><td>-1.241941</td><td> 0.07835731</td></tr>\n",
       "\t<tr><td>-1.243222</td><td>-1.244479</td><td>-0.04694405</td></tr>\n",
       "\t<tr><td>-1.241008</td><td>-1.236480</td><td>-0.15675042</td></tr>\n",
       "\t<tr><td>-1.214378</td><td>-1.248199</td><td>-0.36288702</td></tr>\n",
       "\t<tr><td>-1.233120</td><td>-1.244169</td><td>-0.03639360</td></tr>\n",
       "\t<tr><td>-1.248482</td><td>-1.230233</td><td>-0.26320282</td></tr>\n",
       "\t<tr><td>-1.220062</td><td>-1.239466</td><td>-0.06576491</td></tr>\n",
       "\t<tr><td>-1.218404</td><td>-1.252395</td><td>-0.45151145</td></tr>\n",
       "\t<tr><td>-1.226101</td><td>-1.260525</td><td>-0.61479467</td></tr>\n",
       "\t<tr><td>-1.194302</td><td>-1.276038</td><td>-0.30529188</td></tr>\n",
       "\t<tr><td>-1.197202</td><td>-1.295361</td><td>-0.31938011</td></tr>\n",
       "\t<tr><td>-1.200424</td><td>-1.290592</td><td>-0.35484931</td></tr>\n",
       "\t<tr><td>-1.215288</td><td>-1.284936</td><td>-0.54710587</td></tr>\n",
       "\t<tr><td>-1.215379</td><td>-1.293224</td><td>-0.41020431</td></tr>\n",
       "\t<tr><td>-1.241949</td><td>-1.273106</td><td>-0.46965134</td></tr>\n",
       "\t<tr><td>-1.235307</td><td>-1.260130</td><td>-0.39595298</td></tr>\n",
       "\t<tr><td>-1.231048</td><td>-1.261702</td><td>-0.19314809</td></tr>\n",
       "\t<tr><td>-1.218358</td><td>-1.262790</td><td>-0.28605664</td></tr>\n",
       "\t<tr><td>-1.235563</td><td>-1.254435</td><td>-0.38250725</td></tr>\n",
       "\t<tr><td>-1.221599</td><td>-1.255607</td><td>-0.68589616</td></tr>\n",
       "\t<tr><td>-1.260295</td><td>-1.238418</td><td>-0.46518785</td></tr>\n",
       "\t<tr><td>-1.249078</td><td>-1.245644</td><td>-0.46087293</td></tr>\n",
       "</tbody>\n",
       "</table>\n"
      ],
      "text/latex": [
       "A data.frame: 8000 × 3\n",
       "\\begin{tabular}{lll}\n",
       " b\\_Y1\\_Z1 & bsp\\_Y1\\_miSm & b\\_Sm\\_Z1\\\\\n",
       " <dbl> & <dbl> & <dbl>\\\\\n",
       "\\hline\n",
       "\t -2.336900 & -0.3732393 & -1.5094339\\\\\n",
       "\t -2.341948 & -0.3737813 & -1.7389181\\\\\n",
       "\t -2.342563 & -0.3734399 & -1.6711928\\\\\n",
       "\t -2.339548 & -0.3730859 & -1.7581337\\\\\n",
       "\t -2.310850 & -0.3738745 & -1.5218329\\\\\n",
       "\t -2.298000 & -0.3761827 & -0.9304456\\\\\n",
       "\t -2.308006 & -0.3759968 & -2.1277447\\\\\n",
       "\t -2.279015 & -0.3768368 & -1.9926585\\\\\n",
       "\t -2.277312 & -0.3768077 & -1.8213606\\\\\n",
       "\t -2.274591 & -0.3774371 & -1.3437012\\\\\n",
       "\t -2.304226 & -0.3777240 & -1.6516018\\\\\n",
       "\t -2.305163 & -0.3786662 & -2.2007115\\\\\n",
       "\t -2.313722 & -0.3786923 & -1.7166632\\\\\n",
       "\t -2.309316 & -0.3826531 & -1.2914897\\\\\n",
       "\t -2.311005 & -0.3823732 & -1.0706352\\\\\n",
       "\t -2.313550 & -0.3796372 & -1.5670749\\\\\n",
       "\t -2.319600 & -0.3810788 & -0.8507004\\\\\n",
       "\t -2.314995 & -0.3819630 & -1.2654488\\\\\n",
       "\t -2.322043 & -0.3833640 & -1.8677026\\\\\n",
       "\t -2.277345 & -0.3874537 & -1.3603648\\\\\n",
       "\t -2.271618 & -0.3881216 & -0.6717259\\\\\n",
       "\t -2.247505 & -0.3907763 & -1.4024239\\\\\n",
       "\t -2.236581 & -0.3880516 & -1.7385859\\\\\n",
       "\t -2.233608 & -0.3898126 & -2.3394175\\\\\n",
       "\t -2.205064 & -0.3892730 & -1.8715970\\\\\n",
       "\t -2.195579 & -0.3884232 & -1.6351504\\\\\n",
       "\t -2.188805 & -0.3882678 & -1.3935905\\\\\n",
       "\t -2.193907 & -0.3898667 & -1.5776807\\\\\n",
       "\t -2.175132 & -0.3926364 & -0.6326391\\\\\n",
       "\t -2.172860 & -0.3929493 & -1.5531369\\\\\n",
       "\t ⋮ & ⋮ & ⋮\\\\\n",
       "\t -1.265501 & -1.215957 & -0.18571337\\\\\n",
       "\t -1.252071 & -1.230533 & -0.38095390\\\\\n",
       "\t -1.241627 & -1.236251 & -0.05688349\\\\\n",
       "\t -1.255492 & -1.223812 & -0.44347296\\\\\n",
       "\t -1.235936 & -1.232238 & -0.24108955\\\\\n",
       "\t -1.213767 & -1.249676 & -0.19915103\\\\\n",
       "\t -1.231909 & -1.235220 & -0.28524954\\\\\n",
       "\t -1.224343 & -1.244768 & -0.23930640\\\\\n",
       "\t -1.241866 & -1.241941 &  0.07835731\\\\\n",
       "\t -1.243222 & -1.244479 & -0.04694405\\\\\n",
       "\t -1.241008 & -1.236480 & -0.15675042\\\\\n",
       "\t -1.214378 & -1.248199 & -0.36288702\\\\\n",
       "\t -1.233120 & -1.244169 & -0.03639360\\\\\n",
       "\t -1.248482 & -1.230233 & -0.26320282\\\\\n",
       "\t -1.220062 & -1.239466 & -0.06576491\\\\\n",
       "\t -1.218404 & -1.252395 & -0.45151145\\\\\n",
       "\t -1.226101 & -1.260525 & -0.61479467\\\\\n",
       "\t -1.194302 & -1.276038 & -0.30529188\\\\\n",
       "\t -1.197202 & -1.295361 & -0.31938011\\\\\n",
       "\t -1.200424 & -1.290592 & -0.35484931\\\\\n",
       "\t -1.215288 & -1.284936 & -0.54710587\\\\\n",
       "\t -1.215379 & -1.293224 & -0.41020431\\\\\n",
       "\t -1.241949 & -1.273106 & -0.46965134\\\\\n",
       "\t -1.235307 & -1.260130 & -0.39595298\\\\\n",
       "\t -1.231048 & -1.261702 & -0.19314809\\\\\n",
       "\t -1.218358 & -1.262790 & -0.28605664\\\\\n",
       "\t -1.235563 & -1.254435 & -0.38250725\\\\\n",
       "\t -1.221599 & -1.255607 & -0.68589616\\\\\n",
       "\t -1.260295 & -1.238418 & -0.46518785\\\\\n",
       "\t -1.249078 & -1.245644 & -0.46087293\\\\\n",
       "\\end{tabular}\n"
      ],
      "text/markdown": [
       "\n",
       "A data.frame: 8000 × 3\n",
       "\n",
       "| b_Y1_Z1 &lt;dbl&gt; | bsp_Y1_miSm &lt;dbl&gt; | b_Sm_Z1 &lt;dbl&gt; |\n",
       "|---|---|---|\n",
       "| -2.336900 | -0.3732393 | -1.5094339 |\n",
       "| -2.341948 | -0.3737813 | -1.7389181 |\n",
       "| -2.342563 | -0.3734399 | -1.6711928 |\n",
       "| -2.339548 | -0.3730859 | -1.7581337 |\n",
       "| -2.310850 | -0.3738745 | -1.5218329 |\n",
       "| -2.298000 | -0.3761827 | -0.9304456 |\n",
       "| -2.308006 | -0.3759968 | -2.1277447 |\n",
       "| -2.279015 | -0.3768368 | -1.9926585 |\n",
       "| -2.277312 | -0.3768077 | -1.8213606 |\n",
       "| -2.274591 | -0.3774371 | -1.3437012 |\n",
       "| -2.304226 | -0.3777240 | -1.6516018 |\n",
       "| -2.305163 | -0.3786662 | -2.2007115 |\n",
       "| -2.313722 | -0.3786923 | -1.7166632 |\n",
       "| -2.309316 | -0.3826531 | -1.2914897 |\n",
       "| -2.311005 | -0.3823732 | -1.0706352 |\n",
       "| -2.313550 | -0.3796372 | -1.5670749 |\n",
       "| -2.319600 | -0.3810788 | -0.8507004 |\n",
       "| -2.314995 | -0.3819630 | -1.2654488 |\n",
       "| -2.322043 | -0.3833640 | -1.8677026 |\n",
       "| -2.277345 | -0.3874537 | -1.3603648 |\n",
       "| -2.271618 | -0.3881216 | -0.6717259 |\n",
       "| -2.247505 | -0.3907763 | -1.4024239 |\n",
       "| -2.236581 | -0.3880516 | -1.7385859 |\n",
       "| -2.233608 | -0.3898126 | -2.3394175 |\n",
       "| -2.205064 | -0.3892730 | -1.8715970 |\n",
       "| -2.195579 | -0.3884232 | -1.6351504 |\n",
       "| -2.188805 | -0.3882678 | -1.3935905 |\n",
       "| -2.193907 | -0.3898667 | -1.5776807 |\n",
       "| -2.175132 | -0.3926364 | -0.6326391 |\n",
       "| -2.172860 | -0.3929493 | -1.5531369 |\n",
       "| ⋮ | ⋮ | ⋮ |\n",
       "| -1.265501 | -1.215957 | -0.18571337 |\n",
       "| -1.252071 | -1.230533 | -0.38095390 |\n",
       "| -1.241627 | -1.236251 | -0.05688349 |\n",
       "| -1.255492 | -1.223812 | -0.44347296 |\n",
       "| -1.235936 | -1.232238 | -0.24108955 |\n",
       "| -1.213767 | -1.249676 | -0.19915103 |\n",
       "| -1.231909 | -1.235220 | -0.28524954 |\n",
       "| -1.224343 | -1.244768 | -0.23930640 |\n",
       "| -1.241866 | -1.241941 |  0.07835731 |\n",
       "| -1.243222 | -1.244479 | -0.04694405 |\n",
       "| -1.241008 | -1.236480 | -0.15675042 |\n",
       "| -1.214378 | -1.248199 | -0.36288702 |\n",
       "| -1.233120 | -1.244169 | -0.03639360 |\n",
       "| -1.248482 | -1.230233 | -0.26320282 |\n",
       "| -1.220062 | -1.239466 | -0.06576491 |\n",
       "| -1.218404 | -1.252395 | -0.45151145 |\n",
       "| -1.226101 | -1.260525 | -0.61479467 |\n",
       "| -1.194302 | -1.276038 | -0.30529188 |\n",
       "| -1.197202 | -1.295361 | -0.31938011 |\n",
       "| -1.200424 | -1.290592 | -0.35484931 |\n",
       "| -1.215288 | -1.284936 | -0.54710587 |\n",
       "| -1.215379 | -1.293224 | -0.41020431 |\n",
       "| -1.241949 | -1.273106 | -0.46965134 |\n",
       "| -1.235307 | -1.260130 | -0.39595298 |\n",
       "| -1.231048 | -1.261702 | -0.19314809 |\n",
       "| -1.218358 | -1.262790 | -0.28605664 |\n",
       "| -1.235563 | -1.254435 | -0.38250725 |\n",
       "| -1.221599 | -1.255607 | -0.68589616 |\n",
       "| -1.260295 | -1.238418 | -0.46518785 |\n",
       "| -1.249078 | -1.245644 | -0.46087293 |\n",
       "\n"
      ],
      "text/plain": [
       "     b_Y1_Z1   bsp_Y1_miSm b_Sm_Z1    \n",
       "1    -2.336900 -0.3732393  -1.5094339 \n",
       "2    -2.341948 -0.3737813  -1.7389181 \n",
       "3    -2.342563 -0.3734399  -1.6711928 \n",
       "4    -2.339548 -0.3730859  -1.7581337 \n",
       "5    -2.310850 -0.3738745  -1.5218329 \n",
       "6    -2.298000 -0.3761827  -0.9304456 \n",
       "7    -2.308006 -0.3759968  -2.1277447 \n",
       "8    -2.279015 -0.3768368  -1.9926585 \n",
       "9    -2.277312 -0.3768077  -1.8213606 \n",
       "10   -2.274591 -0.3774371  -1.3437012 \n",
       "11   -2.304226 -0.3777240  -1.6516018 \n",
       "12   -2.305163 -0.3786662  -2.2007115 \n",
       "13   -2.313722 -0.3786923  -1.7166632 \n",
       "14   -2.309316 -0.3826531  -1.2914897 \n",
       "15   -2.311005 -0.3823732  -1.0706352 \n",
       "16   -2.313550 -0.3796372  -1.5670749 \n",
       "17   -2.319600 -0.3810788  -0.8507004 \n",
       "18   -2.314995 -0.3819630  -1.2654488 \n",
       "19   -2.322043 -0.3833640  -1.8677026 \n",
       "20   -2.277345 -0.3874537  -1.3603648 \n",
       "21   -2.271618 -0.3881216  -0.6717259 \n",
       "22   -2.247505 -0.3907763  -1.4024239 \n",
       "23   -2.236581 -0.3880516  -1.7385859 \n",
       "24   -2.233608 -0.3898126  -2.3394175 \n",
       "25   -2.205064 -0.3892730  -1.8715970 \n",
       "26   -2.195579 -0.3884232  -1.6351504 \n",
       "27   -2.188805 -0.3882678  -1.3935905 \n",
       "28   -2.193907 -0.3898667  -1.5776807 \n",
       "29   -2.175132 -0.3926364  -0.6326391 \n",
       "30   -2.172860 -0.3929493  -1.5531369 \n",
       "⋮    ⋮         ⋮           ⋮          \n",
       "7971 -1.265501 -1.215957   -0.18571337\n",
       "7972 -1.252071 -1.230533   -0.38095390\n",
       "7973 -1.241627 -1.236251   -0.05688349\n",
       "7974 -1.255492 -1.223812   -0.44347296\n",
       "7975 -1.235936 -1.232238   -0.24108955\n",
       "7976 -1.213767 -1.249676   -0.19915103\n",
       "7977 -1.231909 -1.235220   -0.28524954\n",
       "7978 -1.224343 -1.244768   -0.23930640\n",
       "7979 -1.241866 -1.241941    0.07835731\n",
       "7980 -1.243222 -1.244479   -0.04694405\n",
       "7981 -1.241008 -1.236480   -0.15675042\n",
       "7982 -1.214378 -1.248199   -0.36288702\n",
       "7983 -1.233120 -1.244169   -0.03639360\n",
       "7984 -1.248482 -1.230233   -0.26320282\n",
       "7985 -1.220062 -1.239466   -0.06576491\n",
       "7986 -1.218404 -1.252395   -0.45151145\n",
       "7987 -1.226101 -1.260525   -0.61479467\n",
       "7988 -1.194302 -1.276038   -0.30529188\n",
       "7989 -1.197202 -1.295361   -0.31938011\n",
       "7990 -1.200424 -1.290592   -0.35484931\n",
       "7991 -1.215288 -1.284936   -0.54710587\n",
       "7992 -1.215379 -1.293224   -0.41020431\n",
       "7993 -1.241949 -1.273106   -0.46965134\n",
       "7994 -1.235307 -1.260130   -0.39595298\n",
       "7995 -1.231048 -1.261702   -0.19314809\n",
       "7996 -1.218358 -1.262790   -0.28605664\n",
       "7997 -1.235563 -1.254435   -0.38250725\n",
       "7998 -1.221599 -1.255607   -0.68589616\n",
       "7999 -1.260295 -1.238418   -0.46518785\n",
       "8000 -1.249078 -1.245644   -0.46087293"
      ]
     },
     "metadata": {},
     "output_type": "display_data"
    }
   ],
   "source": [
    "samples <- posterior_samples(model2, c(\"b_Y1_Z1\", \"bsp_Y1_miSm\", \"b_Sm_Z1\"))\n",
    "samples"
   ]
  },
  {
   "cell_type": "code",
   "execution_count": 41,
   "metadata": {
    "vscode": {
     "languageId": "r"
    }
   },
   "outputs": [
    {
     "data": {
      "text/plain": [
       "    Min.  1st Qu.   Median     Mean  3rd Qu.     Max. \n",
       "-73.3570  -0.4363   0.1575   0.2330   0.8164  79.7249 "
      ]
     },
     "metadata": {},
     "output_type": "display_data"
    }
   ],
   "source": [
    "effect_indirect <- samples$bsp_Y1_miSm * samples$b_Sm_Z1\n",
    "effect_total <- samples$b_Y1_Z1 + effect_indirect\n",
    "prop_mediated <- effect_indirect / effect_total\n",
    "\n",
    "summary(prop_mediated)"
   ]
  }
 ],
 "metadata": {
  "kernelspec": {
   "display_name": "R",
   "language": "R",
   "name": "ir"
  },
  "language_info": {
   "codemirror_mode": "r",
   "file_extension": ".r",
   "mimetype": "text/x-r-source",
   "name": "R",
   "pygments_lexer": "r",
   "version": "4.2.2"
  },
  "orig_nbformat": 4
 },
 "nbformat": 4,
 "nbformat_minor": 2
}
